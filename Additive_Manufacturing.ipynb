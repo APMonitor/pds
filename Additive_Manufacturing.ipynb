{
 "cells": [
  {
   "cell_type": "markdown",
   "metadata": {},
   "source": [
    "## Machine Learning with Additive Manufacturing\n",
    "\n",
    "Additive manufacturing is the process of building from a computer controlled 3-dimensional printer. The material can be polymer (plastic), ceramic, metallic powder, liquid, or any material that is joined together through deposition, solidification, or fusion. It speeds the development of prototypes by precisely converting a computer aided design (CAD) drawing into a physical device. Additive manufacturing can be either a prototype or scaled up to full product production, but typically for applications that require customization or with low production volumes.\n",
    "\n",
    "A 3D print data set of additive manufacturing test conditions is available for Polylactic Acid (PLA) and Acrylonitrile Butadiene Styrene (ABS). PLA can print at lower temperatures of 180°C compared to 250°C for ABS. PLA is more brittle than ABS and is not typically suitable for high strength applications. The data was collected by researchers in the Mechanical Engineering department at Selçuk Üniversitesi on a Ultimaker S5 3D printer. The study focused on how the parameters in a specific 3D printer affects the print quality, accuracy and final part strength. This work is based on the settings and PLA or ABS filaments. Material and strength tests were carried out on a Sincotec GMBH tester capable of pulling 20 kN.\t\n",
    "\n",
    "![Python Machine Learning](https://apmonitor.com/pds/uploads/Main/additive_manufacturing.png)\n",
    "\n",
    "Nine parameters were adjusted for the Ultimaker S5 3D printer.\n",
    "\n",
    "- Layer Height (mm)\n",
    "- Wall Thickness (mm)\n",
    "- Infill Density (%)\n",
    "- Infill Pattern (Honeycomb or Grid)\n",
    "- Nozzle Temperature (ºC)\n",
    "- Bed Temperature (ºC)\n",
    "- Print Speed (mm/s)\n",
    "- Material (PLA or ABS)\n",
    "- Fan Speed (%)\n",
    "\n",
    "After the part was manufactured, three parameters were measured for each product.\n",
    "\n",
    "- Roughness (µm)\n",
    "- Tension Strength (MPa)\n",
    "- Elongation (%)\n",
    "\n",
    "The labeled data is a combination of PLA and ABS material, print patterns, and conditions with 66 samples from a first repository and 50 samples from a second repository. The [combined data set](http://apmonitor.com/pds/uploads/Main/manufacturing.txt) is 70 samples with the duplicates removed and one outlier added.\n",
    "\n",
    "```python\n",
    "url = 'http://apmonitor.com/pds/uploads/Main/manufacturing.txt'\n",
    "```\n",
    "\n",
    "The label associated with each filament is pla or abs. The print pattern is grid or honeycomb. The full problem statement is on the [Machine Learning for Engineers course website](https://apmonitor.com/pds/index.php/Main/AdditiveManufacturing)."
   ]
  },
  {
   "cell_type": "markdown",
   "metadata": {},
   "source": [
    "### Import Packages"
   ]
  },
  {
   "cell_type": "code",
   "execution_count": null,
   "metadata": {},
   "outputs": [],
   "source": []
  },
  {
   "cell_type": "markdown",
   "metadata": {},
   "source": [
    "### Import Data"
   ]
  },
  {
   "cell_type": "code",
   "execution_count": null,
   "metadata": {},
   "outputs": [],
   "source": []
  },
  {
   "cell_type": "markdown",
   "metadata": {},
   "source": [
    "## Part 1: Data Visualization and Cleansing"
   ]
  },
  {
   "cell_type": "markdown",
   "metadata": {},
   "source": [
    "### Summary Statistics\n",
    "\n",
    "Generate summary information to [statistically describe the data](https://apmonitor.com/pds/index.php/Main/StatisticsMath)."
   ]
  },
  {
   "cell_type": "code",
   "execution_count": null,
   "metadata": {},
   "outputs": [],
   "source": [
    "data.describe()"
   ]
  },
  {
   "cell_type": "code",
   "execution_count": null,
   "metadata": {},
   "outputs": [],
   "source": []
  },
  {
   "cell_type": "markdown",
   "metadata": {},
   "source": [
    "Check for balanced classification dataset ('abs' and 'pla' should have about equal amounts)"
   ]
  },
  {
   "cell_type": "code",
   "execution_count": null,
   "metadata": {
    "ExecuteTime": {
     "end_time": "2021-02-08T15:59:44.995391Z",
     "start_time": "2021-02-08T15:59:44.733837Z"
    },
    "scrolled": true
   },
   "outputs": [],
   "source": []
  },
  {
   "cell_type": "markdown",
   "metadata": {},
   "source": [
    "### Convert String Categories (Text) to Binary (0 or 1)\n",
    "\n",
    "One-hot encoding translates character labels into a binary representation (0 or 1) for classification. Translate __material__ and __infill_pattern__ into a binary form. Investigate the data types with `data.dtypes`."
   ]
  },
  {
   "cell_type": "code",
   "execution_count": null,
   "metadata": {},
   "outputs": [],
   "source": []
  },
  {
   "cell_type": "code",
   "execution_count": null,
   "metadata": {},
   "outputs": [],
   "source": []
  },
  {
   "cell_type": "markdown",
   "metadata": {},
   "source": [
    "### Data Cleansing\n",
    "\n",
    "There is one row that contains an outlier. Identify the outlier with boxplots."
   ]
  },
  {
   "cell_type": "code",
   "execution_count": null,
   "metadata": {},
   "outputs": [],
   "source": []
  },
  {
   "cell_type": "markdown",
   "metadata": {},
   "source": [
    "Remove the row that contains the outlier. "
   ]
  },
  {
   "cell_type": "code",
   "execution_count": null,
   "metadata": {},
   "outputs": [],
   "source": []
  },
  {
   "cell_type": "markdown",
   "metadata": {},
   "source": [
    "Verify that the outlier is removed with another box plot."
   ]
  },
  {
   "cell_type": "code",
   "execution_count": null,
   "metadata": {},
   "outputs": [],
   "source": []
  },
  {
   "cell_type": "markdown",
   "metadata": {},
   "source": [
    "### Data Correlation\n",
    "\n",
    "Generate a heat map of the data correlation."
   ]
  },
  {
   "cell_type": "code",
   "execution_count": null,
   "metadata": {},
   "outputs": [],
   "source": []
  },
  {
   "cell_type": "markdown",
   "metadata": {},
   "source": [
    "### Data Distributions and Pair Plot"
   ]
  },
  {
   "cell_type": "code",
   "execution_count": null,
   "metadata": {},
   "outputs": [],
   "source": []
  },
  {
   "cell_type": "markdown",
   "metadata": {},
   "source": [
    "## Part 2: Classification\n",
    "\n",
    "Train and test a classifier to distinguish between PLA and ABS filament material. Test at least 8 classifiers of your choice. Recommend a best classifier among the 8 that are tested. "
   ]
  },
  {
   "cell_type": "markdown",
   "metadata": {},
   "source": [
    "### Divide Input Features (X) and Output Label (y)\n",
    "\n",
    "Divide the data into sets that contain the input features (X) and output label (y=`material`). Save data feature columns with `X_names=list(data.columns)` and remove `material` with `X_names.remove('material')`."
   ]
  },
  {
   "cell_type": "code",
   "execution_count": null,
   "metadata": {
    "ExecuteTime": {
     "end_time": "2021-02-08T15:20:12.429259Z",
     "start_time": "2021-02-08T15:20:09.844Z"
    },
    "scrolled": true
   },
   "outputs": [],
   "source": []
  },
  {
   "cell_type": "markdown",
   "metadata": {},
   "source": [
    "### Data scaling\n",
    "\n",
    "Scale the input features with a `StandardScaler` or a `MinMaxScaler`. Why do classifiers return an error if the output label is scaled with `StandardScaler`?"
   ]
  },
  {
   "cell_type": "code",
   "execution_count": null,
   "metadata": {
    "ExecuteTime": {
     "end_time": "2021-02-08T16:00:38.701234Z",
     "start_time": "2021-02-08T16:00:31.664225Z"
    }
   },
   "outputs": [],
   "source": []
  },
  {
   "cell_type": "markdown",
   "metadata": {},
   "source": [
    "### Train / Test Split\n",
    "\n",
    "Randomly select values that split the data into a train (80%) and test (20%) set by using the sklearn `train_test_split` function with `shuffle=True`."
   ]
  },
  {
   "cell_type": "code",
   "execution_count": null,
   "metadata": {
    "ExecuteTime": {
     "end_time": "2021-02-08T15:20:12.439264Z",
     "start_time": "2021-02-08T15:20:09.849Z"
    }
   },
   "outputs": [],
   "source": []
  },
  {
   "cell_type": "markdown",
   "metadata": {},
   "source": [
    "### Evaluate the Best Features\n",
    "\n",
    "Use `SelectKBest` to evaluate the best features for the classifier."
   ]
  },
  {
   "cell_type": "code",
   "execution_count": null,
   "metadata": {
    "ExecuteTime": {
     "end_time": "2021-02-08T15:20:12.446257Z",
     "start_time": "2021-02-08T15:20:09.859Z"
    },
    "scrolled": true
   },
   "outputs": [],
   "source": []
  },
  {
   "cell_type": "markdown",
   "metadata": {},
   "source": [
    "### Train (fit) and Test Classification with Logistic Regression "
   ]
  },
  {
   "cell_type": "code",
   "execution_count": null,
   "metadata": {
    "ExecuteTime": {
     "end_time": "2021-02-08T15:20:12.441259Z",
     "start_time": "2021-02-08T15:20:09.851Z"
    },
    "scrolled": true
   },
   "outputs": [],
   "source": []
  },
  {
   "cell_type": "markdown",
   "metadata": {
    "ExecuteTime": {
     "end_time": "2021-02-08T15:20:12.443259Z",
     "start_time": "2021-02-08T15:20:09.853Z"
    }
   },
   "source": [
    "### Train 8 Classifiers\n",
    "\n",
    "Create 8 classifier objects and train."
   ]
  },
  {
   "cell_type": "code",
   "execution_count": null,
   "metadata": {
    "ExecuteTime": {
     "end_time": "2021-02-08T15:20:12.444259Z",
     "start_time": "2021-02-08T15:20:09.854Z"
    }
   },
   "outputs": [],
   "source": []
  },
  {
   "cell_type": "markdown",
   "metadata": {},
   "source": [
    "### Classifier Evaluation\n",
    "\n",
    "Report the confusion matrix on the test set for each classifier. Discuss the performance of each. A confusion matrix shows correct classification (diagonals) and incorrect classification (off-diagonals) groups from the test set. Generate a confusion matrix for each classifier."
   ]
  },
  {
   "cell_type": "code",
   "execution_count": null,
   "metadata": {
    "ExecuteTime": {
     "end_time": "2021-02-08T15:20:12.445258Z",
     "start_time": "2021-02-08T15:20:09.857Z"
    }
   },
   "outputs": [],
   "source": []
  },
  {
   "cell_type": "markdown",
   "metadata": {},
   "source": [
    "## Part 3: Regression\n",
    "\n",
    "Develop a regression model to predict Tension Strength (MPa). Compare predicted PLS and ABS tension strength with the regression model."
   ]
  },
  {
   "cell_type": "markdown",
   "metadata": {},
   "source": [
    "### Scale Data\n",
    "\n",
    "Scale `data` with `StandardScaler` or `MinMaxScaler`. "
   ]
  },
  {
   "cell_type": "code",
   "execution_count": null,
   "metadata": {},
   "outputs": [],
   "source": []
  },
  {
   "cell_type": "markdown",
   "metadata": {},
   "source": [
    "### Select Input Features (X) and Output Label (y)\n",
    "\n",
    "Using the 9 machine settings as the input features.\n",
    "\n",
    "- Layer Height (mm)\n",
    "- Wall Thickness (mm)\n",
    "- Infill Density (%)\n",
    "- Infill Pattern (Honeycomb or Grid)\n",
    "- Nozzle Temperature (ºC)\n",
    "- Bed Temperature (ºC)\n",
    "- Print Speed (mm/s)\n",
    "- Material (PLA or ABS)\n",
    "- Fan Speed (%)\n",
    "\n",
    "The output label is the `tension_strength`.\n",
    "\n",
    "- Tension Strength (MPa)\n",
    "\n",
    "Divide the data into sets that contain the input features (X) and output label (y=`tension_strength`). Save data feature columns with `X_names=list(data.columns)[0:9]`."
   ]
  },
  {
   "cell_type": "code",
   "execution_count": null,
   "metadata": {},
   "outputs": [],
   "source": []
  },
  {
   "cell_type": "markdown",
   "metadata": {},
   "source": [
    "### Split Data\n",
    "\n",
    "Randomly select values that split the data into a train (80%) and test (20%) set."
   ]
  },
  {
   "cell_type": "code",
   "execution_count": null,
   "metadata": {},
   "outputs": [],
   "source": []
  },
  {
   "cell_type": "markdown",
   "metadata": {},
   "source": [
    "### Regression Fit\n",
    "\n",
    "Use 3 regression methods. Use Linear Regression, Neural Network (Deep Learning), and another regression method of your choice. Discuss the performance of each. Possible regression methods are:\n",
    "\n",
    "- Linear Regression\n",
    "- Neural Network (Deep Learning)\n",
    "- K-Nearest Neighbors\n",
    "- Support Vector Regressor"
   ]
  },
  {
   "cell_type": "code",
   "execution_count": null,
   "metadata": {},
   "outputs": [],
   "source": []
  },
  {
   "cell_type": "markdown",
   "metadata": {},
   "source": [
    "### Validation\n",
    "\n",
    "Report the correlation coefficient ($R^2$) for the train and test sets."
   ]
  },
  {
   "cell_type": "code",
   "execution_count": null,
   "metadata": {},
   "outputs": [],
   "source": []
  },
  {
   "cell_type": "markdown",
   "metadata": {},
   "source": [
    "### Parity Plot\n",
    "\n",
    "A parity plot is a scatter plot with predicted versus measured. A parity plot of the training and test data is a good way to see the overall fit of tension strength."
   ]
  },
  {
   "cell_type": "code",
   "execution_count": null,
   "metadata": {},
   "outputs": [],
   "source": []
  },
  {
   "cell_type": "markdown",
   "metadata": {},
   "source": [
    "### Material Strength: PLA versus ABS\n",
    "\n",
    "There is concern that PLA has less strength than ABS for additive manufacturing. Select the only the PLA data and compare the PLA and ABS predicted strength. One way to compare the strength is to change the material to ABS and recalculate the predicted Tension Strength (MPa). What is the relative strength of PLA versus ABS?"
   ]
  },
  {
   "cell_type": "code",
   "execution_count": null,
   "metadata": {},
   "outputs": [],
   "source": []
  }
 ],
 "metadata": {
  "hide_input": false,
  "kernelspec": {
   "display_name": "Python 3",
   "language": "python",
   "name": "python3"
  },
  "language_info": {
   "codemirror_mode": {
    "name": "ipython",
    "version": 3
   },
   "file_extension": ".py",
   "mimetype": "text/x-python",
   "name": "python",
   "nbconvert_exporter": "python",
   "pygments_lexer": "ipython3",
   "version": "3.8.5"
  }
 },
 "nbformat": 4,
 "nbformat_minor": 4
}
