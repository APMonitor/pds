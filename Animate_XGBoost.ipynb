{
 "cells": [
  {
   "cell_type": "code",
   "execution_count": null,
   "metadata": {
    "ExecuteTime": {
     "end_time": "2021-01-27T14:29:00.668345Z",
     "start_time": "2021-01-27T14:28:55.952395Z"
    }
   },
   "outputs": [],
   "source": [
    "import xgboost as xgb\n",
    "import matplotlib.pyplot as plt\n",
    "import pandas as pd\n",
    "import numpy as np\n",
    "import os\n",
    "from sklearn.datasets import make_moons\n",
    "from sklearn.metrics import accuracy_score\n",
    "from sklearn.model_selection import train_test_split\n",
    "import time\n",
    "import pickle\n",
    "import imageio  # for animation\n",
    "try:\n",
    "    os.mkdir('./figures')\n",
    "except:\n",
    "    pass"
   ]
  },
  {
   "cell_type": "code",
   "execution_count": null,
   "metadata": {
    "ExecuteTime": {
     "end_time": "2021-01-27T14:29:00.692197Z",
     "start_time": "2021-01-27T14:29:00.673287Z"
    }
   },
   "outputs": [],
   "source": [
    "def make_data(n_samples,noise,shift):\n",
    "    data,label = make_moons(n_samples=n_samples,noise=noise)\n",
    "    x = data[:,0]\n",
    "    y = data[:,1]\n",
    "\n",
    "    df = pd.DataFrame(columns=['x','y','label'])\n",
    "    df['x'] = data[:,0]\n",
    "    df['y'] = data[:,1]\n",
    "    df['label'] = label\n",
    "    \n",
    "    df['x'] = np.where(df['label'] == 0,df['x'],df['x'] + shift)\n",
    "    \n",
    "    return df"
   ]
  },
  {
   "cell_type": "code",
   "execution_count": null,
   "metadata": {
    "ExecuteTime": {
     "end_time": "2021-01-27T14:29:00.959193Z",
     "start_time": "2021-01-27T14:29:00.696253Z"
    }
   },
   "outputs": [],
   "source": [
    "df = make_data(n_samples=1000,noise=0.1,shift=0.0)\n",
    "plt.scatter(df['x'],df['y'])\n",
    "plt.show()"
   ]
  },
  {
   "cell_type": "markdown",
   "metadata": {},
   "source": [
    "lr, knn, dt, svm, nb"
   ]
  },
  {
   "cell_type": "code",
   "execution_count": null,
   "metadata": {
    "ExecuteTime": {
     "end_time": "2021-01-28T16:31:32.920509Z",
     "start_time": "2021-01-28T16:31:32.906510Z"
    }
   },
   "outputs": [],
   "source": [
    "xgbc=xgb.XGBClassifier()"
   ]
  },
  {
   "cell_type": "code",
   "execution_count": null,
   "metadata": {
    "ExecuteTime": {
     "end_time": "2021-01-28T17:01:13.227792Z",
     "start_time": "2021-01-28T17:01:06.057474Z"
    },
    "scrolled": true
   },
   "outputs": [],
   "source": [
    "figpath = './figures/xgboost'\n",
    "try:\n",
    "    os.mkdir(figpath)\n",
    "except:\n",
    "    pass\n",
    "\n",
    "colors = np.array(['orange','blue'])\n",
    "xlim = [-2,5];   x_min,x_max = xlim\n",
    "ylim = [-1,1.5]; y_min,y_max = ylim\n",
    "step = 0.02\n",
    "xx, yy = np.meshgrid(np.arange(x_min, x_max+step, step), \\\n",
    "                     np.arange(y_min, y_max+step, step))\n",
    "cm = plt.cm.RdBu\n",
    "\n",
    "for i,s in enumerate(np.linspace(2,0,80)):\n",
    "    df = make_data(n_samples=2000,noise=0.1,shift=s)\n",
    "    Xtrain, Xtest, ytrain, ytest = train_test_split(df[['x','y']],\n",
    "                                                    df['label'],\n",
    "                                                    test_size = 0.2)\n",
    "    figname = './figures/xgboost/'+str(10+i)+'.png'\n",
    "    name = 'XGBoost'\n",
    "    \n",
    "    # fit\n",
    "    t0 = time.time()\n",
    "    xgbc.fit(Xtrain,ytrain)\n",
    "    tfit = time.time()-t0\n",
    "    # predict\n",
    "    t0 = time.time()\n",
    "    yp = xgbc.predict(Xtest)\n",
    "    tpred = time.time()-t0\n",
    "    # size\n",
    "    pickle.dump(xgbc,open('size.pkl','wb'))\n",
    "    kb = int(os.path.getsize('size.pkl'))\n",
    "    os.remove('size.pkl')\n",
    "\n",
    "    # Mismatches red\n",
    "    match = np.where(yp!=ytest.values,0,1)\n",
    "\n",
    "    accuracy = accuracy_score(yp,ytest)\n",
    "\n",
    "    plt.figure(0,figsize=(4,4))\n",
    "    plt_data = pd.DataFrame(columns=['x','y','color','marker'])\n",
    "    plt_data['x'] = Xtest['x']\n",
    "    plt_data['y'] = Xtest['y']\n",
    "    plt_data['color'] = yp\n",
    "    plt_data['marker'] = match\n",
    "\n",
    "    # contour plot\n",
    "    if hasattr(xgbc, \"decision_function\"):\n",
    "        z = xgbc.decision_function(np.c_[xx.ravel(), yy.ravel()])\n",
    "    else:\n",
    "        z = xgbc.predict_proba(np.c_[xx.ravel(), yy.ravel()])[:, 1]\n",
    "    z = z.reshape(xx.shape)\n",
    "    plt.contourf(xx, yy, z, cmap=cm, alpha=0.7)        \n",
    "\n",
    "    plt.scatter(plt_data[plt_data['marker']==1]['x'],\n",
    "                plt_data[plt_data['marker']==1]['y'],\n",
    "                color = colors[plt_data[plt_data['marker']==1]['color']],\n",
    "                marker = '.'\n",
    "               )\n",
    "\n",
    "    plt.scatter(plt_data[plt_data['marker']==0]['x'],\n",
    "                plt_data[plt_data['marker']==0]['y'],\n",
    "                color = colors[plt_data[plt_data['marker']==0]['color']],\n",
    "                edgecolors='k',\n",
    "                marker = 'x'\n",
    "               )\n",
    "\n",
    "    plt.text(1.8,1.35,'Train: %.4f s'%(tfit))\n",
    "    plt.text(1.8,1.20,'Predict: %.4f s'%(tpred))\n",
    "    if kb<1024:\n",
    "        plt.text(1.8,1.05,'Size: %.0f Bytes'%(kb))\n",
    "    else:\n",
    "        plt.text(1.8,1.05,'Size: %.0f kB'%(kb/1024.0))            \n",
    "    plt.text(1.8,0.90,'Accuracy: %.0f%%'%(accuracy*100))\n",
    "    plt.xlim([-2,5])\n",
    "    plt.ylim([-1,1.5])\n",
    "    plt.title(name)\n",
    "    plt.tight_layout()\n",
    "    plt.savefig(figname,dpi=300)\n",
    "    plt.close()"
   ]
  },
  {
   "cell_type": "code",
   "execution_count": null,
   "metadata": {},
   "outputs": [],
   "source": [
    "n = 80\n",
    "images = []\n",
    "for i in range(n):\n",
    "    filename = './figures/xgboost/'+str(10+i)+'.png'\n",
    "    images.append(imageio.imread(filename))\n",
    "if images!=[]:\n",
    "    imageio.mimsave('./figures/xgboost.mp4', images)"
   ]
  }
 ],
 "metadata": {
  "hide_input": false,
  "kernelspec": {
   "display_name": "Python 3",
   "language": "python",
   "name": "python3"
  },
  "language_info": {
   "codemirror_mode": {
    "name": "ipython",
    "version": 3
   },
   "file_extension": ".py",
   "mimetype": "text/x-python",
   "name": "python",
   "nbconvert_exporter": "python",
   "pygments_lexer": "ipython3",
   "version": "3.8.5"
  }
 },
 "nbformat": 4,
 "nbformat_minor": 4
}
