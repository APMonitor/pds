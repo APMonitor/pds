{
 "cells": [
  {
   "cell_type": "markdown",
   "metadata": {},
   "source": [
    "### Automotive Monitoring\n",
    "\n",
    "Automotive data is avaiable from OBD-II codes that are standard for engine monitoring of light duty vehicles (passenger cars) starting in year 1996. Newer vehicles may include additional sensors from other electronic systems such as the brake system, tire pressure, climate control, and transmission. Data is processed with on-board computers to monitor the health of the vehicle systems and provide warning diagnostics when there is an indication of malfunction.\n",
    "\n",
    "<img width=400px align=left src=\"https://apmonitor.com/pds/uploads/Main/automotive_monitoring.png\">"
   ]
  },
  {
   "cell_type": "code",
   "execution_count": null,
   "metadata": {},
   "outputs": [],
   "source": [
    "import pandas as pd\n",
    "import numpy as np\n",
    "import matplotlib.pyplot as plt"
   ]
  },
  {
   "cell_type": "markdown",
   "metadata": {},
   "source": [
    "### Data Collection\n",
    "\n",
    "Data was collected from a 2014 Ford Focus (manual transmission) with city and freeway driving in Sept 21, 2021 for a round-trip from Provo to Salt Lake City, Utah. There are 22 data columns with raw sensor data and calculated values that were collected with Car Scanner (App) from the OBD-II codes over a BlueTooth connection.\n",
    "\n",
    "<img width=200px align=left src=\"https://apmonitor.com/pds/uploads/Main/obd2_connection.png\">"
   ]
  },
  {
   "cell_type": "code",
   "execution_count": null,
   "metadata": {},
   "outputs": [],
   "source": [
    "data = pd.read_csv('http://apmonitor.com/pds/uploads/Main/automotive.txt')\n",
    "\n",
    "# set time index\n",
    "data['time'] = pd.to_datetime(data['time'])\n",
    "data = data.set_index('time')\n",
    "\n",
    "# print data columns\n",
    "for x in data.columns:\n",
    "    print(x)\n",
    "\n",
    "# fill in NaNs - forward fill\n",
    "data.fillna(method='ffill',inplace=True)\n",
    "# fill in NaNs - backward fill\n",
    "data.fillna(method='bfill',inplace=True)\n",
    "\n",
    "# Remove last column with no column heading\n",
    "del data['Unnamed: 22']\n",
    "\n",
    "# remove columns that match keywords\n",
    "for dc in data.columns:\n",
    "    if (\"Average\" in dc) or (\"(total)\" in dc) \\\n",
    "       or (\"$\" in dc) or (\"(mA)\" in dc):\n",
    "        del data[dc]\n",
    "\n",
    "data.head()"
   ]
  },
  {
   "cell_type": "markdown",
   "metadata": {},
   "source": [
    "### Plot Sample Data with Pandas"
   ]
  },
  {
   "cell_type": "code",
   "execution_count": null,
   "metadata": {},
   "outputs": [],
   "source": [
    "data.plot(subplots=True,figsize=(12,30))\n",
    "plt.show()"
   ]
  },
  {
   "cell_type": "markdown",
   "metadata": {},
   "source": [
    "### Create Box Plot of Selected Measurements"
   ]
  },
  {
   "cell_type": "code",
   "execution_count": null,
   "metadata": {},
   "outputs": [],
   "source": [
    "select = ['Vehicle speed (mph)','Throttle position (%)',\\\n",
    "          'Engine RPM (rpm)', 'Vehicle acceleration (g)']\n",
    "data[select].plot(kind='box', subplots=True, figsize=(12,3))\n",
    "plt.show()"
   ]
  },
  {
   "cell_type": "markdown",
   "metadata": {},
   "source": [
    "### Create a Parity Plot"
   ]
  },
  {
   "cell_type": "code",
   "execution_count": null,
   "metadata": {},
   "outputs": [],
   "source": [
    "import seaborn as sns\n",
    "sns.pairplot(data[select])\n",
    "plt.show()"
   ]
  },
  {
   "cell_type": "markdown",
   "metadata": {},
   "source": [
    "### Create Heatmap of Select Variables"
   ]
  },
  {
   "cell_type": "code",
   "execution_count": null,
   "metadata": {},
   "outputs": [],
   "source": [
    "sns.heatmap(data[select].corr())\n",
    "plt.show()"
   ]
  },
  {
   "cell_type": "markdown",
   "metadata": {},
   "source": [
    "### Pandas Profiling for Summary Statistics"
   ]
  },
  {
   "cell_type": "code",
   "execution_count": null,
   "metadata": {},
   "outputs": [],
   "source": [
    "from pandas_profiling import ProfileReport\n",
    "\n",
    "profile = ProfileReport(data, explorative=True, minimal=False)\n",
    "try:\n",
    "   profile.to_widgets()         # view as widget in Notebook\n",
    "except:\n",
    "   profile.to_notebook_iframe() # view as html iframe in Notebook\n",
    "profile.to_file('data.html')    # save as html file"
   ]
  },
  {
   "cell_type": "markdown",
   "metadata": {},
   "source": [
    "### Automotive Case Study Objective\n",
    "\n",
    "Use the data to investigate driver and automobile performance. The data posted here is just an example of data that is available. Obtain an OBD-II reader and collect data from a vehicle. Use the data to analyze the following:\n",
    "\n",
    "- Determine Light-off Time of the Catalytic Converter\n",
    "- Visualize the Speed and Elevation on a Map\n",
    "- Find maximum fuel economy versus speed\n",
    "\n",
    "See [Automotive Monitoring](https://apmonitor.com/pds/index.php/Main/AutomotiveMonitoring) for solutions to the three case studies."
   ]
  }
 ],
 "metadata": {
  "kernelspec": {
   "display_name": "Python 3",
   "language": "python",
   "name": "python3"
  },
  "language_info": {
   "codemirror_mode": {
    "name": "ipython",
    "version": 3
   },
   "file_extension": ".py",
   "mimetype": "text/x-python",
   "name": "python",
   "nbconvert_exporter": "python",
   "pygments_lexer": "ipython3",
   "version": "3.8.5"
  }
 },
 "nbformat": 4,
 "nbformat_minor": 4
}
