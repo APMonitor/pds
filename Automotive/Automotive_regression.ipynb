{
 "cells": [
  {
   "cell_type": "markdown",
   "metadata": {},
   "source": [
    "### Case Study 3: Fuel Efficiency Versus Speed\n",
    "\n",
    "**Objective:** Calculate the fuel efficiency in miles per gallon (MPG) or Liters per 100 km (L/100 km). Use regression to develop a model of how measured factors relate to the fuel efficiency.\n",
    "\n",
    "Machine Learning for Engineers: [Automotive Monitoring](https://www.apmonitor.com/pds/index.php/Main/AutomotiveMonitoring)\n",
    "- Description: Machine learning project with automotive data. Data includes travel distance, time, fuel rate, air flow, oxygen ratio, and other parameters available from an OBD2 interface.\n",
    "- [Course Overview](https://apmonitor.com/pds)\n",
    "- [Course Schedule](https://apmonitor.com/pds/index.php/Main/CourseSchedule)\n",
    "\n",
    "<img width=400px align=left src='https://apmonitor.com/pds/uploads/Main/automotive_monitoring.png'>"
   ]
  },
  {
   "cell_type": "code",
   "execution_count": null,
   "metadata": {},
   "outputs": [],
   "source": [
    "import seaborn as sns\n",
    "import xgboost as xgb\n",
    "import numpy as np\n",
    "import pandas as pd\n",
    "import matplotlib.pyplot as plt\n",
    "from keras.callbacks import EarlyStopping\n",
    "from keras.layers import Dense\n",
    "from keras.models import Sequential\n",
    "from sklearn.linear_model import LinearRegression\n",
    "from sklearn.metrics import mean_absolute_error as MAE\n",
    "from sklearn.metrics import mean_absolute_percentage_error as MAPE\n",
    "from sklearn.metrics import r2_score as r2\n",
    "from sklearn.model_selection import train_test_split as tts\n",
    "from sklearn.preprocessing import MinMaxScaler as mms\n",
    "from tqdm.keras import TqdmCallback\n",
    "import keras"
   ]
  },
  {
   "cell_type": "markdown",
   "metadata": {},
   "source": [
    "### Import Data and Display Column names"
   ]
  },
  {
   "cell_type": "code",
   "execution_count": null,
   "metadata": {},
   "outputs": [],
   "source": [
    "url = 'http://apmonitor.com/pds/uploads/Main/automotive.txt'\n",
    "data = pd.read_csv(url)\n",
    "data.rename(columns={'Calculated instant fuel consumption (MPG)':\"MPG\"},inplace=True)\n",
    "data.columns"
   ]
  },
  {
   "cell_type": "markdown",
   "metadata": {},
   "source": [
    "### Reformat Time"
   ]
  },
  {
   "cell_type": "code",
   "execution_count": null,
   "metadata": {},
   "outputs": [],
   "source": [
    "from datetime import datetime\n",
    "dtobj = datetime.strptime(data['time'].iloc[0],'%I:%M:%S.%f')\n",
    "dtobj2 = datetime.strptime(data['time'].iloc[-1],'%I:%M:%S.%f')\n",
    "dataf = data.copy()\n",
    "dataf['time'] = data['time'].apply(func=lambda x: datetime.strptime(x,'%I:%M:%S.%f'))\n",
    "dataf['timetot'] = dataf['time'].apply(lambda x:(x-dtobj).microseconds/10**6+(x-dtobj).seconds)\n",
    "dataf['timetot'].sample(5)"
   ]
  },
  {
   "cell_type": "markdown",
   "metadata": {},
   "source": [
    "### Plot and Visualize the Data"
   ]
  },
  {
   "cell_type": "code",
   "execution_count": null,
   "metadata": {},
   "outputs": [],
   "source": [
    "label = 'MPG'\n",
    "#predict MPG from RPM, and speed\n",
    "sns.violinplot(data=dataf[label])\n",
    "plt.xlabel(label)\n",
    "plt.show()\n",
    "dataf.boxplot('Vehicle speed (mph)')\n",
    "plt.show()\n",
    "dataf.boxplot('Engine RPM (rpm)')\n",
    "plt.show()"
   ]
  },
  {
   "cell_type": "markdown",
   "metadata": {},
   "source": [
    "## Reformat Data\n",
    "Use Vehicle Speed, Acceleration, and RPM as features. Visualize the effects of well-known aspects of driving on fuel efficiency."
   ]
  },
  {
   "cell_type": "code",
   "execution_count": null,
   "metadata": {},
   "outputs": [],
   "source": [
    "rpm = 'Engine RPM (rpm)'\n",
    "speed = 'Vehicle speed (mph)'\n",
    "speeds = dataf[speed].dropna()\n",
    "acel = 'Vehicle acceleration (g)'\n",
    "gal = 'Fuel used (gallon)'\n",
    "alls = [acel,speed,rpm,label]\n",
    "dataf[alls].isna().sum()\n",
    "datan = dataf[alls].copy().fillna(method='ffill').drop_duplicates()\n",
    "datan = datan[datan[label]>0]\n",
    "datan = datan[datan[label]<45] #Anything higher than this is most likely coasting\n",
    "datan.sample(20)"
   ]
  },
  {
   "cell_type": "markdown",
   "metadata": {},
   "source": [
    "### Show Heatmap"
   ]
  },
  {
   "cell_type": "code",
   "execution_count": null,
   "metadata": {},
   "outputs": [],
   "source": [
    "sns.heatmap(dataf.copy().fillna(method='ffill').drop_duplicates().corr(),annot=False,fmt='f')\n",
    "plt.show()"
   ]
  },
  {
   "cell_type": "markdown",
   "metadata": {},
   "source": [
    "### Create Pairplot"
   ]
  },
  {
   "cell_type": "code",
   "execution_count": null,
   "metadata": {},
   "outputs": [],
   "source": [
    "sns.pairplot(datan)\n",
    "plt.show()"
   ]
  },
  {
   "cell_type": "markdown",
   "metadata": {},
   "source": [
    "### Scale Data, Train model, and show accuracy"
   ]
  },
  {
   "cell_type": "code",
   "execution_count": null,
   "metadata": {
    "scrolled": true
   },
   "outputs": [],
   "source": [
    "s = mms()\n",
    "\n",
    "use = alls.copy()\n",
    "use.remove('MPG')\n",
    "\n",
    "dataS = pd.DataFrame(np.sqrt(np.array(s.fit_transform(datan))), columns =alls)\n",
    "Xtrain, Xtest, ytrain, ytest = tts(dataS[use], dataS[label], test_size = .2, random_state = 87)\n",
    "\n",
    "model = xgb.XGBRegressor()\n",
    "\n",
    "m = model.fit(dataS[use], dataS[label])\n",
    "\n",
    "datatest = Xtest.join(ytest,how='right')\n",
    "yp = m.predict(datatest[use])\n",
    "unscaled = pd.DataFrame(s.inverse_transform((datatest.values)**2),columns = alls)\n",
    "datap = datatest.copy()\n",
    "datap[label] = yp\n",
    "unscaledy = unscaled[label]\n",
    "unscaledp = pd.DataFrame(s.inverse_transform(datap.values**2),columns=alls)[label]\n",
    "perc = MAPE(unscaledy, unscaledp)\n",
    "\n",
    "scoree = MAE(unscaledy, unscaledp)\n",
    "scorer = r2(unscaledy, unscaledp)\n",
    "plt.plot(unscaledy, unscaledp, 'bo')\n",
    "plt.text(50,50,f'R2={round(scorer,3)}\\nMAPE={round(perc,3)}\\nMAE={round(scoree,3)}')\n",
    "plt.xlabel('True')\n",
    "plt.ylabel('Predicted')\n",
    "plt.title('XGB Regressor')\n",
    "print(f'{perc:.4g}',f'{scoree:.4g}, r2={scorer}')\n",
    "# linear model\n",
    "reg = LinearRegression().fit(dataS[use], dataS[label])\n",
    "ypr = reg.predict(datatest[use])\n",
    "r2lin = r2(datatest[label],ypr)"
   ]
  },
  {
   "cell_type": "markdown",
   "metadata": {},
   "source": [
    "### Create a Neural Network to compare performance with XGBoost Regression"
   ]
  },
  {
   "cell_type": "code",
   "execution_count": null,
   "metadata": {},
   "outputs": [],
   "source": [
    "mod = Sequential()\n",
    "mod.add(Dense(3,input_shape=(Xtrain.shape[1],),activation='relu'))\n",
    "mod.add(Dense(1,activation='linear'))\n",
    "mod.summary()"
   ]
  },
  {
   "cell_type": "code",
   "execution_count": null,
   "metadata": {
    "scrolled": true
   },
   "outputs": [],
   "source": [
    "mod.compile(optimizer='sgd', loss='mse')\n",
    "history = mod.fit(Xtrain,ytrain,epochs = 350, verbose=True, \\\n",
    "                  validation_data=(Xtest,ytest),\\\n",
    "                  callbacks=[TqdmCallback(verbose=1), \\\n",
    "                             EarlyStopping(monitor = 'loss',patience=4)])"
   ]
  },
  {
   "cell_type": "markdown",
   "metadata": {},
   "source": [
    "### Plot Learning History"
   ]
  },
  {
   "cell_type": "code",
   "execution_count": null,
   "metadata": {},
   "outputs": [],
   "source": [
    "plt.semilogy(history.history['loss'],label='loss')\n",
    "plt.semilogy(history.history['val_loss'],label='val_loss')\n",
    "plt.legend()\n",
    "plt.show()\n",
    "mod.save('Model_3var.h5')"
   ]
  },
  {
   "cell_type": "code",
   "execution_count": null,
   "metadata": {},
   "outputs": [],
   "source": [
    "mod = keras.models.load_model('Model_3var.h5')\n",
    "yp = mod.predict(datatest[use])\n",
    "unscaled = pd.DataFrame(s.inverse_transform(datatest),columns = alls)\n",
    "datap = datatest.copy()\n",
    "datap[label] = yp\n",
    "unscaledy = unscaled[label]\n",
    "unscaledp = pd.DataFrame(s.inverse_transform(datap),columns=alls)[label]\n",
    "perc = MAPE(unscaledy, unscaledp)\n",
    "\n",
    "scoree = MAE(unscaledy, unscaledp)\n",
    "scorer = r2(unscaledy, unscaledp)\n",
    "plt.plot(unscaledy, unscaledp, 'bo')\n",
    "plt.xlabel('True')\n",
    "print(f'{perc:.4g}',f'{scoree:.4g}, r2={scorer}')"
   ]
  },
  {
   "cell_type": "markdown",
   "metadata": {},
   "source": [
    "### View Predictions"
   ]
  },
  {
   "cell_type": "code",
   "execution_count": null,
   "metadata": {
    "scrolled": true
   },
   "outputs": [],
   "source": [
    "# XGB Regression\n",
    "rpmmed = np.ones(datan.shape[0])*dataS[rpm].median()\n",
    "speedmed = np.ones(datan.shape[0])*dataS[speed].median()\n",
    "acelmed = np.ones(datan.shape[0])*dataS[acel].median()\n",
    "print('RPM,Speed,Acceleration median values')\n",
    "print(dataS[rpm].median(),dataS[speed].median(),dataS[acel].median())\n",
    "plt.figure(figsize=(12,5))\n",
    "plt.subplot(1,3,1)\n",
    "sns.kdeplot(dataS[rpm])\n",
    "plt.subplot(1,3,2)\n",
    "sns.kdeplot(dataS[speed])\n",
    "plt.subplot(1,3,3)\n",
    "sns.kdeplot(dataS[acel])\n",
    "plt.show()"
   ]
  },
  {
   "cell_type": "markdown",
   "metadata": {},
   "source": [
    "## Display Extrapolations with one variable"
   ]
  },
  {
   "cell_type": "code",
   "execution_count": null,
   "metadata": {},
   "outputs": [],
   "source": [
    "# Use the XGBoost model since it performed better\n",
    "n = datan.shape[0]\n",
    "rpmvar = np.linspace(.5,1,n)\n",
    "speedvar = np.linspace(0,1,n)\n",
    "acelvar = np.linspace(.3,1,n)\n",
    "rpmdf = pd.DataFrame(np.array([acelmed,speedmed,rpmvar]).T,columns=use)\n",
    "speeddf = pd.DataFrame(np.array([acelmed,speedvar,rpmmed]).T,columns=use)\n",
    "aceldf = pd.DataFrame(np.array([acelvar,speedmed,rpmmed]).T,columns=use)\n",
    "rpmpred = m.predict(rpmdf)\n",
    "speedpred = m.predict(speeddf)\n",
    "acelpred = m.predict(aceldf)\n",
    "trrpm = pd.DataFrame(s.inverse_transform(rpmdf.join(pd.DataFrame(rpmpred))),columns = use+[label])\n",
    "trspeed = pd.DataFrame(s.inverse_transform(speeddf.join(pd.DataFrame(speedpred))),columns = use+[label])\n",
    "tracel = pd.DataFrame(s.inverse_transform(aceldf.join(pd.DataFrame(acelpred))),columns = use+[label])\n",
    "\n",
    "plt.figure(figsize=(12,5))\n",
    "plt.subplot(1,3,1)\n",
    "plt.plot(trrpm[rpm],trrpm[label])\n",
    "plt.ylabel('MPG'); plt.xlabel('RPM')\n",
    "plt.subplot(1,3,2)\n",
    "plt.plot(trspeed[speed],trspeed[label])\n",
    "plt.ylabel('MPG'); plt.xlabel('Speed (mi/hr)')\n",
    "plt.subplot(1,3,3)\n",
    "plt.plot(tracel[acel],tracel[label])\n",
    "#tracel.plot(x=acel,y=label)\n",
    "plt.ylabel('MPG'); plt.xlabel('Acceleration')\n",
    "plt.show()"
   ]
  },
  {
   "cell_type": "markdown",
   "metadata": {},
   "source": [
    "### Discussion\n",
    "\n",
    "The three cross sections show the MPG varying a single variable while the other variables are held constant at a median value. This method inherently misses important behavior because the other values are restricted to the median. However, the trends are visible and most likely carry throughout portions of the 4-d model, even if the actual magnitudes vary. Some observations:\n",
    "\n",
    "- The highest MPG (fuel efficiency) is at lower RPM for the engine. The data where the car is coasting may influence this higher trend at lower RPM.\n",
    "- The highest MPG is at the highest speed with highway driving. City driving fuel efficiency is lower due to braking action and lower average velocity.\n",
    "- Fuel efficiency decreases with higher acceleration."
   ]
  },
  {
   "cell_type": "markdown",
   "metadata": {},
   "source": [
    "### 4D Figure with 3D + Color"
   ]
  },
  {
   "cell_type": "code",
   "execution_count": null,
   "metadata": {},
   "outputs": [],
   "source": [
    "from mpl_toolkits.mplot3d import Axes3D\n",
    "from matplotlib import cm\n",
    "import matplotlib.pyplot as plt\n",
    "import numpy as np\n",
    "fig = plt.figure()\n",
    "ax = fig.add_subplot(111,projection='3d')\n",
    "datass = dataS.copy()\n",
    "datass[label] = m.predict(dataS[use])\n",
    "datainv = pd.DataFrame(s.inverse_transform(datass),columns = use+[label])\n",
    "img = ax.scatter(datainv[rpm],datainv[speed],datainv[acel],c=datainv[label],cmap = plt.hot())\n",
    "fig.colorbar(img)\n",
    "plt.xlabel('RPM')\n",
    "plt.ylabel('Speed')\n",
    "ax.set_zlabel('Acceleration')\n",
    "ax.view_init(azim=34,elev = -51)\n",
    "plt.show()"
   ]
  }
 ],
 "metadata": {
  "kernelspec": {
   "display_name": "Python 3",
   "language": "python",
   "name": "python3"
  },
  "language_info": {
   "codemirror_mode": {
    "name": "ipython",
    "version": 3
   },
   "file_extension": ".py",
   "mimetype": "text/x-python",
   "name": "python",
   "nbconvert_exporter": "python",
   "pygments_lexer": "ipython3",
   "version": "3.8.5"
  }
 },
 "nbformat": 4,
 "nbformat_minor": 5
}
