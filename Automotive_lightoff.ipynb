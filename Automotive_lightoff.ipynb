{
 "cells": [
  {
   "cell_type": "markdown",
   "metadata": {},
   "source": [
    "### Import Automotive Data and Cleanse\n",
    "\n",
    "Machine Learning for Engineers: [Automotive Monitoring](https://www.apmonitor.com/pds/index.php/Main/AutomotiveMonitoring)\n",
    "- Description: Machine learning project with automotive data. Data includes travel distance, time, fuel rate, air flow, oxygen ratio, and other parameters available from an OBD2 interface.\n",
    "- [Course Overview](https://apmonitor.com/pds)\n",
    "- [Course Schedule](https://apmonitor.com/pds/index.php/Main/CourseSchedule)\n",
    "\n",
    "<img width=400px align=left src='https://apmonitor.com/pds/uploads/Main/automotive_monitoring.png'>"
   ]
  },
  {
   "cell_type": "markdown",
   "metadata": {},
   "source": [
    "### Import Packages"
   ]
  },
  {
   "cell_type": "code",
   "execution_count": null,
   "metadata": {},
   "outputs": [],
   "source": [
    "import pandas as pd\n",
    "import numpy as np\n",
    "import matplotlib.pyplot as plt"
   ]
  },
  {
   "cell_type": "markdown",
   "metadata": {},
   "source": [
    "### Import Data and View Columns\n",
    "\n",
    "Import `auto_warmup.csv`, set time index, and print data columns"
   ]
  },
  {
   "cell_type": "code",
   "execution_count": null,
   "metadata": {},
   "outputs": [],
   "source": [
    "url = 'http://apmonitor.com/pds/uploads/Main/auto_warmup.txt'\n",
    "data = pd.read_csv(url)\n",
    "\n",
    "# set time index\n",
    "data['time'] = pd.to_datetime(data['time'])\n",
    "data = data.set_index('time')\n",
    "\n",
    "# print data columns\n",
    "for x in data.columns:\n",
    "    print(x)"
   ]
  },
  {
   "cell_type": "markdown",
   "metadata": {},
   "source": [
    "### Select Columns of Interest"
   ]
  },
  {
   "cell_type": "code",
   "execution_count": null,
   "metadata": {},
   "outputs": [],
   "source": [
    "# select columns of interest\n",
    "data1 = data[['Engine coolant temperature (℉)']].copy()\n",
    "data1.dropna(inplace=True)\n",
    "data2 = data[['Catalyst temperature Bank 1 Sensor 1 (℉)']].copy()\n",
    "data2.dropna(inplace=True)\n",
    "data3 = data[['Vehicle speed (mph)']].copy()\n",
    "\n",
    "# join data\n",
    "data = data1.join(data2,how='outer',sort=True)\n",
    "data = data.join(data3,how='outer',sort=True)\n",
    "data.columns = ['coolant (degF)','catalyst (degF)','speed (mph)']\n",
    "data.head()\n",
    "    \n",
    "# fill in NaNs - forward fill\n",
    "data.fillna(method='ffill',inplace=True)\n",
    "# fill in NaNs - backward fill\n",
    "data.fillna(method='bfill',inplace=True)\n",
    "dr = len(data)\n",
    "data.describe()"
   ]
  },
  {
   "cell_type": "markdown",
   "metadata": {},
   "source": [
    "### Plot Data"
   ]
  },
  {
   "cell_type": "code",
   "execution_count": null,
   "metadata": {},
   "outputs": [],
   "source": [
    "data.plot(subplots=True,figsize=(10,6))"
   ]
  },
  {
   "cell_type": "markdown",
   "metadata": {},
   "source": [
    "### Remove Gross Outliers"
   ]
  },
  {
   "cell_type": "code",
   "execution_count": null,
   "metadata": {},
   "outputs": [],
   "source": [
    "# data cleansing\n",
    "data = data[data['coolant (degF)']>40]\n",
    "data = data[data['speed (mph)']<20]\n",
    "\n",
    "data['d1'] = data['coolant (degF)'].diff().abs()\n",
    "data['d2'] = data['catalyst (degF)'].diff().abs()\n",
    "data.plot(subplots=True,figsize=(10,6))"
   ]
  },
  {
   "cell_type": "markdown",
   "metadata": {},
   "source": [
    "### Remove Other Outliers and Bad Speed Data"
   ]
  },
  {
   "cell_type": "code",
   "execution_count": null,
   "metadata": {},
   "outputs": [],
   "source": [
    "# 3 cycles because cat temperature stays high for a few samples\n",
    "for i in range(3):\n",
    "    data['d1'] = data['coolant (degF)'].diff().abs()\n",
    "    data['d2'] = data['catalyst (degF)'].diff().abs()\n",
    "    data = data[data['d1']<5]\n",
    "    data = data[data['d2']<10]\n",
    "\n",
    "# zero speed between 6:30 to 6:50\n",
    "data.iloc[data.index.indexer_between_time('06:30','06:50'), 2] = 0\n",
    "\n",
    "data.plot(subplots=True,figsize=(10,6))\n",
    "print('Rows removed: ',dr-len(data), ' of ', dr)"
   ]
  },
  {
   "cell_type": "markdown",
   "metadata": {},
   "source": [
    "### Insert Feature (Engine On/Off) and Reduce Data"
   ]
  },
  {
   "cell_type": "code",
   "execution_count": null,
   "metadata": {},
   "outputs": [],
   "source": [
    "# delete d1 and d2\n",
    "del data['d1']\n",
    "del data['d2']\n",
    "\n",
    "# add engine state (on/off)\n",
    "data['engine'] = 0\n",
    "data.iloc[data.index.indexer_between_time('06:24:46','06:55:01'), 3] = 1"
   ]
  },
  {
   "cell_type": "markdown",
   "metadata": {},
   "source": [
    "### Display Cleansed Data"
   ]
  },
  {
   "cell_type": "code",
   "execution_count": null,
   "metadata": {},
   "outputs": [],
   "source": [
    "data.plot(subplots=True,figsize=(8,5))\n",
    "plt.savefig('auto_warmup.png',dpi=300)\n",
    "data.to_csv('auto_clean.csv')"
   ]
  },
  {
   "cell_type": "markdown",
   "metadata": {},
   "source": [
    "### Determine Time to Catalyst Light-off"
   ]
  },
  {
   "cell_type": "code",
   "execution_count": null,
   "metadata": {},
   "outputs": [],
   "source": [
    "select = ['engine','catalyst (degF)']\n",
    "s = data[select].between_time('06:24:40','06:26:00').copy()\n",
    "s['light-off'] = (s['catalyst (degF)']>500).astype(int)\n",
    "s.plot(subplots=True)"
   ]
  },
  {
   "cell_type": "code",
   "execution_count": null,
   "metadata": {},
   "outputs": [],
   "source": [
    "# find engine start time\n",
    "for i in range(1,len(s)):\n",
    "    if s['engine'].iloc[i]==1:\n",
    "        engine_start = s.index[i]\n",
    "        break\n",
    "\n",
    "# find light-off time\n",
    "for i in range(1,len(s)):\n",
    "    if s['light-off'].iloc[i]==1:\n",
    "        lightoff_start = s.index[i]\n",
    "        break\n",
    "\n",
    "# calculate seconds to catalyst light-off\n",
    "dt = lightoff_start - engine_start\n",
    "print(dt.total_seconds(), 'sec to catalyst light-off')        "
   ]
  },
  {
   "cell_type": "markdown",
   "metadata": {},
   "source": [
    "### Create ARX Model"
   ]
  },
  {
   "cell_type": "code",
   "execution_count": null,
   "metadata": {},
   "outputs": [],
   "source": [
    "# reduce data to about every 1-2 sec\n",
    "data = data[::10].copy()\n",
    "\n",
    "data['tmin'] = data.index\n",
    "t0 = data['tmin'].iloc[0]\n",
    "dt = (data['tmin'].copy()-t0)\n",
    "dt2 = []\n",
    "for i in range(len(data)):\n",
    "    dt2.append(dt[i].total_seconds()/60.0)\n",
    "data['tmin'] = dt2"
   ]
  },
  {
   "cell_type": "code",
   "execution_count": null,
   "metadata": {},
   "outputs": [],
   "source": [
    "from gekko import GEKKO\n",
    "\n",
    "t = data['tmin'].values\n",
    "u = data[['engine','speed (mph)']]\n",
    "y = data[['catalyst (degF)','coolant (degF)']]\n",
    "\n",
    "# generate time-series model\n",
    "m = GEKKO(remote=False)\n",
    "\n",
    "# system identification\n",
    "na = 2 # output coefficients\n",
    "nb = 40 # input coefficients\n",
    "yp,p,K = m.sysid(t,u,y,na,nb,pred='meas')\n",
    "\n",
    "plt.figure(figsize=(10,6))\n",
    "plt.subplot(2,1,1)\n",
    "plt.plot(t,u)\n",
    "plt.legend(['Engine','Speed (mph)'],loc=2)\n",
    "plt.ylabel('Inputs')\n",
    "plt.subplot(2,1,2)\n",
    "plt.plot(t,y)\n",
    "plt.plot(t,yp,'--')\n",
    "plt.legend(); plt.ylabel('Outputs')\n",
    "plt.legend(['Catalyst (degF) Meas','Coolant (degF) Meas',\\\n",
    "            'Catalyst (degF) Pred','Coolant (degF) Pred'],loc=4)\n",
    "\n",
    "plt.xlabel('Time (min)'); plt.savefig('sysid.png')\n",
    "plt.show()"
   ]
  }
 ],
 "metadata": {
  "kernelspec": {
   "display_name": "Python 3",
   "language": "python",
   "name": "python3"
  },
  "language_info": {
   "codemirror_mode": {
    "name": "ipython",
    "version": 3
   },
   "file_extension": ".py",
   "mimetype": "text/x-python",
   "name": "python",
   "nbconvert_exporter": "python",
   "pygments_lexer": "ipython3",
   "version": "3.8.5"
  }
 },
 "nbformat": 4,
 "nbformat_minor": 4
}
