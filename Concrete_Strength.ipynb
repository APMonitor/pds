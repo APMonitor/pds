{
 "cells": [
  {
   "cell_type": "markdown",
   "metadata": {},
   "source": [
    "# Visualize Concrete Strength\n",
    "A review of methods for data visualization and exploration, using [concrete mixture data](https://www.kaggle.com/maajdl/yeh-concret-data). Concrete strength is affected by factors such as water to cement ratio, raw material quality, the ratio of coarse or fine aggregate, concrete age, concrete compaction, temperature, relative humidity, and other factors during the curing of the concrete. The data includes the following information for 1030 concrete samples.\n",
    "\n",
    "- **Input variables:**\n",
    "  - Cement: kg/m$^3$ mixture\n",
    "  - Blast Furnace Slag: kg/m$^3$ mixture\n",
    "  - Fly Ash: kg/m$^3$ mixture\n",
    "  - Water: kg/m$^3$ mixture\n",
    "  - Superplasticizer: kg/m$^3$ mixture\n",
    "  - Coarse Aggregate: kg/m$^3$ mixture\n",
    "  - Fine Aggregate: kg/m$^3$ mixture\n",
    "  - Age: Day (1~365)\n",
    "- **Output variable:**\n",
    "  - Concrete compressive strength: MPa"
   ]
  },
  {
   "cell_type": "code",
   "execution_count": null,
   "metadata": {
    "ExecuteTime": {
     "end_time": "2021-01-07T21:57:24.598345Z",
     "start_time": "2021-01-07T21:57:20.115268Z"
    }
   },
   "outputs": [],
   "source": [
    "# Import packages\n",
    "import pandas as pd\n",
    "import numpy as np\n",
    "import matplotlib.pyplot as plt\n",
    "import seaborn as sns\n",
    "import plotly.graph_objects as go\n",
    "from mpl_toolkits.mplot3d import Axes3D\n",
    "from sklearn.decomposition import PCA\n",
    "from pandas_profiling import ProfileReport"
   ]
  },
  {
   "cell_type": "code",
   "execution_count": null,
   "metadata": {
    "ExecuteTime": {
     "end_time": "2021-01-07T21:57:24.661759Z",
     "start_time": "2021-01-07T21:57:24.598345Z"
    }
   },
   "outputs": [],
   "source": [
    "# Import data and display first 20 rows\n",
    "df = pd.read_csv('https://apmonitor.com/pds/uploads/Main/cement_strength.txt')\n",
    "df.head(20)"
   ]
  },
  {
   "cell_type": "markdown",
   "metadata": {},
   "source": [
    "# 1-D plots\n",
    "1-dimensional plots are useful for plotting distributions of a single feature. It enables quick observations to see if the data is clean or if it needs some preprocessing. There are many ways to visualize the distribution, several of which are shown below:"
   ]
  },
  {
   "cell_type": "code",
   "execution_count": null,
   "metadata": {
    "ExecuteTime": {
     "end_time": "2021-01-07T21:57:25.146930Z",
     "start_time": "2021-01-07T21:57:24.663730Z"
    },
    "scrolled": false
   },
   "outputs": [],
   "source": [
    "col = 'cement'\n",
    "\n",
    "plt.figure(figsize=(15,5))\n",
    "plt.suptitle('1-D plots for %s' %col,size=18,y=1.05)\n",
    "\n",
    "plt.subplot(141)\n",
    "plt.hist(df[col])\n",
    "plt.title('Histogram',size=16)\n",
    "\n",
    "plt.subplot(142)\n",
    "sns.kdeplot(data = df[col])\n",
    "plt.title('Density',size=16)\n",
    "\n",
    "plt.subplot(143)\n",
    "sns.boxplot(data = df[col])\n",
    "plt.title('Box and Whisker',size=16)\n",
    "\n",
    "plt.subplot(144)\n",
    "sns.violinplot(x = df[col])\n",
    "plt.title('Violin',size=16)\n",
    "\n",
    "plt.tight_layout()"
   ]
  },
  {
   "cell_type": "markdown",
   "metadata": {},
   "source": [
    "**Activity:** Create a series of 1-dimensional plots to visualize the distribution of concrete strength `csMPa` in MPa."
   ]
  },
  {
   "cell_type": "code",
   "execution_count": null,
   "metadata": {},
   "outputs": [],
   "source": []
  },
  {
   "cell_type": "markdown",
   "metadata": {},
   "source": [
    "# 2-D plots\n",
    "2-dimensional plots are particularly useful to show correlations between two features. This could be useful to give you an idea of important features to predict an output with a machine learning model. \n",
    "\n",
    "- **Line plots:** shows time series; since there is no time element in this dataset, this will not be shown here. To create a line plot, use plt.plot(data)\n",
    "- **Scatter plots:** shows correlations between two features. Consider log scales for data that spans several orders of magnitude\n",
    "- **Pairplots and jointplots:** seaborn plots that show both the distribution and correlations\n",
    "- **Heatmap:** compute correlations between features using Pandas df.corr(). Highly correlated features are often redundant and slow down the analysis without improving results\n",
    "- **Grouped 1-D plots:** distributions of a single column of data that are grouped based on an independent feature"
   ]
  },
  {
   "cell_type": "code",
   "execution_count": null,
   "metadata": {
    "ExecuteTime": {
     "end_time": "2021-01-07T21:57:25.279721Z",
     "start_time": "2021-01-07T21:57:25.149770Z"
    },
    "scrolled": true
   },
   "outputs": [],
   "source": [
    "# Scatter plot\n",
    "x = df['cement']\n",
    "y = df['csMPa']\n",
    "\n",
    "plt.scatter(x,y)\n",
    "plt.xlabel('Cement (kg/m3)')\n",
    "plt.ylabel('Compressive Strength (MPa)')"
   ]
  },
  {
   "cell_type": "code",
   "execution_count": null,
   "metadata": {
    "ExecuteTime": {
     "end_time": "2021-01-07T21:57:27.771325Z",
     "start_time": "2021-01-07T21:57:25.279721Z"
    },
    "scrolled": true
   },
   "outputs": [],
   "source": [
    "# Pairplot\n",
    "sns.pairplot(df[['cement','slag','csMPa']])"
   ]
  },
  {
   "cell_type": "code",
   "execution_count": null,
   "metadata": {
    "ExecuteTime": {
     "end_time": "2021-01-07T21:57:28.397723Z",
     "start_time": "2021-01-07T21:57:27.773324Z"
    },
    "scrolled": true
   },
   "outputs": [],
   "source": [
    "# Jointplot\n",
    "sns.jointplot(x=df['cement'],y=df['csMPa'])"
   ]
  },
  {
   "cell_type": "code",
   "execution_count": null,
   "metadata": {
    "ExecuteTime": {
     "end_time": "2021-01-07T21:57:28.644084Z",
     "start_time": "2021-01-07T21:57:28.399689Z"
    },
    "scrolled": false
   },
   "outputs": [],
   "source": [
    "# Heatmap showing the correlation between features\n",
    "# 1.0 means exactly correlated, -1.0 means exactly inversely correlated, and 0.0 means no correlation\n",
    "sns.heatmap(df.corr())"
   ]
  },
  {
   "cell_type": "code",
   "execution_count": null,
   "metadata": {
    "ExecuteTime": {
     "end_time": "2021-01-07T21:57:28.781494Z",
     "start_time": "2021-01-07T21:57:28.644084Z"
    },
    "scrolled": false
   },
   "outputs": [],
   "source": [
    "# Grouped 1-D plot\n",
    "# Group 'cement' based on csMPa > 35.0 or not\n",
    "df['Strength'] = np.where(df['csMPa'] > 35.0,'Hi','Lo')\n",
    "sns.violinplot(x = df['Strength'],y = df['cement'])"
   ]
  },
  {
   "cell_type": "markdown",
   "metadata": {},
   "source": [
    "**Activity** Generate 2 types of 2-dimensional plots using 2 features of your choice (csMPa would be a useful feature to include, since that is the output feature you want to predict with regression)"
   ]
  },
  {
   "cell_type": "code",
   "execution_count": null,
   "metadata": {},
   "outputs": [],
   "source": []
  },
  {
   "cell_type": "markdown",
   "metadata": {},
   "source": [
    "# Multi-dimensional plots\n",
    "Multidimensional plots visualize more complex relationships. However, natural intuition begins to break down as more dimensions are introduced, so be careful when introducing too many features in a single plot. \n",
    "\n",
    "- 3-D scatter plots show correlations between 3 features. However, visualizing the 3-D plot on a 2-D screen can present challenges. See the \"Other plotting options\" section for alternatives\n",
    "- Grouping methods can continue to show more features on a 2-D plot by adjusting the color, size, or shape of the marker; be sure to include a legend\n",
    "- Principal Component Analysis (PCA) reduces dozens of features by tranforming to a lower dimensional space. The principal component directions and magnitudes are computed using the PCA function from scikit-learn. "
   ]
  },
  {
   "cell_type": "code",
   "execution_count": null,
   "metadata": {
    "ExecuteTime": {
     "end_time": "2021-01-07T21:57:28.946841Z",
     "start_time": "2021-01-07T21:57:28.782490Z"
    },
    "scrolled": false
   },
   "outputs": [],
   "source": [
    "# 3-D scatter plot\n",
    "fig = plt.figure()\n",
    "ax = fig.add_subplot(111, projection = '3d')\n",
    "\n",
    "x = df['cement']\n",
    "y = df['slag']\n",
    "z = df['flyash']\n",
    "\n",
    "ax.set_xlabel('cement')\n",
    "ax.set_ylabel('slag')\n",
    "ax.set_zlabel('flyash')\n",
    "\n",
    "ax.scatter(x, y, z)"
   ]
  },
  {
   "cell_type": "code",
   "execution_count": null,
   "metadata": {
    "ExecuteTime": {
     "end_time": "2021-01-07T21:57:29.330933Z",
     "start_time": "2021-01-07T21:57:28.946841Z"
    }
   },
   "outputs": [],
   "source": [
    "# Grouping method: show 'cement' and 'slag' as primary correlation,\n",
    "#  with csMPa as the variation in marker\n",
    "x = df['cement']\n",
    "y = df['slag']\n",
    "z = df['csMPa']\n",
    "\n",
    "plt.figure(figsize=(10,4))\n",
    "plt.subplot(121)\n",
    "sns.scatterplot(x = x,y = y,size=z)\n",
    "plt.title('Variation by size')\n",
    "\n",
    "plt.subplot(122)\n",
    "sns.scatterplot(x = x,y = y,hue=z)\n",
    "plt.title('Variation by hue')"
   ]
  },
  {
   "cell_type": "code",
   "execution_count": null,
   "metadata": {
    "ExecuteTime": {
     "end_time": "2021-01-07T21:57:32.011106Z",
     "start_time": "2021-01-07T21:57:31.870768Z"
    },
    "scrolled": true
   },
   "outputs": [],
   "source": [
    "# PCA\n",
    "pca = PCA(n_components=2)\n",
    "pca_data = df[df.columns[:-2]].values\n",
    "principal_components = pca.fit_transform(pca_data)\n",
    "\n",
    "x = principal_components[:,0]\n",
    "y = principal_components[:,1]\n",
    "plt.scatter(x,y)"
   ]
  },
  {
   "cell_type": "markdown",
   "metadata": {},
   "source": [
    "**Activity:** Create a multidimensional plot of at least 3 features and plot them. \n",
    "\n",
    "**Bonus Activity:** Perform a PCA using only 2 features. Plot the results of the PCA, and a scatterplot of the raw data. Are they different? If so, how and why?"
   ]
  },
  {
   "cell_type": "code",
   "execution_count": null,
   "metadata": {
    "ExecuteTime": {
     "end_time": "2021-01-07T21:38:05.757582Z",
     "start_time": "2021-01-07T21:38:05.521790Z"
    }
   },
   "outputs": [],
   "source": []
  },
  {
   "cell_type": "markdown",
   "metadata": {},
   "source": [
    "# Other plotting options\n",
    "\n",
    "- Plotly creates interactive plots for exploring data results. While the syntax makes it slightly harder to get quick results for data exploration, it creates a much more intuitive interface to explore and present the data. It is particularly useful for exploring 3-D scatter plots\n",
    "- Pandas Profiling quickly generates plots of distributions, correlations, and other useful visualizations with just one line of code. If you are presented with a new dataset, this is a great option to get started exploring"
   ]
  },
  {
   "cell_type": "code",
   "execution_count": null,
   "metadata": {
    "ExecuteTime": {
     "end_time": "2021-01-07T21:57:35.936802Z",
     "start_time": "2021-01-07T21:57:35.456828Z"
    }
   },
   "outputs": [],
   "source": [
    "# Plotly interactive 3-D plot\n",
    "x = df['cement']\n",
    "y = df['slag']\n",
    "z = df['flyash']\n",
    "\n",
    "fig = go.Figure(data=[go.Scatter3d(x=x, y=y, z=z,\n",
    "                                   mode='markers')])\n",
    "\n",
    "fig.update_layout(scene = dict(\n",
    "                    xaxis_title='cement',\n",
    "                    yaxis_title='slag',\n",
    "                    zaxis_title='flyash'))\n",
    "\n",
    "fig.show()"
   ]
  },
  {
   "cell_type": "code",
   "execution_count": null,
   "metadata": {
    "ExecuteTime": {
     "end_time": "2021-01-07T21:59:07.207056Z",
     "start_time": "2021-01-07T21:57:38.772083Z"
    }
   },
   "outputs": [],
   "source": [
    "# Pandas profiling\n",
    "profile = ProfileReport(df, title='Pandas Profiling Report', explorative = True)\n",
    "profile.to_widgets()"
   ]
  }
 ],
 "metadata": {
  "hide_input": false,
  "kernelspec": {
   "display_name": "Python 3",
   "language": "python",
   "name": "python3"
  },
  "language_info": {
   "codemirror_mode": {
    "name": "ipython",
    "version": 3
   },
   "file_extension": ".py",
   "mimetype": "text/x-python",
   "name": "python",
   "nbconvert_exporter": "python",
   "pygments_lexer": "ipython3",
   "version": "3.8.5"
  }
 },
 "nbformat": 4,
 "nbformat_minor": 4
}
