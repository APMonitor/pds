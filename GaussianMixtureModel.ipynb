{
 "cells": [
  {
   "cell_type": "markdown",
   "metadata": {},
   "source": [
    "### Machine Learning for Engineers: [GaussianMixtureModel](https://www.apmonitor.com/pds/index.php/Main/GaussianMixtureModel)\n",
    "- [Gaussian Mixture Model](https://www.apmonitor.com/pds/index.php/Main/GaussianMixtureModel)\n",
    " - Source Blocks: 1\n",
    " - Description: Introduction to Gaussian Mixture Models\n",
    "- [Course Overview](https://apmonitor.com/pds)\n",
    "- [Course Schedule](https://apmonitor.com/pds/index.php/Main/CourseSchedule)\n"
   ]
  },
  {
   "cell_type": "code",
   "execution_count": null,
   "metadata": {},
   "outputs": [],
   "source": [
    "from sklearn.mixture import GaussianMixture\n",
    "from sklearn.datasets import make_blobs\n",
    "from sklearn.model_selection import train_test_split\n",
    "import numpy as np\n",
    "\n",
    "X, y = make_blobs(n_samples=800, centers=2,\\\n",
    "                  n_features=2, random_state=12)\n",
    "\n",
    "XA, XB, yA, yB = train_test_split(X,y,test_size=0.2,random_state=21)\n",
    "nB = len(yB)\n",
    "\n",
    "gmm = GaussianMixture(n_components=2)\n",
    "gmm.fit(XA)\n",
    "yP = gmm.predict_proba(XB) # produces probabilities\n",
    "# Arbitrary labels with unsupervised clustering may need to be reversed\n",
    "if len(XB[np.round(yP[:,0])!=yB]) > nB/4: yP[:,0] = 1 - yP[:,0]\n",
    "\n",
    "# Calculate accuracy\n",
    "print(f'Accuracy = {np.round(100*(nB-np.sum(np.abs(yP[:,0]-yB)))/nB,2)}%')"
   ]
  }
 ],
 "metadata": {
  "kernelspec": {
   "display_name": "Python 3 (ipykernel)",
   "language": "python",
   "name": "python3"
  },
  "language_info": {
   "codemirror_mode": {
    "name": "ipython",
    "version": 3
   },
   "file_extension": ".py",
   "mimetype": "text/x-python",
   "name": "python",
   "nbconvert_exporter": "python",
   "pygments_lexer": "ipython3",
   "version": "3.11.4"
  }
 },
 "nbformat": 4,
 "nbformat_minor": 2
}
