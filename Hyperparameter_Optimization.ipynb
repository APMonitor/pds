{
 "cells": [
  {
   "cell_type": "markdown",
   "id": "83d33c3e",
   "metadata": {},
   "source": [
    "## Hyperparameter Optimization\n",
    "\n",
    "[Hyperparameter Optimization](https://apmonitor.com/pds/index.php/Main/HyperparameterOptimization) in the [Machine Learning for Engineers](http://apmonitor.com/pds) online course.\n",
    "\n",
    "Hyperparameter options of classification or regression algorithms are settings not learned directly from the training data. The selection of these parameters can be determined by evaluation on a separate set of data that is reserved for optimizing the selection of hyperparameters from specified choices.\n",
    "\n",
    "<img align=left width=500px src='https://apmonitor.com/pds/uploads/Main/hyperparameter_optimization.png'>"
   ]
  },
  {
   "cell_type": "markdown",
   "id": "189c5d39",
   "metadata": {},
   "source": [
    "Examples of hyperparameters include the learning rate, number of hidden layers, and number of neurons in a neural network, and the regularization term in a linear classifier. The optimal values for these hyperparameters are typically determined through a process called hyperparameter optimization, which involves searching for the best combination of hyperparameter values that result in the best performance of the model on a validation dataset.\n",
    "\n",
    "### Train, Validation, Test Data\n",
    "\n",
    "There is a validation data split for hyperparameter optimization to ensure that the model performance is evaluated in an unbiased and accurate way. The training data is used to learn the model parameters, and the validation data is used to evaluate the performance of the model and tune the hyperparameters. The test data is used as a final evaluation of the model performance, after the hyperparameters have been chosen.\n",
    "\n",
    "<img align=left width=500px src='https://apmonitor.com/pds/uploads/Main/train_validation_test_data.png'>"
   ]
  },
  {
   "cell_type": "markdown",
   "id": "c7021549",
   "metadata": {},
   "source": [
    "Using the same data for both training and testing the model would result in overfitting, where the model performs well on the training data but poorly on unseen data, because the model has seen the test data during the training process. By keeping the test data separate and only using it as a final evaluation, the model performance on the test data is a true representation of the performance on unseen data. Additionally, using the validation data to tune the hyperparameters and test data to evaluate the performance of the final model helps to prevent the problem of overfitting, by avoiding to use the same data for both tuning and evaluation.\n",
    "\n",
    "### Hyperparameter Search Methods\n",
    "\n",
    "There are several [common methods for hyperparameter optimization](https://medium.com/criteo-engineering/hyper-parameter-optimization-algorithms-2fe447525903), each with its own strengths and weaknesses:\n",
    "\n",
    "1️⃣ Grid search: A technique where a set of possible values for each hyperparameter is specified, and the algorithm will train and evaluate a model for each combination of hyperparameter values. Grid search can be computationally expensive, particularly when searching over many hyperparameters or a large range of values for each hyperparameter.\n",
    "\n",
    "2️⃣ Random search: A technique where a random set of hyperparameter values is sampled from a predefined distribution for each hyperparameter. Random search is less computationally expensive than grid search, but still has a higher chance of finding a good set of hyperparameters than a simple grid search.\n",
    "\n",
    "3️⃣ Bayesian optimization: A probabilistic model-based approach that uses Bayesian inference to model the function that maps the hyperparameters to the performance of the model. It uses the acquired knowledge to direct the search to the regions where it expects to find the best performance. Bayesian optimization cannot be parallelized and requires continuous hyperparameters (not categorical). It quickly converges to an optimal solution when there are few hyperparameters, but this efficiency degrades when the search dimension increases.\n",
    "\n",
    "4️⃣ Genetic Algorithm: A evolutionary based algorithm that uses concepts of natural selection and genetics to optimize the parameters.\n",
    "\n",
    "5️⃣ Gradient-based optimization: A method that uses gradient information to optimize the hyperparameters. This can be done using optimization algorithms such as gradient descent or Adam.\n",
    "\n",
    "6️⃣ Hyperband: An algorithm that uses the idea of early stopping to decide when to stop training a model, which reduces the number of models that need to be trained and evaluated, making it faster than grid search or random search.\n",
    "\n",
    "Which method to use depends on the problem, the complexity of the model, the computational resources available, and the desired trade-off between computation time and optimization quality.\n",
    "\n",
    "### Grid Search with sklearn\n",
    " \n",
    "A grid search is a technique for hyperparameter optimization in which a set of possible values for each hyperparameter is specified, and the algorithm will train and evaluate a model for each combination of hyperparameter values. In a grid search, the user defines a grid of hyperparameters to search over, and for each combination of hyperparameter values, the algorithm trains a model using that combination, evaluate it using a metric of choice (such as accuracy or F1 score) and save the results. After training and evaluating all the models, the grid search returns the combination of hyperparameters that achieve the best performance.\n",
    "\n",
    "For example, in the case of a KNN classifier, a grid search could be used to find the optimal number of neighbors and the optimal weighting method (uniform or distance-based) by specifying a range of values for the hyperparameter (nearest neighbors) and training a model for every combination of those values. The grid search can also use cross-validation, where the data is split into a training and validation set. So for each combination of hyperparameters, the model is trained on the training data and evaluated on the validation data. This prevents overfitting and a better estimate of the generalization performance of the model."
   ]
  },
  {
   "cell_type": "code",
   "execution_count": null,
   "id": "c6b14c74",
   "metadata": {},
   "outputs": [],
   "source": [
    "from sklearn.datasets import make_blobs\n",
    "from sklearn.model_selection import train_test_split\n",
    "from sklearn.neighbors import KNeighborsClassifier\n",
    "from sklearn.model_selection import GridSearchCV\n",
    "\n",
    "# generate sample data with make_blobs\n",
    "X, y = make_blobs(n_samples=1000, centers=5, random_state=10)\n",
    "\n",
    "# split the data into training (60%), validation (20%), test (20%) sets\n",
    "# split training (80%) and test (20%)\n",
    "X_train, X_test, y_train, y_test = train_test_split(X, y, \n",
    "                                     test_size=0.2, random_state=9)\n",
    "\n",
    "# split off additional 20% for validation (80% * 0.25 = 20%)\n",
    "X_train, X_val, y_train, y_val = train_test_split(X_train, y_train, \n",
    "                                   test_size=0.25, random_state=7)"
   ]
  },
  {
   "cell_type": "code",
   "execution_count": null,
   "id": "2ecb3532",
   "metadata": {},
   "outputs": [],
   "source": [
    "# define the parameter grid for the grid search\n",
    "param_grid = {'n_neighbors': [3,5,7,9], \n",
    "              'weights': ['uniform', 'distance']}\n",
    "\n",
    "# create a k-Nearest Neighbors classifier\n",
    "knn = KNeighborsClassifier()"
   ]
  },
  {
   "cell_type": "code",
   "execution_count": null,
   "id": "b2bf504d",
   "metadata": {},
   "outputs": [],
   "source": [
    "# create the grid search object\n",
    "grid_search = GridSearchCV(knn, param_grid, cv=5)"
   ]
  },
  {
   "cell_type": "code",
   "execution_count": null,
   "id": "d5491c48",
   "metadata": {},
   "outputs": [],
   "source": [
    "# fit the grid search to the data\n",
    "grid_search.fit(X_train, y_train)"
   ]
  },
  {
   "cell_type": "code",
   "execution_count": null,
   "id": "84d8d3a7",
   "metadata": {},
   "outputs": [],
   "source": [
    "# print the best parameters and score\n",
    "print(\"Best parameters: \", grid_search.best_params_)\n",
    "print(\"Best score: \", grid_search.best_score_)\n",
    "\n",
    "# evaluate the model on the validation set\n",
    "val_accuracy = grid_search.score(X_val, y_val)\n",
    "print(\"Validation set accuracy: \", val_accuracy)\n",
    "# evaluate the model on the test set\n",
    "test_accuracy = grid_search.score(X_test, y_test)\n",
    "print(\"Test set accuracy: \", test_accuracy)"
   ]
  },
  {
   "cell_type": "markdown",
   "id": "388410ec",
   "metadata": {},
   "source": [
    "Grid search can be computationally expensive, particularly when searching over many hyperparameters or a large range of values for each hyperparameter."
   ]
  },
  {
   "cell_type": "markdown",
   "id": "81e6e14e",
   "metadata": {},
   "source": [
    "### Hyperparameter Optimization: hyperopt\n",
    "\n",
    "`hyperopt` is a Python package for performing hyperparameter optimization with a variety of optimization algorithms including random search, Tree-structured Parzen Estimator (TPE), and adaptive TPE, as well as a simple and flexible way to define the search space for the hyperparameters. The main function of the package is `fmin` that is used to perform the optimization. The function `fmin` takes an objective function, the search space, the optimization algorithm, and the maximum number of evaluations as input. The objective function takes the hyperparameters as input and returns a dictionary with the loss (or negative of the performance metric) and the status of the optimization. In addition to the `fmin` function, `hyperopt` also provides a number of helper functions for defining the search space. For example, `hp.quniform` and `hp.qloguniform` for continuous variables, `hp.choice` for categorical variables and `hp.randint` for integers. `hyperopt` provides a built-in support for parallel execution and early stopping. It can be used in combination with most machine learning libraries, such as scikit-learn, TensorFlow, and PyTorch. It is a popular choice among data scientists and researchers for the ease of use and ability to find better solutions in a relatively small number of evaluations."
   ]
  },
  {
   "cell_type": "code",
   "execution_count": null,
   "id": "80a371fd",
   "metadata": {},
   "outputs": [],
   "source": [
    "pip install hyperopt"
   ]
  },
  {
   "cell_type": "code",
   "execution_count": null,
   "id": "a26b5a92",
   "metadata": {},
   "outputs": [],
   "source": [
    "from sklearn.datasets import make_blobs\n",
    "from sklearn.metrics import accuracy_score\n",
    "from sklearn.model_selection import train_test_split\n",
    "from sklearn.neighbors import KNeighborsClassifier\n",
    "from hyperopt import fmin, tpe, hp, STATUS_OK\n",
    "\n",
    "# Generate data using make_blobs\n",
    "X, y = make_blobs(n_samples=1000, n_features=2, \n",
    "                  centers=5, random_state=12)\n",
    "\n",
    "# Split data into train and test sets\n",
    "X_train, X_test, y_train, y_test = \\\n",
    "    train_test_split(X, y, test_size=0.2, random_state=42)"
   ]
  },
  {
   "cell_type": "code",
   "execution_count": null,
   "id": "ad63292c",
   "metadata": {},
   "outputs": [],
   "source": [
    "# Define the search space for the hyperparameters\n",
    "space = {'n_neighbors': hp.quniform('n_neighbors', 2, 20, 1),\n",
    "         'weights': hp.choice('weights', ['uniform', 'distance'])}"
   ]
  },
  {
   "cell_type": "code",
   "execution_count": null,
   "id": "7e160679",
   "metadata": {},
   "outputs": [],
   "source": [
    "def objective(params):\n",
    "    params['n_neighbors'] = int(params['n_neighbors'])\n",
    "    knn = KNeighborsClassifier(**params)\n",
    "    knn.fit(X_train, y_train)\n",
    "    y_pred = knn.predict(X_test)\n",
    "    acc = accuracy_score(y_test, y_pred)\n",
    "    return {'loss': -acc, 'status': STATUS_OK}"
   ]
  },
  {
   "cell_type": "code",
   "execution_count": null,
   "id": "2b6e90e3",
   "metadata": {},
   "outputs": [],
   "source": [
    "best = fmin(objective, space, algo=tpe.suggest, max_evals=100)\n",
    "print(best)"
   ]
  }
 ],
 "metadata": {
  "kernelspec": {
   "display_name": "Python 3 (ipykernel)",
   "language": "python",
   "name": "python3"
  },
  "language_info": {
   "codemirror_mode": {
    "name": "ipython",
    "version": 3
   },
   "file_extension": ".py",
   "mimetype": "text/x-python",
   "name": "python",
   "nbconvert_exporter": "python",
   "pygments_lexer": "ipython3",
   "version": "3.9.13"
  }
 },
 "nbformat": 4,
 "nbformat_minor": 5
}
