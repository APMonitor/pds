{
 "cells": [
  {
   "attachments": {},
   "cell_type": "markdown",
   "metadata": {},
   "source": [
    "### Machine Learning for Engineers: [ImbalancedData](https://www.apmonitor.com/pds/index.php/Main/ImbalancedData)\n",
    "- [Imbalanced Data and Learning](https://www.apmonitor.com/pds/index.php/Main/ImbalancedData)\n",
    " - Source Blocks: 6\n",
    " - Description: Identify imbalanced data and use undersampling or oversampling to improve the machine learning classification results.\n",
    "- [Course Overview](https://apmonitor.com/pds)\n",
    "- [Course Schedule](https://apmonitor.com/pds/index.php/Main/CourseSchedule)\n",
    "\n",
    "<img width=400px align=left src='https://apmonitor.com/pds/uploads/Main/imbalanced_data.png'>"
   ]
  },
  {
   "cell_type": "code",
   "execution_count": 1,
   "metadata": {},
   "outputs": [],
   "source": [
    "# Uncomment to install imblearn (if needed) and restart kernel\n",
    "# Add --user to install just for local python (no admin access)\n",
    "#pip install imblearn"
   ]
  },
  {
   "cell_type": "code",
   "execution_count": null,
   "metadata": {},
   "outputs": [],
   "source": [
    "# Uncomment to install xgboost (if needed) and restart kernel\n",
    "# Add --user to install just for local python (no admin access)\n",
    "#pip install xgboost"
   ]
  },
  {
   "cell_type": "code",
   "execution_count": 1,
   "metadata": {},
   "outputs": [],
   "source": [
    "import pandas as pd\n",
    "import numpy as np\n",
    "import matplotlib.pyplot as plt\n",
    "import seaborn as sns\n",
    "import xgboost as xgb\n",
    "from imblearn.over_sampling import SMOTE\n",
    "from imblearn.pipeline import Pipeline\n",
    "from imblearn.under_sampling import RandomUnderSampler as RUS\n",
    "from sklearn.datasets import make_classification as MC\n",
    "from sklearn.metrics import ConfusionMatrixDisplay, f1_score\n",
    "from sklearn.model_selection import train_test_split as tts\n",
    "from sklearn.metrics import confusion_matrix as cm\n",
    "from sklearn.datasets import make_blobs as MB"
   ]
  },
  {
   "cell_type": "markdown",
   "metadata": {},
   "source": [
    "### Import Data with Weighted Classes"
   ]
  },
  {
   "cell_type": "code",
   "execution_count": 3,
   "metadata": {},
   "outputs": [
    {
     "data": {
      "image/png": "[encoded data removed]",
      "text/plain": [
       "<Figure size 432x288 with 1 Axes>"
      ]
     },
     "metadata": {
      "needs_background": "light"
     },
     "output_type": "display_data"
    },
    {
     "data": {
      "text/html": [
       "<div>\n",
       "<style scoped>\n",
       "    .dataframe tbody tr th:only-of-type {\n",
       "        vertical-align: middle;\n",
       "    }\n",
       "\n",
       "    .dataframe tbody tr th {\n",
       "        vertical-align: top;\n",
       "    }\n",
       "\n",
       "    .dataframe thead th {\n",
       "        text-align: right;\n",
       "    }\n",
       "</style>\n",
       "<table border=\"1\" class=\"dataframe\">\n",
       "  <thead>\n",
       "    <tr style=\"text-align: right;\">\n",
       "      <th></th>\n",
       "      <th>0</th>\n",
       "      <th>1</th>\n",
       "      <th>2</th>\n",
       "      <th>3</th>\n",
       "      <th>4</th>\n",
       "      <th>label</th>\n",
       "    </tr>\n",
       "  </thead>\n",
       "  <tbody>\n",
       "    <tr>\n",
       "      <th>0</th>\n",
       "      <td>-10.800342</td>\n",
       "      <td>3.172799</td>\n",
       "      <td>5.239638</td>\n",
       "      <td>7.307207</td>\n",
       "      <td>5.994013</td>\n",
       "      <td>0</td>\n",
       "    </tr>\n",
       "    <tr>\n",
       "      <th>1</th>\n",
       "      <td>-14.990925</td>\n",
       "      <td>3.017590</td>\n",
       "      <td>3.977746</td>\n",
       "      <td>5.360931</td>\n",
       "      <td>4.784813</td>\n",
       "      <td>0</td>\n",
       "    </tr>\n",
       "    <tr>\n",
       "      <th>2</th>\n",
       "      <td>-11.717584</td>\n",
       "      <td>1.484062</td>\n",
       "      <td>6.603974</td>\n",
       "      <td>7.225007</td>\n",
       "      <td>3.876819</td>\n",
       "      <td>0</td>\n",
       "    </tr>\n",
       "    <tr>\n",
       "      <th>3</th>\n",
       "      <td>-11.451783</td>\n",
       "      <td>2.013037</td>\n",
       "      <td>5.301218</td>\n",
       "      <td>7.659808</td>\n",
       "      <td>8.734456</td>\n",
       "      <td>2</td>\n",
       "    </tr>\n",
       "    <tr>\n",
       "      <th>4</th>\n",
       "      <td>-10.977639</td>\n",
       "      <td>4.676936</td>\n",
       "      <td>6.553846</td>\n",
       "      <td>7.233869</td>\n",
       "      <td>4.575602</td>\n",
       "      <td>0</td>\n",
       "    </tr>\n",
       "  </tbody>\n",
       "</table>\n",
       "</div>"
      ],
      "text/plain": [
       "           0         1         2         3         4  label\n",
       "0 -10.800342  3.172799  5.239638  7.307207  5.994013      0\n",
       "1 -14.990925  3.017590  3.977746  5.360931  4.784813      0\n",
       "2 -11.717584  1.484062  6.603974  7.225007  3.876819      0\n",
       "3 -11.451783  2.013037  5.301218  7.659808  8.734456      2\n",
       "4 -10.977639  4.676936  6.553846  7.233869  4.575602      0"
      ]
     },
     "execution_count": 3,
     "metadata": {},
     "output_type": "execute_result"
    }
   ],
   "source": [
    "data = pd.read_csv('http://apmonitor.com/pds/uploads/Main/imbalanced_train.csv')\n",
    "datat = pd.read_csv('http://apmonitor.com/pds/uploads/Main/imbalanced_test.csv')\n",
    "data['label'].hist(bins=5)\n",
    "plt.show()\n",
    "data.head()"
   ]
  },
  {
   "cell_type": "markdown",
   "metadata": {},
   "source": [
    "### Visualize Data"
   ]
  },
  {
   "cell_type": "code",
   "execution_count": null,
   "metadata": {},
   "outputs": [],
   "source": []
  },
  {
   "cell_type": "markdown",
   "metadata": {},
   "source": [
    "### Create Models\n",
    "#### Make One Model Weighted, and One Unweighted\n",
    "\n",
    "In order to \"weight\" a model, there are several approaches one can take. Oversampling the minority classes or undersampling the majority classes is one way to try to \"fill\" imbalanced data. When oversampling minority classes, typically methods such as SMOTE are used. SMOTE creates artificial samples of a class with features within the vector space of the other class samples. Another approach is to use the \"weights\" kwarg that many model classes have. These accept some coefficient array that tells the model to adjust itself to compensate for imbalances."
   ]
  },
  {
   "cell_type": "code",
   "execution_count": null,
   "metadata": {},
   "outputs": [],
   "source": []
  },
  {
   "cell_type": "markdown",
   "metadata": {},
   "source": [
    "### Visualize Results"
   ]
  },
  {
   "cell_type": "code",
   "execution_count": null,
   "metadata": {},
   "outputs": [],
   "source": []
  },
  {
   "cell_type": "markdown",
   "metadata": {},
   "source": [
    "### Conclusion\n",
    "\n",
    "Write a two-paragraph conclusion based on your results"
   ]
  },
  {
   "cell_type": "code",
   "execution_count": null,
   "metadata": {},
   "outputs": [],
   "source": []
  }
 ],
 "metadata": {
  "kernelspec": {
   "display_name": "Python 3",
   "language": "python",
   "name": "python3"
  },
  "language_info": {
   "codemirror_mode": {
    "name": "ipython",
    "version": 3
   },
   "file_extension": ".py",
   "mimetype": "text/x-python",
   "name": "python",
   "nbconvert_exporter": "python",
   "pygments_lexer": "ipython3",
   "version": "3.8.5"
  }
 },
 "nbformat": 4,
 "nbformat_minor": 5
}
