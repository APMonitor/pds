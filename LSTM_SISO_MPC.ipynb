{
 "cells": [
  {
   "cell_type": "markdown",
   "metadata": {},
   "source": [
    "### Emulating a SISO MPC with an LSTM Network\n",
    "\n",
    "The purpose of this exercise is to automate a temperature control process with an LSTM network. The LSTM network is trained from a 1x1 SISO MPC (Single Input Single Output, Model Predictive Control). LSTM (Long Short Term Memory) networks are a special type of RNN (Recurrent Neural Network) that is structured to remember and predict based on long-term dependencies that are trained with time-series data. An LSTM repeating module has four interacting components.\n",
    "\n",
    "<img align=left width=400px src='https://apmonitor.com/pds/uploads/Main/lstm_mpc_1x1.png'>"
   ]
  },
  {
   "cell_type": "markdown",
   "metadata": {},
   "source": [
    "The LSTM is trained (parameters adjusted) with an input window of prior data and minimized difference between the predicted and next measured value. Sequential methods predict just one next value based on the window of prior data. In this case, the error between the set point and measured value is the feature and the heater value is the output label.\n",
    "\n",
    "See [Automation with LSTM Networks](https://apmonitor.com/pds/index.php/Main/LSTMAutomation) for additional details."
   ]
  },
  {
   "cell_type": "code",
   "execution_count": 1,
   "metadata": {
    "ExecuteTime": {
     "end_time": "2021-02-17T16:25:23.638976Z",
     "start_time": "2021-02-17T16:25:20.302787Z"
    }
   },
   "outputs": [],
   "source": [
    "import pandas as pd\n",
    "import matplotlib.pyplot as plt\n",
    "import numpy as np\n",
    "import random\n",
    "import time\n",
    "from tqdm import tqdm # Progress bar\n",
    "\n",
    "# For scaling, feature selection\n",
    "from sklearn.preprocessing import MinMaxScaler\n",
    "from sklearn.feature_selection import SelectKBest, f_regression\n",
    "from sklearn.model_selection import train_test_split \n",
    "\n",
    "# For LSTM model\n",
    "from keras.models import Sequential\n",
    "from keras.layers import LSTM, Dropout, Dense\n",
    "from keras.callbacks import EarlyStopping\n",
    "from tqdm.keras import TqdmCallback\n",
    "from keras.models import load_model\n",
    "\n",
    "# For Gekko and TCLab\n",
    "import tclab\n",
    "from gekko import GEKKO"
   ]
  },
  {
   "cell_type": "markdown",
   "metadata": {},
   "source": [
    "### Use [TCLab](https://apmonitor.com/heat.htm) Microcontroller or Emulator (Digital Twin)\n",
    "\n",
    "Change `tclab_hardware` to `True` if TCLab device is connected.\n",
    "\n",
    "<img width=550px align=left src='https://apmonitor.com/pdc/uploads/Main/tclab_connect.png'>"
   ]
  },
  {
   "cell_type": "code",
   "execution_count": 2,
   "metadata": {},
   "outputs": [],
   "source": [
    "tclab_hardware = False # True\n",
    "if tclab_hardware:\n",
    "    mlab = tclab.TCLab      # Physical hardware\n",
    "else:\n",
    "    speedup = 100\n",
    "    mlab = tclab.setup(connected=False, speedup = speedup) # Emulator"
   ]
  },
  {
   "cell_type": "markdown",
   "metadata": {},
   "source": [
    "### PID controller \n",
    "\n",
    "See [LSTM Network Replaces PID](https://github.com/APMonitor/pds/blob/main/LSTM_Automation.ipynb) for code with a PID controller instead of a Model Predictive Controller (MPC)."
   ]
  },
  {
   "cell_type": "markdown",
   "metadata": {},
   "source": [
    "### MPC (Model Predictive Control)\n",
    "\n",
    "See the last example for [MPC with TCLab](https://apmonitor.com/pds/notebooks/12_time_series.html) or the [Linear MPC with TCLab](https://apmonitor.com/do/index.php/Main/TCLabF). This controller is implemented instead of a PID controller. The steps to create an MPC application are:\n",
    "\n",
    "- generate step test data\n",
    "- identify model\n",
    "- initialize controller\n",
    "- create MPC function to return Q1\n",
    "\n",
    "**Generate Step Test Data**"
   ]
  },
  {
   "cell_type": "code",
   "execution_count": 3,
   "metadata": {},
   "outputs": [
    {
     "name": "stdout",
     "output_type": "stream",
     "text": [
      "TCLab version 0.4.9\n",
      "Simulated TCLab\n",
      "Time: 0 Q1: 0.0 Q2: 0.0 T1: 20.95 T2: 20.63\n",
      "Time: 200 Q1: 80.0 Q2: 35.0 T1: 54.47 T2: 30.62\n",
      "Time: 400 Q1: 20.0 Q2: 95.0 T1: 51.89 T2: 43.19\n",
      "Time: 600 Q1: 70.0 Q2: 25.0 T1: 39.64 T2: 39.97\n",
      "Time: 800 Q1: 70.0 Q2: 100.0 T1: 58.66 T2: 46.09\n",
      "Time: 1000 Q1: 50.0 Q2: 100.0 T1: 60.27 T2: 54.15\n",
      "TCLab Model disconnected successfully.\n"
     ]
    },
    {
     "data": {
      "image/png": "[encoded data removed]",
      "text/plain": [
       "<Figure size 432x288 with 2 Axes>"
      ]
     },
     "metadata": {
      "needs_background": "light"
     },
     "output_type": "display_data"
    }
   ],
   "source": [
    "# generate step test data on TCLab\n",
    "filename = 'tclab_data.csv'\n",
    "\n",
    "n = 500\n",
    "tm = np.linspace(0,n*2,n+1)\n",
    "T1 = np.zeros(n+1)\n",
    "T2 = np.zeros(n+1)\n",
    "\n",
    "# heater steps\n",
    "Q1d = np.zeros(n+1)\n",
    "Q1d[10:150]=80; Q1d[150:300]=20; Q1d[300:450]=70; Q1d[450:]=50\n",
    "\n",
    "Q2d = np.zeros(n+1)\n",
    "Q2d[50:150]=35; Q2d[150:250]=95; Q2d[250:350]=25; Q2d[350:]=100\n",
    "\n",
    "p1 = 1 if tclab_hardware else 100\n",
    "# Connect to TCLab\n",
    "with mlab() as lab:\n",
    "    # run step test (20 min)\n",
    "    t1 = time.time()\n",
    "    for i in range(n+1):\n",
    "        # set heater values\n",
    "        lab.Q1(Q1d[i])\n",
    "        lab.Q2(Q2d[i])\n",
    "        T1[i] = lab.T1\n",
    "        T2[i] = lab.T2\n",
    "        if i%p1==0:\n",
    "            print('Time: ' + str(2*i) + \\\n",
    "              ' Q1: ' + str(Q1d[i]) + \\\n",
    "              ' Q2: ' + str(Q2d[i]) + \\\n",
    "              ' T1: ' + str(round(T1[i],2)) + \\\n",
    "              ' T2: ' + str(round(T2[i],2)))            \n",
    "\n",
    "        if tclab_hardware:\n",
    "            if tm[i]>=(t2-t1):\n",
    "                time.sleep(max(0,min(2,tm[i]-(t2-t1))))\n",
    "        else:\n",
    "            for t in tclab.clock(2, 2):\n",
    "                continue        \n",
    "\n",
    "# write data to file\n",
    "fid = open(filename,'w')\n",
    "fid.write('Time,Q1,Q2,T1,T2\\n')\n",
    "for i in range(n+1):\n",
    "    fid.write(str(tm[i])+','+str(Q1d[i])+','+str(Q2d[i])+',' \\\n",
    "              +str(T1[i])+','+str(T2[i])+'\\n')\n",
    "fid.close()\n",
    "                \n",
    "# read data file\n",
    "data = pd.read_csv(filename)\n",
    "\n",
    "# plot measurements\n",
    "plt.figure()\n",
    "plt.subplot(2,1,1)\n",
    "plt.plot(data['Time'],data['Q1'],'r-',label='Heater 1')\n",
    "plt.plot(data['Time'],data['Q2'],'b--',label='Heater 2')\n",
    "plt.ylabel('Heater (%)')\n",
    "plt.legend(loc='best')\n",
    "plt.subplot(2,1,2)\n",
    "plt.plot(data['Time'],data['T1'],'r-.',label='Temperature 1')\n",
    "plt.plot(data['Time'],data['T2'],'b-.',label='Temperature 2')\n",
    "plt.ylabel('Temperature (degC)')\n",
    "plt.legend(loc='best')\n",
    "plt.xlabel('Time (sec)')\n",
    "plt.savefig('tclab_data.png')\n",
    "plt.show()"
   ]
  },
  {
   "cell_type": "markdown",
   "metadata": {},
   "source": [
    "**Identify Model**"
   ]
  },
  {
   "cell_type": "code",
   "execution_count": 4,
   "metadata": {},
   "outputs": [
    {
     "name": "stdout",
     "output_type": "stream",
     "text": [
      "Identify model\n"
     ]
    },
    {
     "data": {
      "image/png": "[encoded data removed]",
      "text/plain": [
       "<Figure size 432x288 with 2 Axes>"
      ]
     },
     "metadata": {
      "needs_background": "light"
     },
     "output_type": "display_data"
    }
   ],
   "source": [
    "#########################################################\n",
    "# Initialize Model\n",
    "#########################################################\n",
    "# load data and parse into columns\n",
    "data = pd.read_csv('tclab_data.csv')\n",
    "t = data['Time']\n",
    "u = data[['Q1','Q2']]\n",
    "y = data[['T1','T2']]\n",
    "\n",
    "# generate time-series model\n",
    "m = GEKKO(remote=False)\n",
    "\n",
    "##################################################################\n",
    "# system identification\n",
    "na=2; nb=2 # use 2nd order model\n",
    "print('Identify model')\n",
    "yp,p,K = m.sysid(t,u,y,na,nb,objf=10000,scale=False,diaglevel=0,pred='model')\n",
    "\n",
    "##################################################################\n",
    "# plot sysid results\n",
    "plt.figure()\n",
    "plt.subplot(2,1,1)\n",
    "plt.plot(t,u)\n",
    "plt.legend([r'$Q_1$',r'$Q_2$'])\n",
    "plt.ylabel('MVs')\n",
    "plt.subplot(2,1,2)\n",
    "plt.plot(t,y)\n",
    "plt.plot(t,yp)\n",
    "plt.legend([r'$T_{1meas}$',r'$T_{2meas}$',\\\n",
    "            r'$T_{1pred}$',r'$T_{2pred}$'])\n",
    "plt.ylabel('CVs')\n",
    "plt.xlabel('Time')\n",
    "plt.savefig('sysid.png')\n",
    "plt.show()"
   ]
  },
  {
   "cell_type": "markdown",
   "metadata": {},
   "source": [
    "**Initialize Controller**\n",
    "\n",
    "Create 2x2 (2 Heaters, 2 Temperature Sensors) MPC but only use 1x1 (`Q1`, `T1`) for this application. The LSTM learning can be extended to the 2x2 MPC (MVs: `Q1` and `Q2`, CVs: `T1` and `T2`)."
   ]
  },
  {
   "cell_type": "code",
   "execution_count": 5,
   "metadata": {},
   "outputs": [],
   "source": [
    "##################################################################\n",
    "# create control ARX model\n",
    "m = GEKKO(remote=False)\n",
    "m.y = m.Array(m.CV,2)\n",
    "m.u = m.Array(m.MV,2)\n",
    "m.arx(p,m.y,m.u)\n",
    "\n",
    "# rename CVs\n",
    "m.TC1 = m.y[0]\n",
    "m.TC2 = m.y[1]\n",
    "\n",
    "# rename MVs\n",
    "m.Q1 = m.u[0]\n",
    "m.Q2 = m.u[1]\n",
    "\n",
    "# steady state initialization\n",
    "m.options.IMODE = 1\n",
    "m.solve(disp=False)\n",
    "\n",
    "# set up MPC\n",
    "m.options.IMODE   = 6 # MPC\n",
    "m.options.CV_TYPE = 2 # Objective type\n",
    "m.options.NODES   = 2 # Collocation nodes\n",
    "m.options.SOLVER  = 1 # APOPT\n",
    "m.time=np.linspace(0,60,31)\n",
    "\n",
    "# Manipulated variables\n",
    "m.Q1.STATUS = 1  # manipulated\n",
    "m.Q1.FSTATUS = 0 # not measured\n",
    "m.Q1.DMAX = 100.0\n",
    "m.Q1.DCOST = 2.0\n",
    "m.Q1.UPPER = 100.0\n",
    "m.Q1.LOWER = 0.0\n",
    "\n",
    "m.Q2.STATUS = 0  # manipulated, turn off Q2\n",
    "m.Q2.FSTATUS = 1 # use measured value\n",
    "m.Q2.DMAX = 100.0\n",
    "m.Q2.DCOST = 2.0\n",
    "m.Q2.UPPER = 100.0\n",
    "m.Q2.LOWER = 0.0\n",
    "m.Q2.MEAS = 0    # set Q2=0\n",
    "\n",
    "# Controlled variables\n",
    "m.TC1.STATUS = 1     # drive to set point\n",
    "m.TC1.FSTATUS = 1    # receive measurement\n",
    "m.TC1.TAU = 8        # response speed (time constant)\n",
    "m.TC1.TR_INIT = 2    # reference trajectory\n",
    "m.TC1.TR_OPEN = 5\n",
    "\n",
    "m.TC2.STATUS = 0     # drive to set point\n",
    "m.TC2.FSTATUS = 1    # receive measurement\n",
    "m.TC2.TAU = 8        # response speed (time constant)\n",
    "m.TC2.TR_INIT = 2    # dead-band\n",
    "m.TC2.TR_OPEN = 1    # for CV_TYPE=1"
   ]
  },
  {
   "cell_type": "code",
   "execution_count": 6,
   "metadata": {
    "ExecuteTime": {
     "end_time": "2021-02-18T15:06:22.503795Z",
     "start_time": "2021-02-18T15:06:22.495792Z"
    }
   },
   "outputs": [],
   "source": [
    "def mpc(m,T1,T1sp,T2,T2sp):    \n",
    "    # Insert measurements\n",
    "    m.TC1.MEAS = T1\n",
    "    m.TC2.MEAS = T2\n",
    "\n",
    "    # Adjust setpoints\n",
    "    db1 = 1.0 # dead-band\n",
    "    m.TC1.SP   = T1sp\n",
    "    m.TC1.SPHI = T1sp + db1\n",
    "    m.TC1.SPLO = T1sp - db1\n",
    "\n",
    "    db2 = 0.2\n",
    "    m.TC2.SP   = T2sp\n",
    "    m.TC2.SPHI = T2sp + db2\n",
    "    m.TC2.SPLO = T2sp - db2\n",
    "    \n",
    "    # Adjust heaters with MPC\n",
    "    m.solve(disp=False) \n",
    "\n",
    "    if m.options.APPSTATUS == 1:\n",
    "        # Retrieve new values\n",
    "        Q1  = m.Q1.NEWVAL\n",
    "        Q2  = m.Q2.NEWVAL\n",
    "    else:\n",
    "        # Solution failed\n",
    "        Q1  = 0.0\n",
    "        Q2  = 0.0    \n",
    "    return [Q1,Q2]"
   ]
  },
  {
   "cell_type": "markdown",
   "metadata": {},
   "source": [
    "### Generate data for training LSTM"
   ]
  },
  {
   "cell_type": "code",
   "execution_count": 7,
   "metadata": {
    "ExecuteTime": {
     "end_time": "2021-02-17T16:25:24.035744Z",
     "start_time": "2021-02-17T16:25:23.687213Z"
    },
    "scrolled": false
   },
   "outputs": [
    {
     "name": "stdout",
     "output_type": "stream",
     "text": [
      "TCLab version 0.4.9\n",
      "Simulated TCLab\n",
      "TCLab Model disconnected successfully.\n"
     ]
    },
    {
     "data": {
      "image/png": "[encoded data removed]",
      "text/plain": [
       "<Figure size 432x288 with 1 Axes>"
      ]
     },
     "metadata": {
      "needs_background": "light"
     },
     "output_type": "display_data"
    }
   ],
   "source": [
    "##### Set up run parameters #####\n",
    "run_time = 90.0 # minutes\n",
    "\n",
    "loops = int(30.0*run_time+1) # cycles (2 sec each)\n",
    "\n",
    "# arrays for storing data\n",
    "T1 = np.zeros(loops) # measured T (degC)\n",
    "T2 = np.zeros(loops) # measured T (degC)\n",
    "Q1 = np.zeros(loops) # Heater values\n",
    "Q2 = np.zeros(loops) # Heater values\n",
    "tm = np.linspace(0,2*(loops-1),loops) # Time\n",
    "\n",
    "# Temperature set point (degC)\n",
    "with mlab() as lab:\n",
    "    Tsp1 = np.ones(loops) * lab.T1\n",
    "    Tsp2 = np.ones(loops) * lab.T2\n",
    "\n",
    "# vary temperature setpoint\n",
    "end = 2 # leave first couple cycles of temp set point as room temp\n",
    "while end <= loops:\n",
    "    start = end\n",
    "    # keep new temp set point value for anywhere from 3 to 5 min\n",
    "    end += random.randint(90,150) \n",
    "    Tsp1[start:end] = random.randint(30,70)\n",
    "Tsp1[-120:] = Tsp1[0] # last 4 minutes at room temperature\n",
    "    \n",
    "if tclab_hardware:\n",
    "    # print every cycle with hardware\n",
    "    p1 = 10; p2 = 1\n",
    "else:\n",
    "    # print 20x less with emulator\n",
    "    p1 = 200; p2 = 20   \n",
    "\n",
    "# Plot\n",
    "plt.plot(tm,Tsp1,'b.-')\n",
    "plt.xlabel('Time',size=14)\n",
    "plt.ylabel(r'Temp SP ($^oC$)',size=14)\n",
    "plt.xticks(size=12)\n",
    "plt.yticks(size=12)\n",
    "plt.savefig('SP_profile.png');"
   ]
  },
  {
   "cell_type": "markdown",
   "metadata": {},
   "source": [
    "### Data Collection"
   ]
  },
  {
   "cell_type": "code",
   "execution_count": 8,
   "metadata": {
    "ExecuteTime": {
     "end_time": "2021-02-17T16:26:54.869018Z",
     "start_time": "2021-02-17T16:25:24.035744Z"
    }
   },
   "outputs": [
    {
     "name": "stdout",
     "output_type": "stream",
     "text": [
      "TCLab version 0.4.9\n",
      "Simulated TCLab\n",
      "Temperature 1: 20.95 °C\n",
      "Temperature 2: 20.95 °C\n",
      "  Time_____Q1___Tsp1_____T1______Q2____Tsp2_____T2\n",
      "   0.0   0.00  20.95  20.95    0.00   20.95  20.95\n",
      "  40.0   7.04  37.00  36.10    0.00   20.95  23.53\n",
      "  80.0  21.18  37.00  35.45    0.00   20.95  23.21\n",
      " 120.0  23.74  37.00  35.78    0.00   20.95  23.21\n",
      " 160.0  26.10  37.00  35.78    0.00   20.95  23.53\n",
      " 200.0  25.70  37.00  36.10    0.00   20.95  23.21\n",
      " 240.0  26.29  37.00  36.42    0.00   20.95  23.53\n",
      " 280.0  31.27  44.00  42.22    0.00   20.95  24.49\n",
      " 320.0  35.61  44.00  42.87    0.00   20.95  24.49\n",
      " 360.0  37.97  44.00  42.87    0.00   20.95  24.49\n",
      "  Time_____Q1___Tsp1_____T1______Q2____Tsp2_____T2\n",
      " 400.0  37.78  44.00  43.19    0.00   20.95  24.82\n",
      " 440.0  37.19  44.00  43.51    0.00   20.95  24.49\n",
      " 480.0  37.67  44.00  43.51    0.00   20.95  24.49\n",
      " 520.0  36.84  43.00  42.87    0.00   20.95  24.49\n",
      " 560.0  36.18  43.00  42.87    0.00   20.95  24.49\n",
      " 600.0  37.15  43.00  42.87    0.00   20.95  24.49\n",
      " 640.0  36.70  43.00  42.87    0.00   20.95  24.49\n",
      " 680.0  69.14  55.00  42.87    0.00   20.95  24.49\n",
      " 720.0  54.87  55.00  52.53    0.00   20.95  26.11\n",
      " 760.0  56.72  55.00  53.18    0.00   20.95  26.43\n",
      "  Time_____Q1___Tsp1_____T1______Q2____Tsp2_____T2\n",
      " 800.0  56.35  55.00  53.82    0.00   20.95  26.43\n",
      " 840.0  55.62  55.00  54.15    0.00   20.95  26.43\n",
      " 880.0  55.76  55.00  54.15    0.00   20.95  26.43\n",
      " 920.0   0.07  44.00  54.15    0.00   20.95  26.43\n",
      " 960.0  33.41  44.00  46.09    0.00   20.95  24.82\n",
      "1000.0  36.90  44.00  45.12    0.00   20.95  24.82\n",
      "1040.0  37.90  44.00  44.80    0.00   20.95  24.82\n",
      "1080.0  39.28  44.00  44.48    0.00   20.95  24.82\n",
      "1120.0  39.49  44.00  44.16    0.00   20.95  24.82\n",
      "1160.0  40.04  44.00  44.16    0.00   20.95  24.82\n",
      "  Time_____Q1___Tsp1_____T1______Q2____Tsp2_____T2\n",
      "1200.0  63.25  48.00  44.48    0.00   20.95  24.82\n",
      "1240.0  50.82  48.00  46.73    0.00   20.95  25.14\n",
      "1280.0  45.65  48.00  47.70    0.00   20.95  25.14\n",
      "1320.0  45.95  48.00  47.70    0.00   20.95  25.14\n",
      "1360.0  43.97  48.00  48.02    0.00   20.95  25.14\n",
      "1400.0  31.42  41.00  40.93    0.00   20.95  24.49\n",
      "1440.0  35.85  41.00  41.25    0.00   20.95  24.49\n",
      "1480.0  35.45  41.00  41.25    0.00   20.95  24.17\n",
      "1520.0  33.47  41.00  41.58    0.00   20.95  24.17\n",
      "1560.0  35.29  41.00  41.25    0.00   20.95  24.17\n",
      "  Time_____Q1___Tsp1_____T1______Q2____Tsp2_____T2\n",
      "1600.0  77.01  57.00  54.15    0.00   20.95  25.78\n",
      "1640.0  61.48  57.00  55.44    0.00   20.95  26.43\n",
      "1680.0  58.73  57.00  55.76    0.00   20.95  26.75\n",
      "1720.0  57.99  57.00  56.08    0.00   20.95  26.75\n",
      "1760.0  59.45  57.00  56.08    0.00   20.95  26.75\n",
      "1800.0  60.21  57.00  56.40    0.00   20.95  26.75\n",
      "1840.0   7.80  36.00  40.29    0.00   20.95  24.49\n",
      "1880.0  22.55  36.00  38.35    0.00   20.95  23.85\n",
      "1920.0  26.42  36.00  37.71    0.00   20.95  23.53\n",
      "1960.0  26.24  36.00  37.39    0.00   20.95  23.53\n",
      "  Time_____Q1___Tsp1_____T1______Q2____Tsp2_____T2\n",
      "2000.0  26.47  36.00  37.06    0.00   20.95  23.53\n",
      "2040.0  25.57  36.00  36.74    0.00   20.95  23.53\n",
      "2080.0  94.39  54.00  47.70    0.00   20.95  24.82\n",
      "2120.0  62.79  54.00  51.89    0.00   20.95  25.78\n",
      "2160.0  55.64  54.00  52.53    0.00   20.95  26.11\n",
      "2200.0  54.32  54.00  52.86    0.00   20.95  26.11\n",
      "2240.0  55.53  54.00  52.86    0.00   20.95  26.11\n",
      "2280.0  63.78  62.00  61.56    0.00   20.95  27.40\n",
      "2320.0  64.73  62.00  60.91    0.00   20.95  27.40\n",
      "2360.0  65.12  62.00  61.24    0.00   20.95  27.40\n",
      "  Time_____Q1___Tsp1_____T1______Q2____Tsp2_____T2\n",
      "2400.0  66.52  62.00  61.24    0.00   20.95  27.40\n",
      "2440.0  67.36  62.00  61.24    0.00   20.95  27.40\n",
      "2480.0  66.36  62.00  61.56    0.00   20.95  27.40\n",
      "2520.0  77.23  64.00  62.85    0.00   20.95  27.72\n",
      "2560.0  72.07  64.00  63.49    0.00   20.95  28.04\n",
      "2600.0  71.85  64.00  63.49    0.00   20.95  28.04\n",
      "2640.0  71.64  64.00  63.49    0.00   20.95  28.04\n",
      "2680.0  70.36  64.00  63.82    0.00   20.95  28.04\n",
      "2720.0  70.89  64.00  63.82    0.00   20.95  28.04\n",
      "2760.0  71.45  64.00  63.82    0.00   20.95  28.04\n",
      "  Time_____Q1___Tsp1_____T1______Q2____Tsp2_____T2\n",
      "2800.0   0.00  36.00  55.76    0.00   20.95  27.07\n",
      "2840.0  37.98  36.00  39.00    0.00   20.95  23.85\n",
      "2880.0  30.02  36.00  38.68    0.00   20.95  23.85\n",
      "2920.0  27.16  36.00  38.35    0.00   20.95  23.85\n",
      "2960.0  28.23  36.00  37.71    0.00   20.95  23.85\n",
      "3000.0  87.58  65.00  60.91    0.00   20.95  27.07\n",
      "3040.0  74.34  65.00  62.85    0.00   20.95  27.72\n",
      "3080.0  72.54  65.00  63.17    0.00   20.95  28.04\n",
      "3120.0  72.61  65.00  63.49    0.00   20.95  28.04\n",
      "3160.0  72.61  65.00  63.82    0.00   20.95  28.04\n",
      "  Time_____Q1___Tsp1_____T1______Q2____Tsp2_____T2\n",
      "3200.0  72.13  65.00  64.14    0.00   20.95  28.04\n",
      "3240.0   0.00  43.00  56.40    0.00   20.95  27.40\n",
      "3280.0  29.51  43.00  46.41    0.00   20.95  25.14\n",
      "3320.0  35.74  43.00  45.12    0.00   20.95  24.82\n",
      "3360.0  38.05  43.00  44.48    0.00   20.95  24.82\n",
      "3400.0  38.15  43.00  44.16    0.00   20.95  24.82\n",
      "3440.0  25.30  31.00  32.55    0.00   20.95  22.88\n",
      "3480.0  23.07  31.00  32.55    0.00   20.95  22.88\n",
      "3520.0  20.37  31.00  32.55    0.00   20.95  22.88\n",
      "3560.0  19.74  31.00  32.23    0.00   20.95  22.56\n",
      "  Time_____Q1___Tsp1_____T1______Q2____Tsp2_____T2\n",
      "3600.0  19.13  31.00  31.91    0.00   20.95  22.88\n",
      "3640.0  43.96  49.00  48.99    0.00   20.95  25.14\n",
      "3680.0  41.30  49.00  48.67    0.00   20.95  25.46\n",
      "3720.0  44.50  49.00  48.02    0.00   20.95  25.46\n",
      "3760.0  45.02  49.00  48.02    0.00   20.95  25.46\n",
      "3800.0  45.32  49.00  48.34    0.00   20.95  25.46\n",
      "3840.0  71.34  67.00  64.78    0.00   20.95  28.04\n",
      "3880.0  72.45  67.00  64.78    0.00   20.95  28.36\n",
      "3920.0  73.52  67.00  65.10    0.00   20.95  28.04\n",
      "3960.0  74.25  67.00  65.43    0.00   20.95  28.36\n",
      "  Time_____Q1___Tsp1_____T1______Q2____Tsp2_____T2\n",
      "4000.0  74.61  67.00  65.75    0.00   20.95  28.36\n",
      "4040.0  74.55  67.00  66.07    0.00   20.95  28.36\n",
      "4080.0  67.44  54.00  54.79    0.00   20.95  26.11\n",
      "4120.0  57.82  54.00  54.79    0.00   20.95  26.43\n",
      "4160.0  56.49  54.00  54.47    0.00   20.95  26.43\n",
      "4200.0  56.03  54.00  54.47    0.00   20.95  26.43\n",
      "4240.0  55.73  54.00  54.47    0.00   20.95  26.43\n",
      "4280.0   0.00  40.00  50.92    0.00   20.95  26.11\n",
      "4320.0  26.14  40.00  43.19    0.00   20.95  24.49\n",
      "4360.0  31.67  40.00  41.90    0.00   20.95  24.17\n",
      "  Time_____Q1___Tsp1_____T1______Q2____Tsp2_____T2\n",
      "4400.0  32.55  40.00  41.25    0.00   20.95  24.17\n",
      "4440.0  34.37  40.00  40.93    0.00   20.95  24.17\n",
      "4480.0  79.39  47.00  43.51    0.00   20.95  24.49\n",
      "4520.0  53.16  47.00  46.09    0.00   20.95  25.14\n",
      "4560.0  45.69  47.00  46.73    0.00   20.95  25.14\n",
      "4600.0  44.73  47.00  46.73    0.00   20.95  25.14\n",
      "4640.0  42.79  47.00  47.06    0.00   20.95  25.14\n",
      "4680.0  42.31  47.00  47.06    0.00   20.95  25.14\n",
      "4720.0  42.50  47.00  47.06    0.00   20.95  25.14\n",
      "4760.0  71.06  63.00  61.24    0.00   20.95  27.07\n",
      "  Time_____Q1___Tsp1_____T1______Q2____Tsp2_____T2\n",
      "4800.0  67.48  63.00  61.56    0.00   20.95  27.72\n",
      "4840.0  68.39  63.00  61.56    0.00   20.95  27.40\n",
      "4880.0  68.43  63.00  61.88    0.00   20.95  27.72\n",
      "4920.0  69.07  63.00  62.20    0.00   20.95  27.72\n",
      "4960.0  69.13  63.00  62.20    0.00   20.95  27.72\n",
      "5000.0   0.00  45.00  55.11    0.00   20.95  27.07\n",
      "5040.0  30.00  45.00  48.02    0.00   20.95  25.46\n",
      "5080.0  38.74  45.00  46.73    0.00   20.95  25.14\n",
      "5120.0  41.80  45.00  46.09    0.00   20.95  25.14\n",
      "5160.0  42.50  45.00  45.77    0.00   20.95  25.14\n",
      "  Time_____Q1___Tsp1_____T1______Q2____Tsp2_____T2\n",
      "5200.0   0.00  20.95  31.59    0.00   20.95  22.88\n",
      "5240.0   4.69  20.95  24.17    0.00   20.95  21.59\n",
      "5280.0   4.44  20.95  23.53    0.00   20.95  21.27\n",
      "5320.0   2.90  20.95  23.21    0.00   20.95  21.27\n",
      "5360.0   2.71  20.95  22.56    0.00   20.95  21.27\n",
      "5400.0   2.27  20.95  22.24    0.00   20.95  20.95\n",
      "TCLab Model disconnected successfully.\n"
     ]
    }
   ],
   "source": [
    "# Data collection\n",
    "with mlab() as lab:\n",
    "    # Find current T1, T2\n",
    "    print('Temperature 1: {0:0.2f} °C'.format(lab.T1))\n",
    "    print('Temperature 2: {0:0.2f} °C'.format(lab.T2))\n",
    "    \n",
    "    t1 = time.time()\n",
    "    for i in range(loops):\n",
    "        t2 = time.time()\n",
    "        \n",
    "        if tclab_hardware:\n",
    "            if tm[i]>=(t2-t1):\n",
    "                time.sleep(max(0,min(2,tm[i]-(t2-t1))))\n",
    "        else:\n",
    "            dt = time.time()-t2\n",
    "            for t in tclab.clock(2, max(0.1,2-dt)):\n",
    "                continue\n",
    "            t2=time.time()\n",
    "              \n",
    "        # Read temperatures in Celcius \n",
    "        T1[i] = lab.T1; T2[i] = lab.T2\n",
    "\n",
    "        # Calculate MPC output every 2 sec\n",
    "        try:\n",
    "            [Q1[i],Q2[i]] = mpc(m,T1[i],Tsp1[i],T2[i],Tsp2[i])\n",
    "        except:\n",
    "            Q1[i] = 0; Q2[i] = 0 # catch any failure to converge\n",
    "        # Write heater output (0-100)\n",
    "        lab.Q1(Q1[i])\n",
    "        lab.Q2(Q2[i])\n",
    "         \n",
    "        if i%p1==0:            \n",
    "            print('  Time_____Q1___Tsp1_____T1______Q2____Tsp2_____T2')\n",
    "        if i%p2==0:\n",
    "            print(('{:6.1f} {:6.2f} {:6.2f} {:6.2f}  {:6.2f}  {:6.2f} {:6.2f}').format( \\\n",
    "                      tm[i],Q1[i],Tsp1[i],T1[i],Q2[i],Tsp2[i],T2[i]))"
   ]
  },
  {
   "cell_type": "code",
   "execution_count": 9,
   "metadata": {
    "ExecuteTime": {
     "end_time": "2021-02-17T16:26:55.171468Z",
     "start_time": "2021-02-17T16:26:54.870445Z"
    },
    "scrolled": false
   },
   "outputs": [
    {
     "data": {
      "image/png": "[encoded data removed]",
      "text/plain": [
       "<Figure size 432x288 with 1 Axes>"
      ]
     },
     "metadata": {
      "needs_background": "light"
     },
     "output_type": "display_data"
    }
   ],
   "source": [
    "# Save csv file\n",
    "df = pd.DataFrame()\n",
    "df['Q1'] = Q1\n",
    "df['T1'] = T1\n",
    "df['Tsp'] = Tsp1\n",
    "df.to_csv('MPC_train_data.csv',index=False)\n",
    "\n",
    "# Plot\n",
    "df.plot()\n",
    "plt.savefig('MPC_train.png');"
   ]
  },
  {
   "cell_type": "markdown",
   "metadata": {},
   "source": [
    "### Feature engineering: create SP error feature and analyze feature importance"
   ]
  },
  {
   "cell_type": "code",
   "execution_count": 10,
   "metadata": {
    "ExecuteTime": {
     "end_time": "2021-02-17T16:26:55.327215Z",
     "start_time": "2021-02-17T16:26:55.177474Z"
    },
    "scrolled": false
   },
   "outputs": [
    {
     "data": {
      "image/png": "[encoded data removed]",
      "text/plain": [
       "<Figure size 432x288 with 1 Axes>"
      ]
     },
     "metadata": {
      "needs_background": "light"
     },
     "output_type": "display_data"
    }
   ],
   "source": [
    "# Create new feature: setpoint error\n",
    "df['err'] = df['Tsp'] - df['T1']\n",
    "\n",
    "# Load possible features\n",
    "X = df[['T1','Tsp','err']]\n",
    "y = np.ravel(df[['Q1']])\n",
    "\n",
    "# SelectKBest feature selection\n",
    "bestfeatures = SelectKBest(score_func=f_regression, k='all')\n",
    "fit = bestfeatures.fit(X,y)\n",
    "plt.bar(x=X.columns,height=fit.scores_);"
   ]
  },
  {
   "cell_type": "markdown",
   "metadata": {},
   "source": [
    "### Feature selection, scaling, and formatting data to LSTM input format"
   ]
  },
  {
   "cell_type": "code",
   "execution_count": 11,
   "metadata": {
    "ExecuteTime": {
     "end_time": "2021-02-17T16:26:55.373213Z",
     "start_time": "2021-02-17T16:26:55.344216Z"
    }
   },
   "outputs": [],
   "source": [
    "X = df[['Tsp','err']].values\n",
    "y = df[['Q1']].values\n",
    "\n",
    "# Scale data\n",
    "s_x = MinMaxScaler()\n",
    "Xs = s_x.fit_transform(X)\n",
    "\n",
    "s_y = MinMaxScaler()\n",
    "ys = s_y.fit_transform(y)\n",
    "\n",
    "# Each input uses last 'window' number of Tsp and err to predict the next Q1\n",
    "window = 15\n",
    "X_lstm = []\n",
    "y_lstm = []\n",
    "for i in range(window,len(df)):\n",
    "    X_lstm.append(Xs[i-window:i])\n",
    "    y_lstm.append(ys[i])\n",
    "\n",
    "# Reshape data to format accepted by LSTM\n",
    "X_lstm, y_lstm = np.array(X_lstm), np.array(y_lstm)\n",
    "\n",
    "# Split into train and test \n",
    "Xtrain, Xtest, ytrain, ytest = train_test_split(X_lstm,y_lstm,test_size=0.2,shuffle=False)"
   ]
  },
  {
   "cell_type": "markdown",
   "metadata": {},
   "source": [
    "### Keras LSTM "
   ]
  },
  {
   "cell_type": "code",
   "execution_count": 12,
   "metadata": {
    "ExecuteTime": {
     "end_time": "2021-02-17T16:40:26.987200Z",
     "start_time": "2021-02-17T16:33:55.613757Z"
    },
    "scrolled": true
   },
   "outputs": [
    {
     "data": {
      "application/vnd.jupyter.widget-view+json": {
       "model_id": "7bd6b272f7d343ac8db5286da7aa708a",
       "version_major": 2,
       "version_minor": 0
      },
      "text/plain": [
       "0epoch [00:00, ?epoch/s]"
      ]
     },
     "metadata": {},
     "output_type": "display_data"
    },
    {
     "data": {
      "application/vnd.jupyter.widget-view+json": {
       "model_id": "c45f8f736cb04db69e151a8258d677f3",
       "version_major": 2,
       "version_minor": 0
      },
      "text/plain": [
       "0batch [00:00, ?batch/s]"
      ]
     },
     "metadata": {},
     "output_type": "display_data"
    },
    {
     "data": {
      "image/png": "[encoded data removed]",
      "text/plain": [
       "<Figure size 432x288 with 1 Axes>"
      ]
     },
     "metadata": {
      "needs_background": "light"
     },
     "output_type": "display_data"
    }
   ],
   "source": [
    "# Keras LSTM model\n",
    "model = Sequential()\n",
    "\n",
    "# First layer specifies input_shape and returns sequences\n",
    "model.add(LSTM(units=100, return_sequences=True, \n",
    "               input_shape=(Xtrain.shape[1],Xtrain.shape[2])))\n",
    "# Dropout layer to prevent overfitting\n",
    "model.add(Dropout(rate=0.1))\n",
    "\n",
    "# Last layer doesn't return sequences (middle layers should return sequences)\n",
    "model.add(LSTM(units=100))\n",
    "model.add(Dropout(rate=0.1))\n",
    "\n",
    "# Dense layer to return prediction\n",
    "model.add(Dense(1))\n",
    "\n",
    "# Compile model; adam optimizer, mse loss\n",
    "model.compile(optimizer='adam', loss='mean_squared_error')\n",
    "\n",
    "es = EarlyStopping(monitor='val_loss',mode='min',verbose=1,patience=25)\n",
    "\n",
    "result = model.fit(Xtrain, ytrain, verbose=0, validation_split=0.2,\n",
    "                   callbacks = [TqdmCallback(verbose=1)],#es\n",
    "                   batch_size=100,\n",
    "                   epochs=300)\n",
    "\n",
    "# Plot loss and save model\n",
    "epochs = es.stopped_epoch\n",
    "plt.semilogy(result.history['loss'],label='loss')\n",
    "plt.semilogy(result.history['val_loss'],label='val_loss')\n",
    "plt.legend()\n",
    "\n",
    "model.save('lstm_control.h5')"
   ]
  },
  {
   "cell_type": "markdown",
   "metadata": {},
   "source": [
    "### Preliminary model performance assessment"
   ]
  },
  {
   "cell_type": "code",
   "execution_count": 13,
   "metadata": {
    "ExecuteTime": {
     "end_time": "2021-02-17T16:40:28.617490Z",
     "start_time": "2021-02-17T16:40:26.990200Z"
    }
   },
   "outputs": [
    {
     "data": {
      "image/png": "[encoded data removed]",
      "text/plain": [
       "<Figure size 432x288 with 1 Axes>"
      ]
     },
     "metadata": {
      "needs_background": "light"
     },
     "output_type": "display_data"
    }
   ],
   "source": [
    "# Predict using LSTM\n",
    "yp_s = model.predict(Xtest)\n",
    "\n",
    "# Unscale data\n",
    "Xtest_us = s_x.inverse_transform(Xtest[:,-1,:])\n",
    "ytest_us = s_y.inverse_transform(ytest)\n",
    "yp = s_y.inverse_transform(yp_s)\n",
    "\n",
    "# Derive Tsp (sp) and T1 (pv) from X data\n",
    "sp = Xtest_us[:,0]\n",
    "pv = Xtest_us[:,0] + Xtest_us[:,1]\n",
    "\n",
    "# Plot SP, MPC response, and LSTM response\n",
    "plt.plot(sp,'k-',label='$SP$ $(^oC)$')\n",
    "plt.plot(pv,'r-',label='$T_1$ $(^oC)$')\n",
    "plt.plot(ytest_us,'b-',label='$Q_{MPC}$ (%)')\n",
    "plt.plot(yp,'g-',label='$Q_{LSTM}$ (%)')\n",
    "plt.legend(fontsize=12,loc='lower right')\n",
    "plt.xlabel('Time',size=14)\n",
    "plt.ylabel('Value',size=14)\n",
    "plt.xticks(size=12)\n",
    "plt.yticks(size=12);"
   ]
  },
  {
   "cell_type": "markdown",
   "metadata": {},
   "source": [
    "### Generate SP data for test"
   ]
  },
  {
   "cell_type": "code",
   "execution_count": 14,
   "metadata": {
    "ExecuteTime": {
     "end_time": "2021-02-17T16:40:28.976494Z",
     "start_time": "2021-02-17T16:40:28.622493Z"
    }
   },
   "outputs": [
    {
     "name": "stdout",
     "output_type": "stream",
     "text": [
      "TCLab version 0.4.9\n",
      "Simulated TCLab\n",
      "TCLab Model disconnected successfully.\n"
     ]
    },
    {
     "data": {
      "image/png": "[encoded data removed]",
      "text/plain": [
       "<Figure size 432x288 with 1 Axes>"
      ]
     },
     "metadata": {
      "needs_background": "light"
     },
     "output_type": "display_data"
    }
   ],
   "source": [
    "# Run time in minutes\n",
    "run_time = 45.0\n",
    "\n",
    "# Number of cycles\n",
    "loops = int(30.0*run_time)\n",
    "\n",
    "# arrays for storing data\n",
    "T1 = np.zeros(loops) # measured T (degC)\n",
    "T2 = np.zeros(loops)\n",
    "Q1mpc = np.zeros(loops) # Heater values for MPC controller\n",
    "Q2mpc = np.zeros(loops)\n",
    "Qlstm = np.zeros(loops) # Heater values for LSTM controller\n",
    "tm = np.linspace(0,2*(loops-1),loops) # Time\n",
    "\n",
    "# Temperature set point (degC)\n",
    "with mlab() as lab:\n",
    "    Tsp1 = np.ones(loops) * lab.T1\n",
    "    Tsp2 = np.ones(loops) * lab.T2\n",
    "\n",
    "# vary temperature setpoint\n",
    "end = window + 5 # leave 1st window + 10 seconds of temp set point as room temp\n",
    "while end <= loops: \n",
    "    start = end\n",
    "    # keep new temp set point value for anywhere from 3 to 5 min\n",
    "    end += random.randint(90,150) \n",
    "    Tsp1[start:end] = random.randint(30,70)\n",
    "    \n",
    "# leave last 120 seconds as room temp\n",
    "Tsp1[-60:] = Tsp1[0]\n",
    "plt.plot(Tsp1)\n",
    "plt.show()"
   ]
  },
  {
   "cell_type": "markdown",
   "metadata": {},
   "source": [
    "### Part A: Run the controller with the MPC, but also output the LSTM for comparison"
   ]
  },
  {
   "cell_type": "code",
   "execution_count": 15,
   "metadata": {
    "ExecuteTime": {
     "end_time": "2021-02-17T16:40:29.006489Z",
     "start_time": "2021-02-17T16:40:28.983493Z"
    }
   },
   "outputs": [],
   "source": [
    "# LSTM Controller\n",
    "def lstm(T1_m, Tsp_m):\n",
    "    # Calculate error (necessary feature for LSTM input)\n",
    "    err = Tsp_m - T1_m\n",
    "    \n",
    "    # Format data for LSTM input\n",
    "    X = np.vstack((Tsp_m,err)).T\n",
    "    Xs = s_x.transform(X)\n",
    "    Xs = np.reshape(Xs, (1, Xs.shape[0], Xs.shape[1]))\n",
    "    \n",
    "    # Predict Q for controller and unscale\n",
    "    Q1c_s = model.predict(Xs)\n",
    "    Q1c = s_y.inverse_transform(Q1c_s)[0][0]\n",
    "    \n",
    "    # Ensure Q1c is between 0 and 100\n",
    "    Q1c = np.clip(Q1c,0.0,100.0)\n",
    "    return Q1c"
   ]
  },
  {
   "cell_type": "code",
   "execution_count": 16,
   "metadata": {
    "ExecuteTime": {
     "end_time": "2021-02-17T16:45:48.349921Z",
     "start_time": "2021-02-17T16:44:02.026886Z"
    }
   },
   "outputs": [
    {
     "name": "stdout",
     "output_type": "stream",
     "text": [
      "TCLab version 0.4.9\n",
      "Simulated TCLab\n",
      "Temperature 1: 20.95 °C\n",
      "Temperature 2: 20.95 °C\n",
      "  Time_____Q1___Tsp1_____T1\n",
      "   0.0   6.27  20.95  20.95\n",
      "  40.0  81.97  68.00  22.24\n",
      "  80.0  50.76  68.00  64.46\n",
      " 120.0  70.64  68.00  62.85\n",
      " 160.0  75.88  68.00  63.82\n",
      " 200.0  74.31  68.00  65.10\n",
      " 240.0  75.52  68.00  65.43\n",
      " 280.0  75.57  68.00  66.07\n",
      " 320.0   0.00  48.00  65.10\n",
      " 360.0  28.55  48.00  50.60\n",
      "  Time_____Q1___Tsp1_____T1\n",
      " 400.0  51.56  48.00  48.34\n",
      " 440.0  48.31  48.00  48.99\n",
      " 480.0  45.84  48.00  48.99\n",
      " 520.0  45.72  48.00  48.67\n",
      " 560.0  46.08  48.00  48.34\n",
      " 600.0   0.00  37.00  47.70\n",
      " 640.0  19.39  37.00  39.32\n",
      " 680.0  31.43  37.00  38.03\n",
      " 720.0  30.20  37.00  38.03\n",
      " 760.0  27.74  37.00  38.03\n",
      "  Time_____Q1___Tsp1_____T1\n",
      " 800.0  27.98  37.00  37.71\n",
      " 840.0  27.16  37.00  37.71\n",
      " 880.0   4.05  33.00  37.06\n",
      " 920.0  19.17  33.00  33.52\n",
      " 960.0  24.24  33.00  33.52\n",
      "1000.0  22.10  33.00  33.52\n",
      "1040.0  20.80  33.00  33.52\n",
      "1080.0  20.72  33.00  33.20\n",
      "1120.0  20.96  33.00  33.52\n",
      "1160.0  53.98  42.00  39.00\n",
      "  Time_____Q1___Tsp1_____T1\n",
      "1200.0  32.46  42.00  41.90\n",
      "1240.0  31.89  42.00  41.58\n",
      "1280.0  34.51  42.00  41.25\n",
      "1320.0  34.69  42.00  41.58\n",
      "1360.0  34.28  42.00  41.58\n",
      "1400.0  35.85  42.00  41.58\n",
      "1440.0  34.29  42.00  41.90\n",
      "1480.0  34.35  42.00  41.90\n",
      "1520.0  36.17  42.00  41.58\n",
      "1560.0  35.02  42.00  41.90\n",
      "  Time_____Q1___Tsp1_____T1\n",
      "1600.0  35.20  42.00  41.90\n",
      "1640.0  35.39  42.00  41.90\n",
      "1680.0  28.06  41.00  41.90\n",
      "1720.0  33.48  41.00  41.25\n",
      "1760.0  34.97  41.00  40.93\n",
      "1800.0  32.29  41.00  41.25\n",
      "1840.0  31.87  41.00  41.25\n",
      "1880.0  43.36  46.00  46.41\n",
      "1920.0  34.79  46.00  45.77\n",
      "1960.0  41.36  46.00  45.44\n",
      "  Time_____Q1___Tsp1_____T1\n",
      "2000.0  41.87  46.00  45.77\n",
      "2040.0  40.68  46.00  45.77\n",
      "2080.0  41.40  37.00  37.71\n",
      "2120.0  22.91  37.00  38.68\n",
      "2160.0  28.19  37.00  37.39\n",
      "2200.0  29.10  37.00  37.39\n",
      "2240.0  28.27  37.00  37.39\n",
      "2280.0  27.32  37.00  37.39\n",
      "2320.0 100.00  69.00  46.41\n",
      "2360.0  84.53  69.00  63.17\n",
      "  Time_____Q1___Tsp1_____T1\n",
      "2400.0  78.05  69.00  65.75\n",
      "2440.0  73.96  69.00  66.72\n",
      "2480.0  76.82  69.00  66.72\n",
      "2520.0  77.43  69.00  67.36\n",
      "2560.0  78.30  69.00  67.36\n",
      "2600.0   0.00  20.95  44.80\n",
      "2640.0  11.30  20.95  25.78\n",
      "2680.0   8.28  20.95  25.46\n",
      "TCLab Model disconnected successfully.\n"
     ]
    }
   ],
   "source": [
    "# Run test\n",
    "with mlab() as lab:\n",
    "    # Find current T1, T2\n",
    "    print('Temperature 1: {0:0.2f} °C'.format(lab.T1))\n",
    "    print('Temperature 2: {0:0.2f} °C'.format(lab.T2))\n",
    "    \n",
    "    t1 = time.time()\n",
    "    for i in range(loops):\n",
    "        t2 = time.time()\n",
    "        \n",
    "        if tclab_hardware:\n",
    "            if tm[i]>=(t2-t1):\n",
    "                time.sleep(max(0,min(2,tm[i]-(t2-t1))))\n",
    "        else:\n",
    "            dt = time.time()-t2\n",
    "            for t in tclab.clock(2, max(0.1,2-dt)):\n",
    "                continue\n",
    "            t2=time.time()\n",
    "               \n",
    "        # Read temperatures in Celcius \n",
    "        T1[i] = lab.T1; T2[i] = lab.T2\n",
    "\n",
    "        # Calculate MPC output every 2 sec\n",
    "        try:\n",
    "            [Q1mpc[i],Q2mpc[i]] = mpc(m,T1[i],Tsp1[i],T2[i],Tsp2[i])\n",
    "        except:\n",
    "            Q1mpc[i]=0; Q2mpc[i]=0\n",
    "        # Write heater output (0-100)\n",
    "        lab.Q1(Q1mpc[i])\n",
    "        lab.Q2(Q2mpc[i])\n",
    "         \n",
    "        if i%p1==0:            \n",
    "            print('  Time_____Q1___Tsp1_____T1')\n",
    "        if i%p2==0:\n",
    "            print(('{:6.1f} {:6.2f} {:6.2f} {:6.2f}').format( \\\n",
    "                      tm[i],Q1mpc[i],Tsp1[i],T1[i]))\n",
    "        \n",
    "        # Run LSTM model to get Q1 value for control\n",
    "        if i >= window:\n",
    "            # Load data for model\n",
    "            T1_m = T1[i-window:i]\n",
    "            Tsp_m = Tsp1[i-window:i]\n",
    "            # Predict and store LSTM value for comparison\n",
    "            Qlstm[i] = lstm(T1_m,Tsp_m)\n",
    "            \n",
    "        prev_time = t"
   ]
  },
  {
   "cell_type": "code",
   "execution_count": 17,
   "metadata": {
    "ExecuteTime": {
     "end_time": "2021-02-17T16:45:48.536872Z",
     "start_time": "2021-02-17T16:45:48.352873Z"
    }
   },
   "outputs": [
    {
     "data": {
      "text/plain": [
       "[]"
      ]
     },
     "execution_count": 17,
     "metadata": {},
     "output_type": "execute_result"
    },
    {
     "data": {
      "image/png": "[encoded data removed]",
      "text/plain": [
       "<Figure size 720x288 with 2 Axes>"
      ]
     },
     "metadata": {
      "needs_background": "light"
     },
     "output_type": "display_data"
    }
   ],
   "source": [
    "plt.figure(figsize=(10,4))\n",
    "plt.subplot(2,1,1)\n",
    "plt.plot(Tsp1[:i],'k-',label='SP $(^oC)$')\n",
    "plt.plot(T1[:i],'r-',label='$T_1$ $(^oC)$')\n",
    "plt.legend(loc='upper right',fontsize=14)\n",
    "plt.ylim((0,100))\n",
    "plt.xlabel('Time (s)',size=14)\n",
    "plt.subplot(2,1,2)\n",
    "plt.plot(Q1mpc[:i],'b-',label='$Q_{MPC}$ (%)')\n",
    "plt.plot(Qlstm[:i],'g-',label='$Q_{LSTM}$ (%)')\n",
    "plt.legend(loc='upper right',fontsize=14)\n",
    "plt.ylim((0,100))\n",
    "plt.xlabel('Time (s)',size=14)\n",
    "plt.plot()"
   ]
  },
  {
   "cell_type": "markdown",
   "metadata": {},
   "source": [
    "### Part B: Run the controller with just the LSTM"
   ]
  },
  {
   "cell_type": "code",
   "execution_count": null,
   "metadata": {
    "ExecuteTime": {
     "end_time": "2021-02-17T16:47:32.690137Z",
     "start_time": "2021-02-17T16:45:48.538872Z"
    }
   },
   "outputs": [
    {
     "name": "stdout",
     "output_type": "stream",
     "text": [
      "TCLab version 0.4.9\n",
      "Simulated TCLab\n",
      "Temperature 1: 20.95 °C\n",
      "Temperature 2: 20.95 °C\n",
      "  Time_____Q1___Tsp1_____T1\n",
      "   0.0   0.00  20.95  20.95\n",
      "  40.0   1.23  68.00  20.95\n",
      "  80.0  96.11  68.00  40.61\n",
      " 120.0 100.00  68.00  59.95\n",
      " 160.0  77.23  68.00  65.75\n",
      " 200.0  77.28  68.00  66.72\n",
      " 240.0  77.32  68.00  67.04\n",
      " 280.0  77.18  68.00  67.36\n",
      " 320.0   1.69  48.00  67.36\n",
      " 360.0  56.97  48.00  51.89\n",
      "  Time_____Q1___Tsp1_____T1\n",
      " 400.0  47.62  48.00  51.25\n",
      " 440.0  47.17  48.00  50.28\n",
      " 480.0  47.38  48.00  49.63\n",
      " 520.0  46.92  48.00  49.31\n",
      " 560.0  46.42  48.00  48.99\n",
      " 600.0   0.89  37.00  48.67\n",
      " 640.0  35.83  37.00  40.29\n",
      " 680.0  30.11  37.00  39.97\n",
      " 720.0  30.06  37.00  39.32\n",
      " 760.0  30.24  37.00  39.00\n",
      "  Time_____Q1___Tsp1_____T1\n",
      " 800.0  29.42  37.00  38.68\n",
      " 840.0  29.33  37.00  38.68\n",
      " 880.0  13.00  33.00  38.68\n",
      " 920.0  24.86  33.00  35.78\n",
      " 960.0  23.09  33.00  35.45\n",
      "1000.0  23.19  33.00  35.13\n",
      "1040.0  23.48  33.00  34.81\n",
      "1080.0  23.05  33.00  34.81\n",
      "1120.0  23.05  33.00  34.81\n",
      "1160.0  23.20  42.00  40.61\n",
      "  Time_____Q1___Tsp1_____T1\n",
      "1200.0  32.38  42.00  40.29\n",
      "1240.0  34.12  42.00  40.61\n",
      "1280.0  34.39  42.00  40.93\n",
      "1320.0  34.35  42.00  41.25\n",
      "1360.0  34.93  42.00  41.25\n",
      "1400.0  35.52  42.00  41.58\n",
      "1440.0  35.34  42.00  41.90\n",
      "1480.0  35.82  42.00  41.90\n",
      "1520.0  35.18  42.00  42.22\n",
      "1560.0  35.63  42.00  42.22\n",
      "  Time_____Q1___Tsp1_____T1\n",
      "1600.0  36.09  42.00  42.22\n",
      "1640.0  36.60  42.00  42.22\n",
      "1680.0  30.30  41.00  42.22\n",
      "1720.0  35.12  41.00  41.90\n",
      "1760.0  35.07  41.00  41.90\n",
      "1800.0  35.07  41.00  41.90\n",
      "1840.0  35.07  41.00  41.90\n",
      "1880.0  59.66  46.00  43.19\n",
      "1920.0  42.87  46.00  44.48\n",
      "1960.0  41.12  46.00  45.12\n",
      "  Time_____Q1___Tsp1_____T1\n",
      "2000.0  41.39  46.00  45.44\n",
      "2040.0  41.56  46.00  45.44\n",
      "2080.0  32.78  37.00  40.29\n",
      "2120.0  28.99  37.00  39.64\n",
      "2160.0  29.68  37.00  39.00\n",
      "2200.0  29.39  37.00  39.00\n",
      "2240.0  29.86  37.00  39.00\n"
     ]
    }
   ],
   "source": [
    "# Run test\n",
    "with mlab() as lab:\n",
    "    # Find current T1, T2\n",
    "    print('Temperature 1: {0:0.2f} °C'.format(lab.T1))\n",
    "    print('Temperature 2: {0:0.2f} °C'.format(lab.T2))\n",
    "    \n",
    "    t1 = time.time()\n",
    "    for i in range(loops):\n",
    "        t2 = time.time()\n",
    "        \n",
    "        if tclab_hardware:\n",
    "            if tm[i]>=(t2-t1):\n",
    "                time.sleep(max(0,min(2,tm[i]-(t2-t1))))\n",
    "        else:\n",
    "            dt = time.time()-t2\n",
    "            for t in tclab.clock(2, max(0.1,2-dt)):\n",
    "                continue\n",
    "            t2=time.time()\n",
    "\n",
    "        # Read temperatures in Celcius \n",
    "        T1[i] = lab.T1; T2[i] = lab.T2\n",
    "\n",
    "        # Run LSTM model to get Q1 value for control\n",
    "        if i >= window:\n",
    "            # Load data for model\n",
    "            T1_m = T1[i-window:i]\n",
    "            Tsp_m = Tsp1[i-window:i]\n",
    "            # Predict and store LSTM value for comparison\n",
    "            Qlstm[i] = lstm(T1_m,Tsp_m)\n",
    "            \n",
    "        if i%p1==0:            \n",
    "            print('  Time_____Q1___Tsp1_____T1')\n",
    "        if i%p2==0:\n",
    "            print(('{:6.1f} {:6.2f} {:6.2f} {:6.2f}').format( \\\n",
    "                      tm[i],Qlstm[i],Tsp1[i],T1[i]))\n",
    "\n",
    "        # Write heater output (0-100)\n",
    "        lab.Q1(Qlstm[i])"
   ]
  },
  {
   "cell_type": "code",
   "execution_count": null,
   "metadata": {
    "ExecuteTime": {
     "end_time": "2021-02-18T15:13:49.761601Z",
     "start_time": "2021-02-18T15:13:49.565402Z"
    },
    "scrolled": true
   },
   "outputs": [],
   "source": [
    "plt.figure(figsize=(10,4))\n",
    "plt.plot(Tsp1[:i],'k-',label='SP $(^oC)$')\n",
    "plt.plot(T1[:i],'r-',label='$T_1$ $(^oC)$')\n",
    "plt.plot(Qlstm[:i],'g-',label='$Q_{LSTM}$ (%)')\n",
    "plt.legend(fontsize=14)\n",
    "plt.ylim((0,100))\n",
    "plt.xlabel('Time (s)',size=14)\n",
    "plt.xticks(size=12)\n",
    "plt.yticks(size=12)\n",
    "plt.grid()\n",
    "plt.show()"
   ]
  },
  {
   "cell_type": "markdown",
   "metadata": {},
   "source": [
    "### Part C\n",
    "\n",
    "Use the LSTM controller to control the [TCLab microcontroller](https://apmonitor.com/heat.htm) or [Emulated TCLab](https://tclab.readthedocs.io/en/latest/notebooks/04_Emulation_of_TCLab_for_Offline_Use.html) from a separate program. Demonstrate that you can [package and deploy the LSTM model](https://apmonitor.com/pds/index.php/Main/DeployMachineLearning) so that it could be used on a different computer than the training computer. The application does not necessarily need to run on a separate computer, but show that it is a separate program and independent of this training notebook.\n",
    "\n",
    "<img align=left width=150px src='https://apmonitor.com/pds/uploads/Main/deploy_machine_learning.png'>\n",
    "\n",
    "<img align=left width=400px src='https://apmonitor.com/pdc/uploads/Main/tclab_connect.png'>"
   ]
  },
  {
   "cell_type": "code",
   "execution_count": null,
   "metadata": {},
   "outputs": [],
   "source": [
    "import pickle\n",
    "# export model name and scaling\n",
    "z = ['lstm_control.h5',s_x,s_y,window]\n",
    "pickle.dump(z,open('lstm_control.pkl','wb'))"
   ]
  }
 ],
 "metadata": {
  "hide_input": false,
  "kernelspec": {
   "display_name": "Python 3",
   "language": "python",
   "name": "python3"
  },
  "language_info": {
   "codemirror_mode": {
    "name": "ipython",
    "version": 3
   },
   "file_extension": ".py",
   "mimetype": "text/x-python",
   "name": "python",
   "nbconvert_exporter": "python",
   "pygments_lexer": "ipython3",
   "version": "3.8.10"
  }
 },
 "nbformat": 4,
 "nbformat_minor": 4
}
