{
 "cells": [
  {
   "cell_type": "markdown",
   "metadata": {},
   "source": [
    "## Feature engineering and selection \n",
    "\n",
    "Physical and chemical properties of the Lithium-ion silicate cathodes are used to predict the crystal structure of a Lithium-ion battery as monoclinic, orthorhombic and triclinic. This case study demonstrates how feature engineering improves the classification results.\n",
    "\n",
    "![Lithium-ion Batteries](https://apmonitor.com/pds/uploads/Main/lithium_ion_battery.png)\n",
    "\n",
    "__Background__: Lithium-ion batteries are commonly used for portable electronics, electric vehicles, and aerospace applications. During discharge, Lithium ions move from the negative electrode through an electrolyte to the positive electrode to create a voltage and current. During recharging, the ions migrate back to the negative electrode. The crystal structure (monoclinic, orthorhombic, triclinic) is available for 339 different chemicals that contain Li-ion.\n",
    "\n",
    "[Lithium-ion Chemical Properties and Crystal Structure Data](https://apmonitor.com/pds/uploads/Main/lithium_ion.txt)\n",
    "\n",
    "```python\n",
    "url = 'https://apmonitor.com/pds/uploads/Main/lithium_ion.txt'\n",
    "```\n",
    "\n",
    "__Objective__: Predict the crystal structure type (monoclinic, orthorhombic, triclinic) from Lithium-ion physical and chemical compound information.\n",
    "\n",
    "This tutorial covers the following:\n",
    "- Categorical transformation techniques\n",
    "- Feature creation\n",
    "- Feature selection"
   ]
  },
  {
   "cell_type": "code",
   "execution_count": null,
   "metadata": {
    "ExecuteTime": {
     "end_time": "2021-02-23T14:25:04.960027Z",
     "start_time": "2021-02-23T14:25:04.931856Z"
    }
   },
   "outputs": [],
   "source": [
    "try:\n",
    "    import chemparse\n",
    "except:\n",
    "    !pip install chemparse\n",
    "    print('May need to restart kernel to use chemparse')"
   ]
  },
  {
   "cell_type": "code",
   "execution_count": null,
   "metadata": {
    "ExecuteTime": {
     "end_time": "2021-02-23T14:25:16.676398Z",
     "start_time": "2021-02-23T14:25:04.963386Z"
    }
   },
   "outputs": [],
   "source": [
    "# Import libraries and data\n",
    "import pandas as pd\n",
    "import matplotlib.pyplot as plt\n",
    "import seaborn as sns\n",
    "\n",
    "from sklearn.preprocessing import LabelEncoder, MinMaxScaler\n",
    "from sklearn.model_selection import train_test_split\n",
    "from sklearn.feature_extraction import FeatureHasher\n",
    "from sklearn.metrics import confusion_matrix,plot_confusion_matrix\n",
    "from sklearn.tree import DecisionTreeClassifier\n",
    "import xgboost"
   ]
  },
  {
   "cell_type": "code",
   "execution_count": null,
   "metadata": {
    "ExecuteTime": {
     "end_time": "2021-02-23T14:25:16.823100Z",
     "start_time": "2021-02-23T14:25:16.681510Z"
    },
    "scrolled": true
   },
   "outputs": [],
   "source": [
    "# Load and display data\n",
    "url = 'https://apmonitor.com/pds/uploads/Main/lithium_ion.txt'\n",
    "data = pd.read_csv(url)\n",
    "data.sample(20)"
   ]
  },
  {
   "cell_type": "markdown",
   "metadata": {},
   "source": [
    "### Observe datatypes"
   ]
  },
  {
   "cell_type": "code",
   "execution_count": null,
   "metadata": {
    "ExecuteTime": {
     "end_time": "2021-02-23T14:25:16.851068Z",
     "start_time": "2021-02-23T14:25:16.828541Z"
    },
    "scrolled": false
   },
   "outputs": [],
   "source": [
    "data.dtypes"
   ]
  },
  {
   "cell_type": "code",
   "execution_count": null,
   "metadata": {
    "ExecuteTime": {
     "end_time": "2021-02-23T14:25:16.908103Z",
     "start_time": "2021-02-23T14:25:16.858551Z"
    }
   },
   "outputs": [],
   "source": [
    "# Separate into numerical features that don't need preprocessing, and categorical features that need to be transformed\n",
    "num_feat = data.select_dtypes(include=['int64','float64']).columns\n",
    "cat_feat = data.select_dtypes(include=['object','bool']).columns"
   ]
  },
  {
   "cell_type": "code",
   "execution_count": null,
   "metadata": {
    "ExecuteTime": {
     "end_time": "2021-02-23T14:25:17.019378Z",
     "start_time": "2021-02-23T14:25:16.915392Z"
    }
   },
   "outputs": [],
   "source": [
    "data[cat_feat].describe()"
   ]
  },
  {
   "cell_type": "markdown",
   "metadata": {
    "ExecuteTime": {
     "end_time": "2021-02-18T17:10:07.713491Z",
     "start_time": "2021-02-18T17:10:07.700359Z"
    }
   },
   "source": [
    "### Categorical encoding methods\n",
    "<a id='Categorical_encoding_methods'></a>\n",
    "\n",
    "#### 1. One Hot Encoding\n",
    "Method: Encode each category value into a binary vector, with size = # of distinct values. See https://towardsdatascience.com/understanding-feature-engineering-part-2-categorical-data-f54324193e63\n",
    "\n",
    "Example: Has Bandstructure column has 2 distinct values, True and False. Create a new column where 1 = True and 0 = False.\n",
    "\n",
    "Pros: simple and rugged method to get categorical features into unique and useful numerical features\n",
    "\n",
    "Cons: m unique values results in m unique new features. This is fine when there are only 2-3 unique values (such as hi/lo, yes/no), but creates issues when there are more. Can't handle new categories that weren't in training data, and easily overfit. Sparse data.\n",
    "\n",
    "#### 2. Encode to ordinal variables\n",
    "Method: assign each unique value to a unique number. \n",
    "\n",
    "Example: Spacegroup = Pc is assigned to 0, Spacegroup = P21/c is assigned to 1, etc. \n",
    "\n",
    "Pros: simple and quick, 1 column in -> 1 column out\n",
    "\n",
    "Cons: residual \"structure\" (number assigned is arbitrary, and it leads algorithms to assume that a Spacegroup with a value of 20 is higher value than a Spacegroup of value 1)\n",
    "\n",
    "#### 3. Feature Hashing\n",
    "Method: Encode each unique category into a non-binary vector\n",
    "\n",
    "Example: Spacegroup = Pc is assigned to [1,0,0], Spacegroup = P21/c is assigned to [1,2,-1], etc. Specify number of columns (length of vector)\n",
    "\n",
    "Pros: low dimensionality so really efficient.\n",
    "\n",
    "Cons: potential collisions (for example the 1st value in example has both Spacegroups sharing a '1'); hashed features aren't interpretable so can't be used in feature importance. \n",
    "\n",
    "#### 4. Other methods\n",
    "Primarily involve prior knowledge about dataset. Encode with own algorithm to include closely related features.\n",
    "\n",
    "Variation on One Hot Encoding for large numbers of unique values: classify infrequent instances into \"rare\" category. May lose some granularity and important info, but also allows for new categories that aren't in training data"
   ]
  },
  {
   "cell_type": "markdown",
   "metadata": {},
   "source": [
    "### `'Materials Id'` column"
   ]
  },
  {
   "cell_type": "code",
   "execution_count": null,
   "metadata": {
    "ExecuteTime": {
     "end_time": "2021-02-23T14:25:17.049591Z",
     "start_time": "2021-02-23T14:25:17.024264Z"
    },
    "scrolled": true
   },
   "outputs": [],
   "source": [
    "data['Materials Id'].describe()"
   ]
  },
  {
   "cell_type": "markdown",
   "metadata": {},
   "source": [
    "339 unique values for 339 unique entries; there is no useful information in this column and it can be dropped"
   ]
  },
  {
   "cell_type": "code",
   "execution_count": null,
   "metadata": {
    "ExecuteTime": {
     "end_time": "2021-02-23T14:25:17.079699Z",
     "start_time": "2021-02-23T14:25:17.060997Z"
    }
   },
   "outputs": [],
   "source": [
    "data.drop(columns=['Materials Id'],inplace=True)\n",
    "data.columns"
   ]
  },
  {
   "cell_type": "markdown",
   "metadata": {},
   "source": [
    "### `'Has Bandstructure'` column"
   ]
  },
  {
   "cell_type": "code",
   "execution_count": null,
   "metadata": {
    "ExecuteTime": {
     "end_time": "2021-02-23T14:25:17.506079Z",
     "start_time": "2021-02-23T14:25:17.086281Z"
    },
    "scrolled": true
   },
   "outputs": [],
   "source": [
    "data['Has Bandstructure'].value_counts().plot(kind='bar')"
   ]
  },
  {
   "cell_type": "markdown",
   "metadata": {},
   "source": [
    "2 unique values, True and False. Classic example of when to use one-hot encoding"
   ]
  },
  {
   "cell_type": "code",
   "execution_count": null,
   "metadata": {
    "ExecuteTime": {
     "end_time": "2021-02-23T14:25:17.518358Z",
     "start_time": "2021-02-23T14:25:17.509161Z"
    }
   },
   "outputs": [],
   "source": [
    "# One-hot encode 'Has Bandstructure'\n",
    "data['Has Bandstructure'] = data['Has Bandstructure'].map({True:1, False:0})"
   ]
  },
  {
   "cell_type": "markdown",
   "metadata": {
    "ExecuteTime": {
     "end_time": "2021-02-19T22:02:46.927233Z",
     "start_time": "2021-02-19T22:02:46.917236Z"
    }
   },
   "source": [
    "### `'Spacegroup'` column"
   ]
  },
  {
   "cell_type": "code",
   "execution_count": null,
   "metadata": {
    "ExecuteTime": {
     "end_time": "2021-02-23T14:25:18.404873Z",
     "start_time": "2021-02-23T14:25:17.524886Z"
    },
    "scrolled": true
   },
   "outputs": [],
   "source": [
    "data['Spacegroup'].value_counts().plot(kind='bar')\n",
    "print(data['Spacegroup'].nunique())"
   ]
  },
  {
   "cell_type": "markdown",
   "metadata": {},
   "source": [
    "44 unique values, with most of them occuring multiple times\n",
    "\n",
    "**Option 1:** One-hot encoding will result in 44 new feature columns; inefficient and memory-intensive.\n",
    "\n",
    "**Option 2:** Encode to ordinal numbers. Will possibly work, but does leave a residual structure that may affect model performance\n",
    "\n",
    "**Option 3:** Use Feature Hashing to create a vector representation of each unique Spacegroup. Note that if vector size = 44, it's the same as one-hot encoding, and if vector size = 1, it's the same as encoding to ordinal variables. Use vector size = 3 for this"
   ]
  },
  {
   "cell_type": "code",
   "execution_count": null,
   "metadata": {
    "ExecuteTime": {
     "end_time": "2021-02-23T14:25:18.462204Z",
     "start_time": "2021-02-23T14:25:18.408604Z"
    },
    "scrolled": true
   },
   "outputs": [],
   "source": [
    "# Option 1: One-hot encoding (not used)\n",
    "pd.get_dummies(data['Spacegroup'])"
   ]
  },
  {
   "cell_type": "code",
   "execution_count": null,
   "metadata": {
    "ExecuteTime": {
     "end_time": "2021-02-23T14:25:18.499208Z",
     "start_time": "2021-02-23T14:25:18.464206Z"
    }
   },
   "outputs": [],
   "source": [
    "# Option 2: Ordinal number encoding\n",
    "data['Spacegroup (ordinal)'] = pd.factorize(data['Spacegroup'])[0]\n",
    "\n",
    "# Can also order by most common to least common\n",
    "data['Spacegroup'].rank(method=\"dense\").astype(int)"
   ]
  },
  {
   "cell_type": "code",
   "execution_count": null,
   "metadata": {
    "ExecuteTime": {
     "end_time": "2021-02-23T14:25:18.539938Z",
     "start_time": "2021-02-23T14:25:18.507235Z"
    }
   },
   "outputs": [],
   "source": [
    "# Option 3: Feature Hashing\n",
    "n = 3\n",
    "fh = FeatureHasher(n_features=n, input_type='string')\n",
    "hashed_tag = fh.fit_transform(data['Spacegroup']).toarray()\n",
    "ht_df = pd.DataFrame(hashed_tag)\n",
    "ht_df.columns = ['Spacegroup'+str(i) for i in range(n)]\n",
    "\n",
    "data = data.join(ht_df)"
   ]
  },
  {
   "cell_type": "markdown",
   "metadata": {},
   "source": [
    "For now, keep both sets of new features, and we'll see which one performs better"
   ]
  },
  {
   "cell_type": "markdown",
   "metadata": {},
   "source": [
    "### `'Formula'` column"
   ]
  },
  {
   "cell_type": "code",
   "execution_count": null,
   "metadata": {
    "ExecuteTime": {
     "end_time": "2021-02-23T14:25:18.581990Z",
     "start_time": "2021-02-23T14:25:18.543277Z"
    }
   },
   "outputs": [],
   "source": [
    "data['Formula'].value_counts()"
   ]
  },
  {
   "cell_type": "markdown",
   "metadata": {},
   "source": [
    "114 unique values, most only occuring once. One-hot encoding is out of the question\n",
    "\n",
    "**Option 1,2,3:** one-hot encoding, ordinal number encoding, and feature hashing all become inefficient with such variety.\n",
    "\n",
    "**Option 4:** Use domain knowledge to create additional features. For example, we can look at the LiFeSiO4 formula, and turn it into 4 new columns, each one indicating how many of each atom are in the formula (for example, {Li: 1, Fe: 1, Si: 1, O: 4})"
   ]
  },
  {
   "cell_type": "code",
   "execution_count": null,
   "metadata": {
    "ExecuteTime": {
     "end_time": "2021-02-23T14:25:18.663877Z",
     "start_time": "2021-02-23T14:25:18.613001Z"
    }
   },
   "outputs": [],
   "source": [
    "# Option 4: use chemparse package to create the new features of atom counts\n",
    "chem_data = data['Formula'].apply(chemparse.parse_formula)\n",
    "\n",
    "# Convert the dictionary into a dataframe and fill NaN's with zero's\n",
    "chem_data = pd.json_normalize(chem_data)\n",
    "chem_data = chem_data.fillna(0)\n",
    "\n",
    "data = data.join(chem_data)"
   ]
  },
  {
   "cell_type": "markdown",
   "metadata": {},
   "source": [
    "### `'Crystal System'` column\n",
    "This is the target column, and there are 3 different types of crystal structures we're trying to classify. To properly transform this to numerical data, we have to understand if we are working on a multi-class problem or a multi-label problem.\n",
    "\n",
    "- A multi-class problem is one in which there is only one distinct type of classification for each row. For example, a fruit is either an apple or an orange, but cannot be both. For a multi-class problem, the target value should be a single value, such as a 0 for apple and 1 for orange. In other words, it would be encoded to ordinal numbers.\n",
    "- A multi-label problem is one in which there are possibly multiple labels for each row. For example, classifying pictures of apples and oranges can include a picture of an apple alone, an orange alone, or both an apple and an orange. For a multi-label problem, the target value should be a vector representation, such as [1,0] for apple, [0,1] for orange, and [1,1] for both apple and orange. In other words, we would have to one-hot encode the target feature.\n",
    "\n",
    "Since the crystal system structure is unique, this is a multi-class problem. The target output should be encoded to a 0, 1, or 2. If it were a multi-label problem, the target output would have to be encoded to a vector of length 3. "
   ]
  },
  {
   "cell_type": "code",
   "execution_count": null,
   "metadata": {
    "ExecuteTime": {
     "end_time": "2021-02-23T14:25:18.691334Z",
     "start_time": "2021-02-23T14:25:18.670299Z"
    }
   },
   "outputs": [],
   "source": [
    "# Encode Crystal System to ordinal values for multi-class problem\n",
    "labelencoder = LabelEncoder() #initializing an object of class LabelEncoder\n",
    "data['Crystal System (#)'] = labelencoder.fit_transform(data['Crystal System']) \n",
    "\n",
    "# For a multi-label problem, use one-hot encoding\n",
    "data[['monoclinic','orthorhombic','triclinic']] = pd.get_dummies(data['Crystal System'])"
   ]
  },
  {
   "cell_type": "code",
   "execution_count": null,
   "metadata": {
    "ExecuteTime": {
     "end_time": "2021-02-23T14:25:18.961495Z",
     "start_time": "2021-02-23T14:25:18.693338Z"
    }
   },
   "outputs": [],
   "source": [
    "# Check for balance\n",
    "data['Crystal System'].value_counts().plot(kind='bar')"
   ]
  },
  {
   "cell_type": "code",
   "execution_count": null,
   "metadata": {
    "ExecuteTime": {
     "end_time": "2021-02-23T14:27:59.103602Z",
     "start_time": "2021-02-23T14:27:59.075634Z"
    }
   },
   "outputs": [],
   "source": [
    "# Save new features in dataframe\n",
    "data.to_csv('lithium_ion_data.csv',index=False)"
   ]
  },
  {
   "cell_type": "markdown",
   "metadata": {},
   "source": [
    "### Test performance"
   ]
  },
  {
   "cell_type": "code",
   "execution_count": null,
   "metadata": {
    "ExecuteTime": {
     "end_time": "2021-02-23T14:28:01.058496Z",
     "start_time": "2021-02-23T14:28:01.032185Z"
    }
   },
   "outputs": [],
   "source": [
    "# All new numerical features (Crystal System excluded, since it's int32)\n",
    "features = list(data.select_dtypes(include=['int64','float64']).columns.values)\n",
    "\n",
    "ord_feat = ['Formation Energy (eV)','E Above Hull (eV)','Band Gap (eV)',\n",
    "            'Nsites','Density (gm/cc)','Volume','Has Bandstructure',\n",
    "            'Spacegroup (ordinal)','Li','Mn','Si','O','Fe','Co'\n",
    "           ]\n",
    "\n",
    "hash_feat = ['Formation Energy (eV)','E Above Hull (eV)','Band Gap (eV)',\n",
    "             'Nsites','Density (gm/cc)','Volume','Has Bandstructure',\n",
    "             'Spacegroup0','Spacegroup1','Spacegroup2',\n",
    "             'Li','Mn','Si','O','Fe','Co'\n",
    "            ]\n",
    "\n",
    "labels = ['Crystal System (#)']"
   ]
  },
  {
   "cell_type": "code",
   "execution_count": null,
   "metadata": {
    "ExecuteTime": {
     "end_time": "2021-02-23T14:28:04.353940Z",
     "start_time": "2021-02-23T14:28:02.965905Z"
    },
    "scrolled": true
   },
   "outputs": [],
   "source": [
    "plt.figure(figsize=(16,5))\n",
    "\n",
    "titles = ['Original Numerical Features Only',\n",
    "          'With Encoded Features\\n(Ordinal Spacegroup)',\n",
    "          'With Encoded Features\\n(Hashed Spacegroup)'\n",
    "         ]\n",
    "\n",
    "for i, feat in enumerate([num_feat,ord_feat,hash_feat]):\n",
    "    X = data[feat]\n",
    "    y = data[labels]\n",
    "\n",
    "    # 80% training data and 20% testing\n",
    "    Xtrain, Xtest, ytrain, ytest = train_test_split(X, y, test_size=0.2)\n",
    "\n",
    "    dtree = DecisionTreeClassifier()\n",
    "    dtree.fit(Xtrain,ytrain)\n",
    "    yp = dtree.predict(Xtest)\n",
    "    \n",
    "    # Plot confusion matrix\n",
    "    plt.subplot(1,3,i+1)\n",
    "    cm = confusion_matrix(ytest,yp)\n",
    "    sns.heatmap(cm,annot=True)\n",
    "    plt.title(titles[i])"
   ]
  }
 ],
 "metadata": {
  "hide_input": false,
  "kernelspec": {
   "display_name": "Python 3",
   "language": "python",
   "name": "python3"
  },
  "language_info": {
   "codemirror_mode": {
    "name": "ipython",
    "version": 3
   },
   "file_extension": ".py",
   "mimetype": "text/x-python",
   "name": "python",
   "nbconvert_exporter": "python",
   "pygments_lexer": "ipython3",
   "version": "3.8.5"
  }
 },
 "nbformat": 4,
 "nbformat_minor": 4
}
