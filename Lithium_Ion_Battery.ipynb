{
 "cells": [
  {
   "cell_type": "markdown",
   "metadata": {},
   "source": [
    "## Feature engineering and selection \n",
    "\n",
    "Physical and chemical properties of the Lithium-ion silicate cathodes are used to predict the crystal structure of a Lithium-ion battery as monoclinic, orthorhombic and triclinic. This case study demonstrates how [feature engineering](https://apmonitor.com/pds/index.php/Main/FeatureEngineering) improves the classification results. See the [Li-Ion Feature Engineering case study](https://apmonitor.com/pds/index.php/Main/LithiumIonBatteries) for additional information.\n",
    "\n",
    "<img align=left width=400px src='https://apmonitor.com/pds/uploads/Main/lithium_ion_battery.png'>"
   ]
  },
  {
   "cell_type": "markdown",
   "metadata": {},
   "source": [
    "__Background__: Lithium-ion batteries are commonly used for portable electronics, electric vehicles, and aerospace applications. During discharge, Lithium ions move from the negative electrode through an electrolyte to the positive electrode to create a voltage and current. During recharging, the ions migrate back to the negative electrode. The crystal structure (monoclinic, orthorhombic, triclinic) is available for 339 different chemicals that contain Li-ion.\n",
    "\n",
    "[Lithium-ion Chemical Properties and Crystal Structure Data](https://apmonitor.com/pds/uploads/Main/lithium_ion.txt)\n",
    "\n",
    "```python\n",
    "url = 'http://apmonitor.com/pds/uploads/Main/lithium_ion.txt'\n",
    "```\n",
    "\n",
    "__Objective__: Predict the crystal structure type (monoclinic, orthorhombic, triclinic) from Lithium-ion physical and chemical compound information.\n",
    "\n",
    "This tutorial covers the following:\n",
    "- Categorical transformation techniques\n",
    "- Feature creation\n",
    "- Feature selection"
   ]
  },
  {
   "cell_type": "code",
   "execution_count": 1,
   "metadata": {
    "ExecuteTime": {
     "end_time": "2021-02-23T14:25:04.960027Z",
     "start_time": "2021-02-23T14:25:04.931856Z"
    }
   },
   "outputs": [],
   "source": [
    "try:\n",
    "    import chemparse\n",
    "except:\n",
    "    !pip install chemparse\n",
    "    print('May need to restart kernel to use chemparse')"
   ]
  },
  {
   "cell_type": "code",
   "execution_count": 2,
   "metadata": {
    "ExecuteTime": {
     "end_time": "2021-02-23T14:25:16.676398Z",
     "start_time": "2021-02-23T14:25:04.963386Z"
    }
   },
   "outputs": [],
   "source": [
    "# Import libraries and data\n",
    "import pandas as pd\n",
    "import matplotlib.pyplot as plt\n",
    "import seaborn as sns\n",
    "\n",
    "from sklearn.preprocessing import LabelEncoder, MinMaxScaler\n",
    "from sklearn.model_selection import train_test_split\n",
    "from sklearn.feature_extraction import FeatureHasher\n",
    "from sklearn.metrics import confusion_matrix,plot_confusion_matrix\n",
    "from sklearn.tree import DecisionTreeClassifier\n"
   ]
  },
  {
   "cell_type": "code",
   "execution_count": 3,
   "metadata": {
    "ExecuteTime": {
     "end_time": "2021-02-23T14:25:16.823100Z",
     "start_time": "2021-02-23T14:25:16.681510Z"
    },
    "scrolled": true
   },
   "outputs": [
    {
     "data": {
      "text/html": [
       "<div>\n",
       "<style scoped>\n",
       "    .dataframe tbody tr th:only-of-type {\n",
       "        vertical-align: middle;\n",
       "    }\n",
       "\n",
       "    .dataframe tbody tr th {\n",
       "        vertical-align: top;\n",
       "    }\n",
       "\n",
       "    .dataframe thead th {\n",
       "        text-align: right;\n",
       "    }\n",
       "</style>\n",
       "<table border=\"1\" class=\"dataframe\">\n",
       "  <thead>\n",
       "    <tr style=\"text-align: right;\">\n",
       "      <th></th>\n",
       "      <th>Materials Id</th>\n",
       "      <th>Formula</th>\n",
       "      <th>Spacegroup</th>\n",
       "      <th>Formation Energy (eV)</th>\n",
       "      <th>E Above Hull (eV)</th>\n",
       "      <th>Band Gap (eV)</th>\n",
       "      <th>Nsites</th>\n",
       "      <th>Density (gm/cc)</th>\n",
       "      <th>Volume</th>\n",
       "      <th>Has Bandstructure</th>\n",
       "      <th>Crystal System</th>\n",
       "    </tr>\n",
       "  </thead>\n",
       "  <tbody>\n",
       "    <tr>\n",
       "      <th>246</th>\n",
       "      <td>mp-763240</td>\n",
       "      <td>LiCoSiO4</td>\n",
       "      <td>C2221</td>\n",
       "      <td>-2.374</td>\n",
       "      <td>0.062</td>\n",
       "      <td>1.265</td>\n",
       "      <td>14</td>\n",
       "      <td>2.980</td>\n",
       "      <td>176.010</td>\n",
       "      <td>True</td>\n",
       "      <td>orthorhombic</td>\n",
       "    </tr>\n",
       "    <tr>\n",
       "      <th>230</th>\n",
       "      <td>mp-865154</td>\n",
       "      <td>LiFe(Si3O7)2</td>\n",
       "      <td>Icma</td>\n",
       "      <td>-2.981</td>\n",
       "      <td>0.093</td>\n",
       "      <td>2.647</td>\n",
       "      <td>88</td>\n",
       "      <td>2.807</td>\n",
       "      <td>1077.384</td>\n",
       "      <td>False</td>\n",
       "      <td>orthorhombic</td>\n",
       "    </tr>\n",
       "    <tr>\n",
       "      <th>176</th>\n",
       "      <td>mp-761416</td>\n",
       "      <td>LiFe(SiO3)2</td>\n",
       "      <td>Pbca</td>\n",
       "      <td>-2.818</td>\n",
       "      <td>0.003</td>\n",
       "      <td>2.745</td>\n",
       "      <td>80</td>\n",
       "      <td>3.333</td>\n",
       "      <td>856.726</td>\n",
       "      <td>True</td>\n",
       "      <td>orthorhombic</td>\n",
       "    </tr>\n",
       "    <tr>\n",
       "      <th>291</th>\n",
       "      <td>mp-761459</td>\n",
       "      <td>LiFeSi3O8</td>\n",
       "      <td>P1</td>\n",
       "      <td>-2.896</td>\n",
       "      <td>0.032</td>\n",
       "      <td>3.342</td>\n",
       "      <td>26</td>\n",
       "      <td>2.760</td>\n",
       "      <td>330.953</td>\n",
       "      <td>False</td>\n",
       "      <td>triclinic</td>\n",
       "    </tr>\n",
       "    <tr>\n",
       "      <th>187</th>\n",
       "      <td>mp-764340</td>\n",
       "      <td>Li2FeSiO4</td>\n",
       "      <td>Pc21n</td>\n",
       "      <td>-2.607</td>\n",
       "      <td>0.020</td>\n",
       "      <td>2.957</td>\n",
       "      <td>32</td>\n",
       "      <td>2.986</td>\n",
       "      <td>359.989</td>\n",
       "      <td>True</td>\n",
       "      <td>orthorhombic</td>\n",
       "    </tr>\n",
       "    <tr>\n",
       "      <th>88</th>\n",
       "      <td>mp-762562</td>\n",
       "      <td>Li2Fe(Si2O5)2</td>\n",
       "      <td>P21/m</td>\n",
       "      <td>-2.898</td>\n",
       "      <td>0.077</td>\n",
       "      <td>3.171</td>\n",
       "      <td>68</td>\n",
       "      <td>2.518</td>\n",
       "      <td>902.440</td>\n",
       "      <td>True</td>\n",
       "      <td>monoclinic</td>\n",
       "    </tr>\n",
       "    <tr>\n",
       "      <th>319</th>\n",
       "      <td>mp-773385</td>\n",
       "      <td>Li3FeSiO5</td>\n",
       "      <td>P1</td>\n",
       "      <td>-2.486</td>\n",
       "      <td>0.083</td>\n",
       "      <td>2.254</td>\n",
       "      <td>20</td>\n",
       "      <td>3.575</td>\n",
       "      <td>171.619</td>\n",
       "      <td>True</td>\n",
       "      <td>triclinic</td>\n",
       "    </tr>\n",
       "    <tr>\n",
       "      <th>271</th>\n",
       "      <td>mp-761381</td>\n",
       "      <td>Li2Mn5(Si2O7)2</td>\n",
       "      <td>P1</td>\n",
       "      <td>-2.690</td>\n",
       "      <td>0.031</td>\n",
       "      <td>0.000</td>\n",
       "      <td>25</td>\n",
       "      <td>3.434</td>\n",
       "      <td>302.156</td>\n",
       "      <td>True</td>\n",
       "      <td>triclinic</td>\n",
       "    </tr>\n",
       "    <tr>\n",
       "      <th>245</th>\n",
       "      <td>mp-762880</td>\n",
       "      <td>LiCoSiO4</td>\n",
       "      <td>Pn21a</td>\n",
       "      <td>-2.376</td>\n",
       "      <td>0.060</td>\n",
       "      <td>1.422</td>\n",
       "      <td>28</td>\n",
       "      <td>3.033</td>\n",
       "      <td>345.946</td>\n",
       "      <td>True</td>\n",
       "      <td>orthorhombic</td>\n",
       "    </tr>\n",
       "    <tr>\n",
       "      <th>3</th>\n",
       "      <td>mp-761598</td>\n",
       "      <td>Li4Mn2Si3O10</td>\n",
       "      <td>C2/c</td>\n",
       "      <td>-2.783</td>\n",
       "      <td>0.013</td>\n",
       "      <td>3.015</td>\n",
       "      <td>38</td>\n",
       "      <td>2.908</td>\n",
       "      <td>436.183</td>\n",
       "      <td>True</td>\n",
       "      <td>monoclinic</td>\n",
       "    </tr>\n",
       "    <tr>\n",
       "      <th>32</th>\n",
       "      <td>mp-850760</td>\n",
       "      <td>Li2MnSi4O11</td>\n",
       "      <td>C2/c</td>\n",
       "      <td>-2.832</td>\n",
       "      <td>0.091</td>\n",
       "      <td>1.370</td>\n",
       "      <td>36</td>\n",
       "      <td>2.868</td>\n",
       "      <td>413.524</td>\n",
       "      <td>True</td>\n",
       "      <td>monoclinic</td>\n",
       "    </tr>\n",
       "    <tr>\n",
       "      <th>324</th>\n",
       "      <td>mp-762768</td>\n",
       "      <td>Li9Fe4(SiO5)4</td>\n",
       "      <td>P1</td>\n",
       "      <td>-2.391</td>\n",
       "      <td>0.094</td>\n",
       "      <td>0.005</td>\n",
       "      <td>37</td>\n",
       "      <td>2.617</td>\n",
       "      <td>455.754</td>\n",
       "      <td>False</td>\n",
       "      <td>triclinic</td>\n",
       "    </tr>\n",
       "    <tr>\n",
       "      <th>316</th>\n",
       "      <td>mp-766744</td>\n",
       "      <td>Li2Fe2Si4O11</td>\n",
       "      <td>P1</td>\n",
       "      <td>-2.768</td>\n",
       "      <td>0.081</td>\n",
       "      <td>0.000</td>\n",
       "      <td>38</td>\n",
       "      <td>2.958</td>\n",
       "      <td>464.730</td>\n",
       "      <td>True</td>\n",
       "      <td>triclinic</td>\n",
       "    </tr>\n",
       "    <tr>\n",
       "      <th>112</th>\n",
       "      <td>mp-762812</td>\n",
       "      <td>Li3Co2(SiO4)2</td>\n",
       "      <td>Pc</td>\n",
       "      <td>-2.436</td>\n",
       "      <td>0.059</td>\n",
       "      <td>0.350</td>\n",
       "      <td>30</td>\n",
       "      <td>3.052</td>\n",
       "      <td>351.323</td>\n",
       "      <td>False</td>\n",
       "      <td>monoclinic</td>\n",
       "    </tr>\n",
       "    <tr>\n",
       "      <th>75</th>\n",
       "      <td>mp-767283</td>\n",
       "      <td>LiFeSiO4</td>\n",
       "      <td>Pc</td>\n",
       "      <td>-2.560</td>\n",
       "      <td>0.062</td>\n",
       "      <td>2.587</td>\n",
       "      <td>14</td>\n",
       "      <td>2.947</td>\n",
       "      <td>174.534</td>\n",
       "      <td>True</td>\n",
       "      <td>monoclinic</td>\n",
       "    </tr>\n",
       "    <tr>\n",
       "      <th>237</th>\n",
       "      <td>mp-764641</td>\n",
       "      <td>Li2CoSiO4</td>\n",
       "      <td>Pc21n</td>\n",
       "      <td>-2.532</td>\n",
       "      <td>0.005</td>\n",
       "      <td>2.918</td>\n",
       "      <td>32</td>\n",
       "      <td>3.181</td>\n",
       "      <td>344.330</td>\n",
       "      <td>True</td>\n",
       "      <td>orthorhombic</td>\n",
       "    </tr>\n",
       "    <tr>\n",
       "      <th>221</th>\n",
       "      <td>mp-762576</td>\n",
       "      <td>Li2Fe2Si2O7</td>\n",
       "      <td>C2cm</td>\n",
       "      <td>-2.573</td>\n",
       "      <td>0.076</td>\n",
       "      <td>2.700</td>\n",
       "      <td>26</td>\n",
       "      <td>3.039</td>\n",
       "      <td>320.953</td>\n",
       "      <td>True</td>\n",
       "      <td>orthorhombic</td>\n",
       "    </tr>\n",
       "    <tr>\n",
       "      <th>63</th>\n",
       "      <td>mp-762862</td>\n",
       "      <td>LiFeSiO4</td>\n",
       "      <td>P21/c</td>\n",
       "      <td>-2.571</td>\n",
       "      <td>0.051</td>\n",
       "      <td>3.042</td>\n",
       "      <td>84</td>\n",
       "      <td>2.872</td>\n",
       "      <td>1074.670</td>\n",
       "      <td>False</td>\n",
       "      <td>monoclinic</td>\n",
       "    </tr>\n",
       "    <tr>\n",
       "      <th>288</th>\n",
       "      <td>mp-765915</td>\n",
       "      <td>LiFe(SiO3)2</td>\n",
       "      <td>P1</td>\n",
       "      <td>-2.791</td>\n",
       "      <td>0.030</td>\n",
       "      <td>3.056</td>\n",
       "      <td>20</td>\n",
       "      <td>2.200</td>\n",
       "      <td>324.509</td>\n",
       "      <td>True</td>\n",
       "      <td>triclinic</td>\n",
       "    </tr>\n",
       "    <tr>\n",
       "      <th>218</th>\n",
       "      <td>mp-762620</td>\n",
       "      <td>Li2Fe(Si2O5)2</td>\n",
       "      <td>P212121</td>\n",
       "      <td>-2.899</td>\n",
       "      <td>0.076</td>\n",
       "      <td>3.435</td>\n",
       "      <td>68</td>\n",
       "      <td>2.323</td>\n",
       "      <td>977.912</td>\n",
       "      <td>False</td>\n",
       "      <td>orthorhombic</td>\n",
       "    </tr>\n",
       "  </tbody>\n",
       "</table>\n",
       "</div>"
      ],
      "text/plain": [
       "    Materials Id         Formula Spacegroup  Formation Energy (eV)  \\\n",
       "246    mp-763240        LiCoSiO4      C2221                 -2.374   \n",
       "230    mp-865154    LiFe(Si3O7)2       Icma                 -2.981   \n",
       "176    mp-761416     LiFe(SiO3)2       Pbca                 -2.818   \n",
       "291    mp-761459       LiFeSi3O8         P1                 -2.896   \n",
       "187    mp-764340       Li2FeSiO4      Pc21n                 -2.607   \n",
       "88     mp-762562   Li2Fe(Si2O5)2      P21/m                 -2.898   \n",
       "319    mp-773385       Li3FeSiO5         P1                 -2.486   \n",
       "271    mp-761381  Li2Mn5(Si2O7)2         P1                 -2.690   \n",
       "245    mp-762880        LiCoSiO4      Pn21a                 -2.376   \n",
       "3      mp-761598    Li4Mn2Si3O10       C2/c                 -2.783   \n",
       "32     mp-850760     Li2MnSi4O11       C2/c                 -2.832   \n",
       "324    mp-762768   Li9Fe4(SiO5)4         P1                 -2.391   \n",
       "316    mp-766744    Li2Fe2Si4O11         P1                 -2.768   \n",
       "112    mp-762812   Li3Co2(SiO4)2         Pc                 -2.436   \n",
       "75     mp-767283        LiFeSiO4         Pc                 -2.560   \n",
       "237    mp-764641       Li2CoSiO4      Pc21n                 -2.532   \n",
       "221    mp-762576     Li2Fe2Si2O7       C2cm                 -2.573   \n",
       "63     mp-762862        LiFeSiO4      P21/c                 -2.571   \n",
       "288    mp-765915     LiFe(SiO3)2         P1                 -2.791   \n",
       "218    mp-762620   Li2Fe(Si2O5)2    P212121                 -2.899   \n",
       "\n",
       "     E Above Hull (eV)  Band Gap (eV)  Nsites  Density (gm/cc)    Volume  \\\n",
       "246              0.062          1.265      14            2.980   176.010   \n",
       "230              0.093          2.647      88            2.807  1077.384   \n",
       "176              0.003          2.745      80            3.333   856.726   \n",
       "291              0.032          3.342      26            2.760   330.953   \n",
       "187              0.020          2.957      32            2.986   359.989   \n",
       "88               0.077          3.171      68            2.518   902.440   \n",
       "319              0.083          2.254      20            3.575   171.619   \n",
       "271              0.031          0.000      25            3.434   302.156   \n",
       "245              0.060          1.422      28            3.033   345.946   \n",
       "3                0.013          3.015      38            2.908   436.183   \n",
       "32               0.091          1.370      36            2.868   413.524   \n",
       "324              0.094          0.005      37            2.617   455.754   \n",
       "316              0.081          0.000      38            2.958   464.730   \n",
       "112              0.059          0.350      30            3.052   351.323   \n",
       "75               0.062          2.587      14            2.947   174.534   \n",
       "237              0.005          2.918      32            3.181   344.330   \n",
       "221              0.076          2.700      26            3.039   320.953   \n",
       "63               0.051          3.042      84            2.872  1074.670   \n",
       "288              0.030          3.056      20            2.200   324.509   \n",
       "218              0.076          3.435      68            2.323   977.912   \n",
       "\n",
       "     Has Bandstructure Crystal System  \n",
       "246               True   orthorhombic  \n",
       "230              False   orthorhombic  \n",
       "176               True   orthorhombic  \n",
       "291              False      triclinic  \n",
       "187               True   orthorhombic  \n",
       "88                True     monoclinic  \n",
       "319               True      triclinic  \n",
       "271               True      triclinic  \n",
       "245               True   orthorhombic  \n",
       "3                 True     monoclinic  \n",
       "32                True     monoclinic  \n",
       "324              False      triclinic  \n",
       "316               True      triclinic  \n",
       "112              False     monoclinic  \n",
       "75                True     monoclinic  \n",
       "237               True   orthorhombic  \n",
       "221               True   orthorhombic  \n",
       "63               False     monoclinic  \n",
       "288               True      triclinic  \n",
       "218              False   orthorhombic  "
      ]
     },
     "execution_count": 3,
     "metadata": {},
     "output_type": "execute_result"
    }
   ],
   "source": [
    "# Load and display data\n",
    "url = 'http://apmonitor.com/pds/uploads/Main/lithium_ion.txt'\n",
    "data = pd.read_csv(url)\n",
    "data.sample(20)"
   ]
  },
  {
   "cell_type": "markdown",
   "metadata": {},
   "source": [
    "### Observe datatypes"
   ]
  },
  {
   "cell_type": "code",
   "execution_count": 4,
   "metadata": {
    "ExecuteTime": {
     "end_time": "2021-02-23T14:25:16.851068Z",
     "start_time": "2021-02-23T14:25:16.828541Z"
    },
    "scrolled": false
   },
   "outputs": [
    {
     "data": {
      "text/plain": [
       "Materials Id              object\n",
       "Formula                   object\n",
       "Spacegroup                object\n",
       "Formation Energy (eV)    float64\n",
       "E Above Hull (eV)        float64\n",
       "Band Gap (eV)            float64\n",
       "Nsites                     int64\n",
       "Density (gm/cc)          float64\n",
       "Volume                   float64\n",
       "Has Bandstructure           bool\n",
       "Crystal System            object\n",
       "dtype: object"
      ]
     },
     "execution_count": 4,
     "metadata": {},
     "output_type": "execute_result"
    }
   ],
   "source": [
    "data.dtypes"
   ]
  },
  {
   "cell_type": "code",
   "execution_count": 5,
   "metadata": {
    "ExecuteTime": {
     "end_time": "2021-02-23T14:25:16.908103Z",
     "start_time": "2021-02-23T14:25:16.858551Z"
    }
   },
   "outputs": [],
   "source": [
    "# Separate into numerical features that don't need preprocessing, and categorical features that need to be transformed\n",
    "num_feat = data.select_dtypes(include=['int64','float64']).columns\n",
    "cat_feat = data.select_dtypes(include=['object','bool']).columns"
   ]
  },
  {
   "cell_type": "code",
   "execution_count": 6,
   "metadata": {
    "ExecuteTime": {
     "end_time": "2021-02-23T14:25:17.019378Z",
     "start_time": "2021-02-23T14:25:16.915392Z"
    }
   },
   "outputs": [
    {
     "data": {
      "text/html": [
       "<div>\n",
       "<style scoped>\n",
       "    .dataframe tbody tr th:only-of-type {\n",
       "        vertical-align: middle;\n",
       "    }\n",
       "\n",
       "    .dataframe tbody tr th {\n",
       "        vertical-align: top;\n",
       "    }\n",
       "\n",
       "    .dataframe thead th {\n",
       "        text-align: right;\n",
       "    }\n",
       "</style>\n",
       "<table border=\"1\" class=\"dataframe\">\n",
       "  <thead>\n",
       "    <tr style=\"text-align: right;\">\n",
       "      <th></th>\n",
       "      <th>Materials Id</th>\n",
       "      <th>Formula</th>\n",
       "      <th>Spacegroup</th>\n",
       "      <th>Has Bandstructure</th>\n",
       "      <th>Crystal System</th>\n",
       "    </tr>\n",
       "  </thead>\n",
       "  <tbody>\n",
       "    <tr>\n",
       "      <th>count</th>\n",
       "      <td>339</td>\n",
       "      <td>339</td>\n",
       "      <td>339</td>\n",
       "      <td>339</td>\n",
       "      <td>339</td>\n",
       "    </tr>\n",
       "    <tr>\n",
       "      <th>unique</th>\n",
       "      <td>339</td>\n",
       "      <td>114</td>\n",
       "      <td>44</td>\n",
       "      <td>2</td>\n",
       "      <td>3</td>\n",
       "    </tr>\n",
       "    <tr>\n",
       "      <th>top</th>\n",
       "      <td>mp-763406</td>\n",
       "      <td>LiFeSiO4</td>\n",
       "      <td>P1</td>\n",
       "      <td>True</td>\n",
       "      <td>monoclinic</td>\n",
       "    </tr>\n",
       "    <tr>\n",
       "      <th>freq</th>\n",
       "      <td>1</td>\n",
       "      <td>42</td>\n",
       "      <td>72</td>\n",
       "      <td>274</td>\n",
       "      <td>139</td>\n",
       "    </tr>\n",
       "  </tbody>\n",
       "</table>\n",
       "</div>"
      ],
      "text/plain": [
       "       Materials Id   Formula Spacegroup Has Bandstructure Crystal System\n",
       "count           339       339        339               339            339\n",
       "unique          339       114         44                 2              3\n",
       "top       mp-763406  LiFeSiO4         P1              True     monoclinic\n",
       "freq              1        42         72               274            139"
      ]
     },
     "execution_count": 6,
     "metadata": {},
     "output_type": "execute_result"
    }
   ],
   "source": [
    "data[cat_feat].describe()"
   ]
  },
  {
   "cell_type": "markdown",
   "metadata": {
    "ExecuteTime": {
     "end_time": "2021-02-18T17:10:07.713491Z",
     "start_time": "2021-02-18T17:10:07.700359Z"
    }
   },
   "source": [
    "### Categorical encoding methods\n",
    "<a id='Categorical_encoding_methods'></a>\n",
    "\n",
    "#### 1. One Hot Encoding\n",
    "Method: Encode each category value into a binary vector, with size = # of distinct values. See https://towardsdatascience.com/understanding-feature-engineering-part-2-categorical-data-f54324193e63\n",
    "\n",
    "Example: Has Bandstructure column has 2 distinct values, True and False. Create a new column where 1 = True and 0 = False.\n",
    "\n",
    "Pros: simple and rugged method to get categorical features into unique and useful numerical features\n",
    "\n",
    "Cons: m unique values results in m unique new features. This is fine when there are only 2-3 unique values (such as hi/lo, yes/no), but creates issues when there are more. Can't handle new categories that weren't in training data, and easily overfit. Sparse data.\n",
    "\n",
    "#### 2. Encode to ordinal variables\n",
    "Method: assign each unique value to a unique number. \n",
    "\n",
    "Example: Spacegroup = Pc is assigned to 0, Spacegroup = P21/c is assigned to 1, etc. \n",
    "\n",
    "Pros: simple and quick, 1 column in -> 1 column out\n",
    "\n",
    "Cons: residual \"structure\" (number assigned is arbitrary, and it leads algorithms to assume that a Spacegroup with a value of 20 is higher value than a Spacegroup of value 1)\n",
    "\n",
    "#### 3. Feature Hashing\n",
    "Method: Encode each unique category into a non-binary vector\n",
    "\n",
    "Example: Spacegroup = Pc is assigned to [1,0,0], Spacegroup = P21/c is assigned to [1,2,-1], etc. Specify number of columns (length of vector)\n",
    "\n",
    "Pros: low dimensionality so really efficient.\n",
    "\n",
    "Cons: potential collisions (for example the 1st value in example has both Spacegroups sharing a '1'); hashed features aren't interpretable so can't be used in feature importance. \n",
    "\n",
    "#### 4. Other methods\n",
    "Primarily involve prior knowledge about dataset. Encode with own algorithm to include closely related features.\n",
    "\n",
    "Variation on One Hot Encoding for large numbers of unique values: classify infrequent instances into \"rare\" category. May lose some granularity and important info, but also allows for new categories that aren't in training data"
   ]
  },
  {
   "cell_type": "markdown",
   "metadata": {},
   "source": [
    "### `'Materials Id'` column"
   ]
  },
  {
   "cell_type": "code",
   "execution_count": 7,
   "metadata": {
    "ExecuteTime": {
     "end_time": "2021-02-23T14:25:17.049591Z",
     "start_time": "2021-02-23T14:25:17.024264Z"
    },
    "scrolled": true
   },
   "outputs": [
    {
     "data": {
      "text/plain": [
       "count           339\n",
       "unique          339\n",
       "top       mp-763406\n",
       "freq              1\n",
       "Name: Materials Id, dtype: object"
      ]
     },
     "execution_count": 7,
     "metadata": {},
     "output_type": "execute_result"
    }
   ],
   "source": [
    "data['Materials Id'].describe()"
   ]
  },
  {
   "cell_type": "markdown",
   "metadata": {},
   "source": [
    "339 unique values for 339 unique entries; there is no useful information in this column and it can be dropped"
   ]
  },
  {
   "cell_type": "code",
   "execution_count": 8,
   "metadata": {
    "ExecuteTime": {
     "end_time": "2021-02-23T14:25:17.079699Z",
     "start_time": "2021-02-23T14:25:17.060997Z"
    }
   },
   "outputs": [
    {
     "data": {
      "text/plain": [
       "Index(['Formula', 'Spacegroup', 'Formation Energy (eV)', 'E Above Hull (eV)',\n",
       "       'Band Gap (eV)', 'Nsites', 'Density (gm/cc)', 'Volume',\n",
       "       'Has Bandstructure', 'Crystal System'],\n",
       "      dtype='object')"
      ]
     },
     "execution_count": 8,
     "metadata": {},
     "output_type": "execute_result"
    }
   ],
   "source": [
    "data.drop(columns=['Materials Id'],inplace=True)\n",
    "data.columns"
   ]
  },
  {
   "cell_type": "markdown",
   "metadata": {},
   "source": [
    "### `'Has Bandstructure'` column"
   ]
  },
  {
   "cell_type": "code",
   "execution_count": 9,
   "metadata": {
    "ExecuteTime": {
     "end_time": "2021-02-23T14:25:17.506079Z",
     "start_time": "2021-02-23T14:25:17.086281Z"
    },
    "scrolled": true
   },
   "outputs": [
    {
     "data": {
      "text/plain": [
       "<AxesSubplot:>"
      ]
     },
     "execution_count": 9,
     "metadata": {},
     "output_type": "execute_result"
    },
    {
     "data": {
      "image/png": "[encoded data removed]",
      "text/plain": [
       "<Figure size 432x288 with 1 Axes>"
      ]
     },
     "metadata": {
      "needs_background": "light"
     },
     "output_type": "display_data"
    }
   ],
   "source": [
    "data['Has Bandstructure'].value_counts().plot(kind='bar')"
   ]
  },
  {
   "cell_type": "markdown",
   "metadata": {},
   "source": [
    "2 unique values, True and False. Classic example of when to use one-hot encoding"
   ]
  },
  {
   "cell_type": "code",
   "execution_count": 10,
   "metadata": {
    "ExecuteTime": {
     "end_time": "2021-02-23T14:25:17.518358Z",
     "start_time": "2021-02-23T14:25:17.509161Z"
    }
   },
   "outputs": [],
   "source": [
    "# One-hot encode 'Has Bandstructure'\n",
    "data['Has Bandstructure'] = data['Has Bandstructure'].map({True:1, False:0})"
   ]
  },
  {
   "cell_type": "markdown",
   "metadata": {
    "ExecuteTime": {
     "end_time": "2021-02-19T22:02:46.927233Z",
     "start_time": "2021-02-19T22:02:46.917236Z"
    }
   },
   "source": [
    "### `'Spacegroup'` column"
   ]
  },
  {
   "cell_type": "code",
   "execution_count": 11,
   "metadata": {
    "ExecuteTime": {
     "end_time": "2021-02-23T14:25:18.404873Z",
     "start_time": "2021-02-23T14:25:17.524886Z"
    },
    "scrolled": true
   },
   "outputs": [
    {
     "name": "stdout",
     "output_type": "stream",
     "text": [
      "44\n"
     ]
    },
    {
     "data": {
      "image/png": "[encoded data removed]",
      "text/plain": [
       "<Figure size 432x288 with 1 Axes>"
      ]
     },
     "metadata": {
      "needs_background": "light"
     },
     "output_type": "display_data"
    }
   ],
   "source": [
    "data['Spacegroup'].value_counts().plot(kind='bar')\n",
    "print(data['Spacegroup'].nunique())"
   ]
  },
  {
   "cell_type": "markdown",
   "metadata": {},
   "source": [
    "44 unique values, with most of them occuring multiple times\n",
    "\n",
    "**Option 1:** One-hot encoding will result in 44 new feature columns; inefficient and memory-intensive.\n",
    "\n",
    "**Option 2:** Encode to ordinal numbers. Will possibly work, but does leave a residual structure that may affect model performance\n",
    "\n",
    "**Option 3:** Use Feature Hashing to create a vector representation of each unique Spacegroup. Note that if vector size = 44, it's the same as one-hot encoding, and if vector size = 1, it's the same as encoding to ordinal variables. Use vector size = 3 for this"
   ]
  },
  {
   "cell_type": "code",
   "execution_count": 12,
   "metadata": {
    "ExecuteTime": {
     "end_time": "2021-02-23T14:25:18.462204Z",
     "start_time": "2021-02-23T14:25:18.408604Z"
    },
    "scrolled": true
   },
   "outputs": [
    {
     "data": {
      "text/html": [
       "<div>\n",
       "<style scoped>\n",
       "    .dataframe tbody tr th:only-of-type {\n",
       "        vertical-align: middle;\n",
       "    }\n",
       "\n",
       "    .dataframe tbody tr th {\n",
       "        vertical-align: top;\n",
       "    }\n",
       "\n",
       "    .dataframe thead th {\n",
       "        text-align: right;\n",
       "    }\n",
       "</style>\n",
       "<table border=\"1\" class=\"dataframe\">\n",
       "  <thead>\n",
       "    <tr style=\"text-align: right;\">\n",
       "      <th></th>\n",
       "      <th>C2</th>\n",
       "      <th>C2/c</th>\n",
       "      <th>C2/m</th>\n",
       "      <th>C222</th>\n",
       "      <th>C2221</th>\n",
       "      <th>C2cm</th>\n",
       "      <th>Cc</th>\n",
       "      <th>Ccme</th>\n",
       "      <th>Cmce</th>\n",
       "      <th>Cmcm</th>\n",
       "      <th>...</th>\n",
       "      <th>Pcmn</th>\n",
       "      <th>Pm21n</th>\n",
       "      <th>Pmc21</th>\n",
       "      <th>Pmn21</th>\n",
       "      <th>Pmnb</th>\n",
       "      <th>Pn21a</th>\n",
       "      <th>Pna21</th>\n",
       "      <th>Pnc2</th>\n",
       "      <th>Pnca</th>\n",
       "      <th>Pnma</th>\n",
       "    </tr>\n",
       "  </thead>\n",
       "  <tbody>\n",
       "    <tr>\n",
       "      <th>0</th>\n",
       "      <td>0</td>\n",
       "      <td>0</td>\n",
       "      <td>0</td>\n",
       "      <td>0</td>\n",
       "      <td>0</td>\n",
       "      <td>0</td>\n",
       "      <td>0</td>\n",
       "      <td>0</td>\n",
       "      <td>0</td>\n",
       "      <td>0</td>\n",
       "      <td>...</td>\n",
       "      <td>0</td>\n",
       "      <td>0</td>\n",
       "      <td>0</td>\n",
       "      <td>0</td>\n",
       "      <td>0</td>\n",
       "      <td>0</td>\n",
       "      <td>0</td>\n",
       "      <td>0</td>\n",
       "      <td>0</td>\n",
       "      <td>0</td>\n",
       "    </tr>\n",
       "    <tr>\n",
       "      <th>1</th>\n",
       "      <td>0</td>\n",
       "      <td>0</td>\n",
       "      <td>0</td>\n",
       "      <td>0</td>\n",
       "      <td>0</td>\n",
       "      <td>0</td>\n",
       "      <td>0</td>\n",
       "      <td>0</td>\n",
       "      <td>0</td>\n",
       "      <td>0</td>\n",
       "      <td>...</td>\n",
       "      <td>0</td>\n",
       "      <td>0</td>\n",
       "      <td>0</td>\n",
       "      <td>0</td>\n",
       "      <td>0</td>\n",
       "      <td>0</td>\n",
       "      <td>0</td>\n",
       "      <td>0</td>\n",
       "      <td>0</td>\n",
       "      <td>0</td>\n",
       "    </tr>\n",
       "    <tr>\n",
       "      <th>2</th>\n",
       "      <td>0</td>\n",
       "      <td>0</td>\n",
       "      <td>0</td>\n",
       "      <td>0</td>\n",
       "      <td>0</td>\n",
       "      <td>0</td>\n",
       "      <td>1</td>\n",
       "      <td>0</td>\n",
       "      <td>0</td>\n",
       "      <td>0</td>\n",
       "      <td>...</td>\n",
       "      <td>0</td>\n",
       "      <td>0</td>\n",
       "      <td>0</td>\n",
       "      <td>0</td>\n",
       "      <td>0</td>\n",
       "      <td>0</td>\n",
       "      <td>0</td>\n",
       "      <td>0</td>\n",
       "      <td>0</td>\n",
       "      <td>0</td>\n",
       "    </tr>\n",
       "    <tr>\n",
       "      <th>3</th>\n",
       "      <td>0</td>\n",
       "      <td>1</td>\n",
       "      <td>0</td>\n",
       "      <td>0</td>\n",
       "      <td>0</td>\n",
       "      <td>0</td>\n",
       "      <td>0</td>\n",
       "      <td>0</td>\n",
       "      <td>0</td>\n",
       "      <td>0</td>\n",
       "      <td>...</td>\n",
       "      <td>0</td>\n",
       "      <td>0</td>\n",
       "      <td>0</td>\n",
       "      <td>0</td>\n",
       "      <td>0</td>\n",
       "      <td>0</td>\n",
       "      <td>0</td>\n",
       "      <td>0</td>\n",
       "      <td>0</td>\n",
       "      <td>0</td>\n",
       "    </tr>\n",
       "    <tr>\n",
       "      <th>4</th>\n",
       "      <td>0</td>\n",
       "      <td>1</td>\n",
       "      <td>0</td>\n",
       "      <td>0</td>\n",
       "      <td>0</td>\n",
       "      <td>0</td>\n",
       "      <td>0</td>\n",
       "      <td>0</td>\n",
       "      <td>0</td>\n",
       "      <td>0</td>\n",
       "      <td>...</td>\n",
       "      <td>0</td>\n",
       "      <td>0</td>\n",
       "      <td>0</td>\n",
       "      <td>0</td>\n",
       "      <td>0</td>\n",
       "      <td>0</td>\n",
       "      <td>0</td>\n",
       "      <td>0</td>\n",
       "      <td>0</td>\n",
       "      <td>0</td>\n",
       "    </tr>\n",
       "    <tr>\n",
       "      <th>...</th>\n",
       "      <td>...</td>\n",
       "      <td>...</td>\n",
       "      <td>...</td>\n",
       "      <td>...</td>\n",
       "      <td>...</td>\n",
       "      <td>...</td>\n",
       "      <td>...</td>\n",
       "      <td>...</td>\n",
       "      <td>...</td>\n",
       "      <td>...</td>\n",
       "      <td>...</td>\n",
       "      <td>...</td>\n",
       "      <td>...</td>\n",
       "      <td>...</td>\n",
       "      <td>...</td>\n",
       "      <td>...</td>\n",
       "      <td>...</td>\n",
       "      <td>...</td>\n",
       "      <td>...</td>\n",
       "      <td>...</td>\n",
       "      <td>...</td>\n",
       "    </tr>\n",
       "    <tr>\n",
       "      <th>334</th>\n",
       "      <td>0</td>\n",
       "      <td>0</td>\n",
       "      <td>0</td>\n",
       "      <td>0</td>\n",
       "      <td>0</td>\n",
       "      <td>0</td>\n",
       "      <td>0</td>\n",
       "      <td>0</td>\n",
       "      <td>0</td>\n",
       "      <td>0</td>\n",
       "      <td>...</td>\n",
       "      <td>0</td>\n",
       "      <td>0</td>\n",
       "      <td>0</td>\n",
       "      <td>0</td>\n",
       "      <td>0</td>\n",
       "      <td>0</td>\n",
       "      <td>0</td>\n",
       "      <td>0</td>\n",
       "      <td>0</td>\n",
       "      <td>0</td>\n",
       "    </tr>\n",
       "    <tr>\n",
       "      <th>335</th>\n",
       "      <td>0</td>\n",
       "      <td>0</td>\n",
       "      <td>0</td>\n",
       "      <td>0</td>\n",
       "      <td>0</td>\n",
       "      <td>0</td>\n",
       "      <td>0</td>\n",
       "      <td>0</td>\n",
       "      <td>0</td>\n",
       "      <td>0</td>\n",
       "      <td>...</td>\n",
       "      <td>0</td>\n",
       "      <td>0</td>\n",
       "      <td>0</td>\n",
       "      <td>0</td>\n",
       "      <td>0</td>\n",
       "      <td>0</td>\n",
       "      <td>0</td>\n",
       "      <td>0</td>\n",
       "      <td>0</td>\n",
       "      <td>0</td>\n",
       "    </tr>\n",
       "    <tr>\n",
       "      <th>336</th>\n",
       "      <td>0</td>\n",
       "      <td>0</td>\n",
       "      <td>0</td>\n",
       "      <td>0</td>\n",
       "      <td>0</td>\n",
       "      <td>0</td>\n",
       "      <td>0</td>\n",
       "      <td>0</td>\n",
       "      <td>0</td>\n",
       "      <td>0</td>\n",
       "      <td>...</td>\n",
       "      <td>0</td>\n",
       "      <td>0</td>\n",
       "      <td>0</td>\n",
       "      <td>0</td>\n",
       "      <td>0</td>\n",
       "      <td>0</td>\n",
       "      <td>0</td>\n",
       "      <td>0</td>\n",
       "      <td>0</td>\n",
       "      <td>0</td>\n",
       "    </tr>\n",
       "    <tr>\n",
       "      <th>337</th>\n",
       "      <td>0</td>\n",
       "      <td>0</td>\n",
       "      <td>0</td>\n",
       "      <td>0</td>\n",
       "      <td>0</td>\n",
       "      <td>0</td>\n",
       "      <td>0</td>\n",
       "      <td>0</td>\n",
       "      <td>0</td>\n",
       "      <td>0</td>\n",
       "      <td>...</td>\n",
       "      <td>0</td>\n",
       "      <td>0</td>\n",
       "      <td>0</td>\n",
       "      <td>0</td>\n",
       "      <td>0</td>\n",
       "      <td>0</td>\n",
       "      <td>0</td>\n",
       "      <td>0</td>\n",
       "      <td>0</td>\n",
       "      <td>0</td>\n",
       "    </tr>\n",
       "    <tr>\n",
       "      <th>338</th>\n",
       "      <td>0</td>\n",
       "      <td>0</td>\n",
       "      <td>0</td>\n",
       "      <td>0</td>\n",
       "      <td>0</td>\n",
       "      <td>0</td>\n",
       "      <td>0</td>\n",
       "      <td>0</td>\n",
       "      <td>0</td>\n",
       "      <td>0</td>\n",
       "      <td>...</td>\n",
       "      <td>0</td>\n",
       "      <td>0</td>\n",
       "      <td>0</td>\n",
       "      <td>0</td>\n",
       "      <td>0</td>\n",
       "      <td>0</td>\n",
       "      <td>0</td>\n",
       "      <td>0</td>\n",
       "      <td>0</td>\n",
       "      <td>0</td>\n",
       "    </tr>\n",
       "  </tbody>\n",
       "</table>\n",
       "<p>339 rows × 44 columns</p>\n",
       "</div>"
      ],
      "text/plain": [
       "     C2  C2/c  C2/m  C222  C2221  C2cm  Cc  Ccme  Cmce  Cmcm  ...  Pcmn  \\\n",
       "0     0     0     0     0      0     0   0     0     0     0  ...     0   \n",
       "1     0     0     0     0      0     0   0     0     0     0  ...     0   \n",
       "2     0     0     0     0      0     0   1     0     0     0  ...     0   \n",
       "3     0     1     0     0      0     0   0     0     0     0  ...     0   \n",
       "4     0     1     0     0      0     0   0     0     0     0  ...     0   \n",
       "..   ..   ...   ...   ...    ...   ...  ..   ...   ...   ...  ...   ...   \n",
       "334   0     0     0     0      0     0   0     0     0     0  ...     0   \n",
       "335   0     0     0     0      0     0   0     0     0     0  ...     0   \n",
       "336   0     0     0     0      0     0   0     0     0     0  ...     0   \n",
       "337   0     0     0     0      0     0   0     0     0     0  ...     0   \n",
       "338   0     0     0     0      0     0   0     0     0     0  ...     0   \n",
       "\n",
       "     Pm21n  Pmc21  Pmn21  Pmnb  Pn21a  Pna21  Pnc2  Pnca  Pnma  \n",
       "0        0      0      0     0      0      0     0     0     0  \n",
       "1        0      0      0     0      0      0     0     0     0  \n",
       "2        0      0      0     0      0      0     0     0     0  \n",
       "3        0      0      0     0      0      0     0     0     0  \n",
       "4        0      0      0     0      0      0     0     0     0  \n",
       "..     ...    ...    ...   ...    ...    ...   ...   ...   ...  \n",
       "334      0      0      0     0      0      0     0     0     0  \n",
       "335      0      0      0     0      0      0     0     0     0  \n",
       "336      0      0      0     0      0      0     0     0     0  \n",
       "337      0      0      0     0      0      0     0     0     0  \n",
       "338      0      0      0     0      0      0     0     0     0  \n",
       "\n",
       "[339 rows x 44 columns]"
      ]
     },
     "execution_count": 12,
     "metadata": {},
     "output_type": "execute_result"
    }
   ],
   "source": [
    "# Option 1: One-hot encoding (not used)\n",
    "pd.get_dummies(data['Spacegroup'])"
   ]
  },
  {
   "cell_type": "code",
   "execution_count": 13,
   "metadata": {
    "ExecuteTime": {
     "end_time": "2021-02-23T14:25:18.499208Z",
     "start_time": "2021-02-23T14:25:18.464206Z"
    }
   },
   "outputs": [
    {
     "data": {
      "text/plain": [
       "0      32\n",
       "1      22\n",
       "2       7\n",
       "3       2\n",
       "4       2\n",
       "       ..\n",
       "334    17\n",
       "335    17\n",
       "336    17\n",
       "337    17\n",
       "338    17\n",
       "Name: Spacegroup, Length: 339, dtype: int32"
      ]
     },
     "execution_count": 13,
     "metadata": {},
     "output_type": "execute_result"
    }
   ],
   "source": [
    "# Option 2: Ordinal number encoding\n",
    "data['Spacegroup (ordinal)'] = pd.factorize(data['Spacegroup'])[0]\n",
    "\n",
    "# Can also order by most common to least common\n",
    "data['Spacegroup'].rank(method=\"dense\").astype(int)"
   ]
  },
  {
   "cell_type": "code",
   "execution_count": 14,
   "metadata": {
    "ExecuteTime": {
     "end_time": "2021-02-23T14:25:18.539938Z",
     "start_time": "2021-02-23T14:25:18.507235Z"
    }
   },
   "outputs": [],
   "source": [
    "# Option 3: Feature Hashing\n",
    "n = 3\n",
    "fh = FeatureHasher(n_features=n, input_type='string')\n",
    "hashed_tag = fh.fit_transform(data['Spacegroup']).toarray()\n",
    "ht_df = pd.DataFrame(hashed_tag)\n",
    "ht_df.columns = ['Spacegroup'+str(i) for i in range(n)]\n",
    "\n",
    "data = data.join(ht_df)"
   ]
  },
  {
   "cell_type": "markdown",
   "metadata": {},
   "source": [
    "For now, keep both sets of new features, and we'll see which one performs better"
   ]
  },
  {
   "cell_type": "markdown",
   "metadata": {},
   "source": [
    "### `'Formula'` column"
   ]
  },
  {
   "cell_type": "code",
   "execution_count": 15,
   "metadata": {
    "ExecuteTime": {
     "end_time": "2021-02-23T14:25:18.581990Z",
     "start_time": "2021-02-23T14:25:18.543277Z"
    }
   },
   "outputs": [
    {
     "data": {
      "text/plain": [
       "LiFeSiO4           42\n",
       "LiCoSiO4           29\n",
       "Li2FeSiO4          15\n",
       "Li2CoSiO4          14\n",
       "Li2MnSiO4          12\n",
       "                   ..\n",
       "Li2Fe5(Si2O7)2      1\n",
       "Li2Fe2Si5O13        1\n",
       "Li5Co4(Si3O10)2     1\n",
       "Li5Co2(SiO5)2       1\n",
       "Li5Mn(SiO4)2        1\n",
       "Name: Formula, Length: 114, dtype: int64"
      ]
     },
     "execution_count": 15,
     "metadata": {},
     "output_type": "execute_result"
    }
   ],
   "source": [
    "data['Formula'].value_counts()"
   ]
  },
  {
   "cell_type": "markdown",
   "metadata": {},
   "source": [
    "114 unique values, most only occuring once. One-hot encoding is out of the question\n",
    "\n",
    "**Option 1,2,3:** one-hot encoding, ordinal number encoding, and feature hashing all become inefficient with such variety.\n",
    "\n",
    "**Option 4:** Use domain knowledge to create additional features. For example, we can look at the LiFeSiO4 formula, and turn it into 4 new columns, each one indicating how many of each atom are in the formula (for example, {Li: 1, Fe: 1, Si: 1, O: 4})"
   ]
  },
  {
   "cell_type": "code",
   "execution_count": 16,
   "metadata": {
    "ExecuteTime": {
     "end_time": "2021-02-23T14:25:18.663877Z",
     "start_time": "2021-02-23T14:25:18.613001Z"
    }
   },
   "outputs": [],
   "source": [
    "# Option 4: use chemparse package to create the new features of atom counts\n",
    "chem_data = data['Formula'].apply(chemparse.parse_formula)\n",
    "\n",
    "# Convert the dictionary into a dataframe and fill NaN's with zero's\n",
    "chem_data = pd.json_normalize(chem_data)\n",
    "chem_data = chem_data.fillna(0)\n",
    "\n",
    "data = data.join(chem_data)"
   ]
  },
  {
   "cell_type": "markdown",
   "metadata": {},
   "source": [
    "### `'Crystal System'` column\n",
    "This is the target column, and there are 3 different types of crystal structures we're trying to classify. To properly transform this to numerical data, we have to understand if we are working on a multi-class problem or a multi-label problem.\n",
    "\n",
    "- A multi-class problem is one in which there is only one distinct type of classification for each row. For example, a fruit is either an apple or an orange, but cannot be both. For a multi-class problem, the target value should be a single value, such as a 0 for apple and 1 for orange. In other words, it would be encoded to ordinal numbers.\n",
    "- A multi-label problem is one in which there are possibly multiple labels for each row. For example, classifying pictures of apples and oranges can include a picture of an apple alone, an orange alone, or both an apple and an orange. For a multi-label problem, the target value should be a vector representation, such as [1,0] for apple, [0,1] for orange, and [1,1] for both apple and orange. In other words, we would have to one-hot encode the target feature.\n",
    "\n",
    "Since the crystal system structure is unique, this is a multi-class problem. The target output should be encoded to a 0, 1, or 2. If it were a multi-label problem, the target output would have to be encoded to a vector of length 3. "
   ]
  },
  {
   "cell_type": "code",
   "execution_count": 17,
   "metadata": {
    "ExecuteTime": {
     "end_time": "2021-02-23T14:25:18.691334Z",
     "start_time": "2021-02-23T14:25:18.670299Z"
    }
   },
   "outputs": [],
   "source": [
    "# Encode Crystal System to ordinal values for multi-class problem\n",
    "labelencoder = LabelEncoder() #initializing an object of class LabelEncoder\n",
    "data['Crystal System (#)'] = labelencoder.fit_transform(data['Crystal System']) \n",
    "\n",
    "# For a multi-label problem, use one-hot encoding\n",
    "data[['monoclinic','orthorhombic','triclinic']] = pd.get_dummies(data['Crystal System'])"
   ]
  },
  {
   "cell_type": "code",
   "execution_count": 18,
   "metadata": {
    "ExecuteTime": {
     "end_time": "2021-02-23T14:25:18.961495Z",
     "start_time": "2021-02-23T14:25:18.693338Z"
    }
   },
   "outputs": [
    {
     "data": {
      "text/plain": [
       "<AxesSubplot:>"
      ]
     },
     "execution_count": 18,
     "metadata": {},
     "output_type": "execute_result"
    },
    {
     "data": {
      "image/png": "[encoded data removed]",
      "text/plain": [
       "<Figure size 432x288 with 1 Axes>"
      ]
     },
     "metadata": {
      "needs_background": "light"
     },
     "output_type": "display_data"
    }
   ],
   "source": [
    "# Check for balance\n",
    "data['Crystal System'].value_counts().plot(kind='bar')"
   ]
  },
  {
   "cell_type": "code",
   "execution_count": 19,
   "metadata": {
    "ExecuteTime": {
     "end_time": "2021-02-23T14:27:59.103602Z",
     "start_time": "2021-02-23T14:27:59.075634Z"
    }
   },
   "outputs": [],
   "source": [
    "# Save new features in dataframe\n",
    "data.to_csv('lithium_ion_data.csv',index=False)"
   ]
  },
  {
   "cell_type": "markdown",
   "metadata": {},
   "source": [
    "### Test performance"
   ]
  },
  {
   "cell_type": "code",
   "execution_count": 20,
   "metadata": {
    "ExecuteTime": {
     "end_time": "2021-02-23T14:28:01.058496Z",
     "start_time": "2021-02-23T14:28:01.032185Z"
    }
   },
   "outputs": [],
   "source": [
    "# All new numerical features (Crystal System excluded, since it's int32)\n",
    "features = list(data.select_dtypes(include=['int64','float64']).columns.values)\n",
    "\n",
    "ord_feat = ['Formation Energy (eV)','E Above Hull (eV)','Band Gap (eV)',\n",
    "            'Nsites','Density (gm/cc)','Volume','Has Bandstructure',\n",
    "            'Spacegroup (ordinal)','Li','Mn','Si','O','Fe','Co'\n",
    "           ]\n",
    "\n",
    "hash_feat = ['Formation Energy (eV)','E Above Hull (eV)','Band Gap (eV)',\n",
    "             'Nsites','Density (gm/cc)','Volume','Has Bandstructure',\n",
    "             'Spacegroup0','Spacegroup1','Spacegroup2',\n",
    "             'Li','Mn','Si','O','Fe','Co'\n",
    "            ]\n",
    "\n",
    "labels = ['Crystal System (#)']"
   ]
  },
  {
   "cell_type": "code",
   "execution_count": 22,
   "metadata": {
    "ExecuteTime": {
     "end_time": "2021-02-23T14:28:04.353940Z",
     "start_time": "2021-02-23T14:28:02.965905Z"
    },
    "scrolled": true
   },
   "outputs": [
    {
     "data": {
      "image/png": "[encoded data removed]",
      "text/plain": [
       "<Figure size 1152x360 with 6 Axes>"
      ]
     },
     "metadata": {
      "needs_background": "light"
     },
     "output_type": "display_data"
    }
   ],
   "source": [
    "plt.figure(figsize=(16,5))\n",
    "\n",
    "titles = ['Original Numerical Features Only',\n",
    "          'With Encoded Features\\n(Ordinal Spacegroup)',\n",
    "          'With Encoded Features\\n(Hashed Spacegroup)'\n",
    "         ]\n",
    "\n",
    "for i, feat in enumerate([num_feat,ord_feat,hash_feat]):\n",
    "    X = data[feat]\n",
    "    y = data[labels]\n",
    "\n",
    "    # 80% training data and 20% testing\n",
    "    Xtrain, Xtest, ytrain, ytest = train_test_split(X, y, test_size=0.2)\n",
    "\n",
    "    dtree = DecisionTreeClassifier()\n",
    "    dtree.fit(Xtrain,ytrain)\n",
    "    yp = dtree.predict(Xtest)\n",
    "    \n",
    "    # Plot confusion matrix\n",
    "    plt.subplot(1,3,i+1)\n",
    "    cm = confusion_matrix(ytest,yp)\n",
    "    sns.heatmap(cm,annot=True)\n",
    "    plt.title(titles[i])\n",
    "    \n",
    "plt.savefig('li-ion.png')"
   ]
  }
 ],
 "metadata": {
  "hide_input": false,
  "kernelspec": {
   "display_name": "Python 3",
   "language": "python",
   "name": "python3"
  },
  "language_info": {
   "codemirror_mode": {
    "name": "ipython",
    "version": 3
   },
   "file_extension": ".py",
   "mimetype": "text/x-python",
   "name": "python",
   "nbconvert_exporter": "python",
   "pygments_lexer": "ipython3",
   "version": "3.8.5"
  }
 },
 "nbformat": 4,
 "nbformat_minor": 4
}
