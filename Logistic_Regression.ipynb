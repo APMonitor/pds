{
 "cells": [
  {
   "cell_type": "markdown",
   "metadata": {},
   "source": [
    "### Machine Learning for Engineers: [LogisticRegression](https://www.apmonitor.com/pds/index.php/Main/LogisticRegression)\n",
    "- [Logistic Regression](https://www.apmonitor.com/pds/index.php/Main/LogisticRegression)\n",
    " - Source Blocks: 7\n",
    " - Description: Introduction to Logistic Regression\n",
    "- [Course Overview](https://apmonitor.com/pds)\n",
    "- [Course Schedule](https://apmonitor.com/pds/index.php/Main/CourseSchedule)\n",
    "\n",
    "\n",
    "<img align=left width=400px src='http://apmonitor.com/pds/uploads/Main/logistic_regression.png'>"
   ]
  },
  {
   "cell_type": "markdown",
   "metadata": {},
   "source": [
    "Logistic Regression with Scikit-Learn for data features `XA` and data labels `yA`.\n",
    "\n",
    "```python\n",
    "from sklearn.linear_model import LogisticRegression\n",
    "lr = LogisticRegression(solver='lbfgs')\n",
    "lr.fit(XA,yA)\n",
    "yP = lr.predict(XB)\n",
    "```"
   ]
  },
  {
   "cell_type": "code",
   "execution_count": null,
   "metadata": {},
   "outputs": [],
   "source": [
    "from sklearn import datasets\n",
    "from sklearn.model_selection import train_test_split\n",
    "import matplotlib.pyplot as plt\n",
    "import numpy as np\n",
    "\n",
    "from sklearn.linear_model import LogisticRegression\n",
    "classifier = LogisticRegression(max_iter=5000,\\\n",
    "                                solver='lbfgs',\\\n",
    "                                multi_class='auto')\n",
    "\n",
    "# The digits dataset\n",
    "digits = datasets.load_digits()\n",
    "n_samples = len(digits.images)\n",
    "data = digits.images.reshape((n_samples, -1))\n",
    "\n",
    "# Split into train and test subsets (50% each)\n",
    "X_train, X_test, y_train, y_test = train_test_split(\n",
    "    data, digits.target, test_size=0.5, shuffle=False)\n",
    "\n",
    "# Learn the digits on the first half of the digits\n",
    "classifier.fit(X_train, y_train)\n",
    "\n",
    "# Test on second half of data\n",
    "n = np.random.randint(int(n_samples/2),n_samples)\n",
    "print('Predicted: ' + str(classifier.predict(digits.data[n:n+1])[0]))\n",
    "\n",
    "# Show number\n",
    "plt.imshow(digits.images[n], cmap=plt.cm.gray_r, interpolation='nearest')\n",
    "plt.show()"
   ]
  },
  {
   "cell_type": "code",
   "execution_count": null,
   "metadata": {},
   "outputs": [],
   "source": [
    "import pandas as pd\n",
    "import numpy as np\n",
    "import matplotlib.pyplot as plt\n",
    "from sklearn.datasets import make_blobs\n",
    "import seaborn as sns\n",
    "\n",
    "# Generate blobs dataset\n",
    "features, label = make_blobs(n_samples=800, centers=2,\\\n",
    "                             n_features=2, random_state=12) \n",
    "data = pd.DataFrame()\n",
    "data['x1'] = features[:,0]\n",
    "data['x2'] = features[:,1]\n",
    "data['y']  = label\n",
    "\n",
    "sns.pairplot(data,hue='y')"
   ]
  },
  {
   "cell_type": "code",
   "execution_count": null,
   "metadata": {},
   "outputs": [],
   "source": [
    "from sklearn.model_selection import train_test_split\n",
    "train, test = train_test_split(data.values,test_size=0.2)"
   ]
  },
  {
   "cell_type": "code",
   "execution_count": null,
   "metadata": {},
   "outputs": [],
   "source": [
    "from math import exp\n",
    "def predict(row, beta):\n",
    "    x = row[0:2]\n",
    "    t = beta[0] + beta[1]*x[0] + beta[2]*x[1]\n",
    "    return 1.0 / (1.0 + exp(-t))"
   ]
  },
  {
   "cell_type": "code",
   "execution_count": null,
   "metadata": {},
   "outputs": [],
   "source": [
    "l_rate = 0.3\n",
    "n_epoch = 100\n",
    "\n",
    "loss = np.zeros(n_epoch)\n",
    "beta = [0.0,0.0,0.0]\n",
    "for epoch in range(n_epoch):\n",
    "    sum_error = 0\n",
    "    for row in train:\n",
    "        x = row[0:-1] # input features\n",
    "        y = row[-1]   # output label\n",
    "        p = predict(row, beta)\n",
    "        error = y - p\n",
    "        sum_error += error**2\n",
    "        beta[0] += l_rate * error * p * (1.0 - p)\n",
    "        beta[1] += l_rate * error * p * (1.0 - p) * x[0]\n",
    "        beta[2] += l_rate * error * p * (1.0 - p) * x[1]\n",
    "    loss[epoch] = sum_error\n",
    "\n",
    "print('Coefficients:',beta)\n",
    "plt.plot(loss)\n",
    "plt.xlabel('Epoch')\n",
    "plt.ylabel('Loss')"
   ]
  },
  {
   "cell_type": "code",
   "execution_count": null,
   "metadata": {},
   "outputs": [],
   "source": [
    "yhat = []\n",
    "for row in test:\n",
    "    yhat.append(round(predict(row, beta)))\n",
    "\n",
    "from sklearn.metrics import confusion_matrix\n",
    "cmat = confusion_matrix(test[:,-1],yhat)\n",
    "sns.heatmap(cmat,annot=True)"
   ]
  }
 ],
 "metadata": {
  "kernelspec": {
   "display_name": "Python 3",
   "language": "python",
   "name": "python3"
  },
  "language_info": {
   "codemirror_mode": {
    "name": "ipython",
    "version": 3
   },
   "file_extension": ".py",
   "mimetype": "text/x-python",
   "name": "python",
   "nbconvert_exporter": "python",
   "pygments_lexer": "ipython3",
   "version": "3.8.5"
  }
 },
 "nbformat": 4,
 "nbformat_minor": 2
}
