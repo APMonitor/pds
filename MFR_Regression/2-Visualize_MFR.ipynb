{
 "cells": [
  {
   "cell_type": "markdown",
   "metadata": {},
   "source": [
    "## 2-Visualize MFR"
   ]
  },
  {
   "cell_type": "code",
   "execution_count": null,
   "metadata": {
    "ExecuteTime": {
     "end_time": "2021-01-22T19:07:32.498759Z",
     "start_time": "2021-01-22T19:07:30.817858Z"
    }
   },
   "outputs": [],
   "source": [
    "import matplotlib.pyplot as plt\n",
    "%matplotlib inline\n",
    "import seaborn as sns\n",
    "import plotly.express as px"
   ]
  },
  {
   "cell_type": "markdown",
   "metadata": {},
   "source": [
    "![idea](https://apmonitor.com/che263/uploads/Begin_Python/idea.png)\n",
    "\n",
    "### Import Data\n",
    "\n",
    "Import the MFR Data:\n",
    "\n",
    "```python\n",
    "import numpy as np\n",
    "import pandas as pd\n",
    "data = pd.read_csv('algo.csv')\n",
    "data.columns = ['Time','C3=','H2R','Pressure','Level','C2=','Cat','Temp','MFR']\n",
    "data['lnMFR'] = np.log(data['MFR'].values)\n",
    "del data['Time']\n",
    "data = data.dropna() # drop any row with NaN\n",
    "data.head(10)\n",
    "```\n",
    "\n",
    "Run this code to import the data as a DataFrame."
   ]
  },
  {
   "cell_type": "code",
   "execution_count": null,
   "metadata": {
    "ExecuteTime": {
     "end_time": "2021-01-22T19:07:32.592759Z",
     "start_time": "2021-01-22T19:07:32.501769Z"
    }
   },
   "outputs": [],
   "source": []
  },
  {
   "cell_type": "markdown",
   "metadata": {},
   "source": [
    "![idea](https://apmonitor.com/che263/uploads/Begin_Python/idea.png)\n",
    "\n",
    "### Pair Plot\n",
    "\n",
    "A pair plot shows the correlation between variables.\n",
    "\n",
    "```python\n",
    "sns.pairplot(data)\n",
    "```\n",
    "\n",
    "It has bar distributions on the diagonal and scatter plots on the off-diagonal. A pair plot also shows a different color (`hue`) by category `w`. Pair plots show correlations between pairs of variables that may be related and gives a good indication of features (explanatory inputs) that are used for classification or regression."
   ]
  },
  {
   "cell_type": "code",
   "execution_count": null,
   "metadata": {
    "ExecuteTime": {
     "end_time": "2021-01-22T19:08:14.233566Z",
     "start_time": "2021-01-22T19:07:32.594758Z"
    }
   },
   "outputs": [],
   "source": []
  },
  {
   "cell_type": "markdown",
   "metadata": {},
   "source": [
    "![idea](https://apmonitor.com/che263/uploads/Begin_Python/idea.png)\n",
    "\n",
    "### Joint Plot\n",
    "\n",
    "A joint plot shows two variables, with the univariate and joint distributions.\n",
    "\n",
    "```python\n",
    "sns.jointplot(x='H2R',y='lnMFR',data=data,kind=\"kde\")\n",
    "```\n",
    "\n",
    "Try `kind='reg'`, `'kde'`, and `'hex'` to see different joint plot styles."
   ]
  },
  {
   "cell_type": "code",
   "execution_count": null,
   "metadata": {
    "ExecuteTime": {
     "end_time": "2021-01-22T19:08:17.984436Z",
     "start_time": "2021-01-22T19:08:14.233566Z"
    }
   },
   "outputs": [],
   "source": []
  },
  {
   "cell_type": "markdown",
   "metadata": {},
   "source": [
    "Try a count plot to show the number of binned samples of `lnMFR` such as with:\n",
    "\n",
    "```python\n",
    "sns.countplot(x=data['lnMFR'])\n",
    "```"
   ]
  },
  {
   "cell_type": "code",
   "execution_count": null,
   "metadata": {
    "ExecuteTime": {
     "end_time": "2021-01-22T19:08:21.331591Z",
     "start_time": "2021-01-22T19:08:17.986433Z"
    }
   },
   "outputs": [],
   "source": []
  },
  {
   "cell_type": "markdown",
   "metadata": {},
   "source": [
    "Create a correlation heat map\n",
    "\n",
    "```python\n",
    "plt.figure(figsize=(10,8))\n",
    "cor = data.corr()\n",
    "sns.heatmap(cor, annot=True,cmap=plt.cm.Reds)\n",
    "plt.show()\n",
    "```\n",
    "\n",
    "to examine the correlation among the variables. Which have the strongest correlation to `lnMFR`?"
   ]
  },
  {
   "cell_type": "code",
   "execution_count": null,
   "metadata": {
    "ExecuteTime": {
     "end_time": "2021-01-22T19:08:21.912049Z",
     "start_time": "2021-01-22T19:08:21.333592Z"
    }
   },
   "outputs": [],
   "source": []
  }
 ],
 "metadata": {
  "hide_input": false,
  "kernelspec": {
   "display_name": "Python 3",
   "language": "python",
   "name": "python3"
  },
  "language_info": {
   "codemirror_mode": {
    "name": "ipython",
    "version": 3
   },
   "file_extension": ".py",
   "mimetype": "text/x-python",
   "name": "python",
   "nbconvert_exporter": "python",
   "pygments_lexer": "ipython3",
   "version": "3.8.5"
  }
 },
 "nbformat": 4,
 "nbformat_minor": 2
}
