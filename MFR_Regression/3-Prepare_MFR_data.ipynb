{
 "cells": [
  {
   "cell_type": "markdown",
   "metadata": {},
   "source": [
    "## 3-Prepare Data\n",
    "\n",
    "Import the MFR Data:\n",
    "\n",
    "```python\n",
    "import numpy as np\n",
    "import pandas as pd\n",
    "url = 'http://apmonitor.com/pds/uploads/Main/polymer_reactor.txt'\n",
    "data = pd.read_csv(url)\n",
    "data.columns = ['Time','C3=','H2R','Pressure','Level','C2=','Cat','Temp','MFR']\n",
    "data['lnMFR'] = np.log(data['MFR'].values)\n",
    "del data['Time']\n",
    "data = data.dropna() # drop any row with NaN\n",
    "data.head(10)\n",
    "```\n",
    "\n",
    "Run this code to import the data as a DataFrame."
   ]
  },
  {
   "cell_type": "code",
   "execution_count": null,
   "metadata": {
    "ExecuteTime": {
     "end_time": "2021-01-22T19:07:35.832442Z",
     "start_time": "2021-01-22T19:07:34.595433Z"
    }
   },
   "outputs": [],
   "source": []
  },
  {
   "cell_type": "markdown",
   "metadata": {},
   "source": [
    "There are several graphical techniques to help detect outliers. A box or histogram plot shows outlying points."
   ]
  },
  {
   "cell_type": "code",
   "execution_count": null,
   "metadata": {
    "ExecuteTime": {
     "end_time": "2021-01-22T19:07:38.852430Z",
     "start_time": "2021-01-22T19:07:35.841435Z"
    }
   },
   "outputs": [],
   "source": [
    "import matplotlib.pyplot as plt\n",
    "%matplotlib inline\n",
    "plt.figure(figsize=(12,8))\n",
    "for i,c in enumerate(data.columns):\n",
    "    if i<=7:\n",
    "        plt.subplot(2,4,i+1)\n",
    "        plt.title(c)\n",
    "        plt.boxplot(data[c])\n",
    "plt.show()"
   ]
  },
  {
   "cell_type": "markdown",
   "metadata": {},
   "source": [
    "Remove outliers by removing select rows such as with:\n",
    "\n",
    "```python\n",
    "data = data[data['H2R']<0.7]\n",
    "data = data[data['H2R']>0.01]\n",
    "```\n",
    "\n",
    "to keep only values of `H2R` (Hydrogen to Monomer ratio) that are between 0.01 and 0.7."
   ]
  },
  {
   "cell_type": "code",
   "execution_count": null,
   "metadata": {
    "ExecuteTime": {
     "end_time": "2021-01-22T19:07:38.900431Z",
     "start_time": "2021-01-22T19:07:38.855432Z"
    }
   },
   "outputs": [],
   "source": []
  },
  {
   "cell_type": "markdown",
   "metadata": {},
   "source": [
    "Show the boxplot again to verify that the data set does not have outliers."
   ]
  },
  {
   "cell_type": "code",
   "execution_count": null,
   "metadata": {
    "ExecuteTime": {
     "end_time": "2021-01-22T19:07:40.480429Z",
     "start_time": "2021-01-22T19:07:38.907435Z"
    }
   },
   "outputs": [],
   "source": [
    "import matplotlib.pyplot as plt\n",
    "%matplotlib inline\n",
    "plt.figure(figsize=(12,8))\n",
    "for i,c in enumerate(data.columns):\n",
    "    if i<=7:\n",
    "        plt.subplot(2,4,i+1)\n",
    "        plt.title(c)\n",
    "        plt.boxplot(data[c])\n",
    "plt.show()"
   ]
  },
  {
   "cell_type": "markdown",
   "metadata": {},
   "source": [
    "Remove MFR and keep only ln(MFR) as `lnMFR`. You can delete a column `x` with `del data['x']`. "
   ]
  },
  {
   "cell_type": "code",
   "execution_count": null,
   "metadata": {
    "ExecuteTime": {
     "end_time": "2021-01-22T19:07:40.491428Z",
     "start_time": "2021-01-22T19:07:40.484430Z"
    }
   },
   "outputs": [],
   "source": []
  },
  {
   "cell_type": "markdown",
   "metadata": {},
   "source": [
    "### Scale Data\n",
    "\n",
    "Scale data with the Standard Scalar from scikit-learn.\n",
    "\n",
    "```python\n",
    "from sklearn.preprocessing import StandardScaler\n",
    "s = StandardScaler()\n",
    "ds = s.fit_transform(data)\n",
    "```"
   ]
  },
  {
   "cell_type": "code",
   "execution_count": null,
   "metadata": {
    "ExecuteTime": {
     "end_time": "2021-01-22T19:07:43.156052Z",
     "start_time": "2021-01-22T19:07:40.498430Z"
    }
   },
   "outputs": [],
   "source": []
  },
  {
   "cell_type": "markdown",
   "metadata": {},
   "source": [
    "The value `ds` is returned as a `numpy` array so we need to convert it back to a `pandas` `DataFrame`.\n",
    "\n",
    "```python\n",
    "ds = pd.DataFrame(ds,columns=data.columns)\n",
    "```\n",
    "\n",
    "Re-use the column names from `data`."
   ]
  },
  {
   "cell_type": "code",
   "execution_count": null,
   "metadata": {
    "ExecuteTime": {
     "end_time": "2021-01-22T19:07:43.188051Z",
     "start_time": "2021-01-22T19:07:43.160051Z"
    }
   },
   "outputs": [],
   "source": []
  },
  {
   "cell_type": "markdown",
   "metadata": {},
   "source": [
    "![idea](https://apmonitor.com/che263/uploads/Begin_Python/idea.png)\n",
    "\n",
    "### Divide Data\n",
    "\n",
    "Data is divided into train and test sets to separate a fraction of the rows for evaluating classification or regression models. A typical split is 80% for training and 20% for testing, although the range depends on how much data is available and the objective of the study."
   ]
  },
  {
   "cell_type": "markdown",
   "metadata": {},
   "source": [
    "The `train_test_split` is a function in `sklearn` for the specific purpose of splitting data into train and test sets.\n",
    "\n",
    "```python\n",
    "from sklearn.model_selection import train_test_split\n",
    "train,test = train_test_split(ds, test_size=0.2, shuffle=True)\n",
    "```\n",
    "\n",
    "There are options such as `shuffle=True` to randomize the selection in each set. "
   ]
  },
  {
   "cell_type": "code",
   "execution_count": null,
   "metadata": {
    "ExecuteTime": {
     "end_time": "2021-01-22T19:07:43.295196Z",
     "start_time": "2021-01-22T19:07:43.194053Z"
    }
   },
   "outputs": [],
   "source": []
  },
  {
   "cell_type": "markdown",
   "metadata": {},
   "source": [
    "### Save Data\n",
    "\n",
    "Save values that will be needed in the subsequent notebook."
   ]
  },
  {
   "cell_type": "code",
   "execution_count": null,
   "metadata": {
    "ExecuteTime": {
     "end_time": "2021-01-22T19:07:43.311212Z",
     "start_time": "2021-01-22T19:07:43.295196Z"
    }
   },
   "outputs": [],
   "source": [
    "import pickle\n",
    "info = [data,train,test,ds,s]\n",
    "\n",
    "with open('mfr_data.pkl', 'wb') as handle:\n",
    "    pickle.dump(info, handle, protocol=pickle.HIGHEST_PROTOCOL)"
   ]
  }
 ],
 "metadata": {
  "hide_input": false,
  "kernelspec": {
   "display_name": "Python 3",
   "language": "python",
   "name": "python3"
  },
  "language_info": {
   "codemirror_mode": {
    "name": "ipython",
    "version": 3
   },
   "file_extension": ".py",
   "mimetype": "text/x-python",
   "name": "python",
   "nbconvert_exporter": "python",
   "pygments_lexer": "ipython3",
   "version": "3.8.5"
  }
 },
 "nbformat": 4,
 "nbformat_minor": 2
}
