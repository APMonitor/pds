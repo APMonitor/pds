{
 "cells": [
  {
   "cell_type": "markdown",
   "metadata": {},
   "source": [
    "## 4-MFR Regression\n",
    "\n",
    "The is objective is to minimize a loss function such as a sum of squared errors between the measured and predicted values:\n",
    "\n",
    "$Loss = \\sum_{i=1}^{n}\\left(y_i-z_i\\right)^2$\n",
    "\n",
    "where `n` is the number of observations. Regression requires labelled data (output values) for training. Classification, on the other hand, can either be supervised (with `z` measurements, labels) or unsupervised (no labels, `z` measurements).\n",
    "\n",
    "```python\n",
    "import pickle\n",
    "with open('mfr_data.pkl', 'rb') as handle:\n",
    "    info = pickle.load(handle)\n",
    "data,test,train,ds,s = info\n",
    "```\n",
    "\n",
    "Load the `pkl` file from the prior notebook."
   ]
  },
  {
   "cell_type": "code",
   "execution_count": null,
   "metadata": {
    "ExecuteTime": {
     "end_time": "2021-01-22T19:07:45.543467Z",
     "start_time": "2021-01-22T19:07:42.492476Z"
    }
   },
   "outputs": [],
   "source": []
  },
  {
   "cell_type": "markdown",
   "metadata": {},
   "source": [
    "![idea](https://apmonitor.com/che263/uploads/Begin_Python/idea.png)\n",
    "\n",
    "### Linear Regression\n",
    "\n",
    "There are many model forms such as linear, polynomial, and nonlinear. A familiar linear model is a line with slope `a` and intercept `b` with `y = a x + b`.   \n",
    "    \n",
    "```python\n",
    "x = data['H2R'].values\n",
    "z = data['lnMFR'].values\n",
    "p1 = np.polyfit(x,z,1)\n",
    "```\n",
    "    \n",
    "A simple method for linear regression is with `numpy` to fit `p=np.polyfit(x,y,1)` and evaluate `np.polyval(p,x)` the model. Determine the slope and intercept that minimize the sum of squared errors (least squares) between the predicted `lnMFR` and measured `lnMFR` output using `H2R` as the input."
   ]
  },
  {
   "cell_type": "code",
   "execution_count": null,
   "metadata": {
    "ExecuteTime": {
     "end_time": "2021-01-22T19:07:45.796466Z",
     "start_time": "2021-01-22T19:07:45.546468Z"
    }
   },
   "outputs": [],
   "source": []
  },
  {
   "cell_type": "markdown",
   "metadata": {},
   "source": [
    "Another package is `statsmodels` that performs standard Ordinary Least Squares (OLS) analysis with a nice report summary.\n",
    "\n",
    "```python\n",
    "import statsmodels.api as sm\n",
    "xc = sm.add_constant(x)\n",
    "model = sm.OLS(z,xc).fit()\n",
    "predictions = model.predict(xc)\n",
    "model.summary()\n",
    "```\n",
    "\n",
    "The input `x` is augmented with a ones column so that it also predicts the intercept. This is accomplished with `xc=sm.add_constant(x)`. Perform a multiple linear regression with all of the data columns to predict `lnMFR`."
   ]
  },
  {
   "cell_type": "code",
   "execution_count": null,
   "metadata": {
    "ExecuteTime": {
     "end_time": "2021-01-22T19:07:45.811467Z",
     "start_time": "2021-01-22T19:07:45.799467Z"
    }
   },
   "outputs": [],
   "source": [
    "x_columns = data.columns[0:-1]; print(x)\n",
    "z_column  = data.columns[-1]; print(z)\n",
    "\n",
    "x = data[x_columns]\n",
    "z = data[z_column]"
   ]
  },
  {
   "cell_type": "code",
   "execution_count": null,
   "metadata": {
    "ExecuteTime": {
     "end_time": "2021-01-22T19:07:47.669826Z",
     "start_time": "2021-01-22T19:07:45.814471Z"
    }
   },
   "outputs": [],
   "source": []
  },
  {
   "cell_type": "markdown",
   "metadata": {},
   "source": [
    "### Select Best Features\n",
    "\n",
    "Rank the features to determine the best set that predicts `lnMFR`.\n",
    "\n",
    "```python\n",
    "from sklearn.feature_selection import SelectKBest, f_regression\n",
    "best = SelectKBest(score_func=f_regression, k='all')\n",
    "fit = best.fit(x,z)\n",
    "plt.bar(x=x.columns,height=fit.scores_)\n",
    "```\n",
    "\n",
    "There is additional information on [Select K Best Features](https://scikit-learn.org/stable/modules/generated/sklearn.feature_selection.SelectKBest.html)."
   ]
  },
  {
   "cell_type": "code",
   "execution_count": null,
   "metadata": {
    "ExecuteTime": {
     "end_time": "2021-01-22T19:07:48.075495Z",
     "start_time": "2021-01-22T19:07:47.673827Z"
    }
   },
   "outputs": [],
   "source": []
  },
  {
   "cell_type": "markdown",
   "metadata": {},
   "source": [
    "![exercise](https://apmonitor.com/che263/uploads/Begin_Python/exercise.png)\n",
    "\n",
    "### Machine Learning\n",
    "\n",
    "Machine learning is computer algorithms and statistical models that rely on patterns and inference. They perform a specific task without explicit instructions. Machine learned regression models can be as simple as linear regression or as complex as deep learning. This tutorial demonstrates several regression methods with `scikit-learn`."
   ]
  },
  {
   "cell_type": "markdown",
   "metadata": {},
   "source": [
    "#### Function for Plotting\n",
    "\n",
    "Run this code so that each of the regressor models will train and display on a 3D scatter and surface plot with `Pressure` and `lnMFR`."
   ]
  },
  {
   "cell_type": "code",
   "execution_count": null,
   "metadata": {
    "ExecuteTime": {
     "end_time": "2021-01-22T19:07:48.091496Z",
     "start_time": "2021-01-22T19:07:48.078495Z"
    }
   },
   "outputs": [],
   "source": [
    "def fit(method):\n",
    "    # create points for plotting surface\n",
    "    xp = np.arange(-5, 5, 0.2)\n",
    "    yp = np.arange(-5, 5, 0.2)\n",
    "    XP, YP = np.meshgrid(xp, yp)\n",
    "\n",
    "    model = method.fit(train[['H2R','Pressure']],train['lnMFR'])\n",
    "    zp = method.predict(np.vstack((XP.flatten(),YP.flatten())).T)\n",
    "    ZP = zp.reshape(np.size(XP,0),np.size(XP,1))\n",
    "\n",
    "    r2 = method.score(test[['H2R','Pressure']],test['lnMFR'])\n",
    "    print('R^2: ' + str(r2))\n",
    "\n",
    "    fig = plt.figure()\n",
    "    ax = fig.add_subplot(111, projection='3d')\n",
    "    ax.scatter(ds['H2R'],ds['Pressure'],ds['lnMFR'],c=z,cmap='plasma',label='data')\n",
    "    ax.plot_surface(XP, YP, ZP, cmap='coolwarm',alpha=0.7,\n",
    "                    linewidth=0, antialiased=False)\n",
    "    plt.show()\n",
    "    return"
   ]
  },
  {
   "cell_type": "markdown",
   "metadata": {},
   "source": [
    "#### Linear Regression with `sklearn`\n",
    "\n",
    "The simplest regressor is a linear model.\n",
    "\n",
    "```python\n",
    "from sklearn import linear_model\n",
    "lm = linear_model.LinearRegression()\n",
    "fit(lm)\n",
    "```\n",
    "\n",
    "This model is not expected to perform very well with the nonlinear data but it does predict the slope of the data."
   ]
  },
  {
   "cell_type": "code",
   "execution_count": null,
   "metadata": {
    "ExecuteTime": {
     "end_time": "2021-01-22T19:07:48.392084Z",
     "start_time": "2021-01-22T19:07:48.093497Z"
    },
    "scrolled": false
   },
   "outputs": [],
   "source": []
  },
  {
   "cell_type": "markdown",
   "metadata": {},
   "source": [
    "#### K-Nearest Neighbors\n",
    "\n",
    "Use the `KNeighborsRegressor` and adjust the `n_neighbors=20` to achieve a better $R^2$ value.\n",
    "\n",
    "```python\n",
    "from sklearn.neighbors import KNeighborsRegressor\n",
    "knn = KNeighborsRegressor(n_neighbors=20)\n",
    "fit(knn)\n",
    "```\n",
    "\n",
    "`n_neighbors` is an example of a hyper-parameter that can be optimized by a package such as `hyperopt` or with user experience."
   ]
  },
  {
   "cell_type": "code",
   "execution_count": null,
   "metadata": {
    "ExecuteTime": {
     "end_time": "2021-01-22T19:07:48.392084Z",
     "start_time": "2021-01-22T19:07:42.541Z"
    },
    "scrolled": true
   },
   "outputs": [],
   "source": []
  },
  {
   "cell_type": "markdown",
   "metadata": {},
   "source": [
    "#### Support Vector Regressor\n",
    "\n",
    "Use a Support Vector Regressor (`SVR`) to perform the regression.\n",
    "\n",
    "```python\n",
    "from sklearn import svm\n",
    "s = svm.SVR(gamma='scale')\n",
    "fit(s)\n",
    "```\n",
    "\n",
    "What are the hyper-parameters for this regressor?"
   ]
  },
  {
   "cell_type": "code",
   "execution_count": null,
   "metadata": {
    "ExecuteTime": {
     "end_time": "2021-01-22T19:07:48.392084Z",
     "start_time": "2021-01-22T19:07:42.545Z"
    },
    "scrolled": true
   },
   "outputs": [],
   "source": []
  },
  {
   "cell_type": "markdown",
   "metadata": {},
   "source": [
    "#### Multilayer Perceptron (Neural Network)\n",
    "\n",
    "Train a neural network to predict the `lnMFR`.\n",
    "\n",
    "```python\n",
    "from sklearn.neural_network import MLPRegressor\n",
    "# activation{‘identity’, ‘logistic’, ‘tanh’, ‘relu’}, default=’relu’\n",
    "nn = MLPRegressor(hidden_layer_sizes=(3), \n",
    "                  activation='tanh', solver='lbfgs')\n",
    "fit(nn)\n",
    "```\n",
    "\n",
    "Adust the `hidden_layer_sizes` such as with deep learning `(3,5,3)` to achieve a better fit."
   ]
  },
  {
   "cell_type": "code",
   "execution_count": null,
   "metadata": {
    "ExecuteTime": {
     "end_time": "2021-01-22T19:07:48.407707Z",
     "start_time": "2021-01-22T19:07:42.551Z"
    }
   },
   "outputs": [],
   "source": []
  },
  {
   "cell_type": "markdown",
   "metadata": {},
   "source": [
    "### Additional Features\n",
    "\n",
    "Repeat the analysis but now generate a parity plot of measured versus predicted values with all features, not just `Pressure` and `H2R`."
   ]
  },
  {
   "cell_type": "code",
   "execution_count": null,
   "metadata": {
    "ExecuteTime": {
     "end_time": "2021-01-22T19:07:48.407707Z",
     "start_time": "2021-01-22T19:07:42.554Z"
    }
   },
   "outputs": [],
   "source": [
    "def fitn(method):\n",
    "    f = train.columns\n",
    "    model = method.fit(train[f[0:-1]],train['lnMFR'])\n",
    "\n",
    "    r2 = method.score(test[f[0:-1]],test['lnMFR'])\n",
    "    print('R^2: ' + str(r2))\n",
    "    \n",
    "    MFR_pred = method.predict(test[f[0:-1]])\n",
    "    \n",
    "    plt.plot(test['lnMFR'],MFR_pred,'b.')\n",
    "    plt.plot([-1,2],[-1,2],'k-')\n",
    "\n",
    "    return"
   ]
  },
  {
   "cell_type": "markdown",
   "metadata": {},
   "source": [
    "#### Linear Regression\n",
    "\n",
    "```python\n",
    "lm = linear_model.LinearRegression()\n",
    "fitn(lm)\n",
    "```"
   ]
  },
  {
   "cell_type": "code",
   "execution_count": null,
   "metadata": {
    "ExecuteTime": {
     "end_time": "2021-01-22T19:07:48.407707Z",
     "start_time": "2021-01-22T19:07:42.559Z"
    }
   },
   "outputs": [],
   "source": []
  },
  {
   "cell_type": "markdown",
   "metadata": {},
   "source": [
    "#### K Nearest Neighbors\n",
    "\n",
    "```python\n",
    "knn = KNeighborsRegressor(n_neighbors=20)\n",
    "fitn(knn)\n",
    "```"
   ]
  },
  {
   "cell_type": "code",
   "execution_count": null,
   "metadata": {
    "ExecuteTime": {
     "end_time": "2021-01-22T19:07:48.407707Z",
     "start_time": "2021-01-22T19:07:42.564Z"
    }
   },
   "outputs": [],
   "source": []
  },
  {
   "cell_type": "markdown",
   "metadata": {},
   "source": [
    "#### Support Vector Regressor\n",
    "\n",
    "```python\n",
    "s = svm.SVR(gamma='scale')\n",
    "fitn(s)\n",
    "```"
   ]
  },
  {
   "cell_type": "code",
   "execution_count": null,
   "metadata": {
    "ExecuteTime": {
     "end_time": "2021-01-22T19:07:48.407707Z",
     "start_time": "2021-01-22T19:07:42.569Z"
    }
   },
   "outputs": [],
   "source": []
  },
  {
   "cell_type": "markdown",
   "metadata": {},
   "source": [
    "#### Neural Network\n",
    "\n",
    "```python\n",
    "nn = MLPRegressor(hidden_layer_sizes=(3), max_iter=1000, \\\n",
    "                  activation='tanh', solver='lbfgs')\n",
    "fitn(nn)\n",
    "```"
   ]
  },
  {
   "cell_type": "code",
   "execution_count": null,
   "metadata": {
    "ExecuteTime": {
     "end_time": "2021-01-22T19:07:48.407707Z",
     "start_time": "2021-01-22T19:07:42.572Z"
    }
   },
   "outputs": [],
   "source": []
  },
  {
   "cell_type": "markdown",
   "metadata": {},
   "source": [
    "Repeat the neural network fit but use TensorFlow and Keras instead of Scikit-learn"
   ]
  },
  {
   "cell_type": "code",
   "execution_count": null,
   "metadata": {
    "ExecuteTime": {
     "end_time": "2021-01-22T19:07:48.423334Z",
     "start_time": "2021-01-22T19:07:42.580Z"
    }
   },
   "outputs": [],
   "source": [
    "from keras.models import Sequential\n",
    "from keras.layers import *\n",
    "\n",
    "#################################################################\n",
    "### Train model #################################################\n",
    "#################################################################\n",
    "f = train.columns\n",
    "n_inputs = len(f)-1\n",
    "nodes = 10\n",
    "\n",
    "# create neural network model\n",
    "model = Sequential()\n",
    "model.add(Dense(n_inputs, input_dim=n_inputs, activation='linear'))\n",
    "model.add(Dense(nodes, activation='linear'))\n",
    "model.add(Dense(nodes, activation='tanh'))\n",
    "model.add(Dense(nodes, activation='tanh'))\n",
    "model.add(Dense(nodes, activation='linear'))\n",
    "model.add(Dense(1, activation='linear'))\n",
    "model.compile(loss=\"mean_squared_error\", optimizer=\"adam\")\n",
    "\n",
    "# load training data\n",
    "X1 = train.drop('lnMFR', axis=1).values\n",
    "Y1 = train[['lnMFR']].values\n",
    "\n",
    "# train the model\n",
    "model.fit(X1,Y1,epochs=300,verbose=1,shuffle=True)\n",
    "\n",
    "# Save the model to hard drive\n",
    "#model.save('model.h5')"
   ]
  },
  {
   "cell_type": "code",
   "execution_count": null,
   "metadata": {
    "ExecuteTime": {
     "end_time": "2021-01-22T19:07:48.423334Z",
     "start_time": "2021-01-22T19:07:42.585Z"
    }
   },
   "outputs": [],
   "source": [
    "#################################################################\n",
    "### Test model ##################################################\n",
    "#################################################################\n",
    "\n",
    "# Load the model from hard drive\n",
    "#model.load('model.h5')\n",
    "\n",
    "# load test data\n",
    "X2 = test.drop('lnMFR', axis=1).values\n",
    "Y2 = test[['lnMFR']].values\n",
    "\n",
    "# test the model\n",
    "mse = model.evaluate(X2,Y2, verbose=1)\n",
    "\n",
    "print('Mean Squared Error: ', mse)"
   ]
  },
  {
   "cell_type": "code",
   "execution_count": null,
   "metadata": {
    "ExecuteTime": {
     "end_time": "2021-01-22T19:07:48.423334Z",
     "start_time": "2021-01-22T19:07:42.600Z"
    }
   },
   "outputs": [],
   "source": [
    "lnMFR_pred = model.predict(X2)\n",
    "plt.plot(test['lnMFR'],lnMFR_pred,'b.')\n",
    "plt.plot([-1,2],[-1,2],'k-')"
   ]
  }
 ],
 "metadata": {
  "hide_input": false,
  "kernelspec": {
   "display_name": "Python 3",
   "language": "python",
   "name": "python3"
  },
  "language_info": {
   "codemirror_mode": {
    "name": "ipython",
    "version": 3
   },
   "file_extension": ".py",
   "mimetype": "text/x-python",
   "name": "python",
   "nbconvert_exporter": "python",
   "pygments_lexer": "ipython3",
   "version": "3.8.5"
  }
 },
 "nbformat": 4,
 "nbformat_minor": 2
}
