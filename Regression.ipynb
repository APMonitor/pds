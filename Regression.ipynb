{
 "cells": [
  {
   "cell_type": "markdown",
   "metadata": {},
   "source": [
    "### Machine Learning for Engineers: [Regression Overview](https://www.apmonitor.com/pds/index.php/Main/RegressionOverview)\n",
    "- [Regression Overview](https://www.apmonitor.com/pds/index.php/Main/RegressionOverview)\n",
    " - Description: Regression is a type of supervised learning that predicts continuous output values from a set of input features. The goal of regression is to build a model that can accurately predict the target variable for new, unseen data.\n",
    "- [Course Overview](https://apmonitor.com/pds)\n",
    "- [Course Schedule](https://apmonitor.com/pds/index.php/Main/CourseSchedule)\n",
    "\n",
    "<img align=left width=500px src='https://apmonitor.com/pds/uploads/Main/regression.png'>"
   ]
  },
  {
   "cell_type": "markdown",
   "metadata": {},
   "source": [
    "#### 1D Linear Regression"
   ]
  },
  {
   "cell_type": "code",
   "execution_count": null,
   "metadata": {},
   "outputs": [],
   "source": [
    "import numpy as np\n",
    "import matplotlib.pyplot as plt\n",
    "from sklearn.datasets import make_regression\n",
    "from sklearn.linear_model import LinearRegression\n",
    "\n",
    "# Generate sample data\n",
    "X, y = make_regression(n_samples=100, n_features=1, noise=10, random_state=0)\n",
    "\n",
    "# Fit a linear regression model\n",
    "model = LinearRegression()\n",
    "model.fit(X, y)\n",
    "\n",
    "# Plot the data and the fitted line\n",
    "plt.scatter(X, y, color='blue', label='data')\n",
    "plt.plot(X, model.predict(X), 'r-', label='predicted')\n",
    "plt.xlabel('X'); plt.ylabel('y'); plt.legend()\n",
    "plt.grid(); plt.savefig('linreg1D.png',dpi=300)\n",
    "plt.show()"
   ]
  },
  {
   "cell_type": "markdown",
   "metadata": {},
   "source": [
    "#### 2D Linear Regression"
   ]
  },
  {
   "cell_type": "code",
   "execution_count": null,
   "metadata": {},
   "outputs": [],
   "source": [
    "import numpy as np\n",
    "import matplotlib.pyplot as plt\n",
    "from sklearn.datasets import make_regression\n",
    "from sklearn.linear_model import LinearRegression\n",
    "\n",
    "# Generate sample data with 2 features\n",
    "X, y = make_regression(n_samples=100, n_features=2, noise=50, random_state=0)\n",
    "\n",
    "# Fit a linear regression model\n",
    "model = LinearRegression()\n",
    "model.fit(X, y)\n",
    "\n",
    "# Plot the data and the fitted surface\n",
    "fig = plt.figure()\n",
    "ax = plt.axes(projection='3d')\n",
    "ax.scatter(X[:, 0], X[:, 1], y, color='blue')\n",
    "x0_surf, x1_surf = np.meshgrid(np.linspace(-3, 3, 10),\n",
    "                               np.linspace(-3, 3, 10))\n",
    "Xp = np.array([x0_surf.ravel(),x1_surf.ravel()]).T\n",
    "y_surf = model.predict(Xp).reshape(x0_surf.shape)\n",
    "ax.plot_surface(x0_surf, x1_surf, y_surf, cmap='coolwarm')\n",
    "ax.set_xlabel(r'Feature $x_0$')\n",
    "ax.set_ylabel(r'Feature $x_1$')\n",
    "ax.set_zlabel(r'Output $y$')\n",
    "plt.show()"
   ]
  },
  {
   "cell_type": "markdown",
   "metadata": {},
   "source": [
    "#### 5D Linear Regression"
   ]
  },
  {
   "cell_type": "code",
   "execution_count": null,
   "metadata": {},
   "outputs": [],
   "source": [
    "import numpy as np\n",
    "import matplotlib.pyplot as plt\n",
    "from sklearn.datasets import make_regression\n",
    "from sklearn.linear_model import LinearRegression\n",
    "from sklearn.model_selection import train_test_split\n",
    "\n",
    "# Generate some sample data with a linear relationship\n",
    "X, y = make_regression(n_samples=100, n_features=5,\n",
    "                       noise=50, random_state=0)\n",
    "\n",
    "X_train, X_test, \\\n",
    "y_train, y_test = train_test_split(X, y,\n",
    "                                   test_size=0.2,\n",
    "                                   random_state=12)\n",
    "\n",
    "# Fit a linear regression model to the data\n",
    "model = LinearRegression()\n",
    "model.fit(X_train, y_train)\n",
    "\n",
    "# Plot the data and fit\n",
    "plt.figure(figsize=(6,5))\n",
    "plt.subplot(2,1,1)\n",
    "plt.plot([-400,400],[-400,400],'b--')\n",
    "yp = model.predict(X_train)\n",
    "plt.scatter(y_train, yp, color='red',label='Train')\n",
    "plt.grid(); plt.tight_layout(); plt.legend()\n",
    "plt.xlabel('Measured'); plt.ylabel('Predicted')\n",
    "\n",
    "plt.subplot(2,1,2)\n",
    "plt.plot([-400,400],[-400,400],'b--')\n",
    "yp = model.predict(X_test)\n",
    "plt.scatter(y_test, yp, color='orange',label='Test')\n",
    "plt.grid(); plt.tight_layout(); plt.legend()\n",
    "plt.xlabel('Measured'); plt.ylabel('Predicted')\n",
    "plt.savefig('parity.png',dpi=300)\n",
    "plt.show()"
   ]
  },
  {
   "cell_type": "markdown",
   "metadata": {},
   "source": [
    "#### Many Regression Methods"
   ]
  },
  {
   "cell_type": "code",
   "execution_count": null,
   "metadata": {},
   "outputs": [],
   "source": [
    "import numpy as np\n",
    "import matplotlib.pyplot as plt\n",
    "from lazypredict.Supervised import LazyRegressor\n",
    "from sklearn.preprocessing import StandardScaler\n",
    "from sklearn.model_selection import train_test_split\n",
    "from sklearn.datasets import make_regression\n",
    "\n",
    "# Generate some sample data with a linear relationship\n",
    "X, y = make_regression(n_samples=100, n_features=5,\n",
    "                       noise=50, random_state=0)\n",
    "y  = y.reshape((-1, 1))\n",
    "\n",
    "# scale data\n",
    "s0 = StandardScaler();    s1 = StandardScaler()\n",
    "Xs = s0.fit_transform(X); ys = s1.fit_transform(y)\n",
    "\n",
    "# train / test split\n",
    "Xs_train, Xs_test, \\\n",
    "ys_train, ys_test = train_test_split(Xs, ys,\n",
    "                                     test_size=0.2,\n",
    "                                     random_state=12)\n",
    "\n",
    "# evaluate many regressors\n",
    "reg = LazyRegressor(verbose=0, ignore_warnings=False, custom_metric=None)\n",
    "models, predictions = reg.fit(Xs_train, Xs_test, ys_train, ys_test)\n",
    "\n",
    "# print results\n",
    "print(models)\n",
    "models.to_csv('results.csv')"
   ]
  }
 ],
 "metadata": {
  "kernelspec": {
   "display_name": "Python 3 (ipykernel)",
   "language": "python",
   "name": "python3"
  },
  "language_info": {
   "codemirror_mode": {
    "name": "ipython",
    "version": 3
   },
   "file_extension": ".py",
   "mimetype": "text/x-python",
   "name": "python",
   "nbconvert_exporter": "python",
   "pygments_lexer": "ipython3",
   "version": "3.9.13"
  }
 },
 "nbformat": 4,
 "nbformat_minor": 2
}
