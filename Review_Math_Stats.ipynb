{
 "cells": [
  {
   "cell_type": "markdown",
   "metadata": {},
   "source": [
    "# Math and Statistics Review for ML\n",
    "Using the smallpox data set, review relevant mathematical and statistical methods commonly used in machine learning. An example will be shown using the Utah data. Choose another state and perform the same operations on the data for that state."
   ]
  },
  {
   "cell_type": "code",
   "execution_count": 15,
   "metadata": {
    "ExecuteTime": {
     "end_time": "2021-01-05T22:17:24.758970Z",
     "start_time": "2021-01-05T22:17:24.158234Z"
    },
    "scrolled": true
   },
   "outputs": [
    {
     "name": "stdout",
     "output_type": "stream",
     "text": [
      "     week state  state_name   disease  cases  incidence_per_capita\n",
      "0  192801    AL     ALABAMA  SMALLPOX      1                  0.04\n",
      "1  192801    AR    ARKANSAS  SMALLPOX      7                  0.38\n",
      "2  192801    AZ     ARIZONA  SMALLPOX      0                  0.00\n",
      "3  192801    CA  CALIFORNIA  SMALLPOX     18                  0.34\n",
      "4  192801    CO    COLORADO  SMALLPOX     31                  3.06\n"
     ]
    }
   ],
   "source": [
    "import pandas as pd\n",
    "import numpy as np\n",
    "\n",
    "data = pd.read_csv('https://apmonitor.com/pds/uploads/Main/smallpox.txt')\n",
    "print(data.head())"
   ]
  },
  {
   "cell_type": "markdown",
   "metadata": {},
   "source": [
    "### Summary Statistics with Pandas describe() Function\n",
    "\n",
    "Pandas imports data, generates summary statistics, and manipulates data tables. There are many functions that allow efficient manipulation for the preliminary steps of data analysis problems. The data.describe() command gives a table of summary statistics."
   ]
  },
  {
   "cell_type": "code",
   "execution_count": 14,
   "metadata": {},
   "outputs": [
    {
     "data": {
      "text/html": [
       "<div>\n",
       "<style scoped>\n",
       "    .dataframe tbody tr th:only-of-type {\n",
       "        vertical-align: middle;\n",
       "    }\n",
       "\n",
       "    .dataframe tbody tr th {\n",
       "        vertical-align: top;\n",
       "    }\n",
       "\n",
       "    .dataframe thead th {\n",
       "        text-align: right;\n",
       "    }\n",
       "</style>\n",
       "<table border=\"1\" class=\"dataframe\">\n",
       "  <thead>\n",
       "    <tr style=\"text-align: right;\">\n",
       "      <th></th>\n",
       "      <th>week</th>\n",
       "      <th>cases</th>\n",
       "      <th>incidence_per_capita</th>\n",
       "    </tr>\n",
       "  </thead>\n",
       "  <tbody>\n",
       "    <tr>\n",
       "      <th>count</th>\n",
       "      <td>50916.000000</td>\n",
       "      <td>50916.000000</td>\n",
       "      <td>50916.000000</td>\n",
       "    </tr>\n",
       "    <tr>\n",
       "      <th>mean</th>\n",
       "      <td>193809.850636</td>\n",
       "      <td>4.572787</td>\n",
       "      <td>0.249108</td>\n",
       "    </tr>\n",
       "    <tr>\n",
       "      <th>std</th>\n",
       "      <td>591.489888</td>\n",
       "      <td>15.062277</td>\n",
       "      <td>0.824331</td>\n",
       "    </tr>\n",
       "    <tr>\n",
       "      <th>min</th>\n",
       "      <td>192801.000000</td>\n",
       "      <td>0.000000</td>\n",
       "      <td>0.000000</td>\n",
       "    </tr>\n",
       "    <tr>\n",
       "      <th>25%</th>\n",
       "      <td>193312.000000</td>\n",
       "      <td>0.000000</td>\n",
       "      <td>0.000000</td>\n",
       "    </tr>\n",
       "    <tr>\n",
       "      <th>50%</th>\n",
       "      <td>193819.000000</td>\n",
       "      <td>0.000000</td>\n",
       "      <td>0.000000</td>\n",
       "    </tr>\n",
       "    <tr>\n",
       "      <th>75%</th>\n",
       "      <td>194324.000000</td>\n",
       "      <td>2.000000</td>\n",
       "      <td>0.090000</td>\n",
       "    </tr>\n",
       "    <tr>\n",
       "      <th>max</th>\n",
       "      <td>195250.000000</td>\n",
       "      <td>350.000000</td>\n",
       "      <td>50.360000</td>\n",
       "    </tr>\n",
       "  </tbody>\n",
       "</table>\n",
       "</div>"
      ],
      "text/plain": [
       "                week         cases  incidence_per_capita\n",
       "count   50916.000000  50916.000000          50916.000000\n",
       "mean   193809.850636      4.572787              0.249108\n",
       "std       591.489888     15.062277              0.824331\n",
       "min    192801.000000      0.000000              0.000000\n",
       "25%    193312.000000      0.000000              0.000000\n",
       "50%    193819.000000      0.000000              0.000000\n",
       "75%    194324.000000      2.000000              0.090000\n",
       "max    195250.000000    350.000000             50.360000"
      ]
     },
     "execution_count": 14,
     "metadata": {},
     "output_type": "execute_result"
    }
   ],
   "source": [
    "data.describe()"
   ]
  },
  {
   "cell_type": "markdown",
   "metadata": {
    "ExecuteTime": {
     "end_time": "2021-01-05T22:08:55.926806Z",
     "start_time": "2021-01-05T22:08:55.909801Z"
    }
   },
   "source": [
    "### Summary Statistics with Pandas Profiling\n",
    "\n",
    "Pandas Profiling generates more detailed analysis than the pandas describe function. It produces an overview of data with only a couple lines of code. Use minimial=True to avoid running the correlation plots that take a long time with large data sets. Run the code to generate the profile of the data and view either as a Notebook widget or as an html file. Explore the data to determine the relationships between the variables. The `minimal=True` avoids the analysis sections that take a long time with large data sets."
   ]
  },
  {
   "cell_type": "code",
   "execution_count": 12,
   "metadata": {},
   "outputs": [
    {
     "data": {
      "application/vnd.jupyter.widget-view+json": {
       "model_id": "5a87be278bcd4c1088e3a82a5208b3b5",
       "version_major": 2,
       "version_minor": 0
      },
      "text/plain": [
       "HBox(children=(HTML(value='Summarize dataset'), FloatProgress(value=0.0, max=15.0), HTML(value='')))"
      ]
     },
     "metadata": {},
     "output_type": "display_data"
    },
    {
     "name": "stdout",
     "output_type": "stream",
     "text": [
      "\n"
     ]
    },
    {
     "data": {
      "application/vnd.jupyter.widget-view+json": {
       "model_id": "dce7eff3fd114525aed9caf505ef4f09",
       "version_major": 2,
       "version_minor": 0
      },
      "text/plain": [
       "HBox(children=(HTML(value='Generate report structure'), FloatProgress(value=0.0, max=1.0), HTML(value='')))"
      ]
     },
     "metadata": {},
     "output_type": "display_data"
    },
    {
     "name": "stdout",
     "output_type": "stream",
     "text": [
      "\n"
     ]
    },
    {
     "data": {
      "application/vnd.jupyter.widget-view+json": {
       "model_id": "",
       "version_major": 2,
       "version_minor": 0
      },
      "text/plain": [
       "HBox(children=(HTML(value='Render widgets'), FloatProgress(value=0.0, max=1.0), HTML(value='')))"
      ]
     },
     "metadata": {},
     "output_type": "display_data"
    },
    {
     "data": {
      "application/vnd.jupyter.widget-view+json": {
       "model_id": "063d4417679d466d9f2c926d27fee270",
       "version_major": 2,
       "version_minor": 0
      },
      "text/plain": [
       "VBox(children=(Tab(children=(Tab(children=(GridBox(children=(VBox(children=(GridspecLayout(children=(HTML(valu…"
      ]
     },
     "metadata": {},
     "output_type": "display_data"
    }
   ],
   "source": [
    "from pandas_profiling import ProfileReport\n",
    "\n",
    "profile = ProfileReport(data, explorative=True, minimal=True)\n",
    "try:\n",
    "   profile.to_widgets()         # view as widget in Notebook\n",
    "except:\n",
    "   profile.to_file('smallpox.html') # save as html file"
   ]
  },
  {
   "cell_type": "markdown",
   "metadata": {},
   "source": [
    "# Mathematics"
   ]
  },
  {
   "cell_type": "markdown",
   "metadata": {},
   "source": [
    "### Scalars, Vectors, and Matrices\n",
    "**Scalars** are simple numerical values, and are typically denoted by an italicized letter, like _x_ or _a_.\n",
    "\n",
    "**Vectors** are ordered lists of scalar values, and are denoted with bold letters, such as **x** or **w**. The specific attribute of a vector is denoted by a superscript, like so: _w_$^{(j)}$. For example, the vector **w** = [3,2] has the attribute _w_$^{(1)}$ = 3.\n",
    "\n",
    "**Matrices** are rectangular arrays of numbers arranged in rows or columns, and are denoted with bold capital letters, such as **A** or **W**.\n",
    "\n",
    "In Python, matrices and vectors are called \"arrays.\" "
   ]
  },
  {
   "cell_type": "code",
   "execution_count": 2,
   "metadata": {
    "ExecuteTime": {
     "end_time": "2021-01-05T22:17:24.778026Z",
     "start_time": "2021-01-05T22:17:24.760957Z"
    },
    "scrolled": true
   },
   "outputs": [
    {
     "name": "stdout",
     "output_type": "stream",
     "text": [
      "Matrix: [[19.    3.77]\n",
      " [33.    6.55]\n",
      " [17.    3.37]\n",
      " ...\n",
      " [ 0.    0.  ]\n",
      " [ 0.    0.  ]\n",
      " [13.    1.99]]\n",
      "Dimensions: (1055, 2)\n"
     ]
    }
   ],
   "source": [
    "UT = data[data['state'] == 'UT']\n",
    "\n",
    "# Create a matrix containing data from the 'cases' and 'indicence_per_capita' columns\n",
    "matrix = UT[['cases','incidence_per_capita']].values\n",
    "print('Matrix:',matrix)\n",
    "print('Dimensions:',matrix.shape)"
   ]
  },
  {
   "cell_type": "code",
   "execution_count": 3,
   "metadata": {
    "ExecuteTime": {
     "end_time": "2021-01-05T22:17:24.793058Z",
     "start_time": "2021-01-05T22:17:24.780029Z"
    }
   },
   "outputs": [
    {
     "name": "stdout",
     "output_type": "stream",
     "text": [
      "Vector: [19. 33. 17. ...  0.  0. 13.]\n",
      "Dimension: (1055,)\n"
     ]
    }
   ],
   "source": [
    "# The vector is composed of the values in the '0'\n",
    "#    column (first columns) of the matrix\n",
    "# Use the : to get all values in the row, and\n",
    "#    the 0 to get all values in the '0' column\n",
    "vector = matrix[:,0]\n",
    "print('Vector:',vector)\n",
    "print('Dimension:',vector.shape)"
   ]
  },
  {
   "cell_type": "code",
   "execution_count": 4,
   "metadata": {
    "ExecuteTime": {
     "end_time": "2021-01-05T22:17:24.809075Z",
     "start_time": "2021-01-05T22:17:24.795058Z"
    },
    "scrolled": false
   },
   "outputs": [
    {
     "name": "stdout",
     "output_type": "stream",
     "text": [
      "Scalar: 4.0\n",
      "Dimension: ()\n"
     ]
    }
   ],
   "source": [
    "# Create a scalar out of the 6th attribute of the vector\n",
    "# Python starts counts with the number 0, so the [5]\n",
    "#   indicates the 6th value in the array\n",
    "scalar = vector[5]\n",
    "print('Scalar:',scalar)\n",
    "print('Dimension:',scalar.shape)"
   ]
  },
  {
   "cell_type": "markdown",
   "metadata": {},
   "source": [
    "**Activity:** \n",
    "1. Create a matrix **X** out of the 'cases' and 'incidence_per_capita' columns of a state of your choice\n",
    "2. Create a vector **x** containing all the values in the 'incidence_per_capita' column of **X**\n",
    "3. Create a scalar _x_$^{(12)}$ from the 12th value in **x** (remember to use x[13])\n",
    "4. Find the dot product between the 2 distinct vectors in matrix **X**. It may be helpful to import numpy and use np.dot()"
   ]
  },
  {
   "cell_type": "code",
   "execution_count": null,
   "metadata": {},
   "outputs": [],
   "source": []
  },
  {
   "cell_type": "markdown",
   "metadata": {},
   "source": [
    "### Summations and Products\n",
    "It's sometimes useful to sum or multiply all attributes of a vector. The notation for summations over a vector **x** = [x$^{(1)}$,x$^{(2)}$,...x$^{(n-1)}$,x$^{(n)}$] looks like this:\n",
    "\n",
    "$$\\sum_{i=1}^nx^{(i)} = x^{(1)} + x^{(2)} + ...+x^{(n-1)} + x^{(n)}$$\n",
    "\n",
    "Similarly, the product is summarized using the capital pi notation:\n",
    "\n",
    "$$\\prod_{i=1}^nx^{(i)} = x^{(1)} \\cdot x^{(2)} \\cdot ...\\cdot x^{(n-1)} \\cdot x^{(n)}$$"
   ]
  },
  {
   "cell_type": "code",
   "execution_count": 5,
   "metadata": {
    "ExecuteTime": {
     "end_time": "2021-01-05T22:17:24.825060Z",
     "start_time": "2021-01-05T22:17:24.812027Z"
    }
   },
   "outputs": [
    {
     "name": "stdout",
     "output_type": "stream",
     "text": [
      "Sum: 896\n"
     ]
    }
   ],
   "source": [
    "# Find the total number of smallpox cases over all time in Utah\n",
    "UT_sum = np.sum(UT['cases'])\n",
    "print('Sum:',UT_sum)"
   ]
  },
  {
   "cell_type": "markdown",
   "metadata": {},
   "source": [
    "**Activity**: Find the total number of cases in another state."
   ]
  },
  {
   "cell_type": "code",
   "execution_count": null,
   "metadata": {},
   "outputs": [],
   "source": []
  },
  {
   "cell_type": "markdown",
   "metadata": {},
   "source": [
    "### Derivatives and Gradients\n",
    "You should be familiar with analytical derivatives and gradients from calculus courses. While these are most commonly used behind the scenes to solve problems, it's useful to know about these for two reasons. First, you should understand how a numerical derivative works. Second, you may find it beneficial to use the numerical derivative as an additional feature for your machine learning model. You can calculate the numerical derivative as follows:"
   ]
  },
  {
   "cell_type": "code",
   "execution_count": 6,
   "metadata": {
    "ExecuteTime": {
     "end_time": "2021-01-05T22:17:25.268524Z",
     "start_time": "2021-01-05T22:17:24.826025Z"
    },
    "scrolled": true
   },
   "outputs": [
    {
     "data": {
      "text/plain": [
       "<AxesSubplot:>"
      ]
     },
     "execution_count": 6,
     "metadata": {},
     "output_type": "execute_result"
    },
    {
     "data": {
      "image/png": "[encoded data removed]",
      "text/plain": [
       "<Figure size 432x288 with 1 Axes>"
      ]
     },
     "metadata": {
      "needs_background": "light"
     },
     "output_type": "display_data"
    }
   ],
   "source": [
    "# Be sure the data is sorted according to week\n",
    "UT = UT.sort_values(by=['week'])\n",
    "\n",
    "# Find the difference in cases for each consecutive week\n",
    "UT['dcases'] = UT['cases'].diff()\n",
    "\n",
    "# Find the difference in weeks for each consecutive week (should be 1, except for when there are missing weeks)\n",
    "UT['dweeks'] = UT['week'].diff()\n",
    "\n",
    "# Find the numerical derivative, dcases/dweeks\n",
    "UT['dcases/dweeks'] = UT['dcases'] / UT['dweeks']\n",
    "\n",
    "# Plot the numerical derivative\n",
    "UT['dcases/dweeks'].plot()"
   ]
  },
  {
   "cell_type": "markdown",
   "metadata": {},
   "source": [
    "**Activity:** \n",
    "1. Find the weekly difference in smallpox cases for your state.\n",
    "2. Calculate the numerical derivative (finite difference) for weekly smallpox cases.\n",
    "3. Plot the numerical derivative for weekly smallpox cases. Interpret the graph."
   ]
  },
  {
   "cell_type": "code",
   "execution_count": null,
   "metadata": {},
   "outputs": [],
   "source": []
  },
  {
   "cell_type": "markdown",
   "metadata": {},
   "source": [
    "Repeat the activity by looking at the difference between 10 weeks. You can use the argument periods = 10 inside of the .diff() function."
   ]
  },
  {
   "cell_type": "code",
   "execution_count": null,
   "metadata": {},
   "outputs": [],
   "source": []
  },
  {
   "cell_type": "markdown",
   "metadata": {},
   "source": [
    "# Statistics\n",
    "### Distributions\n",
    "The distribution describes the makeup of the data in each column. Distributions can be either discrete (set numbers) or continuous (all numbers in a range are possible). Plotting a distribution allows you not only to see what the data look like, but also to determine if there are suspicious values or if you need to do additional preprocessing."
   ]
  },
  {
   "cell_type": "code",
   "execution_count": 7,
   "metadata": {
    "ExecuteTime": {
     "end_time": "2021-01-05T22:17:25.419574Z",
     "start_time": "2021-01-05T22:17:25.270536Z"
    },
    "scrolled": false
   },
   "outputs": [
    {
     "data": {
      "text/plain": [
       "<AxesSubplot:>"
      ]
     },
     "execution_count": 7,
     "metadata": {},
     "output_type": "execute_result"
    },
    {
     "data": {
      "image/png": "[encoded data removed]",
      "text/plain": [
       "<Figure size 432x288 with 1 Axes>"
      ]
     },
     "metadata": {
      "needs_background": "light"
     },
     "output_type": "display_data"
    }
   ],
   "source": [
    "# Plot the distribution of 'incidence_per_capita'; use only non-zero values\n",
    "UT[UT['incidence_per_capita'] != 0]['incidence_per_capita'].hist()"
   ]
  },
  {
   "cell_type": "markdown",
   "metadata": {},
   "source": [
    "**Activity:**\n",
    "\n",
    "1. Plot the distribution of 'incidence_per_capita' for your state of choice.\n",
    "2. Sometimes the log scaled values are more useful or give better results. Log scale the 'incidence_per_capita' and observe the difference."
   ]
  },
  {
   "cell_type": "code",
   "execution_count": null,
   "metadata": {},
   "outputs": [],
   "source": []
  },
  {
   "cell_type": "markdown",
   "metadata": {},
   "source": [
    "### Mean and standard deviation\n",
    "These values are useful in describing a normal distribution. There are also other potentially useful statistical measures (such as kurtosis and skew, which describe deviations from a normal distribution). These statistical measures are not only useful for describing data, but you can potentially use them as features in your machine learning model."
   ]
  },
  {
   "cell_type": "code",
   "execution_count": 10,
   "metadata": {
    "ExecuteTime": {
     "end_time": "2021-01-05T22:17:25.450716Z",
     "start_time": "2021-01-05T22:17:25.419574Z"
    },
    "scrolled": true
   },
   "outputs": [
    {
     "name": "stdout",
     "output_type": "stream",
     "text": [
      "All Utah cases\n"
     ]
    },
    {
     "data": {
      "text/plain": [
       "count    1055.000000\n",
       "mean        0.849289\n",
       "std         2.816837\n",
       "min         0.000000\n",
       "25%         0.000000\n",
       "50%         0.000000\n",
       "75%         0.000000\n",
       "max        33.000000\n",
       "Name: cases, dtype: float64"
      ]
     },
     "execution_count": 10,
     "metadata": {},
     "output_type": "execute_result"
    }
   ],
   "source": [
    "print('All Utah cases')\n",
    "UT['cases'].describe()"
   ]
  },
  {
   "cell_type": "code",
   "execution_count": 11,
   "metadata": {},
   "outputs": [
    {
     "name": "stdout",
     "output_type": "stream",
     "text": [
      "Non-zero Utah cases\n"
     ]
    },
    {
     "data": {
      "text/plain": [
       "count    216.000000\n",
       "mean       4.148148\n",
       "std        5.014982\n",
       "min        1.000000\n",
       "25%        1.000000\n",
       "50%        2.000000\n",
       "75%        5.000000\n",
       "max       33.000000\n",
       "Name: cases, dtype: float64"
      ]
     },
     "execution_count": 11,
     "metadata": {},
     "output_type": "execute_result"
    }
   ],
   "source": [
    "UT_non0 = UT[UT['cases'] != 0]\n",
    "print('Non-zero Utah cases')\n",
    "UT_non0['cases'].describe()"
   ]
  },
  {
   "cell_type": "markdown",
   "metadata": {},
   "source": [
    "**Activity:**\n",
    "\n",
    "1. Display the mean, standard deviation, quartiles, max, and min for the data in another state besides Utah.\n",
    "2. Save the statistics as variables for later use. Use UT['cases'].mean(), .std(), .quantile(), .max(), and .min().\n",
    "3. Find the kurtosis and skew of the data. Use .kurtosis() and .skew()"
   ]
  },
  {
   "cell_type": "code",
   "execution_count": null,
   "metadata": {},
   "outputs": [],
   "source": []
  }
 ],
 "metadata": {
  "hide_input": false,
  "kernelspec": {
   "display_name": "Python 3",
   "language": "python",
   "name": "python3"
  },
  "language_info": {
   "codemirror_mode": {
    "name": "ipython",
    "version": 3
   },
   "file_extension": ".py",
   "mimetype": "text/x-python",
   "name": "python",
   "nbconvert_exporter": "python",
   "pygments_lexer": "ipython3",
   "version": "3.8.5"
  }
 },
 "nbformat": 4,
 "nbformat_minor": 4
}
