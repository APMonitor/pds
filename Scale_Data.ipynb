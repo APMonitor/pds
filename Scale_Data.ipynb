{
 "cells": [
  {
   "cell_type": "markdown",
   "metadata": {},
   "source": [
    "### Machine Learning for Engineers: [ScaleData](https://www.apmonitor.com/pds/index.php/Main/ScaleData)\n",
    "- [Scale Data for Machine Learning](https://www.apmonitor.com/pds/index.php/Main/ScaleData)\n",
    " - Source Blocks: 12\n",
    " - Description: Scaling data to a range of 0 to 1 can improves machine learning performance for certain algorithms such as neural networks.\n",
    "- [Course Overview](https://apmonitor.com/pds)\n",
    "- [Course Schedule](https://apmonitor.com/pds/index.php/Main/CourseSchedule)\n",
    "\n",
    "<img align=left width=500px src='https://apmonitor.com/pds/uploads/Main/scale_data.png'>"
   ]
  },
  {
   "cell_type": "code",
   "execution_count": null,
   "metadata": {},
   "outputs": [],
   "source": [
    "import numpy as np\n",
    "import matplotlib.pyplot as plt\n",
    "\n",
    "# Generate a distribution\n",
    "x = 0.5*np.random.randn(1000)+4\n",
    "\n",
    "# Standard (mean=0, stdev=1) Scaler\n",
    "y = (x-np.mean(x))/np.std(x)\n",
    "\n",
    "# Min-Max (0-1) Scaler\n",
    "z = (x-np.min(x))/(np.max(x)-np.min(x))\n",
    "\n",
    "# Plot distributions\n",
    "plt.figure(figsize=(8,4))\n",
    "plt.hist(x, bins=30, label='original')\n",
    "plt.hist(y, alpha=0.7, bins=30, label='standard scaler')\n",
    "plt.hist(z, alpha=0.7, bins=30, label='minmax scaler')\n",
    "plt.legend()\n",
    "plt.show()"
   ]
  },
  {
   "cell_type": "code",
   "execution_count": null,
   "metadata": {},
   "outputs": [],
   "source": [
    "from sklearn.model_selection import train_test_split\n",
    "import pandas as pd\n",
    "\n",
    "data = pd.read_csv('http://apmonitor.com/pds/uploads/Main/tclab_data6.txt')\n",
    "data.set_index('Time',inplace=True)\n",
    "\n",
    "# Split into train and test subsets (20% for test)\n",
    "train, test = train_test_split(data, test_size=0.2, shuffle=False)"
   ]
  },
  {
   "cell_type": "code",
   "execution_count": null,
   "metadata": {},
   "outputs": [],
   "source": [
    "from sklearn.preprocessing import StandardScaler\n",
    "s = StandardScaler()\n",
    "s_train = s.fit_transform(train)"
   ]
  },
  {
   "cell_type": "code",
   "execution_count": null,
   "metadata": {},
   "outputs": [],
   "source": [
    "print('a: ', s.scale_)\n",
    "print('Scaler mean')\n",
    "print('b: ', s.mean_)"
   ]
  },
  {
   "cell_type": "code",
   "execution_count": null,
   "metadata": {},
   "outputs": [],
   "source": [
    "s_test = s.fit_transform(test)"
   ]
  },
  {
   "cell_type": "code",
   "execution_count": null,
   "metadata": {},
   "outputs": [],
   "source": [
    "# convert scaled values back to dataframe\n",
    "s_train_df = pd.DataFrame(s_train, columns=train.columns.values)\n",
    "s_test_df = pd.DataFrame(s_test, columns=test.columns.values)"
   ]
  },
  {
   "cell_type": "code",
   "execution_count": null,
   "metadata": {},
   "outputs": [],
   "source": [
    "from sklearn.preprocessing import MinMaxScaler\n",
    "s = MinMaxScaler(feature_range=(0,1))\n",
    "s_train = s.fit_transform(train)\n",
    "s_test  = s.transform(test)"
   ]
  },
  {
   "cell_type": "code",
   "execution_count": null,
   "metadata": {},
   "outputs": [],
   "source": [
    "print('Scaler multipliers')\n",
    "print('a: ', s.scale_)\n",
    "print('Scaler minimum')\n",
    "print('b: ', s.min_)"
   ]
  },
  {
   "cell_type": "code",
   "execution_count": null,
   "metadata": {},
   "outputs": [],
   "source": [
    "x = s.inverse_transform(s_test)"
   ]
  },
  {
   "cell_type": "code",
   "execution_count": null,
   "metadata": {},
   "outputs": [],
   "source": [
    "import pandas as pd\n",
    "data = pd.read_csv('http://apmonitor.com/pds/uploads/Main/tclab_data6.txt')\n",
    "data.set_index('Time',inplace=True)\n",
    "data.plot(kind='hist',alpha=0.7,bins=30,figsize=(8,4))"
   ]
  },
  {
   "cell_type": "code",
   "execution_count": null,
   "metadata": {},
   "outputs": [],
   "source": [
    "from sklearn.preprocessing import StandardScaler\n",
    "s = StandardScaler()\n",
    "sdata = s.fit_transform(data)\n",
    "sdata = pd.DataFrame(sdata, columns=data.columns.values, index=data.index)\n",
    "sdata.plot(kind='hist',alpha=0.7,bins=10,figsize=(8,4))"
   ]
  },
  {
   "cell_type": "code",
   "execution_count": null,
   "metadata": {},
   "outputs": [],
   "source": [
    "from sklearn.neural_network import MLPRegressor\n",
    "from sklearn.model_selection import train_test_split\n",
    "import matplotlib.pyplot as plt\n",
    "\n",
    "# split into training (80%) and testing (20%)\n",
    "train, test = train_test_split(sdata, test_size=0.2, shuffle=True)\n",
    "train=train.copy(); test=test.copy()\n",
    "\n",
    "# train neural network\n",
    "nn = MLPRegressor(hidden_layer_sizes=(3,3),activation='tanh',\\\n",
    "                  solver='lbfgs',max_iter=5000)\n",
    "model = nn.fit(train[['Q1','T1']],train['T2'])\n",
    "\n",
    "# test neural network\n",
    "predict = test.copy()\n",
    "predict['T2'] = nn.predict(test[['Q1','T1']])\n",
    "\n",
    "# unscale data\n",
    "d1 = s.inverse_transform(test)\n",
    "d2 = s.inverse_transform(predict)\n",
    "test_results = pd.DataFrame({'T2':d1[:,-1],'T2p':d2[:,-1]})\n",
    "\n",
    "# plot results\n",
    "test_results.plot(x='T2',y='T2p',kind='scatter')\n",
    "plt.plot([15,28],[15,28],'r-')\n",
    "plt.savefig('results.png',dpi=600)\n",
    "plt.show()"
   ]
  },
  {
   "cell_type": "code",
   "execution_count": null,
   "metadata": {},
   "outputs": [],
   "source": [
    "from sklearn.neural_network import MLPRegressor\n",
    "from sklearn.model_selection import train_test_split\n",
    "import matplotlib.pyplot as plt\n",
    "import pandas as pd\n",
    "\n",
    "data = pd.read_csv('http://apmonitor.com/pds/uploads/Main/tclab_data6.txt')\n",
    "data.set_index('Time',inplace=True)\n",
    "\n",
    "# split into training (80%) and testing (20%)\n",
    "train, test = train_test_split(data, test_size=0.2, shuffle=True)\n",
    "train=train.copy(); test=test.copy()\n",
    "\n",
    "# train neural network\n",
    "nn = MLPRegressor(hidden_layer_sizes=(3,3),activation='tanh',\\\n",
    "                  solver='lbfgs',max_iter=5000)\n",
    "model = nn.fit(train[['Q1','T1']],train['T2'])\n",
    "\n",
    "# test neural network\n",
    "test['T2p'] = nn.predict(test[['Q1','T1']])\n",
    "\n",
    "# plot results\n",
    "test.plot(x='T2',y='T2p',kind='scatter')\n",
    "plt.plot([15,28],[15,28],'r-')\n",
    "plt.show()"
   ]
  }
 ],
 "metadata": {
  "kernelspec": {
   "display_name": "Python 3",
   "language": "python",
   "name": "python3"
  },
  "language_info": {
   "codemirror_mode": {
    "name": "ipython",
    "version": 3
   },
   "file_extension": ".py",
   "mimetype": "text/x-python",
   "name": "python",
   "nbconvert_exporter": "python",
   "pygments_lexer": "ipython3",
   "version": "3.8.5"
  }
 },
 "nbformat": 4,
 "nbformat_minor": 2
}
