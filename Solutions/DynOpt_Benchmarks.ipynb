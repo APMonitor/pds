{
 "cells": [
  {
   "cell_type": "markdown",
   "metadata": {},
   "source": [
    "## GEKKO Benchmark Applications\n",
    "\n",
    "![GEKKO Optimization Suite](http://apmonitor.com/wiki/uploads/Main/gekko_optimization.png)\n",
    "\n",
    "GEKKO is optimization software for mixed-integer and differential algebraic equations. It is coupled with large-scale solvers for linear, quadratic, nonlinear, and mixed integer programming (LP, QP, NLP, MILP, MINLP). Modes of operation include data reconciliation, real-time optimization, dynamic simulation, and nonlinear predictive control. See the [GEKKO documentation](http://gekko.readthedocs.io/en/latest/overview.html) for additional information.\n",
    "\n",
    "**Introduction**\n",
    "\n",
    "1. Simulate Differential Equation\n",
    "2. Optimize with Differential Equations\n",
    "3. Optimize with Differential Equations\n",
    "\n",
    "**Reactor Optimization**\n",
    "\n",
    "4. Tubular Reactor with Parallel Reactions\n",
    "5. Batch Reactor with Consecutive Reactions A->B->C\n",
    "6. Catalytic reactor with A<->B->C\n",
    "\n",
    "**Additional Optimization Problems**\n",
    "\n",
    "7. Optimal Control with Integral Objective\n",
    "8. Optimal Control with Economic Objective\n",
    "9. Optimal Control: Minimize Final Time\n",
    "\n",
    "This is a blank workbook with [brenchmark solutions](https://apmonitor.com/do/index.php/Main/DynamicOptimizationBenchmarks) or [more brenchmark solutions](http://apmonitor.com/do/index.php/Main/MoreDynamicOptimizationBenchmarks). "
   ]
  },
  {
   "cell_type": "code",
   "execution_count": 1,
   "metadata": {},
   "outputs": [],
   "source": [
    "# install and import GEKKO\n",
    "# pip install gekko\n",
    "\n",
    "# other packages needed in this notebook\n",
    "import numpy as np\n",
    "import matplotlib.pyplot as plt"
   ]
  },
  {
   "cell_type": "markdown",
   "metadata": {},
   "source": [
    "## 1: Solve Differential Equation\n",
    "\n",
    "Solve the following differential equation with initial condition $y(0) = 5$:\n",
    "\n",
    "$ k \\, \\frac{dy}{dt} = -y$\n",
    "\n",
    "where $k=10$. Show the solution of $y(t)$ from an initial time $0$ to final time $15$. Create of plot of the result for $y(t)$ versus $t$. "
   ]
  },
  {
   "cell_type": "code",
   "execution_count": null,
   "metadata": {},
   "outputs": [],
   "source": []
  },
  {
   "cell_type": "markdown",
   "metadata": {},
   "source": [
    "## 2: Optimize with Differential Equations\n",
    "\n",
    "$\\min_{u(t)} x_2 \\left( t_f \\right)$\n",
    "\n",
    "$\\mathrm{subject \\; to}$\n",
    "\n",
    "$\\frac{dx_1}{dt}=u$\n",
    "\n",
    "$\\frac{dx_2}{dt}=x_1^2 + u^2$\n",
    "\n",
    "$x(0) = [1 \\; 0]^T$\n",
    "\n",
    "$t_f=1$"
   ]
  },
  {
   "cell_type": "code",
   "execution_count": null,
   "metadata": {},
   "outputs": [],
   "source": []
  },
  {
   "cell_type": "markdown",
   "metadata": {},
   "source": [
    "## 3: Optimize with Differential Equations\n",
    "\n",
    "$\\min_{u(t)} x_4 \\left( t_f \\right)$\n",
    "\n",
    "$\\mathrm{subject \\; to}$\n",
    "\n",
    "$\\frac{dx_1}{dt}=x_2$\n",
    "\n",
    "$\\frac{dx_2}{dt}=-x_3 \\, u + 16 \\, t - 8$\n",
    "\n",
    "$\\frac{dx_3}{dt}=u$\n",
    "\n",
    "$\\frac{dx_4}{dt}=x_1^2+x_2^2+0.005 \\left(x_2 + 16 \\, t -8 -0.1x_3\\,u^2\\right)^2$\n",
    "\n",
    "$x(0) = [0 \\; -1 \\; -\\sqrt{5} \\; 0]^T$\n",
    "\n",
    "$-4 \\le u \\le 10$\n",
    "\n",
    "$t_f=1$"
   ]
  },
  {
   "cell_type": "code",
   "execution_count": null,
   "metadata": {},
   "outputs": [],
   "source": []
  },
  {
   "cell_type": "markdown",
   "metadata": {},
   "source": [
    "## 4: Tubular Reactor with Parallel Reactions\n",
    "\n",
    "$\\max_{u(t)} x_2 \\left( t_f \\right)$\n",
    "\n",
    "$\\mathrm{subject \\; to}$\n",
    "\n",
    "$\\frac{dx_1}{dt}=-\\left(u+0.5u^2\\right) x_1$\n",
    "\n",
    "$\\frac{dx_2}{dt}=u \\, x_1$\n",
    "\n",
    "$x(0) = [1 \\; 0]^T$\n",
    "\n",
    "$0 \\le u \\le 5$\n",
    "\n",
    "$t_f=1$"
   ]
  },
  {
   "cell_type": "code",
   "execution_count": null,
   "metadata": {},
   "outputs": [],
   "source": []
  },
  {
   "cell_type": "markdown",
   "metadata": {},
   "source": [
    "## 5: Batch Reactor with Consecutive Reactions A->B->C\n",
    "\n",
    "$\\max_{T(t)} x_2 \\left( t_f \\right)$\n",
    "\n",
    "$\\mathrm{subject \\; to}$\n",
    "\n",
    "$\\frac{dx_1}{dt}=-k_1 \\, x_1^2$\n",
    "\n",
    "$\\frac{dx_2}{dt}=k_1 \\, x_1^2 - k_2 \\, x_2$\n",
    "\n",
    "$k_1 = 4000 \\, \\exp{\\left(-\\frac{2500}{T}\\right)}$\n",
    "\n",
    "$k_2 = 6.2e5 \\, \\exp{\\left(-\\frac{5000}{T}\\right)}$\n",
    "\n",
    "$x(0) = [1 \\; 0]^T$\n",
    "\n",
    "$298 \\le T \\le 398$\n",
    "\n",
    "$t_f=1$"
   ]
  },
  {
   "cell_type": "code",
   "execution_count": null,
   "metadata": {},
   "outputs": [],
   "source": []
  },
  {
   "cell_type": "markdown",
   "metadata": {},
   "source": [
    "## 6: Catalytic reactor with A<->B->C\n",
    "\n",
    "$\\max_{u(t)} \\left(1 - x_1 \\left( t_f \\right) - x_2 \\left( t_f \\right) \\right)$\n",
    "\n",
    "$\\mathrm{subject \\; to}$\n",
    "\n",
    "$\\frac{dx_1}{dt}=u \\left(10 \\, x_2 - x_1 \\right)$\n",
    "\n",
    "$\\frac{dx_2}{dt}=-u \\left(10 \\, x_2 - x_1 \\right)-\\left(1-u\\right) x_2$\n",
    "\n",
    "$x(0) = [1 \\; 0]^T$\n",
    "\n",
    "$0 \\le u \\le 1$\n",
    "\n",
    "$t_f=12$"
   ]
  },
  {
   "cell_type": "code",
   "execution_count": null,
   "metadata": {},
   "outputs": [],
   "source": []
  },
  {
   "cell_type": "markdown",
   "metadata": {},
   "source": [
    "## 7: Optimal Control with Integral Objective\n",
    "\n",
    "$\\min_u \\frac{1}{2} \\int_0^2 x_1^2(t) \\, dt$\n",
    "\n",
    "$\\mathrm{subject \\; to}$\n",
    "\n",
    "$\\frac{dx_1}{dt}=u$\n",
    "\n",
    "$x_1(0) = 1$\n",
    "\n",
    "$-1 \\le u(t) \\le 1$"
   ]
  },
  {
   "cell_type": "code",
   "execution_count": null,
   "metadata": {},
   "outputs": [],
   "source": []
  },
  {
   "cell_type": "markdown",
   "metadata": {},
   "source": [
    "## 8: Optimal Control with Economic Objective\n",
    "\n",
    "$\\max_{u(t)} \\int_0^{10} \\left(E-\\frac{c}{x}\\right) u \\, U_{max} \\, dt$\n",
    "\n",
    "$\\mathrm{subject \\; to}$\n",
    "\n",
    "$\\frac{dx}{dt}=r \\, x(t) \\left(1-\\frac{x(t)}{k}\\right)-u \\, U_{max}$\n",
    "\n",
    "$x(0) = 70$\n",
    "\n",
    "$0 \\le u(t) \\le 1$\n",
    "\n",
    "$E=1, \\, c=17.5, \\, r=0.71$\n",
    "\n",
    "$k=80.5, \\, U_{max}=20$"
   ]
  },
  {
   "cell_type": "code",
   "execution_count": null,
   "metadata": {},
   "outputs": [],
   "source": []
  },
  {
   "cell_type": "markdown",
   "metadata": {},
   "source": [
    "## 9: Optimal Control: Minimize Final Time\n",
    "\n",
    "$\\min_{u(t)} \\; t_f$\n",
    "\n",
    "$\\mathrm{subject \\; to}$\n",
    "\n",
    "$\\frac{dx_1}{dt}=u$\n",
    "\n",
    "$\\frac{dx_2}{dt}=\\cos\\left(x_1(t)\\right)$\n",
    "\n",
    "$\\frac{dx_3}{dt}=\\sin\\left(x_1(t)\\right)$\n",
    "\n",
    "$x(0) = \\left[\\pi/2,4,0\\right]$\n",
    "\n",
    "$x_2\\left(t_f\\right)=0$\n",
    "\n",
    "$x_3\\left(t_f\\right)=0$\n",
    "\n",
    "$-2 \\le u(t) \\le 2$"
   ]
  },
  {
   "cell_type": "code",
   "execution_count": null,
   "metadata": {},
   "outputs": [],
   "source": []
  }
 ],
 "metadata": {
  "kernelspec": {
   "display_name": "Python 3",
   "language": "python",
   "name": "python3"
  },
  "language_info": {
   "codemirror_mode": {
    "name": "ipython",
    "version": 3
   },
   "file_extension": ".py",
   "mimetype": "text/x-python",
   "name": "python",
   "nbconvert_exporter": "python",
   "pygments_lexer": "ipython3",
   "version": "3.8.5"
  }
 },
 "nbformat": 4,
 "nbformat_minor": 1
}