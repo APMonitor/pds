{
 "cells": [
  {
   "cell_type": "markdown",
   "metadata": {},
   "source": [
    "## Feature engineering and selection \n",
    "\n",
    "Physical and chemical properties of the Lithium-ion silicate cathodes are used to predict the crystal structure of a Lithium-ion battery as monoclinic, orthorhombic and triclinic. This case study demonstrates how feature engineering improves the classification results.\n",
    "\n",
    "![Lithium-ion Batteries](https://apmonitor.com/pds/uploads/Main/lithium_ion_battery.png)\n",
    "\n",
    "__Background__: Lithium-ion batteries are commonly used for portable electronics, electric vehicles, and aerospace applications. During discharge, Lithium ions move from the negative electrode through an electrolyte to the positive electrode to create a voltage and current. During recharging, the ions migrate back to the negative electrode. The crystal structure (monoclinic, orthorhombic, triclinic) is available for 339 different chemicals that contain Li-ion.\n",
    "\n",
    "[Lithium-ion Chemical Properties and Crystal Structure Data](https://apmonitor.com/pds/uploads/Main/lithium_ion.txt)\n",
    "\n",
    "```python\n",
    "url = 'http://apmonitor.com/pds/uploads/Main/lithium_ion.txt'\n",
    "```\n",
    "\n",
    "__Objective__: Predict the crystal structure type (monoclinic, orthorhombic, triclinic) from Lithium-ion physical and chemical compound information.\n",
    "\n",
    "This tutorial covers the following:\n",
    "- Categorical transformation techniques\n",
    "- Feature creation\n",
    "- Feature selection"
   ]
  },
  {
   "cell_type": "code",
   "execution_count": 1,
   "metadata": {
    "ExecuteTime": {
     "end_time": "2021-02-23T14:25:04.960027Z",
     "start_time": "2021-02-23T14:25:04.931856Z"
    }
   },
   "outputs": [],
   "source": [
    "try:\n",
    "    import chemparse\n",
    "except:\n",
    "    !pip install chemparse\n",
    "    print('May need to restart kernel to use chemparse')"
   ]
  },
  {
   "cell_type": "code",
   "execution_count": 2,
   "metadata": {
    "ExecuteTime": {
     "end_time": "2021-02-23T14:25:16.676398Z",
     "start_time": "2021-02-23T14:25:04.963386Z"
    }
   },
   "outputs": [],
   "source": [
    "# Import libraries and data\n",
    "import pandas as pd\n",
    "import matplotlib.pyplot as plt\n",
    "import seaborn as sns\n",
    "\n",
    "from sklearn.preprocessing import LabelEncoder, MinMaxScaler\n",
    "from sklearn.model_selection import train_test_split\n",
    "from sklearn.feature_extraction import FeatureHasher\n",
    "from sklearn.metrics import confusion_matrix,plot_confusion_matrix\n",
    "from sklearn.tree import DecisionTreeClassifier\n"
   ]
  },
  {
   "cell_type": "code",
   "execution_count": 3,
   "metadata": {
    "ExecuteTime": {
     "end_time": "2021-02-23T14:25:16.823100Z",
     "start_time": "2021-02-23T14:25:16.681510Z"
    },
    "scrolled": true
   },
   "outputs": [
    {
     "data": {
      "text/html": [
       "<div>\n",
       "<style scoped>\n",
       "    .dataframe tbody tr th:only-of-type {\n",
       "        vertical-align: middle;\n",
       "    }\n",
       "\n",
       "    .dataframe tbody tr th {\n",
       "        vertical-align: top;\n",
       "    }\n",
       "\n",
       "    .dataframe thead th {\n",
       "        text-align: right;\n",
       "    }\n",
       "</style>\n",
       "<table border=\"1\" class=\"dataframe\">\n",
       "  <thead>\n",
       "    <tr style=\"text-align: right;\">\n",
       "      <th></th>\n",
       "      <th>Materials Id</th>\n",
       "      <th>Formula</th>\n",
       "      <th>Spacegroup</th>\n",
       "      <th>Formation Energy (eV)</th>\n",
       "      <th>E Above Hull (eV)</th>\n",
       "      <th>Band Gap (eV)</th>\n",
       "      <th>Nsites</th>\n",
       "      <th>Density (gm/cc)</th>\n",
       "      <th>Volume</th>\n",
       "      <th>Has Bandstructure</th>\n",
       "      <th>Crystal System</th>\n",
       "    </tr>\n",
       "  </thead>\n",
       "  <tbody>\n",
       "    <tr>\n",
       "      <th>227</th>\n",
       "      <td>mp-762696</td>\n",
       "      <td>LiFeSiO4</td>\n",
       "      <td>Pbca</td>\n",
       "      <td>-2.539</td>\n",
       "      <td>0.083</td>\n",
       "      <td>1.791</td>\n",
       "      <td>56</td>\n",
       "      <td>2.960</td>\n",
       "      <td>694.960</td>\n",
       "      <td>True</td>\n",
       "      <td>orthorhombic</td>\n",
       "    </tr>\n",
       "    <tr>\n",
       "      <th>84</th>\n",
       "      <td>mp-762646</td>\n",
       "      <td>LiFeSiO4</td>\n",
       "      <td>P21/c</td>\n",
       "      <td>-2.553</td>\n",
       "      <td>0.069</td>\n",
       "      <td>2.164</td>\n",
       "      <td>56</td>\n",
       "      <td>3.289</td>\n",
       "      <td>625.575</td>\n",
       "      <td>True</td>\n",
       "      <td>monoclinic</td>\n",
       "    </tr>\n",
       "    <tr>\n",
       "      <th>161</th>\n",
       "      <td>mp-849442</td>\n",
       "      <td>Li2Mn(Si2O5)2</td>\n",
       "      <td>P212121</td>\n",
       "      <td>-2.939</td>\n",
       "      <td>0.073</td>\n",
       "      <td>3.783</td>\n",
       "      <td>68</td>\n",
       "      <td>2.290</td>\n",
       "      <td>989.646</td>\n",
       "      <td>False</td>\n",
       "      <td>orthorhombic</td>\n",
       "    </tr>\n",
       "    <tr>\n",
       "      <th>329</th>\n",
       "      <td>mp-761348</td>\n",
       "      <td>Li7Fe7SiO16</td>\n",
       "      <td>P1</td>\n",
       "      <td>-2.087</td>\n",
       "      <td>0.118</td>\n",
       "      <td>1.492</td>\n",
       "      <td>31</td>\n",
       "      <td>3.233</td>\n",
       "      <td>371.607</td>\n",
       "      <td>True</td>\n",
       "      <td>triclinic</td>\n",
       "    </tr>\n",
       "    <tr>\n",
       "      <th>122</th>\n",
       "      <td>mp-763385</td>\n",
       "      <td>Li2Co(Si2O5)2</td>\n",
       "      <td>P21/c</td>\n",
       "      <td>-2.858</td>\n",
       "      <td>0.075</td>\n",
       "      <td>3.254</td>\n",
       "      <td>68</td>\n",
       "      <td>2.429</td>\n",
       "      <td>943.786</td>\n",
       "      <td>False</td>\n",
       "      <td>monoclinic</td>\n",
       "    </tr>\n",
       "    <tr>\n",
       "      <th>62</th>\n",
       "      <td>mp-780866</td>\n",
       "      <td>LiFe2Si2O7</td>\n",
       "      <td>P21/c</td>\n",
       "      <td>-2.598</td>\n",
       "      <td>0.051</td>\n",
       "      <td>2.010</td>\n",
       "      <td>48</td>\n",
       "      <td>2.911</td>\n",
       "      <td>654.481</td>\n",
       "      <td>True</td>\n",
       "      <td>monoclinic</td>\n",
       "    </tr>\n",
       "    <tr>\n",
       "      <th>151</th>\n",
       "      <td>mp-780325</td>\n",
       "      <td>LiMnSiO4</td>\n",
       "      <td>Cmcm</td>\n",
       "      <td>-2.626</td>\n",
       "      <td>0.052</td>\n",
       "      <td>0.000</td>\n",
       "      <td>14</td>\n",
       "      <td>3.609</td>\n",
       "      <td>141.676</td>\n",
       "      <td>True</td>\n",
       "      <td>orthorhombic</td>\n",
       "    </tr>\n",
       "    <tr>\n",
       "      <th>116</th>\n",
       "      <td>mp-763255</td>\n",
       "      <td>LiCoSiO4</td>\n",
       "      <td>Pc</td>\n",
       "      <td>-2.372</td>\n",
       "      <td>0.064</td>\n",
       "      <td>1.373</td>\n",
       "      <td>14</td>\n",
       "      <td>2.964</td>\n",
       "      <td>176.961</td>\n",
       "      <td>True</td>\n",
       "      <td>monoclinic</td>\n",
       "    </tr>\n",
       "    <tr>\n",
       "      <th>209</th>\n",
       "      <td>mp-863911</td>\n",
       "      <td>Li2Fe(SiO3)2</td>\n",
       "      <td>Fdd2</td>\n",
       "      <td>-2.748</td>\n",
       "      <td>0.058</td>\n",
       "      <td>2.917</td>\n",
       "      <td>66</td>\n",
       "      <td>2.723</td>\n",
       "      <td>811.767</td>\n",
       "      <td>True</td>\n",
       "      <td>orthorhombic</td>\n",
       "    </tr>\n",
       "    <tr>\n",
       "      <th>292</th>\n",
       "      <td>mp-761705</td>\n",
       "      <td>Li2Fe4Si4O13</td>\n",
       "      <td>P1</td>\n",
       "      <td>-2.632</td>\n",
       "      <td>0.032</td>\n",
       "      <td>3.118</td>\n",
       "      <td>46</td>\n",
       "      <td>3.599</td>\n",
       "      <td>514.551</td>\n",
       "      <td>False</td>\n",
       "      <td>triclinic</td>\n",
       "    </tr>\n",
       "    <tr>\n",
       "      <th>249</th>\n",
       "      <td>mp-763589</td>\n",
       "      <td>LiCoSiO4</td>\n",
       "      <td>Pb21a</td>\n",
       "      <td>-2.370</td>\n",
       "      <td>0.066</td>\n",
       "      <td>1.194</td>\n",
       "      <td>56</td>\n",
       "      <td>3.014</td>\n",
       "      <td>696.129</td>\n",
       "      <td>True</td>\n",
       "      <td>orthorhombic</td>\n",
       "    </tr>\n",
       "    <tr>\n",
       "      <th>129</th>\n",
       "      <td>mp-762974</td>\n",
       "      <td>LiCoSiO4</td>\n",
       "      <td>P21/c</td>\n",
       "      <td>-2.347</td>\n",
       "      <td>0.089</td>\n",
       "      <td>1.494</td>\n",
       "      <td>84</td>\n",
       "      <td>2.999</td>\n",
       "      <td>1049.613</td>\n",
       "      <td>False</td>\n",
       "      <td>monoclinic</td>\n",
       "    </tr>\n",
       "    <tr>\n",
       "      <th>102</th>\n",
       "      <td>mp-764634</td>\n",
       "      <td>Li2CoSiO4</td>\n",
       "      <td>C2/m</td>\n",
       "      <td>-2.510</td>\n",
       "      <td>0.027</td>\n",
       "      <td>2.457</td>\n",
       "      <td>16</td>\n",
       "      <td>3.088</td>\n",
       "      <td>177.349</td>\n",
       "      <td>True</td>\n",
       "      <td>monoclinic</td>\n",
       "    </tr>\n",
       "    <tr>\n",
       "      <th>312</th>\n",
       "      <td>mp-767328</td>\n",
       "      <td>Li5Fe5Si7O24</td>\n",
       "      <td>P1</td>\n",
       "      <td>-2.647</td>\n",
       "      <td>0.072</td>\n",
       "      <td>2.373</td>\n",
       "      <td>41</td>\n",
       "      <td>2.501</td>\n",
       "      <td>593.870</td>\n",
       "      <td>True</td>\n",
       "      <td>triclinic</td>\n",
       "    </tr>\n",
       "    <tr>\n",
       "      <th>212</th>\n",
       "      <td>mp-863885</td>\n",
       "      <td>LiFe(SiO3)2</td>\n",
       "      <td>C2221</td>\n",
       "      <td>-2.757</td>\n",
       "      <td>0.064</td>\n",
       "      <td>3.230</td>\n",
       "      <td>40</td>\n",
       "      <td>2.375</td>\n",
       "      <td>601.224</td>\n",
       "      <td>True</td>\n",
       "      <td>orthorhombic</td>\n",
       "    </tr>\n",
       "    <tr>\n",
       "      <th>197</th>\n",
       "      <td>mp-868323</td>\n",
       "      <td>LiFeSiO4</td>\n",
       "      <td>Pbnm</td>\n",
       "      <td>-2.582</td>\n",
       "      <td>0.040</td>\n",
       "      <td>1.989</td>\n",
       "      <td>28</td>\n",
       "      <td>3.634</td>\n",
       "      <td>283.063</td>\n",
       "      <td>True</td>\n",
       "      <td>orthorhombic</td>\n",
       "    </tr>\n",
       "    <tr>\n",
       "      <th>38</th>\n",
       "      <td>mp-646320</td>\n",
       "      <td>Li2FeSiO4</td>\n",
       "      <td>P21/c</td>\n",
       "      <td>-2.625</td>\n",
       "      <td>0.001</td>\n",
       "      <td>3.443</td>\n",
       "      <td>32</td>\n",
       "      <td>3.067</td>\n",
       "      <td>350.466</td>\n",
       "      <td>False</td>\n",
       "      <td>monoclinic</td>\n",
       "    </tr>\n",
       "    <tr>\n",
       "      <th>67</th>\n",
       "      <td>mp-764355</td>\n",
       "      <td>LiFeSiO4</td>\n",
       "      <td>Pc</td>\n",
       "      <td>-2.566</td>\n",
       "      <td>0.055</td>\n",
       "      <td>2.955</td>\n",
       "      <td>14</td>\n",
       "      <td>2.644</td>\n",
       "      <td>194.528</td>\n",
       "      <td>True</td>\n",
       "      <td>monoclinic</td>\n",
       "    </tr>\n",
       "    <tr>\n",
       "      <th>22</th>\n",
       "      <td>mp-849217</td>\n",
       "      <td>Li4Mn(SiO3)3</td>\n",
       "      <td>C2</td>\n",
       "      <td>-2.794</td>\n",
       "      <td>0.083</td>\n",
       "      <td>2.862</td>\n",
       "      <td>34</td>\n",
       "      <td>2.649</td>\n",
       "      <td>389.814</td>\n",
       "      <td>True</td>\n",
       "      <td>monoclinic</td>\n",
       "    </tr>\n",
       "    <tr>\n",
       "      <th>260</th>\n",
       "      <td>mp-762888</td>\n",
       "      <td>LiCoSiO4</td>\n",
       "      <td>Cmcm</td>\n",
       "      <td>-2.351</td>\n",
       "      <td>0.084</td>\n",
       "      <td>0.871</td>\n",
       "      <td>14</td>\n",
       "      <td>3.762</td>\n",
       "      <td>139.432</td>\n",
       "      <td>True</td>\n",
       "      <td>orthorhombic</td>\n",
       "    </tr>\n",
       "  </tbody>\n",
       "</table>\n",
       "</div>"
      ],
      "text/plain": [
       "    Materials Id        Formula Spacegroup  Formation Energy (eV)  \\\n",
       "227    mp-762696       LiFeSiO4       Pbca                 -2.539   \n",
       "84     mp-762646       LiFeSiO4      P21/c                 -2.553   \n",
       "161    mp-849442  Li2Mn(Si2O5)2    P212121                 -2.939   \n",
       "329    mp-761348    Li7Fe7SiO16         P1                 -2.087   \n",
       "122    mp-763385  Li2Co(Si2O5)2      P21/c                 -2.858   \n",
       "62     mp-780866     LiFe2Si2O7      P21/c                 -2.598   \n",
       "151    mp-780325       LiMnSiO4       Cmcm                 -2.626   \n",
       "116    mp-763255       LiCoSiO4         Pc                 -2.372   \n",
       "209    mp-863911   Li2Fe(SiO3)2       Fdd2                 -2.748   \n",
       "292    mp-761705   Li2Fe4Si4O13         P1                 -2.632   \n",
       "249    mp-763589       LiCoSiO4      Pb21a                 -2.370   \n",
       "129    mp-762974       LiCoSiO4      P21/c                 -2.347   \n",
       "102    mp-764634      Li2CoSiO4       C2/m                 -2.510   \n",
       "312    mp-767328   Li5Fe5Si7O24         P1                 -2.647   \n",
       "212    mp-863885    LiFe(SiO3)2      C2221                 -2.757   \n",
       "197    mp-868323       LiFeSiO4       Pbnm                 -2.582   \n",
       "38     mp-646320      Li2FeSiO4      P21/c                 -2.625   \n",
       "67     mp-764355       LiFeSiO4         Pc                 -2.566   \n",
       "22     mp-849217   Li4Mn(SiO3)3         C2                 -2.794   \n",
       "260    mp-762888       LiCoSiO4       Cmcm                 -2.351   \n",
       "\n",
       "     E Above Hull (eV)  Band Gap (eV)  Nsites  Density (gm/cc)    Volume  \\\n",
       "227              0.083          1.791      56            2.960   694.960   \n",
       "84               0.069          2.164      56            3.289   625.575   \n",
       "161              0.073          3.783      68            2.290   989.646   \n",
       "329              0.118          1.492      31            3.233   371.607   \n",
       "122              0.075          3.254      68            2.429   943.786   \n",
       "62               0.051          2.010      48            2.911   654.481   \n",
       "151              0.052          0.000      14            3.609   141.676   \n",
       "116              0.064          1.373      14            2.964   176.961   \n",
       "209              0.058          2.917      66            2.723   811.767   \n",
       "292              0.032          3.118      46            3.599   514.551   \n",
       "249              0.066          1.194      56            3.014   696.129   \n",
       "129              0.089          1.494      84            2.999  1049.613   \n",
       "102              0.027          2.457      16            3.088   177.349   \n",
       "312              0.072          2.373      41            2.501   593.870   \n",
       "212              0.064          3.230      40            2.375   601.224   \n",
       "197              0.040          1.989      28            3.634   283.063   \n",
       "38               0.001          3.443      32            3.067   350.466   \n",
       "67               0.055          2.955      14            2.644   194.528   \n",
       "22               0.083          2.862      34            2.649   389.814   \n",
       "260              0.084          0.871      14            3.762   139.432   \n",
       "\n",
       "     Has Bandstructure Crystal System  \n",
       "227               True   orthorhombic  \n",
       "84                True     monoclinic  \n",
       "161              False   orthorhombic  \n",
       "329               True      triclinic  \n",
       "122              False     monoclinic  \n",
       "62                True     monoclinic  \n",
       "151               True   orthorhombic  \n",
       "116               True     monoclinic  \n",
       "209               True   orthorhombic  \n",
       "292              False      triclinic  \n",
       "249               True   orthorhombic  \n",
       "129              False     monoclinic  \n",
       "102               True     monoclinic  \n",
       "312               True      triclinic  \n",
       "212               True   orthorhombic  \n",
       "197               True   orthorhombic  \n",
       "38               False     monoclinic  \n",
       "67                True     monoclinic  \n",
       "22                True     monoclinic  \n",
       "260               True   orthorhombic  "
      ]
     },
     "execution_count": 3,
     "metadata": {},
     "output_type": "execute_result"
    }
   ],
   "source": [
    "# Load and display data\n",
    "url = 'http://apmonitor.com/pds/uploads/Main/lithium_ion.txt'\n",
    "data = pd.read_csv(url)\n",
    "data.sample(20)"
   ]
  },
  {
   "cell_type": "markdown",
   "metadata": {},
   "source": [
    "### Observe datatypes"
   ]
  },
  {
   "cell_type": "code",
   "execution_count": 4,
   "metadata": {
    "ExecuteTime": {
     "end_time": "2021-02-23T14:25:16.851068Z",
     "start_time": "2021-02-23T14:25:16.828541Z"
    },
    "scrolled": false
   },
   "outputs": [
    {
     "data": {
      "text/plain": [
       "Materials Id              object\n",
       "Formula                   object\n",
       "Spacegroup                object\n",
       "Formation Energy (eV)    float64\n",
       "E Above Hull (eV)        float64\n",
       "Band Gap (eV)            float64\n",
       "Nsites                     int64\n",
       "Density (gm/cc)          float64\n",
       "Volume                   float64\n",
       "Has Bandstructure           bool\n",
       "Crystal System            object\n",
       "dtype: object"
      ]
     },
     "execution_count": 4,
     "metadata": {},
     "output_type": "execute_result"
    }
   ],
   "source": [
    "data.dtypes"
   ]
  },
  {
   "cell_type": "code",
   "execution_count": 5,
   "metadata": {
    "ExecuteTime": {
     "end_time": "2021-02-23T14:25:16.908103Z",
     "start_time": "2021-02-23T14:25:16.858551Z"
    }
   },
   "outputs": [],
   "source": [
    "# Separate into numerical features that don't need preprocessing, and categorical features that need to be transformed\n",
    "num_feat = data.select_dtypes(include=['int64','float64']).columns\n",
    "cat_feat = data.select_dtypes(include=['object','bool']).columns"
   ]
  },
  {
   "cell_type": "code",
   "execution_count": 6,
   "metadata": {
    "ExecuteTime": {
     "end_time": "2021-02-23T14:25:17.019378Z",
     "start_time": "2021-02-23T14:25:16.915392Z"
    }
   },
   "outputs": [
    {
     "data": {
      "text/html": [
       "<div>\n",
       "<style scoped>\n",
       "    .dataframe tbody tr th:only-of-type {\n",
       "        vertical-align: middle;\n",
       "    }\n",
       "\n",
       "    .dataframe tbody tr th {\n",
       "        vertical-align: top;\n",
       "    }\n",
       "\n",
       "    .dataframe thead th {\n",
       "        text-align: right;\n",
       "    }\n",
       "</style>\n",
       "<table border=\"1\" class=\"dataframe\">\n",
       "  <thead>\n",
       "    <tr style=\"text-align: right;\">\n",
       "      <th></th>\n",
       "      <th>Materials Id</th>\n",
       "      <th>Formula</th>\n",
       "      <th>Spacegroup</th>\n",
       "      <th>Has Bandstructure</th>\n",
       "      <th>Crystal System</th>\n",
       "    </tr>\n",
       "  </thead>\n",
       "  <tbody>\n",
       "    <tr>\n",
       "      <th>count</th>\n",
       "      <td>339</td>\n",
       "      <td>339</td>\n",
       "      <td>339</td>\n",
       "      <td>339</td>\n",
       "      <td>339</td>\n",
       "    </tr>\n",
       "    <tr>\n",
       "      <th>unique</th>\n",
       "      <td>339</td>\n",
       "      <td>114</td>\n",
       "      <td>44</td>\n",
       "      <td>2</td>\n",
       "      <td>3</td>\n",
       "    </tr>\n",
       "    <tr>\n",
       "      <th>top</th>\n",
       "      <td>mp-773761</td>\n",
       "      <td>LiFeSiO4</td>\n",
       "      <td>P1</td>\n",
       "      <td>True</td>\n",
       "      <td>monoclinic</td>\n",
       "    </tr>\n",
       "    <tr>\n",
       "      <th>freq</th>\n",
       "      <td>1</td>\n",
       "      <td>42</td>\n",
       "      <td>72</td>\n",
       "      <td>274</td>\n",
       "      <td>139</td>\n",
       "    </tr>\n",
       "  </tbody>\n",
       "</table>\n",
       "</div>"
      ],
      "text/plain": [
       "       Materials Id   Formula Spacegroup Has Bandstructure Crystal System\n",
       "count           339       339        339               339            339\n",
       "unique          339       114         44                 2              3\n",
       "top       mp-773761  LiFeSiO4         P1              True     monoclinic\n",
       "freq              1        42         72               274            139"
      ]
     },
     "execution_count": 6,
     "metadata": {},
     "output_type": "execute_result"
    }
   ],
   "source": [
    "data[cat_feat].describe()"
   ]
  },
  {
   "cell_type": "markdown",
   "metadata": {
    "ExecuteTime": {
     "end_time": "2021-02-18T17:10:07.713491Z",
     "start_time": "2021-02-18T17:10:07.700359Z"
    }
   },
   "source": [
    "### Categorical encoding methods\n",
    "<a id='Categorical_encoding_methods'></a>\n",
    "\n",
    "#### 1. One Hot Encoding\n",
    "Method: Encode each category value into a binary vector, with size = # of distinct values. See https://towardsdatascience.com/understanding-feature-engineering-part-2-categorical-data-f54324193e63\n",
    "\n",
    "Example: Has Bandstructure column has 2 distinct values, True and False. Create a new column where 1 = True and 0 = False.\n",
    "\n",
    "Pros: simple and rugged method to get categorical features into unique and useful numerical features\n",
    "\n",
    "Cons: m unique values results in m unique new features. This is fine when there are only 2-3 unique values (such as hi/lo, yes/no), but creates issues when there are more. Can't handle new categories that weren't in training data, and easily overfit. Sparse data.\n",
    "\n",
    "#### 2. Encode to ordinal variables\n",
    "Method: assign each unique value to a unique number. \n",
    "\n",
    "Example: Spacegroup = Pc is assigned to 0, Spacegroup = P21/c is assigned to 1, etc. \n",
    "\n",
    "Pros: simple and quick, 1 column in -> 1 column out\n",
    "\n",
    "Cons: residual \"structure\" (number assigned is arbitrary, and it leads algorithms to assume that a Spacegroup with a value of 20 is higher value than a Spacegroup of value 1)\n",
    "\n",
    "#### 3. Feature Hashing\n",
    "Method: Encode each unique category into a non-binary vector\n",
    "\n",
    "Example: Spacegroup = Pc is assigned to [1,0,0], Spacegroup = P21/c is assigned to [1,2,-1], etc. Specify number of columns (length of vector)\n",
    "\n",
    "Pros: low dimensionality so really efficient.\n",
    "\n",
    "Cons: potential collisions (for example the 1st value in example has both Spacegroups sharing a '1'); hashed features aren't interpretable so can't be used in feature importance. \n",
    "\n",
    "#### 4. Other methods\n",
    "Primarily involve prior knowledge about dataset. Encode with own algorithm to include closely related features.\n",
    "\n",
    "Variation on One Hot Encoding for large numbers of unique values: classify infrequent instances into \"rare\" category. May lose some granularity and important info, but also allows for new categories that aren't in training data"
   ]
  },
  {
   "cell_type": "markdown",
   "metadata": {},
   "source": [
    "### `'Materials Id'` column"
   ]
  },
  {
   "cell_type": "code",
   "execution_count": 7,
   "metadata": {
    "ExecuteTime": {
     "end_time": "2021-02-23T14:25:17.049591Z",
     "start_time": "2021-02-23T14:25:17.024264Z"
    },
    "scrolled": true
   },
   "outputs": [
    {
     "data": {
      "text/plain": [
       "count           339\n",
       "unique          339\n",
       "top       mp-773761\n",
       "freq              1\n",
       "Name: Materials Id, dtype: object"
      ]
     },
     "execution_count": 7,
     "metadata": {},
     "output_type": "execute_result"
    }
   ],
   "source": [
    "data['Materials Id'].describe()"
   ]
  },
  {
   "cell_type": "markdown",
   "metadata": {},
   "source": [
    "339 unique values for 339 unique entries; there is no useful information in this column and it can be dropped"
   ]
  },
  {
   "cell_type": "code",
   "execution_count": 8,
   "metadata": {
    "ExecuteTime": {
     "end_time": "2021-02-23T14:25:17.079699Z",
     "start_time": "2021-02-23T14:25:17.060997Z"
    }
   },
   "outputs": [
    {
     "data": {
      "text/plain": [
       "Index(['Formula', 'Spacegroup', 'Formation Energy (eV)', 'E Above Hull (eV)',\n",
       "       'Band Gap (eV)', 'Nsites', 'Density (gm/cc)', 'Volume',\n",
       "       'Has Bandstructure', 'Crystal System'],\n",
       "      dtype='object')"
      ]
     },
     "execution_count": 8,
     "metadata": {},
     "output_type": "execute_result"
    }
   ],
   "source": [
    "data.drop(columns=['Materials Id'],inplace=True)\n",
    "data.columns"
   ]
  },
  {
   "cell_type": "markdown",
   "metadata": {},
   "source": [
    "### `'Has Bandstructure'` column"
   ]
  },
  {
   "cell_type": "code",
   "execution_count": 9,
   "metadata": {
    "ExecuteTime": {
     "end_time": "2021-02-23T14:25:17.506079Z",
     "start_time": "2021-02-23T14:25:17.086281Z"
    },
    "scrolled": true
   },
   "outputs": [
    {
     "data": {
      "text/plain": [
       "<AxesSubplot:>"
      ]
     },
     "execution_count": 9,
     "metadata": {},
     "output_type": "execute_result"
    },
    {
     "data": {
      "image/png": "[encoded data removed]",
      "text/plain": [
       "<Figure size 432x288 with 1 Axes>"
      ]
     },
     "metadata": {
      "needs_background": "light"
     },
     "output_type": "display_data"
    }
   ],
   "source": [
    "data['Has Bandstructure'].value_counts().plot(kind='bar')"
   ]
  },
  {
   "cell_type": "markdown",
   "metadata": {},
   "source": [
    "2 unique values, True and False. Classic example of when to use one-hot encoding"
   ]
  },
  {
   "cell_type": "code",
   "execution_count": 10,
   "metadata": {
    "ExecuteTime": {
     "end_time": "2021-02-23T14:25:17.518358Z",
     "start_time": "2021-02-23T14:25:17.509161Z"
    }
   },
   "outputs": [],
   "source": [
    "# One-hot encode 'Has Bandstructure'\n",
    "data['Has Bandstructure'] = data['Has Bandstructure'].map({True:1, False:0})"
   ]
  },
  {
   "cell_type": "markdown",
   "metadata": {
    "ExecuteTime": {
     "end_time": "2021-02-19T22:02:46.927233Z",
     "start_time": "2021-02-19T22:02:46.917236Z"
    }
   },
   "source": [
    "### `'Spacegroup'` column"
   ]
  },
  {
   "cell_type": "code",
   "execution_count": 11,
   "metadata": {
    "ExecuteTime": {
     "end_time": "2021-02-23T14:25:18.404873Z",
     "start_time": "2021-02-23T14:25:17.524886Z"
    },
    "scrolled": true
   },
   "outputs": [
    {
     "name": "stdout",
     "output_type": "stream",
     "text": [
      "44\n"
     ]
    },
    {
     "data": {
      "image/png": "[encoded data removed]",
      "text/plain": [
       "<Figure size 432x288 with 1 Axes>"
      ]
     },
     "metadata": {
      "needs_background": "light"
     },
     "output_type": "display_data"
    }
   ],
   "source": [
    "data['Spacegroup'].value_counts().plot(kind='bar')\n",
    "print(data['Spacegroup'].nunique())"
   ]
  },
  {
   "cell_type": "markdown",
   "metadata": {},
   "source": [
    "44 unique values, with most of them occuring multiple times\n",
    "\n",
    "**Option 1:** One-hot encoding will result in 44 new feature columns; inefficient and memory-intensive.\n",
    "\n",
    "**Option 2:** Encode to ordinal numbers. Will possibly work, but does leave a residual structure that may affect model performance\n",
    "\n",
    "**Option 3:** Use Feature Hashing to create a vector representation of each unique Spacegroup. Note that if vector size = 44, it's the same as one-hot encoding, and if vector size = 1, it's the same as encoding to ordinal variables. Use vector size = 3 for this"
   ]
  },
  {
   "cell_type": "code",
   "execution_count": 12,
   "metadata": {
    "ExecuteTime": {
     "end_time": "2021-02-23T14:25:18.462204Z",
     "start_time": "2021-02-23T14:25:18.408604Z"
    },
    "scrolled": true
   },
   "outputs": [
    {
     "data": {
      "text/html": [
       "<div>\n",
       "<style scoped>\n",
       "    .dataframe tbody tr th:only-of-type {\n",
       "        vertical-align: middle;\n",
       "    }\n",
       "\n",
       "    .dataframe tbody tr th {\n",
       "        vertical-align: top;\n",
       "    }\n",
       "\n",
       "    .dataframe thead th {\n",
       "        text-align: right;\n",
       "    }\n",
       "</style>\n",
       "<table border=\"1\" class=\"dataframe\">\n",
       "  <thead>\n",
       "    <tr style=\"text-align: right;\">\n",
       "      <th></th>\n",
       "      <th>C2</th>\n",
       "      <th>C2/c</th>\n",
       "      <th>C2/m</th>\n",
       "      <th>C222</th>\n",
       "      <th>C2221</th>\n",
       "      <th>C2cm</th>\n",
       "      <th>Cc</th>\n",
       "      <th>Ccme</th>\n",
       "      <th>Cmce</th>\n",
       "      <th>Cmcm</th>\n",
       "      <th>...</th>\n",
       "      <th>Pcmn</th>\n",
       "      <th>Pm21n</th>\n",
       "      <th>Pmc21</th>\n",
       "      <th>Pmn21</th>\n",
       "      <th>Pmnb</th>\n",
       "      <th>Pn21a</th>\n",
       "      <th>Pna21</th>\n",
       "      <th>Pnc2</th>\n",
       "      <th>Pnca</th>\n",
       "      <th>Pnma</th>\n",
       "    </tr>\n",
       "  </thead>\n",
       "  <tbody>\n",
       "    <tr>\n",
       "      <th>0</th>\n",
       "      <td>0</td>\n",
       "      <td>0</td>\n",
       "      <td>0</td>\n",
       "      <td>0</td>\n",
       "      <td>0</td>\n",
       "      <td>0</td>\n",
       "      <td>0</td>\n",
       "      <td>0</td>\n",
       "      <td>0</td>\n",
       "      <td>0</td>\n",
       "      <td>...</td>\n",
       "      <td>0</td>\n",
       "      <td>0</td>\n",
       "      <td>0</td>\n",
       "      <td>0</td>\n",
       "      <td>0</td>\n",
       "      <td>0</td>\n",
       "      <td>0</td>\n",
       "      <td>0</td>\n",
       "      <td>0</td>\n",
       "      <td>0</td>\n",
       "    </tr>\n",
       "    <tr>\n",
       "      <th>1</th>\n",
       "      <td>0</td>\n",
       "      <td>0</td>\n",
       "      <td>0</td>\n",
       "      <td>0</td>\n",
       "      <td>0</td>\n",
       "      <td>0</td>\n",
       "      <td>0</td>\n",
       "      <td>0</td>\n",
       "      <td>0</td>\n",
       "      <td>0</td>\n",
       "      <td>...</td>\n",
       "      <td>0</td>\n",
       "      <td>0</td>\n",
       "      <td>0</td>\n",
       "      <td>0</td>\n",
       "      <td>0</td>\n",
       "      <td>0</td>\n",
       "      <td>0</td>\n",
       "      <td>0</td>\n",
       "      <td>0</td>\n",
       "      <td>0</td>\n",
       "    </tr>\n",
       "    <tr>\n",
       "      <th>2</th>\n",
       "      <td>0</td>\n",
       "      <td>0</td>\n",
       "      <td>0</td>\n",
       "      <td>0</td>\n",
       "      <td>0</td>\n",
       "      <td>0</td>\n",
       "      <td>1</td>\n",
       "      <td>0</td>\n",
       "      <td>0</td>\n",
       "      <td>0</td>\n",
       "      <td>...</td>\n",
       "      <td>0</td>\n",
       "      <td>0</td>\n",
       "      <td>0</td>\n",
       "      <td>0</td>\n",
       "      <td>0</td>\n",
       "      <td>0</td>\n",
       "      <td>0</td>\n",
       "      <td>0</td>\n",
       "      <td>0</td>\n",
       "      <td>0</td>\n",
       "    </tr>\n",
       "    <tr>\n",
       "      <th>3</th>\n",
       "      <td>0</td>\n",
       "      <td>1</td>\n",
       "      <td>0</td>\n",
       "      <td>0</td>\n",
       "      <td>0</td>\n",
       "      <td>0</td>\n",
       "      <td>0</td>\n",
       "      <td>0</td>\n",
       "      <td>0</td>\n",
       "      <td>0</td>\n",
       "      <td>...</td>\n",
       "      <td>0</td>\n",
       "      <td>0</td>\n",
       "      <td>0</td>\n",
       "      <td>0</td>\n",
       "      <td>0</td>\n",
       "      <td>0</td>\n",
       "      <td>0</td>\n",
       "      <td>0</td>\n",
       "      <td>0</td>\n",
       "      <td>0</td>\n",
       "    </tr>\n",
       "    <tr>\n",
       "      <th>4</th>\n",
       "      <td>0</td>\n",
       "      <td>1</td>\n",
       "      <td>0</td>\n",
       "      <td>0</td>\n",
       "      <td>0</td>\n",
       "      <td>0</td>\n",
       "      <td>0</td>\n",
       "      <td>0</td>\n",
       "      <td>0</td>\n",
       "      <td>0</td>\n",
       "      <td>...</td>\n",
       "      <td>0</td>\n",
       "      <td>0</td>\n",
       "      <td>0</td>\n",
       "      <td>0</td>\n",
       "      <td>0</td>\n",
       "      <td>0</td>\n",
       "      <td>0</td>\n",
       "      <td>0</td>\n",
       "      <td>0</td>\n",
       "      <td>0</td>\n",
       "    </tr>\n",
       "    <tr>\n",
       "      <th>...</th>\n",
       "      <td>...</td>\n",
       "      <td>...</td>\n",
       "      <td>...</td>\n",
       "      <td>...</td>\n",
       "      <td>...</td>\n",
       "      <td>...</td>\n",
       "      <td>...</td>\n",
       "      <td>...</td>\n",
       "      <td>...</td>\n",
       "      <td>...</td>\n",
       "      <td>...</td>\n",
       "      <td>...</td>\n",
       "      <td>...</td>\n",
       "      <td>...</td>\n",
       "      <td>...</td>\n",
       "      <td>...</td>\n",
       "      <td>...</td>\n",
       "      <td>...</td>\n",
       "      <td>...</td>\n",
       "      <td>...</td>\n",
       "      <td>...</td>\n",
       "    </tr>\n",
       "    <tr>\n",
       "      <th>334</th>\n",
       "      <td>0</td>\n",
       "      <td>0</td>\n",
       "      <td>0</td>\n",
       "      <td>0</td>\n",
       "      <td>0</td>\n",
       "      <td>0</td>\n",
       "      <td>0</td>\n",
       "      <td>0</td>\n",
       "      <td>0</td>\n",
       "      <td>0</td>\n",
       "      <td>...</td>\n",
       "      <td>0</td>\n",
       "      <td>0</td>\n",
       "      <td>0</td>\n",
       "      <td>0</td>\n",
       "      <td>0</td>\n",
       "      <td>0</td>\n",
       "      <td>0</td>\n",
       "      <td>0</td>\n",
       "      <td>0</td>\n",
       "      <td>0</td>\n",
       "    </tr>\n",
       "    <tr>\n",
       "      <th>335</th>\n",
       "      <td>0</td>\n",
       "      <td>0</td>\n",
       "      <td>0</td>\n",
       "      <td>0</td>\n",
       "      <td>0</td>\n",
       "      <td>0</td>\n",
       "      <td>0</td>\n",
       "      <td>0</td>\n",
       "      <td>0</td>\n",
       "      <td>0</td>\n",
       "      <td>...</td>\n",
       "      <td>0</td>\n",
       "      <td>0</td>\n",
       "      <td>0</td>\n",
       "      <td>0</td>\n",
       "      <td>0</td>\n",
       "      <td>0</td>\n",
       "      <td>0</td>\n",
       "      <td>0</td>\n",
       "      <td>0</td>\n",
       "      <td>0</td>\n",
       "    </tr>\n",
       "    <tr>\n",
       "      <th>336</th>\n",
       "      <td>0</td>\n",
       "      <td>0</td>\n",
       "      <td>0</td>\n",
       "      <td>0</td>\n",
       "      <td>0</td>\n",
       "      <td>0</td>\n",
       "      <td>0</td>\n",
       "      <td>0</td>\n",
       "      <td>0</td>\n",
       "      <td>0</td>\n",
       "      <td>...</td>\n",
       "      <td>0</td>\n",
       "      <td>0</td>\n",
       "      <td>0</td>\n",
       "      <td>0</td>\n",
       "      <td>0</td>\n",
       "      <td>0</td>\n",
       "      <td>0</td>\n",
       "      <td>0</td>\n",
       "      <td>0</td>\n",
       "      <td>0</td>\n",
       "    </tr>\n",
       "    <tr>\n",
       "      <th>337</th>\n",
       "      <td>0</td>\n",
       "      <td>0</td>\n",
       "      <td>0</td>\n",
       "      <td>0</td>\n",
       "      <td>0</td>\n",
       "      <td>0</td>\n",
       "      <td>0</td>\n",
       "      <td>0</td>\n",
       "      <td>0</td>\n",
       "      <td>0</td>\n",
       "      <td>...</td>\n",
       "      <td>0</td>\n",
       "      <td>0</td>\n",
       "      <td>0</td>\n",
       "      <td>0</td>\n",
       "      <td>0</td>\n",
       "      <td>0</td>\n",
       "      <td>0</td>\n",
       "      <td>0</td>\n",
       "      <td>0</td>\n",
       "      <td>0</td>\n",
       "    </tr>\n",
       "    <tr>\n",
       "      <th>338</th>\n",
       "      <td>0</td>\n",
       "      <td>0</td>\n",
       "      <td>0</td>\n",
       "      <td>0</td>\n",
       "      <td>0</td>\n",
       "      <td>0</td>\n",
       "      <td>0</td>\n",
       "      <td>0</td>\n",
       "      <td>0</td>\n",
       "      <td>0</td>\n",
       "      <td>...</td>\n",
       "      <td>0</td>\n",
       "      <td>0</td>\n",
       "      <td>0</td>\n",
       "      <td>0</td>\n",
       "      <td>0</td>\n",
       "      <td>0</td>\n",
       "      <td>0</td>\n",
       "      <td>0</td>\n",
       "      <td>0</td>\n",
       "      <td>0</td>\n",
       "    </tr>\n",
       "  </tbody>\n",
       "</table>\n",
       "<p>339 rows × 44 columns</p>\n",
       "</div>"
      ],
      "text/plain": [
       "     C2  C2/c  C2/m  C222  C2221  C2cm  Cc  Ccme  Cmce  Cmcm  ...  Pcmn  \\\n",
       "0     0     0     0     0      0     0   0     0     0     0  ...     0   \n",
       "1     0     0     0     0      0     0   0     0     0     0  ...     0   \n",
       "2     0     0     0     0      0     0   1     0     0     0  ...     0   \n",
       "3     0     1     0     0      0     0   0     0     0     0  ...     0   \n",
       "4     0     1     0     0      0     0   0     0     0     0  ...     0   \n",
       "..   ..   ...   ...   ...    ...   ...  ..   ...   ...   ...  ...   ...   \n",
       "334   0     0     0     0      0     0   0     0     0     0  ...     0   \n",
       "335   0     0     0     0      0     0   0     0     0     0  ...     0   \n",
       "336   0     0     0     0      0     0   0     0     0     0  ...     0   \n",
       "337   0     0     0     0      0     0   0     0     0     0  ...     0   \n",
       "338   0     0     0     0      0     0   0     0     0     0  ...     0   \n",
       "\n",
       "     Pm21n  Pmc21  Pmn21  Pmnb  Pn21a  Pna21  Pnc2  Pnca  Pnma  \n",
       "0        0      0      0     0      0      0     0     0     0  \n",
       "1        0      0      0     0      0      0     0     0     0  \n",
       "2        0      0      0     0      0      0     0     0     0  \n",
       "3        0      0      0     0      0      0     0     0     0  \n",
       "4        0      0      0     0      0      0     0     0     0  \n",
       "..     ...    ...    ...   ...    ...    ...   ...   ...   ...  \n",
       "334      0      0      0     0      0      0     0     0     0  \n",
       "335      0      0      0     0      0      0     0     0     0  \n",
       "336      0      0      0     0      0      0     0     0     0  \n",
       "337      0      0      0     0      0      0     0     0     0  \n",
       "338      0      0      0     0      0      0     0     0     0  \n",
       "\n",
       "[339 rows x 44 columns]"
      ]
     },
     "execution_count": 12,
     "metadata": {},
     "output_type": "execute_result"
    }
   ],
   "source": [
    "# Option 1: One-hot encoding (not used)\n",
    "pd.get_dummies(data['Spacegroup'])"
   ]
  },
  {
   "cell_type": "code",
   "execution_count": 13,
   "metadata": {
    "ExecuteTime": {
     "end_time": "2021-02-23T14:25:18.499208Z",
     "start_time": "2021-02-23T14:25:18.464206Z"
    }
   },
   "outputs": [
    {
     "data": {
      "text/plain": [
       "0      32\n",
       "1      22\n",
       "2       7\n",
       "3       2\n",
       "4       2\n",
       "       ..\n",
       "334    17\n",
       "335    17\n",
       "336    17\n",
       "337    17\n",
       "338    17\n",
       "Name: Spacegroup, Length: 339, dtype: int32"
      ]
     },
     "execution_count": 13,
     "metadata": {},
     "output_type": "execute_result"
    }
   ],
   "source": [
    "# Option 2: Ordinal number encoding\n",
    "data['Spacegroup (ordinal)'] = pd.factorize(data['Spacegroup'])[0]\n",
    "\n",
    "# Can also order by most common to least common\n",
    "data['Spacegroup'].rank(method=\"dense\").astype(int)"
   ]
  },
  {
   "cell_type": "code",
   "execution_count": 14,
   "metadata": {
    "ExecuteTime": {
     "end_time": "2021-02-23T14:25:18.539938Z",
     "start_time": "2021-02-23T14:25:18.507235Z"
    }
   },
   "outputs": [],
   "source": [
    "# Option 3: Feature Hashing\n",
    "n = 3\n",
    "fh = FeatureHasher(n_features=n, input_type='string')\n",
    "hashed_tag = fh.fit_transform(data['Spacegroup']).toarray()\n",
    "ht_df = pd.DataFrame(hashed_tag)\n",
    "ht_df.columns = ['Spacegroup'+str(i) for i in range(n)]\n",
    "\n",
    "data = data.join(ht_df)"
   ]
  },
  {
   "cell_type": "markdown",
   "metadata": {},
   "source": [
    "For now, keep both sets of new features, and we'll see which one performs better"
   ]
  },
  {
   "cell_type": "markdown",
   "metadata": {},
   "source": [
    "### `'Formula'` column"
   ]
  },
  {
   "cell_type": "code",
   "execution_count": 15,
   "metadata": {
    "ExecuteTime": {
     "end_time": "2021-02-23T14:25:18.581990Z",
     "start_time": "2021-02-23T14:25:18.543277Z"
    }
   },
   "outputs": [
    {
     "data": {
      "text/plain": [
       "LiFeSiO4         42\n",
       "LiCoSiO4         29\n",
       "Li2FeSiO4        15\n",
       "Li2CoSiO4        14\n",
       "LiMnSiO4         12\n",
       "                 ..\n",
       "LiMnSi3O8         1\n",
       "Li3CoSiO5         1\n",
       "Li2Co2SiO6        1\n",
       "Li15Mn15SiO32     1\n",
       "Li7Fe3(SiO6)2     1\n",
       "Name: Formula, Length: 114, dtype: int64"
      ]
     },
     "execution_count": 15,
     "metadata": {},
     "output_type": "execute_result"
    }
   ],
   "source": [
    "data['Formula'].value_counts()"
   ]
  },
  {
   "cell_type": "markdown",
   "metadata": {},
   "source": [
    "114 unique values, most only occuring once. One-hot encoding is out of the question\n",
    "\n",
    "**Option 1,2,3:** one-hot encoding, ordinal number encoding, and feature hashing all become inefficient with such variety.\n",
    "\n",
    "**Option 4:** Use domain knowledge to create additional features. For example, we can look at the LiFeSiO4 formula, and turn it into 4 new columns, each one indicating how many of each atom are in the formula (for example, {Li: 1, Fe: 1, Si: 1, O: 4})"
   ]
  },
  {
   "cell_type": "code",
   "execution_count": 16,
   "metadata": {
    "ExecuteTime": {
     "end_time": "2021-02-23T14:25:18.663877Z",
     "start_time": "2021-02-23T14:25:18.613001Z"
    }
   },
   "outputs": [
    {
     "name": "stdout",
     "output_type": "stream",
     "text": [
      "Formula\n",
      "Spacegroup\n",
      "Formation Energy (eV)\n",
      "E Above Hull (eV)\n",
      "Band Gap (eV)\n",
      "Nsites\n",
      "Density (gm/cc)\n",
      "Volume\n",
      "Has Bandstructure\n",
      "Crystal System\n",
      "Spacegroup (ordinal)\n",
      "Spacegroup0\n",
      "Spacegroup1\n",
      "Spacegroup2\n",
      "Li\n",
      "Mn\n",
      "Si\n",
      "O\n",
      "Fe\n",
      "Co\n"
     ]
    }
   ],
   "source": [
    "# Option 4: use chemparse package to create the new features of atom counts\n",
    "chem_data = data['Formula'].apply(chemparse.parse_formula)\n",
    "\n",
    "# Convert the dictionary into a dataframe and fill NaN's with zero's\n",
    "chem_data = pd.json_normalize(chem_data)\n",
    "chem_data = chem_data.fillna(0)\n",
    "\n",
    "data = data.join(chem_data)\n",
    "for x in data.columns:\n",
    "    print(x)"
   ]
  },
  {
   "cell_type": "code",
   "execution_count": 22,
   "metadata": {},
   "outputs": [
    {
     "data": {
      "text/html": [
       "<div>\n",
       "<style scoped>\n",
       "    .dataframe tbody tr th:only-of-type {\n",
       "        vertical-align: middle;\n",
       "    }\n",
       "\n",
       "    .dataframe tbody tr th {\n",
       "        vertical-align: top;\n",
       "    }\n",
       "\n",
       "    .dataframe thead th {\n",
       "        text-align: right;\n",
       "    }\n",
       "</style>\n",
       "<table border=\"1\" class=\"dataframe\">\n",
       "  <thead>\n",
       "    <tr style=\"text-align: right;\">\n",
       "      <th></th>\n",
       "      <th>Formula</th>\n",
       "      <th>Spacegroup</th>\n",
       "      <th>Formation Energy (eV)</th>\n",
       "      <th>E Above Hull (eV)</th>\n",
       "      <th>Band Gap (eV)</th>\n",
       "      <th>Nsites</th>\n",
       "      <th>Density (gm/cc)</th>\n",
       "      <th>Volume</th>\n",
       "      <th>Has Bandstructure</th>\n",
       "      <th>Crystal System</th>\n",
       "      <th>...</th>\n",
       "      <th>Li</th>\n",
       "      <th>Mn</th>\n",
       "      <th>Si</th>\n",
       "      <th>O</th>\n",
       "      <th>Fe</th>\n",
       "      <th>Co</th>\n",
       "      <th>Crystal System (#)</th>\n",
       "      <th>monoclinic</th>\n",
       "      <th>orthorhombic</th>\n",
       "      <th>triclinic</th>\n",
       "    </tr>\n",
       "  </thead>\n",
       "  <tbody>\n",
       "    <tr>\n",
       "      <th>0</th>\n",
       "      <td>Li2MnSiO4</td>\n",
       "      <td>Pc</td>\n",
       "      <td>-2.699</td>\n",
       "      <td>0.006</td>\n",
       "      <td>3.462</td>\n",
       "      <td>16</td>\n",
       "      <td>2.993</td>\n",
       "      <td>178.513</td>\n",
       "      <td>1</td>\n",
       "      <td>monoclinic</td>\n",
       "      <td>...</td>\n",
       "      <td>2.0</td>\n",
       "      <td>1.0</td>\n",
       "      <td>1.0</td>\n",
       "      <td>4.0</td>\n",
       "      <td>0.0</td>\n",
       "      <td>0.0</td>\n",
       "      <td>0</td>\n",
       "      <td>1</td>\n",
       "      <td>0</td>\n",
       "      <td>0</td>\n",
       "    </tr>\n",
       "    <tr>\n",
       "      <th>1</th>\n",
       "      <td>Li2MnSiO4</td>\n",
       "      <td>P21/c</td>\n",
       "      <td>-2.696</td>\n",
       "      <td>0.008</td>\n",
       "      <td>2.879</td>\n",
       "      <td>32</td>\n",
       "      <td>2.926</td>\n",
       "      <td>365.272</td>\n",
       "      <td>1</td>\n",
       "      <td>monoclinic</td>\n",
       "      <td>...</td>\n",
       "      <td>2.0</td>\n",
       "      <td>1.0</td>\n",
       "      <td>1.0</td>\n",
       "      <td>4.0</td>\n",
       "      <td>0.0</td>\n",
       "      <td>0.0</td>\n",
       "      <td>0</td>\n",
       "      <td>1</td>\n",
       "      <td>0</td>\n",
       "      <td>0</td>\n",
       "    </tr>\n",
       "    <tr>\n",
       "      <th>2</th>\n",
       "      <td>Li4MnSi2O7</td>\n",
       "      <td>Cc</td>\n",
       "      <td>-2.775</td>\n",
       "      <td>0.012</td>\n",
       "      <td>3.653</td>\n",
       "      <td>28</td>\n",
       "      <td>2.761</td>\n",
       "      <td>301.775</td>\n",
       "      <td>1</td>\n",
       "      <td>monoclinic</td>\n",
       "      <td>...</td>\n",
       "      <td>4.0</td>\n",
       "      <td>1.0</td>\n",
       "      <td>2.0</td>\n",
       "      <td>7.0</td>\n",
       "      <td>0.0</td>\n",
       "      <td>0.0</td>\n",
       "      <td>0</td>\n",
       "      <td>1</td>\n",
       "      <td>0</td>\n",
       "      <td>0</td>\n",
       "    </tr>\n",
       "    <tr>\n",
       "      <th>3</th>\n",
       "      <td>Li4Mn2Si3O10</td>\n",
       "      <td>C2/c</td>\n",
       "      <td>-2.783</td>\n",
       "      <td>0.013</td>\n",
       "      <td>3.015</td>\n",
       "      <td>38</td>\n",
       "      <td>2.908</td>\n",
       "      <td>436.183</td>\n",
       "      <td>1</td>\n",
       "      <td>monoclinic</td>\n",
       "      <td>...</td>\n",
       "      <td>4.0</td>\n",
       "      <td>2.0</td>\n",
       "      <td>3.0</td>\n",
       "      <td>10.0</td>\n",
       "      <td>0.0</td>\n",
       "      <td>0.0</td>\n",
       "      <td>0</td>\n",
       "      <td>1</td>\n",
       "      <td>0</td>\n",
       "      <td>0</td>\n",
       "    </tr>\n",
       "    <tr>\n",
       "      <th>4</th>\n",
       "      <td>Li2Mn3Si3O10</td>\n",
       "      <td>C2/c</td>\n",
       "      <td>-2.747</td>\n",
       "      <td>0.016</td>\n",
       "      <td>2.578</td>\n",
       "      <td>36</td>\n",
       "      <td>3.334</td>\n",
       "      <td>421.286</td>\n",
       "      <td>1</td>\n",
       "      <td>monoclinic</td>\n",
       "      <td>...</td>\n",
       "      <td>2.0</td>\n",
       "      <td>3.0</td>\n",
       "      <td>3.0</td>\n",
       "      <td>10.0</td>\n",
       "      <td>0.0</td>\n",
       "      <td>0.0</td>\n",
       "      <td>0</td>\n",
       "      <td>1</td>\n",
       "      <td>0</td>\n",
       "      <td>0</td>\n",
       "    </tr>\n",
       "  </tbody>\n",
       "</table>\n",
       "<p>5 rows × 24 columns</p>\n",
       "</div>"
      ],
      "text/plain": [
       "        Formula Spacegroup  Formation Energy (eV)  E Above Hull (eV)  \\\n",
       "0     Li2MnSiO4         Pc                 -2.699              0.006   \n",
       "1     Li2MnSiO4      P21/c                 -2.696              0.008   \n",
       "2    Li4MnSi2O7         Cc                 -2.775              0.012   \n",
       "3  Li4Mn2Si3O10       C2/c                 -2.783              0.013   \n",
       "4  Li2Mn3Si3O10       C2/c                 -2.747              0.016   \n",
       "\n",
       "   Band Gap (eV)  Nsites  Density (gm/cc)   Volume  Has Bandstructure  \\\n",
       "0          3.462      16            2.993  178.513                  1   \n",
       "1          2.879      32            2.926  365.272                  1   \n",
       "2          3.653      28            2.761  301.775                  1   \n",
       "3          3.015      38            2.908  436.183                  1   \n",
       "4          2.578      36            3.334  421.286                  1   \n",
       "\n",
       "  Crystal System  ...   Li   Mn   Si     O   Fe   Co  Crystal System (#)  \\\n",
       "0     monoclinic  ...  2.0  1.0  1.0   4.0  0.0  0.0                   0   \n",
       "1     monoclinic  ...  2.0  1.0  1.0   4.0  0.0  0.0                   0   \n",
       "2     monoclinic  ...  4.0  1.0  2.0   7.0  0.0  0.0                   0   \n",
       "3     monoclinic  ...  4.0  2.0  3.0  10.0  0.0  0.0                   0   \n",
       "4     monoclinic  ...  2.0  3.0  3.0  10.0  0.0  0.0                   0   \n",
       "\n",
       "   monoclinic  orthorhombic  triclinic  \n",
       "0           1             0          0  \n",
       "1           1             0          0  \n",
       "2           1             0          0  \n",
       "3           1             0          0  \n",
       "4           1             0          0  \n",
       "\n",
       "[5 rows x 24 columns]"
      ]
     },
     "execution_count": 22,
     "metadata": {},
     "output_type": "execute_result"
    }
   ],
   "source": [
    "data.head()"
   ]
  },
  {
   "cell_type": "markdown",
   "metadata": {},
   "source": [
    "### `'Crystal System'` column\n",
    "This is the target column, and there are 3 different types of crystal structures we're trying to classify. To properly transform this to numerical data, we have to understand if we are working on a multi-class problem or a multi-label problem.\n",
    "\n",
    "- A multi-class problem is one in which there is only one distinct type of classification for each row. For example, a fruit is either an apple or an orange, but cannot be both. For a multi-class problem, the target value should be a single value, such as a 0 for apple and 1 for orange. In other words, it would be encoded to ordinal numbers.\n",
    "- A multi-label problem is one in which there are possibly multiple labels for each row. For example, classifying pictures of apples and oranges can include a picture of an apple alone, an orange alone, or both an apple and an orange. For a multi-label problem, the target value should be a vector representation, such as [1,0] for apple, [0,1] for orange, and [1,1] for both apple and orange. In other words, we would have to one-hot encode the target feature.\n",
    "\n",
    "Since the crystal system structure is unique, this is a multi-class problem. The target output should be encoded to a 0, 1, or 2. If it were a multi-label problem, the target output would have to be encoded to a vector of length 3. "
   ]
  },
  {
   "cell_type": "code",
   "execution_count": 17,
   "metadata": {
    "ExecuteTime": {
     "end_time": "2021-02-23T14:25:18.691334Z",
     "start_time": "2021-02-23T14:25:18.670299Z"
    }
   },
   "outputs": [],
   "source": [
    "# Encode Crystal System to ordinal values for multi-class problem\n",
    "labelencoder = LabelEncoder() #initializing an object of class LabelEncoder\n",
    "data['Crystal System (#)'] = labelencoder.fit_transform(data['Crystal System']) \n",
    "\n",
    "# For a multi-label problem, use one-hot encoding\n",
    "data[['monoclinic','orthorhombic','triclinic']] = pd.get_dummies(data['Crystal System'])"
   ]
  },
  {
   "cell_type": "code",
   "execution_count": 18,
   "metadata": {
    "ExecuteTime": {
     "end_time": "2021-02-23T14:25:18.961495Z",
     "start_time": "2021-02-23T14:25:18.693338Z"
    }
   },
   "outputs": [
    {
     "data": {
      "text/plain": [
       "<AxesSubplot:>"
      ]
     },
     "execution_count": 18,
     "metadata": {},
     "output_type": "execute_result"
    },
    {
     "data": {
      "image/png": "[encoded data removed]",
      "text/plain": [
       "<Figure size 432x288 with 1 Axes>"
      ]
     },
     "metadata": {
      "needs_background": "light"
     },
     "output_type": "display_data"
    }
   ],
   "source": [
    "# Check for balance\n",
    "data['Crystal System'].value_counts().plot(kind='bar')"
   ]
  },
  {
   "cell_type": "code",
   "execution_count": 19,
   "metadata": {
    "ExecuteTime": {
     "end_time": "2021-02-23T14:27:59.103602Z",
     "start_time": "2021-02-23T14:27:59.075634Z"
    }
   },
   "outputs": [],
   "source": [
    "# Save new features in dataframe\n",
    "data.to_csv('lithium_ion_data.csv',index=False)"
   ]
  },
  {
   "cell_type": "markdown",
   "metadata": {},
   "source": [
    "### Test performance"
   ]
  },
  {
   "cell_type": "code",
   "execution_count": 20,
   "metadata": {
    "ExecuteTime": {
     "end_time": "2021-02-23T14:28:01.058496Z",
     "start_time": "2021-02-23T14:28:01.032185Z"
    }
   },
   "outputs": [],
   "source": [
    "# All new numerical features (Crystal System excluded, since it's int32)\n",
    "features = list(data.select_dtypes(include=['int64','float64']).columns.values)\n",
    "\n",
    "ord_feat = ['Formation Energy (eV)','E Above Hull (eV)','Band Gap (eV)',\n",
    "            'Nsites','Density (gm/cc)','Volume','Has Bandstructure',\n",
    "            'Spacegroup (ordinal)','Li','Mn','Si','O','Fe','Co'\n",
    "           ]\n",
    "\n",
    "hash_feat = ['Formation Energy (eV)','E Above Hull (eV)','Band Gap (eV)',\n",
    "             'Nsites','Density (gm/cc)','Volume','Has Bandstructure',\n",
    "             'Spacegroup0','Spacegroup1','Spacegroup2',\n",
    "             'Li','Mn','Si','O','Fe','Co'\n",
    "            ]\n",
    "\n",
    "labels = ['Crystal System (#)']"
   ]
  },
  {
   "cell_type": "code",
   "execution_count": 21,
   "metadata": {
    "ExecuteTime": {
     "end_time": "2021-02-23T14:28:04.353940Z",
     "start_time": "2021-02-23T14:28:02.965905Z"
    },
    "scrolled": true
   },
   "outputs": [
    {
     "data": {
      "image/png": "[encoded data removed]",
      "text/plain": [
       "<Figure size 1152x360 with 6 Axes>"
      ]
     },
     "metadata": {
      "needs_background": "light"
     },
     "output_type": "display_data"
    }
   ],
   "source": [
    "plt.figure(figsize=(16,5))\n",
    "\n",
    "titles = ['Original Numerical Features Only',\n",
    "          'With Encoded Features\\n(Ordinal Spacegroup)',\n",
    "          'With Encoded Features\\n(Hashed Spacegroup)'\n",
    "         ]\n",
    "\n",
    "for i, feat in enumerate([num_feat,ord_feat,hash_feat]):\n",
    "    X = data[feat]\n",
    "    y = data[labels]\n",
    "\n",
    "    # 80% training data and 20% testing\n",
    "    Xtrain, Xtest, ytrain, ytest = train_test_split(X, y, test_size=0.2)\n",
    "\n",
    "    dtree = DecisionTreeClassifier()\n",
    "    dtree.fit(Xtrain,ytrain)\n",
    "    yp = dtree.predict(Xtest)\n",
    "    \n",
    "    # Plot confusion matrix\n",
    "    plt.subplot(1,3,i+1)\n",
    "    cm = confusion_matrix(ytest,yp)\n",
    "    sns.heatmap(cm,annot=True)\n",
    "    plt.title(titles[i])"
   ]
  }
 ],
 "metadata": {
  "hide_input": false,
  "kernelspec": {
   "display_name": "Python 3",
   "language": "python",
   "name": "python3"
  },
  "language_info": {
   "codemirror_mode": {
    "name": "ipython",
    "version": 3
   },
   "file_extension": ".py",
   "mimetype": "text/x-python",
   "name": "python",
   "nbconvert_exporter": "python",
   "pygments_lexer": "ipython3",
   "version": "3.8.5"
  }
 },
 "nbformat": 4,
 "nbformat_minor": 4
}
