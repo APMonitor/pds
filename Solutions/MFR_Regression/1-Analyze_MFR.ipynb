{
 "cells": [
  {
   "cell_type": "markdown",
   "metadata": {},
   "source": [
    "## Polymer Melt Flow Rate\n",
    "\n",
    "Polymer properties such as density, melt index, and melt flow rate must be kept within tight specifications for each grade. This case study is to analyze polymer production data to predict melt flow rate. See full [problem statement](http://apmonitor.com/pds/index.php/Main/PolymerMeltFlowRate).\n",
    "\n",
    "### Import Polymer MFR Data"
   ]
  },
  {
   "cell_type": "code",
   "execution_count": 6,
   "metadata": {
    "ExecuteTime": {
     "end_time": "2021-01-22T19:07:28.575281Z",
     "start_time": "2021-01-22T19:07:27.221589Z"
    }
   },
   "outputs": [
    {
     "data": {
      "text/html": [
       "<div>\n",
       "<style scoped>\n",
       "    .dataframe tbody tr th:only-of-type {\n",
       "        vertical-align: middle;\n",
       "    }\n",
       "\n",
       "    .dataframe tbody tr th {\n",
       "        vertical-align: top;\n",
       "    }\n",
       "\n",
       "    .dataframe thead th {\n",
       "        text-align: right;\n",
       "    }\n",
       "</style>\n",
       "<table border=\"1\" class=\"dataframe\">\n",
       "  <thead>\n",
       "    <tr style=\"text-align: right;\">\n",
       "      <th></th>\n",
       "      <th>C3=</th>\n",
       "      <th>H2R</th>\n",
       "      <th>Pressure</th>\n",
       "      <th>Level</th>\n",
       "      <th>C2=</th>\n",
       "      <th>Cat</th>\n",
       "      <th>Temp</th>\n",
       "      <th>MFR</th>\n",
       "      <th>lnMFR</th>\n",
       "    </tr>\n",
       "  </thead>\n",
       "  <tbody>\n",
       "    <tr>\n",
       "      <th>count</th>\n",
       "      <td>2486.000000</td>\n",
       "      <td>2560.000000</td>\n",
       "      <td>2484.000000</td>\n",
       "      <td>2484.000000</td>\n",
       "      <td>2484.00000</td>\n",
       "      <td>2486.000000</td>\n",
       "      <td>2484.000000</td>\n",
       "      <td>2564.000000</td>\n",
       "      <td>2564.000000</td>\n",
       "    </tr>\n",
       "    <tr>\n",
       "      <th>mean</th>\n",
       "      <td>25306.285729</td>\n",
       "      <td>0.178427</td>\n",
       "      <td>30.663706</td>\n",
       "      <td>77.651055</td>\n",
       "      <td>42525.14000</td>\n",
       "      <td>0.138530</td>\n",
       "      <td>80.144365</td>\n",
       "      <td>8.185218</td>\n",
       "      <td>1.901381</td>\n",
       "    </tr>\n",
       "    <tr>\n",
       "      <th>std</th>\n",
       "      <td>1706.481672</td>\n",
       "      <td>0.077473</td>\n",
       "      <td>0.423345</td>\n",
       "      <td>0.919600</td>\n",
       "      <td>11331.86896</td>\n",
       "      <td>0.041869</td>\n",
       "      <td>0.823554</td>\n",
       "      <td>5.088696</td>\n",
       "      <td>0.638107</td>\n",
       "    </tr>\n",
       "    <tr>\n",
       "      <th>min</th>\n",
       "      <td>16106.025000</td>\n",
       "      <td>0.000000</td>\n",
       "      <td>26.946344</td>\n",
       "      <td>74.575958</td>\n",
       "      <td>9610.46480</td>\n",
       "      <td>0.022162</td>\n",
       "      <td>77.760117</td>\n",
       "      <td>1.500000</td>\n",
       "      <td>0.405465</td>\n",
       "    </tr>\n",
       "    <tr>\n",
       "      <th>25%</th>\n",
       "      <td>24361.632000</td>\n",
       "      <td>0.136000</td>\n",
       "      <td>30.446129</td>\n",
       "      <td>76.992151</td>\n",
       "      <td>34795.53500</td>\n",
       "      <td>0.113764</td>\n",
       "      <td>79.677458</td>\n",
       "      <td>3.700000</td>\n",
       "      <td>1.308333</td>\n",
       "    </tr>\n",
       "    <tr>\n",
       "      <th>50%</th>\n",
       "      <td>25365.754500</td>\n",
       "      <td>0.173500</td>\n",
       "      <td>30.622631</td>\n",
       "      <td>77.494477</td>\n",
       "      <td>41550.56250</td>\n",
       "      <td>0.132986</td>\n",
       "      <td>80.044308</td>\n",
       "      <td>4.300000</td>\n",
       "      <td>1.458615</td>\n",
       "    </tr>\n",
       "    <tr>\n",
       "      <th>75%</th>\n",
       "      <td>26398.452250</td>\n",
       "      <td>0.200000</td>\n",
       "      <td>30.925738</td>\n",
       "      <td>78.210867</td>\n",
       "      <td>50010.29500</td>\n",
       "      <td>0.156990</td>\n",
       "      <td>80.496296</td>\n",
       "      <td>12.900000</td>\n",
       "      <td>2.557227</td>\n",
       "    </tr>\n",
       "    <tr>\n",
       "      <th>max</th>\n",
       "      <td>30083.688000</td>\n",
       "      <td>0.980000</td>\n",
       "      <td>32.674332</td>\n",
       "      <td>83.841675</td>\n",
       "      <td>106073.61000</td>\n",
       "      <td>0.677979</td>\n",
       "      <td>91.566544</td>\n",
       "      <td>38.000000</td>\n",
       "      <td>3.637586</td>\n",
       "    </tr>\n",
       "  </tbody>\n",
       "</table>\n",
       "</div>"
      ],
      "text/plain": [
       "                C3=          H2R     Pressure        Level           C2=  \\\n",
       "count   2486.000000  2560.000000  2484.000000  2484.000000    2484.00000   \n",
       "mean   25306.285729     0.178427    30.663706    77.651055   42525.14000   \n",
       "std     1706.481672     0.077473     0.423345     0.919600   11331.86896   \n",
       "min    16106.025000     0.000000    26.946344    74.575958    9610.46480   \n",
       "25%    24361.632000     0.136000    30.446129    76.992151   34795.53500   \n",
       "50%    25365.754500     0.173500    30.622631    77.494477   41550.56250   \n",
       "75%    26398.452250     0.200000    30.925738    78.210867   50010.29500   \n",
       "max    30083.688000     0.980000    32.674332    83.841675  106073.61000   \n",
       "\n",
       "               Cat         Temp          MFR        lnMFR  \n",
       "count  2486.000000  2484.000000  2564.000000  2564.000000  \n",
       "mean      0.138530    80.144365     8.185218     1.901381  \n",
       "std       0.041869     0.823554     5.088696     0.638107  \n",
       "min       0.022162    77.760117     1.500000     0.405465  \n",
       "25%       0.113764    79.677458     3.700000     1.308333  \n",
       "50%       0.132986    80.044308     4.300000     1.458615  \n",
       "75%       0.156990    80.496296    12.900000     2.557227  \n",
       "max       0.677979    91.566544    38.000000     3.637586  "
      ]
     },
     "execution_count": 6,
     "metadata": {},
     "output_type": "execute_result"
    }
   ],
   "source": [
    "import numpy as np\n",
    "import pandas as pd\n",
    "url = 'http://apmonitor.com/pds/uploads/Main/polymer_reactor.txt'\n",
    "data = pd.read_csv(url)\n",
    "data.columns = ['Time','C3=','H2R','Pressure','Level','C2=','Cat','Temp','MFR']\n",
    "data['lnMFR'] = np.log(data['MFR'].values)\n",
    "data.describe()"
   ]
  },
  {
   "cell_type": "markdown",
   "metadata": {},
   "source": [
    "![idea](https://apmonitor.com/che263/uploads/Begin_Python/idea.png)\n",
    "\n",
    "### Data Analysis with `pandas-profiling`\n",
    "\n",
    "Pandas Profiling is a data analysis tool for a more in-depth summary of the data than the `descibe()` function. [Install the package](https://pandas-profiling.github.io/pandas-profiling/docs/master/rtd/pages/installation.html) with:\n",
    "\n",
    "```python\n",
    "pip install --user pandas-profiling[notebook]\n",
    "jupyter nbextension enable --py widgetsnbextension\n",
    "```\n",
    "\n",
    "You need to restart the Kernel before proceeding. The install only needs to run once."
   ]
  },
  {
   "cell_type": "code",
   "execution_count": 7,
   "metadata": {
    "ExecuteTime": {
     "end_time": "2021-01-22T19:07:32.530759Z",
     "start_time": "2021-01-22T19:07:28.627041Z"
    }
   },
   "outputs": [],
   "source": [
    "try:\n",
    "    import pandas as pd\n",
    "    from pandas_profiling import ProfileReport\n",
    "except:\n",
    "    !pip install --user pandas-profiling\n",
    "    !jupyter nbextension enable --py widgetsnbextension\n",
    "    print('Restart the Kernel before proceeding')"
   ]
  },
  {
   "cell_type": "markdown",
   "metadata": {},
   "source": [
    "After you install `pandas-profiling` and enable the widget extension, you can now import and analysis data. Some of the functions take a long time with a large data set. Two methods for dealing with large data sets are to:\n",
    "\n",
    "```python\n",
    "profile = ProfileReport(data, explorative=True, minimal=False)\n",
    "```\n",
    "\n",
    "1. Sub-sample the data sets such as with `data = data[::10]` to take every 10th row.\n",
    "2. Use the `minimal` option to avoid the correlation and other analysis that is slow with large data sets."
   ]
  },
  {
   "cell_type": "code",
   "execution_count": 8,
   "metadata": {
    "ExecuteTime": {
     "end_time": "2021-01-22T19:07:32.592759Z",
     "start_time": "2021-01-22T19:07:32.533762Z"
    }
   },
   "outputs": [],
   "source": [
    "profile = ProfileReport(data, explorative=True, minimal=False)"
   ]
  },
  {
   "cell_type": "markdown",
   "metadata": {},
   "source": [
    "View the profile report in the Jupyter Notebook with `profile.to_widgets()`."
   ]
  },
  {
   "cell_type": "code",
   "execution_count": 9,
   "metadata": {
    "ExecuteTime": {
     "end_time": "2021-01-22T19:08:26.303909Z",
     "start_time": "2021-01-22T19:07:32.593760Z"
    }
   },
   "outputs": [
    {
     "data": {
      "application/vnd.jupyter.widget-view+json": {
       "model_id": "5ad0a8c2f333419aa106d15bc20e0bd3",
       "version_major": 2,
       "version_minor": 0
      },
      "text/plain": [
       "HBox(children=(HTML(value='Summarize dataset'), FloatProgress(value=0.0, max=24.0), HTML(value='')))"
      ]
     },
     "metadata": {},
     "output_type": "display_data"
    },
    {
     "name": "stdout",
     "output_type": "stream",
     "text": [
      "\n"
     ]
    },
    {
     "data": {
      "application/vnd.jupyter.widget-view+json": {
       "model_id": "a57464d7d1ca45b2bdd2df6cb0331638",
       "version_major": 2,
       "version_minor": 0
      },
      "text/plain": [
       "HBox(children=(HTML(value='Generate report structure'), FloatProgress(value=0.0, max=1.0), HTML(value='')))"
      ]
     },
     "metadata": {},
     "output_type": "display_data"
    },
    {
     "name": "stdout",
     "output_type": "stream",
     "text": [
      "\n"
     ]
    },
    {
     "data": {
      "application/vnd.jupyter.widget-view+json": {
       "model_id": "",
       "version_major": 2,
       "version_minor": 0
      },
      "text/plain": [
       "HBox(children=(HTML(value='Render widgets'), FloatProgress(value=0.0, max=1.0), HTML(value='')))"
      ]
     },
     "metadata": {},
     "output_type": "display_data"
    },
    {
     "data": {
      "application/vnd.jupyter.widget-view+json": {
       "model_id": "b0abcf6ee2154661be8e37413ecf1a9c",
       "version_major": 2,
       "version_minor": 0
      },
      "text/plain": [
       "VBox(children=(Tab(children=(Tab(children=(GridBox(children=(VBox(children=(GridspecLayout(children=(HTML(valu…"
      ]
     },
     "metadata": {},
     "output_type": "display_data"
    }
   ],
   "source": [
    "profile.to_widgets()"
   ]
  }
 ],
 "metadata": {
  "hide_input": false,
  "kernelspec": {
   "display_name": "Python 3",
   "language": "python",
   "name": "python3"
  },
  "language_info": {
   "codemirror_mode": {
    "name": "ipython",
    "version": 3
   },
   "file_extension": ".py",
   "mimetype": "text/x-python",
   "name": "python",
   "nbconvert_exporter": "python",
   "pygments_lexer": "ipython3",
   "version": "3.8.5"
  }
 },
 "nbformat": 4,
 "nbformat_minor": 2
}
