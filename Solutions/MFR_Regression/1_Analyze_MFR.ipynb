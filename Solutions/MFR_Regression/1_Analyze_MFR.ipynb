{
 "cells": [
  {
   "cell_type": "markdown",
   "metadata": {
    "id": "lsRTpVFboQCR"
   },
   "source": [
    "## Polymer Melt Flow Rate\n",
    "\n",
    "Polymer properties such as density, melt index, and melt flow rate must be kept within tight specifications for each grade. This case study is to analyze polymer production data to predict melt flow rate. See full [problem statement](http://apmonitor.com/pds/index.php/Main/PolymerMeltFlowRate).\n",
    "\n",
    "### Import Polymer MFR Data"
   ]
  },
  {
   "cell_type": "code",
   "execution_count": null,
   "metadata": {
    "ExecuteTime": {
     "end_time": "2021-01-22T19:07:28.575281Z",
     "start_time": "2021-01-22T19:07:27.221589Z"
    },
    "id": "L1tqrNdVoQCa"
   },
   "outputs": [],
   "source": [
    "import numpy as np\n",
    "import pandas as pd\n",
    "url = 'http://apmonitor.com/pds/uploads/Main/polymer_reactor.txt'\n",
    "data = pd.read_csv(url)\n",
    "data.head()"
   ]
  },
  {
   "cell_type": "markdown",
   "metadata": {
    "id": "K59V8QYZoQCc"
   },
   "source": [
    "Rename the columns `['Time','C3=','H2R','Pressure','Level','C2=','Cat','Temp','MFR']`"
   ]
  },
  {
   "cell_type": "code",
   "execution_count": null,
   "metadata": {
    "id": "b47sWgyLoQCd"
   },
   "outputs": [],
   "source": [
    "data.columns = ['Time','C3=','H2R','Pressure','Level','C2=','Cat','Temp','MFR']"
   ]
  },
  {
   "cell_type": "markdown",
   "metadata": {
    "id": "BWD4NNULoQCd"
   },
   "source": [
    "Create a new column for the natural log of (MFR) as `lnMFR`"
   ]
  },
  {
   "cell_type": "code",
   "execution_count": null,
   "metadata": {
    "id": "radYHiyXoQCe"
   },
   "outputs": [],
   "source": [
    "data['lnMFR'] = np.log(data['MFR'])"
   ]
  },
  {
   "cell_type": "markdown",
   "metadata": {
    "id": "FDvokCF-oQCf"
   },
   "source": [
    "Use the `.describe()` function to get a summary of the data."
   ]
  },
  {
   "cell_type": "code",
   "execution_count": null,
   "metadata": {
    "ExecuteTime": {
     "end_time": "2021-01-22T19:07:28.623013Z",
     "start_time": "2021-01-22T19:07:28.579241Z"
    },
    "id": "-ZjJsKPBoQCf"
   },
   "outputs": [],
   "source": [
    "data.describe()"
   ]
  },
  {
   "cell_type": "markdown",
   "metadata": {
    "id": "AVM3zx2foQCg"
   },
   "source": [
    "![idea](https://apmonitor.com/che263/uploads/Begin_Python/idea.png)\n",
    "\n",
    "### Data Analysis with `ydata-profiling`\n",
    "\n",
    "Exploratory Data Analysis is a tool for a more in-depth summary of the data than the `descibe()` function. Install the package with `pip install ydata-profiling`\n",
    "\n",
    "You need to restart the Kernel before proceeding. The install only needs to run once."
   ]
  },
  {
   "cell_type": "code",
   "execution_count": null,
   "metadata": {
    "ExecuteTime": {
     "end_time": "2021-01-22T19:07:32.530759Z",
     "start_time": "2021-01-22T19:07:28.627041Z"
    },
    "id": "YjOEJ5p8oQCh"
   },
   "outputs": [],
   "source": [
    "try:\n",
    "    from ydata_profiling import ProfileReport\n",
    "except:\n",
    "    !pip install ydata-profiling\n",
    "    !pip install ipywidgets\n",
    "    print('Restart the Kernel before proceeding')"
   ]
  },
  {
   "cell_type": "markdown",
   "metadata": {
    "id": "ETk0tr_AoQCi"
   },
   "source": [
    "After you install `ydata-profiling`, you can now import and analysis data. Some of the functions take a long time with a large data set. Two methods for dealing with large data sets are to:\n",
    "\n",
    "1. Sub-sample the data sets such as with `data = data[::10]` to take every 10th row.\n",
    "2. Use the `minimal` option to avoid the correlation and other analysis that is slow with large data sets."
   ]
  },
  {
   "cell_type": "code",
   "execution_count": null,
   "metadata": {
    "ExecuteTime": {
     "end_time": "2021-01-22T19:07:32.592759Z",
     "start_time": "2021-01-22T19:07:32.533762Z"
    },
    "id": "Laorjt8aoQCi"
   },
   "outputs": [],
   "source": [
    "profile = ProfileReport(data, explorative=True, minimal=False)"
   ]
  },
  {
   "cell_type": "markdown",
   "metadata": {
    "id": "ptql4qlmoQCi"
   },
   "source": [
    "View the profile report in the Jupyter Notebook with `profile.to_widgets()` or `profile.to_notebook_iframe()`. Generate an HTML report with `profile.to_html()`."
   ]
  },
  {
   "cell_type": "code",
   "execution_count": null,
   "metadata": {
    "ExecuteTime": {
     "end_time": "2021-01-22T19:08:26.303909Z",
     "start_time": "2021-01-22T19:07:32.593760Z"
    },
    "id": "9AQC-GndoQCj"
   },
   "outputs": [],
   "source": [
    "profile.to_notebook_iframe()"
   ]
  }
 ],
 "metadata": {
  "colab": {
   "provenance": []
  },
  "hide_input": false,
  "kernelspec": {
   "display_name": "Python 3",
   "language": "python",
   "name": "python3"
  },
  "language_info": {
   "codemirror_mode": {
    "name": "ipython",
    "version": 3
   },
   "file_extension": ".py",
   "mimetype": "text/x-python",
   "name": "python",
   "nbconvert_exporter": "python",
   "pygments_lexer": "ipython3",
   "version": "3.11.1"
  }
 },
 "nbformat": 4,
 "nbformat_minor": 1
}
