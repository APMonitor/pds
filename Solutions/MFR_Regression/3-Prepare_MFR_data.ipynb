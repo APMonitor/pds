{
 "cells": [
  {
   "cell_type": "markdown",
   "metadata": {},
   "source": [
    "## 3-Prepare Data\n",
    "\n",
    "Import the MFR Data:\n",
    "\n",
    "```python\n",
    "import numpy as np\n",
    "import pandas as pd\n",
    "url = 'http://apmonitor.com/pds/uploads/Main/polymer_reactor.txt'\n",
    "data = pd.read_csv(url)\n",
    "data.columns = ['Time','C3=','H2R','Pressure','Level','C2=','Cat','Temp','MFR']\n",
    "data['lnMFR'] = np.log(data['MFR'].values)\n",
    "del data['Time']\n",
    "data = data.dropna() # drop any row with NaN\n",
    "data.head(10)\n",
    "```\n",
    "\n",
    "Run this code to import the data as a DataFrame."
   ]
  },
  {
   "cell_type": "code",
   "execution_count": 1,
   "metadata": {
    "ExecuteTime": {
     "end_time": "2021-01-22T19:07:35.832442Z",
     "start_time": "2021-01-22T19:07:34.595433Z"
    }
   },
   "outputs": [
    {
     "data": {
      "text/html": [
       "<div>\n",
       "<style scoped>\n",
       "    .dataframe tbody tr th:only-of-type {\n",
       "        vertical-align: middle;\n",
       "    }\n",
       "\n",
       "    .dataframe tbody tr th {\n",
       "        vertical-align: top;\n",
       "    }\n",
       "\n",
       "    .dataframe thead th {\n",
       "        text-align: right;\n",
       "    }\n",
       "</style>\n",
       "<table border=\"1\" class=\"dataframe\">\n",
       "  <thead>\n",
       "    <tr style=\"text-align: right;\">\n",
       "      <th></th>\n",
       "      <th>C3=</th>\n",
       "      <th>H2R</th>\n",
       "      <th>Pressure</th>\n",
       "      <th>Level</th>\n",
       "      <th>C2=</th>\n",
       "      <th>Cat</th>\n",
       "      <th>Temp</th>\n",
       "      <th>MFR</th>\n",
       "      <th>lnMFR</th>\n",
       "    </tr>\n",
       "  </thead>\n",
       "  <tbody>\n",
       "    <tr>\n",
       "      <th>0</th>\n",
       "      <td>24856.584</td>\n",
       "      <td>0.153</td>\n",
       "      <td>30.414835</td>\n",
       "      <td>79.657906</td>\n",
       "      <td>50850.578</td>\n",
       "      <td>0.163994</td>\n",
       "      <td>80.399605</td>\n",
       "      <td>3.4</td>\n",
       "      <td>1.223775</td>\n",
       "    </tr>\n",
       "    <tr>\n",
       "      <th>1</th>\n",
       "      <td>25537.250</td>\n",
       "      <td>0.153</td>\n",
       "      <td>30.527121</td>\n",
       "      <td>78.532608</td>\n",
       "      <td>42229.813</td>\n",
       "      <td>0.129739</td>\n",
       "      <td>78.861328</td>\n",
       "      <td>3.2</td>\n",
       "      <td>1.163151</td>\n",
       "    </tr>\n",
       "    <tr>\n",
       "      <th>2</th>\n",
       "      <td>25689.266</td>\n",
       "      <td>0.153</td>\n",
       "      <td>30.356180</td>\n",
       "      <td>78.842636</td>\n",
       "      <td>45335.852</td>\n",
       "      <td>0.150003</td>\n",
       "      <td>78.818115</td>\n",
       "      <td>3.2</td>\n",
       "      <td>1.163151</td>\n",
       "    </tr>\n",
       "    <tr>\n",
       "      <th>3</th>\n",
       "      <td>25098.754</td>\n",
       "      <td>0.153</td>\n",
       "      <td>30.894308</td>\n",
       "      <td>79.173500</td>\n",
       "      <td>43077.016</td>\n",
       "      <td>0.151543</td>\n",
       "      <td>79.022720</td>\n",
       "      <td>3.1</td>\n",
       "      <td>1.131402</td>\n",
       "    </tr>\n",
       "    <tr>\n",
       "      <th>4</th>\n",
       "      <td>24853.941</td>\n",
       "      <td>0.150</td>\n",
       "      <td>30.680647</td>\n",
       "      <td>78.677299</td>\n",
       "      <td>40404.387</td>\n",
       "      <td>0.122582</td>\n",
       "      <td>79.038483</td>\n",
       "      <td>3.3</td>\n",
       "      <td>1.193922</td>\n",
       "    </tr>\n",
       "    <tr>\n",
       "      <th>5</th>\n",
       "      <td>25362.809</td>\n",
       "      <td>0.150</td>\n",
       "      <td>30.438940</td>\n",
       "      <td>78.293411</td>\n",
       "      <td>32548.566</td>\n",
       "      <td>0.140550</td>\n",
       "      <td>79.061462</td>\n",
       "      <td>3.2</td>\n",
       "      <td>1.163151</td>\n",
       "    </tr>\n",
       "    <tr>\n",
       "      <th>6</th>\n",
       "      <td>25642.936</td>\n",
       "      <td>0.150</td>\n",
       "      <td>30.419355</td>\n",
       "      <td>78.568573</td>\n",
       "      <td>42557.902</td>\n",
       "      <td>0.166875</td>\n",
       "      <td>79.565430</td>\n",
       "      <td>3.4</td>\n",
       "      <td>1.223775</td>\n",
       "    </tr>\n",
       "    <tr>\n",
       "      <th>7</th>\n",
       "      <td>27009.320</td>\n",
       "      <td>0.150</td>\n",
       "      <td>30.504484</td>\n",
       "      <td>78.852005</td>\n",
       "      <td>45878.480</td>\n",
       "      <td>0.160510</td>\n",
       "      <td>79.390396</td>\n",
       "      <td>3.6</td>\n",
       "      <td>1.280934</td>\n",
       "    </tr>\n",
       "    <tr>\n",
       "      <th>8</th>\n",
       "      <td>27307.461</td>\n",
       "      <td>0.150</td>\n",
       "      <td>30.204451</td>\n",
       "      <td>78.931427</td>\n",
       "      <td>49528.848</td>\n",
       "      <td>0.159013</td>\n",
       "      <td>78.511749</td>\n",
       "      <td>3.8</td>\n",
       "      <td>1.335001</td>\n",
       "    </tr>\n",
       "    <tr>\n",
       "      <th>9</th>\n",
       "      <td>26623.619</td>\n",
       "      <td>0.150</td>\n",
       "      <td>30.201500</td>\n",
       "      <td>78.574249</td>\n",
       "      <td>43206.711</td>\n",
       "      <td>0.141628</td>\n",
       "      <td>78.461151</td>\n",
       "      <td>3.8</td>\n",
       "      <td>1.335001</td>\n",
       "    </tr>\n",
       "  </tbody>\n",
       "</table>\n",
       "</div>"
      ],
      "text/plain": [
       "         C3=    H2R   Pressure      Level        C2=       Cat       Temp  \\\n",
       "0  24856.584  0.153  30.414835  79.657906  50850.578  0.163994  80.399605   \n",
       "1  25537.250  0.153  30.527121  78.532608  42229.813  0.129739  78.861328   \n",
       "2  25689.266  0.153  30.356180  78.842636  45335.852  0.150003  78.818115   \n",
       "3  25098.754  0.153  30.894308  79.173500  43077.016  0.151543  79.022720   \n",
       "4  24853.941  0.150  30.680647  78.677299  40404.387  0.122582  79.038483   \n",
       "5  25362.809  0.150  30.438940  78.293411  32548.566  0.140550  79.061462   \n",
       "6  25642.936  0.150  30.419355  78.568573  42557.902  0.166875  79.565430   \n",
       "7  27009.320  0.150  30.504484  78.852005  45878.480  0.160510  79.390396   \n",
       "8  27307.461  0.150  30.204451  78.931427  49528.848  0.159013  78.511749   \n",
       "9  26623.619  0.150  30.201500  78.574249  43206.711  0.141628  78.461151   \n",
       "\n",
       "   MFR     lnMFR  \n",
       "0  3.4  1.223775  \n",
       "1  3.2  1.163151  \n",
       "2  3.2  1.163151  \n",
       "3  3.1  1.131402  \n",
       "4  3.3  1.193922  \n",
       "5  3.2  1.163151  \n",
       "6  3.4  1.223775  \n",
       "7  3.6  1.280934  \n",
       "8  3.8  1.335001  \n",
       "9  3.8  1.335001  "
      ]
     },
     "execution_count": 1,
     "metadata": {},
     "output_type": "execute_result"
    }
   ],
   "source": [
    "import numpy as np\n",
    "import pandas as pd\n",
    "url = 'http://apmonitor.com/pds/uploads/Main/polymer_reactor.txt'\n",
    "data = pd.read_csv(url)\n",
    "data.columns = ['Time','C3=','H2R','Pressure','Level','C2=','Cat','Temp','MFR']\n",
    "data['lnMFR'] = np.log(data['MFR'].values)\n",
    "del data['Time']\n",
    "data = data.dropna().reset_index(drop=True) # drop any row with NaN\n",
    "data.head(10)"
   ]
  },
  {
   "cell_type": "markdown",
   "metadata": {},
   "source": [
    "There are several graphical techniques to help detect outliers. A box or histogram plot shows outlying points."
   ]
  },
  {
   "cell_type": "code",
   "execution_count": 2,
   "metadata": {
    "ExecuteTime": {
     "end_time": "2021-01-22T19:07:38.852430Z",
     "start_time": "2021-01-22T19:07:35.841435Z"
    }
   },
   "outputs": [
    {
     "data": {
      "image/png": "[encoded data removed]",
      "text/plain": [
       "<Figure size 864x576 with 8 Axes>"
      ]
     },
     "metadata": {
      "needs_background": "light"
     },
     "output_type": "display_data"
    }
   ],
   "source": [
    "import matplotlib.pyplot as plt\n",
    "%matplotlib inline\n",
    "plt.figure(figsize=(12,8))\n",
    "for i,c in enumerate(data.columns):\n",
    "    if i<=7:\n",
    "        plt.subplot(2,4,i+1)\n",
    "        plt.title(c)\n",
    "        plt.boxplot(data[c])\n",
    "plt.show()"
   ]
  },
  {
   "cell_type": "markdown",
   "metadata": {},
   "source": [
    "Remove outliers by removing select rows such as with:\n",
    "\n",
    "```python\n",
    "data = data[data['H2R']<0.7]\n",
    "data = data[data['H2R']>0.01]\n",
    "```\n",
    "\n",
    "to keep only values of `H2R` (Hydrogen to Monomer ratio) that are between 0.01 and 0.7."
   ]
  },
  {
   "cell_type": "code",
   "execution_count": 3,
   "metadata": {
    "ExecuteTime": {
     "end_time": "2021-01-22T19:07:38.900431Z",
     "start_time": "2021-01-22T19:07:38.855432Z"
    }
   },
   "outputs": [
    {
     "name": "stdout",
     "output_type": "stream",
     "text": [
      "2484\n",
      "2450\n"
     ]
    },
    {
     "data": {
      "text/html": [
       "<div>\n",
       "<style scoped>\n",
       "    .dataframe tbody tr th:only-of-type {\n",
       "        vertical-align: middle;\n",
       "    }\n",
       "\n",
       "    .dataframe tbody tr th {\n",
       "        vertical-align: top;\n",
       "    }\n",
       "\n",
       "    .dataframe thead th {\n",
       "        text-align: right;\n",
       "    }\n",
       "</style>\n",
       "<table border=\"1\" class=\"dataframe\">\n",
       "  <thead>\n",
       "    <tr style=\"text-align: right;\">\n",
       "      <th></th>\n",
       "      <th>C3=</th>\n",
       "      <th>H2R</th>\n",
       "      <th>Pressure</th>\n",
       "      <th>Level</th>\n",
       "      <th>C2=</th>\n",
       "      <th>Cat</th>\n",
       "      <th>Temp</th>\n",
       "      <th>MFR</th>\n",
       "      <th>lnMFR</th>\n",
       "    </tr>\n",
       "  </thead>\n",
       "  <tbody>\n",
       "    <tr>\n",
       "      <th>0</th>\n",
       "      <td>24856.584</td>\n",
       "      <td>0.153</td>\n",
       "      <td>30.414835</td>\n",
       "      <td>79.657906</td>\n",
       "      <td>50850.578</td>\n",
       "      <td>0.163994</td>\n",
       "      <td>80.399605</td>\n",
       "      <td>3.4</td>\n",
       "      <td>1.223775</td>\n",
       "    </tr>\n",
       "    <tr>\n",
       "      <th>1</th>\n",
       "      <td>25537.250</td>\n",
       "      <td>0.153</td>\n",
       "      <td>30.527121</td>\n",
       "      <td>78.532608</td>\n",
       "      <td>42229.813</td>\n",
       "      <td>0.129739</td>\n",
       "      <td>78.861328</td>\n",
       "      <td>3.2</td>\n",
       "      <td>1.163151</td>\n",
       "    </tr>\n",
       "    <tr>\n",
       "      <th>2</th>\n",
       "      <td>25689.266</td>\n",
       "      <td>0.153</td>\n",
       "      <td>30.356180</td>\n",
       "      <td>78.842636</td>\n",
       "      <td>45335.852</td>\n",
       "      <td>0.150003</td>\n",
       "      <td>78.818115</td>\n",
       "      <td>3.2</td>\n",
       "      <td>1.163151</td>\n",
       "    </tr>\n",
       "    <tr>\n",
       "      <th>3</th>\n",
       "      <td>25098.754</td>\n",
       "      <td>0.153</td>\n",
       "      <td>30.894308</td>\n",
       "      <td>79.173500</td>\n",
       "      <td>43077.016</td>\n",
       "      <td>0.151543</td>\n",
       "      <td>79.022720</td>\n",
       "      <td>3.1</td>\n",
       "      <td>1.131402</td>\n",
       "    </tr>\n",
       "    <tr>\n",
       "      <th>4</th>\n",
       "      <td>24853.941</td>\n",
       "      <td>0.150</td>\n",
       "      <td>30.680647</td>\n",
       "      <td>78.677299</td>\n",
       "      <td>40404.387</td>\n",
       "      <td>0.122582</td>\n",
       "      <td>79.038483</td>\n",
       "      <td>3.3</td>\n",
       "      <td>1.193922</td>\n",
       "    </tr>\n",
       "  </tbody>\n",
       "</table>\n",
       "</div>"
      ],
      "text/plain": [
       "         C3=    H2R   Pressure      Level        C2=       Cat       Temp  \\\n",
       "0  24856.584  0.153  30.414835  79.657906  50850.578  0.163994  80.399605   \n",
       "1  25537.250  0.153  30.527121  78.532608  42229.813  0.129739  78.861328   \n",
       "2  25689.266  0.153  30.356180  78.842636  45335.852  0.150003  78.818115   \n",
       "3  25098.754  0.153  30.894308  79.173500  43077.016  0.151543  79.022720   \n",
       "4  24853.941  0.150  30.680647  78.677299  40404.387  0.122582  79.038483   \n",
       "\n",
       "   MFR     lnMFR  \n",
       "0  3.4  1.223775  \n",
       "1  3.2  1.163151  \n",
       "2  3.2  1.163151  \n",
       "3  3.1  1.131402  \n",
       "4  3.3  1.193922  "
      ]
     },
     "execution_count": 3,
     "metadata": {},
     "output_type": "execute_result"
    }
   ],
   "source": [
    "print(len(data))\n",
    "data = data[data['H2R']<0.7]\n",
    "data = data[data['H2R']>0.01]\n",
    "data = data[data['C2=']<100000]\n",
    "data = data[data['MFR']<30]\n",
    "data = data[data['Temp']<83]\n",
    "print(len(data))\n",
    "data.head()"
   ]
  },
  {
   "cell_type": "code",
   "execution_count": 4,
   "metadata": {},
   "outputs": [
    {
     "data": {
      "text/plain": [
       "2450"
      ]
     },
     "execution_count": 4,
     "metadata": {},
     "output_type": "execute_result"
    }
   ],
   "source": [
    "len(data)"
   ]
  },
  {
   "cell_type": "markdown",
   "metadata": {},
   "source": [
    "Show the boxplot again to verify that the data set does not have outliers."
   ]
  },
  {
   "cell_type": "code",
   "execution_count": 12,
   "metadata": {
    "ExecuteTime": {
     "end_time": "2021-01-22T19:07:40.480429Z",
     "start_time": "2021-01-22T19:07:38.907435Z"
    }
   },
   "outputs": [
    {
     "data": {
      "image/png": "[encoded data removed]",
      "text/plain": [
       "<Figure size 864x576 with 8 Axes>"
      ]
     },
     "metadata": {
      "needs_background": "light"
     },
     "output_type": "display_data"
    }
   ],
   "source": [
    "import matplotlib.pyplot as plt\n",
    "%matplotlib inline\n",
    "plt.figure(figsize=(12,8))\n",
    "for i,c in enumerate(data.columns):\n",
    "    if i<=7:\n",
    "        plt.subplot(2,4,i+1)\n",
    "        plt.title(c)\n",
    "        plt.boxplot(data[c])\n",
    "plt.show()"
   ]
  },
  {
   "cell_type": "markdown",
   "metadata": {},
   "source": [
    "Remove MFR and keep only ln(MFR) as `lnMFR`. You can delete a column `x` with `del data['x']`. "
   ]
  },
  {
   "cell_type": "code",
   "execution_count": 6,
   "metadata": {
    "ExecuteTime": {
     "end_time": "2021-01-22T19:07:40.491428Z",
     "start_time": "2021-01-22T19:07:40.484430Z"
    }
   },
   "outputs": [
    {
     "data": {
      "text/html": [
       "<div>\n",
       "<style scoped>\n",
       "    .dataframe tbody tr th:only-of-type {\n",
       "        vertical-align: middle;\n",
       "    }\n",
       "\n",
       "    .dataframe tbody tr th {\n",
       "        vertical-align: top;\n",
       "    }\n",
       "\n",
       "    .dataframe thead th {\n",
       "        text-align: right;\n",
       "    }\n",
       "</style>\n",
       "<table border=\"1\" class=\"dataframe\">\n",
       "  <thead>\n",
       "    <tr style=\"text-align: right;\">\n",
       "      <th></th>\n",
       "      <th>C3=</th>\n",
       "      <th>H2R</th>\n",
       "      <th>Pressure</th>\n",
       "      <th>Level</th>\n",
       "      <th>C2=</th>\n",
       "      <th>Cat</th>\n",
       "      <th>Temp</th>\n",
       "      <th>lnMFR</th>\n",
       "    </tr>\n",
       "  </thead>\n",
       "  <tbody>\n",
       "    <tr>\n",
       "      <th>0</th>\n",
       "      <td>24856.584</td>\n",
       "      <td>0.153</td>\n",
       "      <td>30.414835</td>\n",
       "      <td>79.657906</td>\n",
       "      <td>50850.578</td>\n",
       "      <td>0.163994</td>\n",
       "      <td>80.399605</td>\n",
       "      <td>1.223775</td>\n",
       "    </tr>\n",
       "    <tr>\n",
       "      <th>1</th>\n",
       "      <td>25537.250</td>\n",
       "      <td>0.153</td>\n",
       "      <td>30.527121</td>\n",
       "      <td>78.532608</td>\n",
       "      <td>42229.813</td>\n",
       "      <td>0.129739</td>\n",
       "      <td>78.861328</td>\n",
       "      <td>1.163151</td>\n",
       "    </tr>\n",
       "    <tr>\n",
       "      <th>2</th>\n",
       "      <td>25689.266</td>\n",
       "      <td>0.153</td>\n",
       "      <td>30.356180</td>\n",
       "      <td>78.842636</td>\n",
       "      <td>45335.852</td>\n",
       "      <td>0.150003</td>\n",
       "      <td>78.818115</td>\n",
       "      <td>1.163151</td>\n",
       "    </tr>\n",
       "    <tr>\n",
       "      <th>3</th>\n",
       "      <td>25098.754</td>\n",
       "      <td>0.153</td>\n",
       "      <td>30.894308</td>\n",
       "      <td>79.173500</td>\n",
       "      <td>43077.016</td>\n",
       "      <td>0.151543</td>\n",
       "      <td>79.022720</td>\n",
       "      <td>1.131402</td>\n",
       "    </tr>\n",
       "    <tr>\n",
       "      <th>4</th>\n",
       "      <td>24853.941</td>\n",
       "      <td>0.150</td>\n",
       "      <td>30.680647</td>\n",
       "      <td>78.677299</td>\n",
       "      <td>40404.387</td>\n",
       "      <td>0.122582</td>\n",
       "      <td>79.038483</td>\n",
       "      <td>1.193922</td>\n",
       "    </tr>\n",
       "  </tbody>\n",
       "</table>\n",
       "</div>"
      ],
      "text/plain": [
       "         C3=    H2R   Pressure      Level        C2=       Cat       Temp  \\\n",
       "0  24856.584  0.153  30.414835  79.657906  50850.578  0.163994  80.399605   \n",
       "1  25537.250  0.153  30.527121  78.532608  42229.813  0.129739  78.861328   \n",
       "2  25689.266  0.153  30.356180  78.842636  45335.852  0.150003  78.818115   \n",
       "3  25098.754  0.153  30.894308  79.173500  43077.016  0.151543  79.022720   \n",
       "4  24853.941  0.150  30.680647  78.677299  40404.387  0.122582  79.038483   \n",
       "\n",
       "      lnMFR  \n",
       "0  1.223775  \n",
       "1  1.163151  \n",
       "2  1.163151  \n",
       "3  1.131402  \n",
       "4  1.193922  "
      ]
     },
     "execution_count": 6,
     "metadata": {},
     "output_type": "execute_result"
    }
   ],
   "source": [
    "del data['MFR']\n",
    "data.head()"
   ]
  },
  {
   "cell_type": "markdown",
   "metadata": {},
   "source": [
    "### Scale Data\n",
    "\n",
    "Scale data with the Standard Scalar from scikit-learn.\n",
    "\n",
    "```python\n",
    "from sklearn.preprocessing import StandardScaler\n",
    "s = StandardScaler()\n",
    "ds = s.fit_transform(data)\n",
    "```"
   ]
  },
  {
   "cell_type": "code",
   "execution_count": 13,
   "metadata": {
    "ExecuteTime": {
     "end_time": "2021-01-22T19:07:43.156052Z",
     "start_time": "2021-01-22T19:07:40.498430Z"
    }
   },
   "outputs": [
    {
     "data": {
      "text/plain": [
       "numpy.ndarray"
      ]
     },
     "execution_count": 13,
     "metadata": {},
     "output_type": "execute_result"
    }
   ],
   "source": [
    "from sklearn.preprocessing import StandardScaler\n",
    "s = StandardScaler()\n",
    "ds = s.fit_transform(data)\n",
    "type(ds)"
   ]
  },
  {
   "cell_type": "markdown",
   "metadata": {},
   "source": [
    "The value `ds` is returned as a `numpy` array so we need to convert it back to a `pandas` `DataFrame`.\n",
    "\n",
    "```python\n",
    "ds = pd.DataFrame(ds,columns=data.columns)\n",
    "```\n",
    "\n",
    "Re-use the column names from `data`."
   ]
  },
  {
   "cell_type": "code",
   "execution_count": 14,
   "metadata": {
    "ExecuteTime": {
     "end_time": "2021-01-22T19:07:43.188051Z",
     "start_time": "2021-01-22T19:07:43.160051Z"
    }
   },
   "outputs": [
    {
     "data": {
      "text/html": [
       "<div>\n",
       "<style scoped>\n",
       "    .dataframe tbody tr th:only-of-type {\n",
       "        vertical-align: middle;\n",
       "    }\n",
       "\n",
       "    .dataframe tbody tr th {\n",
       "        vertical-align: top;\n",
       "    }\n",
       "\n",
       "    .dataframe thead th {\n",
       "        text-align: right;\n",
       "    }\n",
       "</style>\n",
       "<table border=\"1\" class=\"dataframe\">\n",
       "  <thead>\n",
       "    <tr style=\"text-align: right;\">\n",
       "      <th></th>\n",
       "      <th>C3=</th>\n",
       "      <th>H2R</th>\n",
       "      <th>Pressure</th>\n",
       "      <th>Level</th>\n",
       "      <th>C2=</th>\n",
       "      <th>Cat</th>\n",
       "      <th>Temp</th>\n",
       "      <th>lnMFR</th>\n",
       "    </tr>\n",
       "  </thead>\n",
       "  <tbody>\n",
       "    <tr>\n",
       "      <th>0</th>\n",
       "      <td>-0.275813</td>\n",
       "      <td>-0.448905</td>\n",
       "      <td>-0.608709</td>\n",
       "      <td>2.183673</td>\n",
       "      <td>0.738905</td>\n",
       "      <td>0.618674</td>\n",
       "      <td>0.393138</td>\n",
       "      <td>-1.032139</td>\n",
       "    </tr>\n",
       "    <tr>\n",
       "      <th>1</th>\n",
       "      <td>0.127196</td>\n",
       "      <td>-0.448905</td>\n",
       "      <td>-0.337724</td>\n",
       "      <td>0.958317</td>\n",
       "      <td>-0.026235</td>\n",
       "      <td>-0.206091</td>\n",
       "      <td>-1.736289</td>\n",
       "      <td>-1.128004</td>\n",
       "    </tr>\n",
       "    <tr>\n",
       "      <th>2</th>\n",
       "      <td>0.217202</td>\n",
       "      <td>-0.448905</td>\n",
       "      <td>-0.750264</td>\n",
       "      <td>1.295911</td>\n",
       "      <td>0.249443</td>\n",
       "      <td>0.281795</td>\n",
       "      <td>-1.796108</td>\n",
       "      <td>-1.128004</td>\n",
       "    </tr>\n",
       "    <tr>\n",
       "      <th>3</th>\n",
       "      <td>-0.132429</td>\n",
       "      <td>-0.448905</td>\n",
       "      <td>0.548427</td>\n",
       "      <td>1.656195</td>\n",
       "      <td>0.048959</td>\n",
       "      <td>0.318882</td>\n",
       "      <td>-1.512875</td>\n",
       "      <td>-1.178208</td>\n",
       "    </tr>\n",
       "    <tr>\n",
       "      <th>4</th>\n",
       "      <td>-0.277378</td>\n",
       "      <td>-0.491991</td>\n",
       "      <td>0.032788</td>\n",
       "      <td>1.115873</td>\n",
       "      <td>-0.188252</td>\n",
       "      <td>-0.378416</td>\n",
       "      <td>-1.491054</td>\n",
       "      <td>-1.079345</td>\n",
       "    </tr>\n",
       "  </tbody>\n",
       "</table>\n",
       "</div>"
      ],
      "text/plain": [
       "        C3=       H2R  Pressure     Level       C2=       Cat      Temp  \\\n",
       "0 -0.275813 -0.448905 -0.608709  2.183673  0.738905  0.618674  0.393138   \n",
       "1  0.127196 -0.448905 -0.337724  0.958317 -0.026235 -0.206091 -1.736289   \n",
       "2  0.217202 -0.448905 -0.750264  1.295911  0.249443  0.281795 -1.796108   \n",
       "3 -0.132429 -0.448905  0.548427  1.656195  0.048959  0.318882 -1.512875   \n",
       "4 -0.277378 -0.491991  0.032788  1.115873 -0.188252 -0.378416 -1.491054   \n",
       "\n",
       "      lnMFR  \n",
       "0 -1.032139  \n",
       "1 -1.128004  \n",
       "2 -1.128004  \n",
       "3 -1.178208  \n",
       "4 -1.079345  "
      ]
     },
     "execution_count": 14,
     "metadata": {},
     "output_type": "execute_result"
    }
   ],
   "source": [
    "ds = pd.DataFrame(ds,columns=data.columns)\n",
    "ds.head()"
   ]
  },
  {
   "cell_type": "markdown",
   "metadata": {},
   "source": [
    "![idea](https://apmonitor.com/che263/uploads/Begin_Python/idea.png)\n",
    "\n",
    "### Divide Data\n",
    "\n",
    "Data is divided into train and test sets to separate a fraction of the rows for evaluating classification or regression models. A typical split is 80% for training and 20% for testing, although the range depends on how much data is available and the objective of the study."
   ]
  },
  {
   "cell_type": "markdown",
   "metadata": {},
   "source": [
    "The `train_test_split` is a function in `sklearn` for the specific purpose of splitting data into train and test sets.\n",
    "\n",
    "```python\n",
    "from sklearn.model_selection import train_test_split\n",
    "train,test = train_test_split(ds, test_size=0.2, shuffle=True)\n",
    "```\n",
    "\n",
    "There are options such as `shuffle=True` to randomize the selection in each set. "
   ]
  },
  {
   "cell_type": "code",
   "execution_count": 15,
   "metadata": {
    "ExecuteTime": {
     "end_time": "2021-01-22T19:07:43.295196Z",
     "start_time": "2021-01-22T19:07:43.194053Z"
    },
    "scrolled": true
   },
   "outputs": [
    {
     "name": "stdout",
     "output_type": "stream",
     "text": [
      "1960 490\n"
     ]
    }
   ],
   "source": [
    "from sklearn.model_selection import train_test_split\n",
    "train,test = train_test_split(ds, test_size=0.2, shuffle=True)\n",
    "print(len(train),len(test))"
   ]
  },
  {
   "cell_type": "markdown",
   "metadata": {},
   "source": [
    "### Save Data\n",
    "\n",
    "Save values that will be needed in the subsequent notebook."
   ]
  },
  {
   "cell_type": "code",
   "execution_count": 16,
   "metadata": {
    "ExecuteTime": {
     "end_time": "2021-01-22T19:07:43.311212Z",
     "start_time": "2021-01-22T19:07:43.295196Z"
    }
   },
   "outputs": [],
   "source": [
    "import pickle\n",
    "info = [data,train,test,ds,s]\n",
    "\n",
    "with open('mfr_data.pkl', 'wb') as handle:\n",
    "    pickle.dump(info, handle, protocol=pickle.HIGHEST_PROTOCOL)"
   ]
  }
 ],
 "metadata": {
  "hide_input": false,
  "kernelspec": {
   "display_name": "Python 3",
   "language": "python",
   "name": "python3"
  },
  "language_info": {
   "codemirror_mode": {
    "name": "ipython",
    "version": 3
   },
   "file_extension": ".py",
   "mimetype": "text/x-python",
   "name": "python",
   "nbconvert_exporter": "python",
   "pygments_lexer": "ipython3",
   "version": "3.8.5"
  }
 },
 "nbformat": 4,
 "nbformat_minor": 2
}
