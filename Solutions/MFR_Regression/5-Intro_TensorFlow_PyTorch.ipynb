{
 "cells": [
  {
   "cell_type": "markdown",
   "metadata": {},
   "source": [
    "## Linear Regression with TensorFlow and PyTorch"
   ]
  },
  {
   "cell_type": "code",
   "execution_count": 1,
   "metadata": {
    "ExecuteTime": {
     "end_time": "2021-01-22T21:21:27.870475Z",
     "start_time": "2021-01-22T21:21:25.010772Z"
    }
   },
   "outputs": [],
   "source": [
    "import pandas as pd\n",
    "import numpy as np\n",
    "import matplotlib.pyplot as plt\n",
    "import tensorflow as tf\n",
    "import time"
   ]
  },
  {
   "cell_type": "code",
   "execution_count": 2,
   "metadata": {
    "ExecuteTime": {
     "end_time": "2021-01-22T21:21:28.265537Z",
     "start_time": "2021-01-22T21:21:27.873474Z"
    }
   },
   "outputs": [
    {
     "ename": "FileNotFoundError",
     "evalue": "[Errno 2] No such file or directory: 'mfr_data.pkl'",
     "output_type": "error",
     "traceback": [
      "\u001b[1;31m---------------------------------------------------------------------------\u001b[0m",
      "\u001b[1;31mFileNotFoundError\u001b[0m                         Traceback (most recent call last)",
      "\u001b[1;32m<ipython-input-2-f1bc22925028>\u001b[0m in \u001b[0;36m<module>\u001b[1;34m\u001b[0m\n\u001b[0;32m      1\u001b[0m \u001b[1;32mimport\u001b[0m \u001b[0mpickle\u001b[0m\u001b[1;33m\u001b[0m\u001b[1;33m\u001b[0m\u001b[0m\n\u001b[1;32m----> 2\u001b[1;33m \u001b[1;32mwith\u001b[0m \u001b[0mopen\u001b[0m\u001b[1;33m(\u001b[0m\u001b[1;34m'mfr_data.pkl'\u001b[0m\u001b[1;33m,\u001b[0m \u001b[1;34m'rb'\u001b[0m\u001b[1;33m)\u001b[0m \u001b[1;32mas\u001b[0m \u001b[0mhandle\u001b[0m\u001b[1;33m:\u001b[0m\u001b[1;33m\u001b[0m\u001b[1;33m\u001b[0m\u001b[0m\n\u001b[0m\u001b[0;32m      3\u001b[0m     \u001b[0minfo\u001b[0m \u001b[1;33m=\u001b[0m \u001b[0mpickle\u001b[0m\u001b[1;33m.\u001b[0m\u001b[0mload\u001b[0m\u001b[1;33m(\u001b[0m\u001b[0mhandle\u001b[0m\u001b[1;33m)\u001b[0m\u001b[1;33m\u001b[0m\u001b[1;33m\u001b[0m\u001b[0m\n\u001b[0;32m      4\u001b[0m \u001b[0mdata\u001b[0m\u001b[1;33m,\u001b[0m\u001b[0mtest\u001b[0m\u001b[1;33m,\u001b[0m\u001b[0mtrain\u001b[0m\u001b[1;33m,\u001b[0m\u001b[0mds\u001b[0m\u001b[1;33m,\u001b[0m\u001b[0ms\u001b[0m \u001b[1;33m=\u001b[0m \u001b[0minfo\u001b[0m\u001b[1;33m\u001b[0m\u001b[1;33m\u001b[0m\u001b[0m\n\u001b[0;32m      5\u001b[0m \u001b[0mdata\u001b[0m\u001b[1;33m.\u001b[0m\u001b[0mhead\u001b[0m\u001b[1;33m(\u001b[0m\u001b[1;33m)\u001b[0m\u001b[1;33m\u001b[0m\u001b[1;33m\u001b[0m\u001b[0m\n",
      "\u001b[1;31mFileNotFoundError\u001b[0m: [Errno 2] No such file or directory: 'mfr_data.pkl'"
     ]
    }
   ],
   "source": [
    "import pickle\n",
    "with open('mfr_data.pkl', 'rb') as handle:\n",
    "    info = pickle.load(handle)\n",
    "data,test,train,ds,s = info\n",
    "data.head()"
   ]
  },
  {
   "cell_type": "code",
   "execution_count": 3,
   "metadata": {
    "ExecuteTime": {
     "end_time": "2021-01-22T21:21:28.281536Z",
     "start_time": "2021-01-22T21:21:28.268537Z"
    }
   },
   "outputs": [],
   "source": [
    "# Split data/labels\n",
    "data_X = np.array(data['H2R'])\n",
    "data_Y = np.array(data['lnMFR'])"
   ]
  },
  {
   "cell_type": "markdown",
   "metadata": {
    "ExecuteTime": {
     "end_time": "2021-01-14T15:09:44.372119Z",
     "start_time": "2021-01-14T15:09:44.259015Z"
    }
   },
   "source": [
    "![exercise](https://apmonitor.com/che263/uploads/Begin_Python/exercise.png)\n",
    "\n",
    "### Tensorflow Linear Regression\n",
    "\n",
    "TensorFlow is known for Deep Learning. This tutorial shows how to use TensorFlow for a simple linear regression. There are better packages for linear regression. Also, Keras is an interface to TensorFlow that simplifies the model building, regression solution, and deployment."
   ]
  },
  {
   "cell_type": "code",
   "execution_count": 4,
   "metadata": {
    "ExecuteTime": {
     "end_time": "2021-01-22T21:21:30.370753Z",
     "start_time": "2021-01-22T21:21:30.365767Z"
    }
   },
   "outputs": [],
   "source": [
    "display_step = 100\n",
    "learning_rate = 0.01\n",
    "epochs = 1000"
   ]
  },
  {
   "cell_type": "markdown",
   "metadata": {},
   "source": [
    "$$y=wx+b$$\n"
   ]
  },
  {
   "cell_type": "code",
   "execution_count": 5,
   "metadata": {
    "ExecuteTime": {
     "end_time": "2021-01-22T21:21:34.895962Z",
     "start_time": "2021-01-22T21:21:34.846270Z"
    }
   },
   "outputs": [],
   "source": [
    "# Weight and Bias\n",
    "w = tf.Variable(tf.zeros(1), name='weight')\n",
    "b = tf.Variable(tf.zeros(1), name='bias')\n",
    "\n",
    "def predict(x):\n",
    "    return x * w + b\n",
    "\n",
    "def mse(y_true, y_pred):\n",
    "    return tf.losses.mean_squared_error(y_true,y_pred)\n",
    "\n",
    "# SGD Optimizer\n",
    "optimizer = tf.optimizers.SGD(learning_rate=learning_rate)"
   ]
  },
  {
   "cell_type": "code",
   "execution_count": 6,
   "metadata": {
    "ExecuteTime": {
     "end_time": "2021-01-22T21:09:02.885578Z",
     "start_time": "2021-01-22T21:09:01.589453Z"
    }
   },
   "outputs": [
    {
     "name": "stdout",
     "output_type": "stream",
     "text": [
      "Epoch: 100, Loss: 0.439586, w: 0.329762, b: 1.587143\n",
      "Epoch: 200, Loss: 0.385072, w: 0.400645, b: 1.777894\n",
      "Epoch: 300, Loss: 0.383056, w: 0.439227, b: 1.795969\n",
      "Epoch: 400, Loss: 0.381866, w: 0.473535, b: 1.792737\n",
      "Epoch: 500, Loss: 0.380709, w: 0.507041, b: 1.786919\n",
      "Epoch: 600, Loss: 0.379574, w: 0.540175, b: 1.780833\n",
      "Epoch: 700, Loss: 0.378460, w: 0.572994, b: 1.774761\n",
      "Epoch: 800, Loss: 0.377367, w: 0.605506, b: 1.768742\n",
      "Epoch: 900, Loss: 0.376294, w: 0.637717, b: 1.762778\n",
      "Epoch: 1000, Loss: 0.375241, w: 0.669629, b: 1.756870\n",
      "Train Time: 1.487466 seconds\n"
     ]
    }
   ],
   "source": [
    "history = []\n",
    "start = time.time()\n",
    "\n",
    "# Start training\n",
    "for epoch in range(1, epochs + 1):\n",
    "    \n",
    "    # Begin GradientTape and optimise\n",
    "    with tf.GradientTape() as g:\n",
    "        pred = predict(data_X)\n",
    "        loss = mse(data_Y, pred)\n",
    "\n",
    "    # Compute dw, db\n",
    "    gradients = g.gradient(loss, [w,b])\n",
    "    \n",
    "    # Update w and b\n",
    "    optimizer.apply_gradients(zip(gradients, [w,b]))\n",
    "    \n",
    "    # Monitor training / display steps\n",
    "    if epoch % display_step == 0:\n",
    "        pred = predict(data_X)\n",
    "        loss = mse(pred, data_Y)\n",
    "        history.append(np.array(w * data_X + b))\n",
    "        print(\"Epoch: %i, Loss: %f, w: %f, b: %f\" % (epoch, loss, w.numpy(), b.numpy()))\n",
    "print('Train Time: %f seconds' %(time.time() - start))"
   ]
  },
  {
   "cell_type": "code",
   "execution_count": 7,
   "metadata": {
    "ExecuteTime": {
     "end_time": "2021-01-22T21:09:03.024803Z",
     "start_time": "2021-01-22T21:09:02.888578Z"
    },
    "scrolled": true
   },
   "outputs": [
    {
     "data": {
      "image/png": "[encoded data removed]",
      "text/plain": [
       "<Figure size 720x432 with 1 Axes>"
      ]
     },
     "metadata": {
      "needs_background": "light"
     },
     "output_type": "display_data"
    }
   ],
   "source": [
    "fig = plt.figure(figsize=(10,6))\n",
    "\n",
    "plt.scatter(data_X,data_Y, label=\"Data\")\n",
    "# for i in range(len(history)):\n",
    "#     plt.plot(data_X,history[i], c='k',label=str((i+1)*display_step)+\" epoch\", alpha = (i+1)/(i+5))\n",
    "plt.plot(data_X,history[-1],'k')\n",
    "plt.xlabel('H2R')\n",
    "plt.ylabel('lnMFR')\n",
    "plt.show()"
   ]
  },
  {
   "cell_type": "markdown",
   "metadata": {},
   "source": [
    "![exercise](https://apmonitor.com/che263/uploads/Begin_Python/exercise.png)\n",
    "\n",
    "### Pytorch Linear Regression\n",
    "\n",
    "PyTorch is best known for nonlinear regression such as with Deep Learning. This tutorial shows how to use PyTorch for a simple linear regression. There are better packages for linear regression. See also [Numpy vs PyTorch: Linear Regression from scratch](https://medium.com/analytics-vidhya/numpy-vs-pytorch-linear-regression-from-scratch-452a121fb0e8)."
   ]
  },
  {
   "cell_type": "code",
   "execution_count": 8,
   "metadata": {
    "ExecuteTime": {
     "end_time": "2021-01-22T21:09:03.040590Z",
     "start_time": "2021-01-22T21:09:03.026581Z"
    }
   },
   "outputs": [],
   "source": [
    "data_X = data_X.reshape(len(data_X),1)\n",
    "data_Y = data_Y.reshape(len(data_Y),1)"
   ]
  },
  {
   "cell_type": "code",
   "execution_count": 9,
   "metadata": {
    "ExecuteTime": {
     "end_time": "2021-01-22T21:09:03.358581Z",
     "start_time": "2021-01-22T21:09:03.042580Z"
    }
   },
   "outputs": [],
   "source": [
    "import torch\n",
    "from torch.autograd import Variable\n",
    "class linearRegression(torch.nn.Module):\n",
    "    def __init__(self, inputSize, outputSize):\n",
    "        super(linearRegression, self).__init__()\n",
    "        self.linear = torch.nn.Linear(inputSize, outputSize)\n",
    "\n",
    "    def forward(self, x):\n",
    "        out = self.linear(x)\n",
    "        return out"
   ]
  },
  {
   "cell_type": "code",
   "execution_count": 10,
   "metadata": {
    "ExecuteTime": {
     "end_time": "2021-01-22T21:09:03.374581Z",
     "start_time": "2021-01-22T21:09:03.359520Z"
    }
   },
   "outputs": [],
   "source": [
    "inputDim = 1        # takes variable 'x' \n",
    "outputDim = 1       # takes variable 'y'\n",
    "learningRate = 0.01 \n",
    "epochs = 100\n",
    "\n",
    "model = linearRegression(inputDim, outputDim)"
   ]
  },
  {
   "cell_type": "code",
   "execution_count": 11,
   "metadata": {
    "ExecuteTime": {
     "end_time": "2021-01-22T21:09:03.390581Z",
     "start_time": "2021-01-22T21:09:03.375496Z"
    }
   },
   "outputs": [],
   "source": [
    "criterion = torch.nn.MSELoss() \n",
    "optimizer = torch.optim.SGD(model.parameters(), lr=learningRate)"
   ]
  },
  {
   "cell_type": "code",
   "execution_count": 12,
   "metadata": {
    "ExecuteTime": {
     "end_time": "2021-01-22T21:09:03.533507Z",
     "start_time": "2021-01-22T21:09:03.391504Z"
    },
    "scrolled": true
   },
   "outputs": [
    {
     "name": "stdout",
     "output_type": "stream",
     "text": [
      "tensor(4.0090, grad_fn=<MseLossBackward>)\n",
      "tensor(3.8619, grad_fn=<MseLossBackward>)\n",
      "tensor(3.7209, grad_fn=<MseLossBackward>)\n",
      "tensor(3.5856, grad_fn=<MseLossBackward>)\n",
      "tensor(3.4558, grad_fn=<MseLossBackward>)\n",
      "tensor(3.3314, grad_fn=<MseLossBackward>)\n",
      "tensor(3.2120, grad_fn=<MseLossBackward>)\n",
      "tensor(3.0976, grad_fn=<MseLossBackward>)\n",
      "tensor(2.9878, grad_fn=<MseLossBackward>)\n",
      "tensor(2.8825, grad_fn=<MseLossBackward>)\n",
      "tensor(2.7816, grad_fn=<MseLossBackward>)\n",
      "tensor(2.6847, grad_fn=<MseLossBackward>)\n",
      "tensor(2.5918, grad_fn=<MseLossBackward>)\n",
      "tensor(2.5028, grad_fn=<MseLossBackward>)\n",
      "tensor(2.4173, grad_fn=<MseLossBackward>)\n",
      "tensor(2.3354, grad_fn=<MseLossBackward>)\n",
      "tensor(2.2568, grad_fn=<MseLossBackward>)\n",
      "tensor(2.1815, grad_fn=<MseLossBackward>)\n",
      "tensor(2.1092, grad_fn=<MseLossBackward>)\n",
      "tensor(2.0399, grad_fn=<MseLossBackward>)\n",
      "tensor(1.9734, grad_fn=<MseLossBackward>)\n",
      "tensor(1.9096, grad_fn=<MseLossBackward>)\n",
      "tensor(1.8485, grad_fn=<MseLossBackward>)\n",
      "tensor(1.7898, grad_fn=<MseLossBackward>)\n",
      "tensor(1.7336, grad_fn=<MseLossBackward>)\n",
      "tensor(1.6796, grad_fn=<MseLossBackward>)\n",
      "tensor(1.6279, grad_fn=<MseLossBackward>)\n",
      "tensor(1.5782, grad_fn=<MseLossBackward>)\n",
      "tensor(1.5307, grad_fn=<MseLossBackward>)\n",
      "tensor(1.4850, grad_fn=<MseLossBackward>)\n",
      "tensor(1.4412, grad_fn=<MseLossBackward>)\n",
      "tensor(1.3992, grad_fn=<MseLossBackward>)\n",
      "tensor(1.3590, grad_fn=<MseLossBackward>)\n",
      "tensor(1.3204, grad_fn=<MseLossBackward>)\n",
      "tensor(1.2833, grad_fn=<MseLossBackward>)\n",
      "tensor(1.2478, grad_fn=<MseLossBackward>)\n",
      "tensor(1.2137, grad_fn=<MseLossBackward>)\n",
      "tensor(1.1810, grad_fn=<MseLossBackward>)\n",
      "tensor(1.1497, grad_fn=<MseLossBackward>)\n",
      "tensor(1.1196, grad_fn=<MseLossBackward>)\n",
      "tensor(1.0908, grad_fn=<MseLossBackward>)\n",
      "tensor(1.0632, grad_fn=<MseLossBackward>)\n",
      "tensor(1.0367, grad_fn=<MseLossBackward>)\n",
      "tensor(1.0112, grad_fn=<MseLossBackward>)\n",
      "tensor(0.9868, grad_fn=<MseLossBackward>)\n",
      "tensor(0.9634, grad_fn=<MseLossBackward>)\n",
      "tensor(0.9410, grad_fn=<MseLossBackward>)\n",
      "tensor(0.9195, grad_fn=<MseLossBackward>)\n",
      "tensor(0.8988, grad_fn=<MseLossBackward>)\n",
      "tensor(0.8790, grad_fn=<MseLossBackward>)\n",
      "tensor(0.8601, grad_fn=<MseLossBackward>)\n",
      "tensor(0.8419, grad_fn=<MseLossBackward>)\n",
      "tensor(0.8244, grad_fn=<MseLossBackward>)\n",
      "tensor(0.8076, grad_fn=<MseLossBackward>)\n",
      "tensor(0.7916, grad_fn=<MseLossBackward>)\n",
      "tensor(0.7762, grad_fn=<MseLossBackward>)\n",
      "tensor(0.7614, grad_fn=<MseLossBackward>)\n",
      "tensor(0.7472, grad_fn=<MseLossBackward>)\n",
      "tensor(0.7336, grad_fn=<MseLossBackward>)\n",
      "tensor(0.7206, grad_fn=<MseLossBackward>)\n",
      "tensor(0.7081, grad_fn=<MseLossBackward>)\n",
      "tensor(0.6961, grad_fn=<MseLossBackward>)\n",
      "tensor(0.6846, grad_fn=<MseLossBackward>)\n",
      "tensor(0.6735, grad_fn=<MseLossBackward>)\n",
      "tensor(0.6630, grad_fn=<MseLossBackward>)\n",
      "tensor(0.6528, grad_fn=<MseLossBackward>)\n",
      "tensor(0.6431, grad_fn=<MseLossBackward>)\n",
      "tensor(0.6337, grad_fn=<MseLossBackward>)\n",
      "tensor(0.6248, grad_fn=<MseLossBackward>)\n",
      "tensor(0.6162, grad_fn=<MseLossBackward>)\n",
      "tensor(0.6079, grad_fn=<MseLossBackward>)\n",
      "tensor(0.6000, grad_fn=<MseLossBackward>)\n",
      "tensor(0.5925, grad_fn=<MseLossBackward>)\n",
      "tensor(0.5852, grad_fn=<MseLossBackward>)\n",
      "tensor(0.5782, grad_fn=<MseLossBackward>)\n",
      "tensor(0.5715, grad_fn=<MseLossBackward>)\n",
      "tensor(0.5651, grad_fn=<MseLossBackward>)\n",
      "tensor(0.5590, grad_fn=<MseLossBackward>)\n",
      "tensor(0.5531, grad_fn=<MseLossBackward>)\n",
      "tensor(0.5474, grad_fn=<MseLossBackward>)\n",
      "tensor(0.5420, grad_fn=<MseLossBackward>)\n",
      "tensor(0.5368, grad_fn=<MseLossBackward>)\n",
      "tensor(0.5318, grad_fn=<MseLossBackward>)\n",
      "tensor(0.5270, grad_fn=<MseLossBackward>)\n",
      "tensor(0.5224, grad_fn=<MseLossBackward>)\n",
      "tensor(0.5180, grad_fn=<MseLossBackward>)\n",
      "tensor(0.5137, grad_fn=<MseLossBackward>)\n",
      "tensor(0.5097, grad_fn=<MseLossBackward>)\n",
      "tensor(0.5058, grad_fn=<MseLossBackward>)\n",
      "tensor(0.5020, grad_fn=<MseLossBackward>)\n",
      "tensor(0.4985, grad_fn=<MseLossBackward>)\n",
      "tensor(0.4950, grad_fn=<MseLossBackward>)\n",
      "tensor(0.4917, grad_fn=<MseLossBackward>)\n",
      "tensor(0.4886, grad_fn=<MseLossBackward>)\n",
      "tensor(0.4855, grad_fn=<MseLossBackward>)\n",
      "tensor(0.4826, grad_fn=<MseLossBackward>)\n",
      "tensor(0.4798, grad_fn=<MseLossBackward>)\n",
      "tensor(0.4772, grad_fn=<MseLossBackward>)\n",
      "tensor(0.4746, grad_fn=<MseLossBackward>)\n",
      "tensor(0.4721, grad_fn=<MseLossBackward>)\n"
     ]
    }
   ],
   "source": [
    "for epoch in range(epochs):\n",
    "    # Converting inputs and labels to Variable\n",
    "    inputs = Variable(torch.from_numpy(data_X).float())\n",
    "    labels = Variable(torch.from_numpy(data_Y).float())\n",
    "\n",
    "    # Clear gradient buffers because we don't want any gradient from previous epoch to carry forward, dont want to cummulate gradients\n",
    "    optimizer.zero_grad()\n",
    "\n",
    "    # get output from the model, given the inputs\n",
    "    outputs = model(inputs)\n",
    "\n",
    "    # get loss for the predicted output\n",
    "    loss = criterion(outputs, labels)\n",
    "    print(loss)\n",
    "    # get gradients w.r.t to parameters\n",
    "    loss.backward()\n",
    "\n",
    "    # update parameters\n",
    "    optimizer.step()\n",
    "\n",
    "#     print('epoch {}, loss {}'.format(epoch, loss.item()))"
   ]
  },
  {
   "cell_type": "code",
   "execution_count": 13,
   "metadata": {
    "ExecuteTime": {
     "end_time": "2021-01-22T21:09:03.705468Z",
     "start_time": "2021-01-22T21:09:03.536468Z"
    },
    "scrolled": true
   },
   "outputs": [
    {
     "data": {
      "image/png": "[encoded data removed]",
      "text/plain": [
       "<Figure size 720x432 with 1 Axes>"
      ]
     },
     "metadata": {
      "needs_background": "light"
     },
     "output_type": "display_data"
    }
   ],
   "source": [
    "with torch.no_grad(): # we don't need gradients in the testing phase\n",
    "    predicted = model(Variable(torch.from_numpy(data_X).float())).data.numpy()\n",
    "#     print(predicted)\n",
    "\n",
    "fig = plt.figure(figsize=(10,6))\n",
    "plt.scatter(data_X, data_Y)\n",
    "plt.plot(data_X, predicted, 'k')\n",
    "plt.xlabel('H2R')\n",
    "plt.ylabel('lnMFR')\n",
    "plt.show()"
   ]
  }
 ],
 "metadata": {
  "hide_input": false,
  "kernelspec": {
   "display_name": "Python 3",
   "language": "python",
   "name": "python3"
  },
  "language_info": {
   "codemirror_mode": {
    "name": "ipython",
    "version": 3
   },
   "file_extension": ".py",
   "mimetype": "text/x-python",
   "name": "python",
   "nbconvert_exporter": "python",
   "pygments_lexer": "ipython3",
   "version": "3.8.5"
  }
 },
 "nbformat": 4,
 "nbformat_minor": 4
}
