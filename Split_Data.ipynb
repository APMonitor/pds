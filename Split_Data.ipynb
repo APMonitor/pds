{
 "cells": [
  {
   "cell_type": "markdown",
   "metadata": {},
   "source": [
    "### Machine Learning for Engineers: [SplitData](https://www.apmonitor.com/pds/index.php/Main/SplitData)\n",
    "- [Split Data: Train, Validate, Test](https://www.apmonitor.com/pds/index.php/Main/SplitData)\n",
    " - Source Blocks: 5\n",
    " - Description: Splitting data ensures that there are independent sets for training, testing, and validation.\n",
    "- [Course Overview](https://apmonitor.com/pds)\n",
    "- [Course Schedule](https://apmonitor.com/pds/index.php/Main/CourseSchedule)\n",
    "\n",
    "<img align=left width=500px src='https://apmonitor.com/pds/uploads/Main/split_data.png'>"
   ]
  },
  {
   "cell_type": "code",
   "execution_count": 1,
   "metadata": {},
   "outputs": [
    {
     "name": "stdout",
     "output_type": "stream",
     "text": [
      "Train:  2880\n",
      "       Q1   Q2     T1     T2\n",
      "Time                        \n",
      "0.0   0.0  0.0  16.06  16.00\n",
      "1.0   0.0  0.0  16.06  15.97\n",
      "2.0   0.0  0.0  16.06  16.03\n",
      "3.0   0.0  0.0  16.03  16.00\n",
      "4.0   0.0  0.0  16.03  15.94\n",
      "Test:  721\n",
      "         Q1   Q2     T1     T2\n",
      "Time                          \n",
      "2880.0  0.0  0.0  59.25  27.02\n",
      "2881.0  0.0  0.0  59.22  27.02\n",
      "2882.0  0.0  0.0  58.99  27.02\n",
      "2883.0  0.0  0.0  58.93  27.02\n",
      "2884.0  0.0  0.0  58.93  27.02\n"
     ]
    }
   ],
   "source": [
    "import pandas as pd\n",
    "from sklearn.model_selection import train_test_split\n",
    "\n",
    "data = pd.read_csv('http://apmonitor.com/pds/uploads/Main/tclab_data6.txt')\n",
    "data.set_index('Time',inplace=True)\n",
    "\n",
    "# Split into train and test subsets (20% for test)\n",
    "train, test = train_test_split(data, test_size=0.2, shuffle=False)\n",
    "\n",
    "print('Train: ', len(train))\n",
    "print(train.head())\n",
    "print('Test: ', len(test))\n",
    "print(test.head())"
   ]
  },
  {
   "cell_type": "code",
   "execution_count": 2,
   "metadata": {},
   "outputs": [
    {
     "name": "stdout",
     "output_type": "stream",
     "text": [
      "5000 4000 1000\n"
     ]
    }
   ],
   "source": [
    "from sklearn.datasets import make_classification\n",
    "X, y = make_classification(n_samples=5000, n_features=20, n_informative=15)\n",
    "\n",
    "from sklearn.model_selection import train_test_split\n",
    "X_train, X_test, y_train, y_test = train_test_split(\n",
    "    X, y, test_size=0.2, shuffle=True)\n",
    "\n",
    "print(len(X),len(X_train),len(X_test))"
   ]
  },
  {
   "cell_type": "code",
   "execution_count": 3,
   "metadata": {},
   "outputs": [
    {
     "data": {
      "image/png": "[encoded data removed]",
      "text/plain": [
       "<Figure size 864x144 with 10 Axes>"
      ]
     },
     "metadata": {
      "needs_background": "light"
     },
     "output_type": "display_data"
    },
    {
     "name": "stdout",
     "output_type": "stream",
     "text": [
      "Accuracy: 81.44%\n"
     ]
    }
   ],
   "source": [
    "from sklearn.model_selection import KFold\n",
    "from sklearn.tree import DecisionTreeClassifier\n",
    "from sklearn.metrics import accuracy_score, confusion_matrix\n",
    "from sklearn.datasets import make_classification\n",
    "import seaborn as sns\n",
    "import matplotlib.pyplot as plt\n",
    "import numpy as np\n",
    "\n",
    "# define dataset\n",
    "X, y = make_classification(n_samples=5000, n_features=20, n_informative=15)\n",
    "\n",
    "# Set up K-fold cross validation\n",
    "kf = KFold(n_splits=5,shuffle=True)\n",
    "\n",
    "# Initialize model\n",
    "dtc = DecisionTreeClassifier()\n",
    "\n",
    "# Array to store accuracy scores\n",
    "scores = np.zeros(5)\n",
    "\n",
    "# Initialize plot\n",
    "plt.figure(figsize=(12,2))\n",
    "\n",
    "for i,(train_index, test_index) in enumerate(kf.split(X)):\n",
    "    Xtrain, Xtest = X[train_index], X[test_index]\n",
    "    ytrain, ytest = y[train_index], y[test_index]\n",
    "\n",
    "    dtc.fit(Xtrain,ytrain)\n",
    "    yp = dtc.predict(Xtest)\n",
    "    acc = accuracy_score(ytest,yp)\n",
    "    scores[i] = acc\n",
    "\n",
    "    plt.subplot(1,5,i+1)\n",
    "    cm = confusion_matrix(yp,ytest)\n",
    "    sns.heatmap(cm,annot=True)\n",
    "\n",
    "plt.show()\n",
    "print('Accuracy: %.2f%%' %(np.mean(scores*100)))"
   ]
  }
 ],
 "metadata": {
  "kernelspec": {
   "display_name": "Python 3",
   "language": "python",
   "name": "python3"
  },
  "language_info": {
   "codemirror_mode": {
    "name": "ipython",
    "version": 3
   },
   "file_extension": ".py",
   "mimetype": "text/x-python",
   "name": "python",
   "nbconvert_exporter": "python",
   "pygments_lexer": "ipython3",
   "version": "3.8.5"
  }
 },
 "nbformat": 4,
 "nbformat_minor": 2
}
