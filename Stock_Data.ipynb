{
 "cells": [
  {
   "cell_type": "code",
   "execution_count": null,
   "metadata": {},
   "outputs": [],
   "source": [
    "import pandas as pd\n",
    "import matplotlib.pyplot as plt\n",
    "import seaborn as sns\n",
    "\n",
    "# stock ticker symbol\n",
    "url = 'https://apmonitor.com/pds/uploads/Main/goog.txt'\n",
    "\n",
    "# import data with pandas\n",
    "data = pd.read_csv(url)\n",
    "print(data.describe())"
   ]
  },
  {
   "cell_type": "code",
   "execution_count": null,
   "metadata": {},
   "outputs": [],
   "source": [
    "# calculate change and volatility\n",
    "data['Change'] = data['Close']-data['Open']\n",
    "data['Volatility'] = data['High']-data['Low']\n",
    "analysis = ['Open','Volume','Volatility','Change']\n",
    "sns.heatmap(data[analysis].corr())\n",
    "plt.savefig('stock_correlation.png',dpi=600)\n",
    "plt.show()"
   ]
  }
 ],
 "metadata": {
  "kernelspec": {
   "display_name": "Python 3",
   "language": "python",
   "name": "python3"
  },
  "language_info": {
   "codemirror_mode": {
    "name": "ipython",
    "version": 3
   },
   "file_extension": ".py",
   "mimetype": "text/x-python",
   "name": "python",
   "nbconvert_exporter": "python",
   "pygments_lexer": "ipython3",
   "version": "3.8.5"
  }
 },
 "nbformat": 4,
 "nbformat_minor": 4
}
