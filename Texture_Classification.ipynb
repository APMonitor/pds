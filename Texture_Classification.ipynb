{
 "cells": [
  {
   "cell_type": "markdown",
   "metadata": {},
   "source": [
    "### Machine Learning for Engineers: [Texture Classification](https://www.apmonitor.com/pds/index.php/Main/TextureClassification)\n",
    "- [Texture Classification](https://www.apmonitor.com/pds/index.php/Main/TextureClassification)\n",
    " - Image features such as points, edges, or objects are used to identify an object in an image. One way to do material classification is by using local binary patterns to detect textures.\n",
    "- [Course Overview](https://apmonitor.com/pds)\n",
    "- [Course Schedule](https://apmonitor.com/pds/index.php/Main/CourseSchedule)\n",
    "\n",
    "<img align=left width=400px src='https://apmonitor.com/pds/uploads/Main/texture_lbp_svm.png'>"
   ]
  },
  {
   "cell_type": "markdown",
   "metadata": {},
   "source": [
    "### Import Packages"
   ]
  },
  {
   "cell_type": "code",
   "execution_count": null,
   "metadata": {},
   "outputs": [],
   "source": [
    "import os\n",
    "import zipfile\n",
    "import urllib.request\n",
    "import numpy as np\n",
    "from PIL import Image, ImageOps\n",
    "from pathlib import Path\n",
    "import matplotlib.pyplot as plt\n",
    "from matplotlib import cm\n",
    "import seaborn as sns\n",
    "\n",
    "# open source implementation of LBP\n",
    "from skimage.feature import local_binary_pattern\n",
    "# data preprocessing and metrics module in scikit-learn\n",
    "from sklearn import preprocessing, metrics\n",
    "# SVM implementation in scikit-learn\n",
    "from sklearn.svm import LinearSVC"
   ]
  },
  {
   "cell_type": "markdown",
   "metadata": {},
   "source": [
    "### Download Photos"
   ]
  },
  {
   "cell_type": "code",
   "execution_count": null,
   "metadata": {},
   "outputs": [],
   "source": [
    "# download s3_photos.zip\n",
    "file = 's3_photos.zip'\n",
    "url = 'http://apmonitor.com/pds/uploads/Main/'+file\n",
    "urllib.request.urlretrieve(url, file)\n",
    "\n",
    "# extract archive and remove zip file\n",
    "with zipfile.ZipFile(file, 'r') as zip_ref:\n",
    "    zip_ref.extractall('./')\n",
    "os.remove(file)"
   ]
  },
  {
   "cell_type": "markdown",
   "metadata": {},
   "source": [
    "### Local Binary Patterns"
   ]
  },
  {
   "cell_type": "code",
   "execution_count": null,
   "metadata": {},
   "outputs": [],
   "source": [
    "def compute_lbp(arr):\n",
    "    \"\"\"Find LBP of all pixels.\n",
    "    Also perform Vectorization/Normalization to get feature vector.\n",
    "    \"\"\"\n",
    "    # LBP function params\n",
    "    radius = 3\n",
    "    n_points = 8 * radius\n",
    "    n_bins = n_points + 2\n",
    "    lbp = local_binary_pattern(arr, n_points, radius, 'uniform')\n",
    "    lbp = lbp.ravel()\n",
    "    # feature_len = int(lbp.max() + 1)\n",
    "    feature = np.zeros(n_bins)\n",
    "    for i in lbp:\n",
    "        feature[int(i)] += 1\n",
    "    feature /= np.linalg.norm(feature, ord=1)\n",
    "    return feature"
   ]
  },
  {
   "cell_type": "markdown",
   "metadata": {},
   "source": [
    "### Load Data"
   ]
  },
  {
   "cell_type": "code",
   "execution_count": null,
   "metadata": {},
   "outputs": [],
   "source": [
    "from itertools import chain\n",
    "\n",
    "def load_data(tag='train'):\n",
    "    \"\"\"Load (training/test) data from the directory.\n",
    "    Also do preprocessing of extra features. \n",
    "    \"\"\"\n",
    "    tag_dir = Path.cwd() / tag\n",
    "    vec = []\n",
    "    cat = []\n",
    "    for cat_dir in tag_dir.iterdir():\n",
    "        cat_label = cat_dir.stem\n",
    "        png = cat_dir.glob('*.png')\n",
    "        jpg = cat_dir.glob('*.jpg')\n",
    "        jpeg = cat_dir.glob('*.jpeg')\n",
    "        imgs = chain(png,jpg,jpeg)\n",
    "        for img_path in imgs:\n",
    "            img = Image.open(img_path.as_posix())\n",
    "            if img.mode != 'L':\n",
    "                img = ImageOps.grayscale(img)\n",
    "                img.save(img_path.as_posix())\n",
    "            arr = np.array(img)\n",
    "            feature = compute_lbp(arr)\n",
    "            vec.append(feature)\n",
    "            cat.append(cat_label)\n",
    "    return vec, cat\n",
    "\n",
    "# train photos\n",
    "vec_train, cat_train = load_data('train')\n",
    "# test photos\n",
    "vec_test, cat_test   = load_data('test')"
   ]
  },
  {
   "cell_type": "markdown",
   "metadata": {},
   "source": [
    "### List the categories"
   ]
  },
  {
   "cell_type": "code",
   "execution_count": null,
   "metadata": {},
   "outputs": [],
   "source": [
    "# get unique categories\n",
    "labels = list(np.unique(np.array(cat_train)))\n",
    "labels"
   ]
  },
  {
   "cell_type": "markdown",
   "metadata": {},
   "source": [
    "### Label Encoder"
   ]
  },
  {
   "cell_type": "code",
   "execution_count": null,
   "metadata": {},
   "outputs": [],
   "source": [
    "le = preprocessing.LabelEncoder()\n",
    "label_train = le.fit_transform(cat_train)\n",
    "label_test = le.transform(cat_test)"
   ]
  },
  {
   "cell_type": "markdown",
   "metadata": {},
   "source": [
    "### Support Vector Machine fit"
   ]
  },
  {
   "cell_type": "code",
   "execution_count": null,
   "metadata": {},
   "outputs": [],
   "source": [
    "clf = LinearSVC(random_state=0, tol=1e-5)\n",
    "clf.fit(vec_train, label_train)"
   ]
  },
  {
   "cell_type": "markdown",
   "metadata": {},
   "source": [
    "### Evaluation"
   ]
  },
  {
   "cell_type": "code",
   "execution_count": null,
   "metadata": {},
   "outputs": [],
   "source": [
    "# test set evaluation\n",
    "prediction = clf.predict(vec_test)\n",
    "# visualization\n",
    "cmat = metrics.confusion_matrix(prediction,label_test)\n",
    "s = sns.heatmap(cmat,annot=True,xticklabels=labels, yticklabels=labels)\n",
    "s.set(xlabel='Predicted', ylabel='Actual')\n",
    "acc = cmat.trace() / cmat.sum()\n",
    "print('Accuracy: {0:5.2f}%'.format(acc*100))"
   ]
  }
 ],
 "metadata": {
  "kernelspec": {
   "display_name": "Python 3 (ipykernel)",
   "language": "python",
   "name": "python3"
  },
  "language_info": {
   "codemirror_mode": {
    "name": "ipython",
    "version": 3
   },
   "file_extension": ".py",
   "mimetype": "text/x-python",
   "name": "python",
   "nbconvert_exporter": "python",
   "pygments_lexer": "ipython3",
   "version": "3.9.13"
  }
 },
 "nbformat": 4,
 "nbformat_minor": 4
}
